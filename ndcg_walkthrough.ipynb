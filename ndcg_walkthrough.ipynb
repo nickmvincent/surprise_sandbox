{
 "cells": [
  {
   "cell_type": "markdown",
   "metadata": {},
   "source": [
    "# Walking through the nitty gritty: nDCG calculations"
   ]
  },
  {
   "cell_type": "markdown",
   "metadata": {},
   "source": [
    "## nDCG Calculations w/ worked example"
   ]
  },
  {
   "cell_type": "markdown",
   "metadata": {},
   "source": [
    "In a given testset, User 001 has ten different ratings. For nDCG, we don't actually care what movie they are for; we just care about the numercial values of the ratings. In this case, I'll make up some ratings for a user that we can use as a worked example."
   ]
  },
  {
   "cell_type": "code",
   "execution_count": null,
   "metadata": {
    "collapsed": true
   },
   "outputs": [],
   "source": [
    "ratings_in_testset = [3, 4, 5, 1, 2, 3, 4, 5, 5, 4, ]"
   ]
  },
  {
   "cell_type": "markdown",
   "metadata": {},
   "source": [
    "For these 10 items, the RecSys will estimate a rating, presumably with some error. In this worked example, let's assume the error is an alternating plus or minus 0.5.\n"
   ]
  },
  {
   "cell_type": "code",
   "execution_count": null,
   "metadata": {
    "collapsed": true
   },
   "outputs": [],
   "source": [
    "estimated_vals = []\n",
    "flip = True\n",
    "for rating in ratings_in_testset:\n",
    "    if flip:\n",
    "        estimated_vals.append(rating - 0.5)\n",
    "    else:\n",
    "        estimated_vals.append(rating + 0.5)\n",
    "    flip = not flip"
   ]
  },
  {
   "cell_type": "markdown",
   "metadata": {},
   "source": [
    "Currently, the function that calculates precision, recall, and nDCG expects a list of tuples, with each tuple being a pair of (estimated value, true value)"
   ]
  },
  {
   "cell_type": "code",
   "execution_count": null,
   "metadata": {},
   "outputs": [],
   "source": [
    "\n",
    "user_ratings = [(x, y) for x, y in zip(estimated_vals, ratings_in_testset)]\n",
    "user_ratings"
   ]
  },
  {
   "cell_type": "code",
   "execution_count": null,
   "metadata": {},
   "outputs": [],
   "source": [
    "# Now here's the calculations\n",
    "# Sort user ratings by estimated value\n",
    "user_ratings_sorted_by_est = sorted(user_ratings, key=lambda x: x[0], reverse=True)\n",
    "user_ratings_sorted_by_est"
   ]
  },
  {
   "cell_type": "code",
   "execution_count": null,
   "metadata": {},
   "outputs": [],
   "source": [
    "# also need to sort by true value for Ideal DCG\n",
    "user_ratings_sorted_by_true = sorted(user_ratings, key=lambda x: x[1], reverse=True)\n",
    "user_ratings_sorted_by_true"
   ]
  },
  {
   "cell_type": "markdown",
   "metadata": {},
   "source": [
    "We're going to need to define a function that calculates DCG for a given list of ratings. Let's use the formula defined in this paper from MSR: https://dl.acm.org/citation.cfm?doid=1102351.1102363\n",
    "\n",
    "The numerator is (2^relevance_score - 1) in this definition (others just use relevance_score as the definition)."
   ]
  },
  {
   "cell_type": "code",
   "execution_count": null,
   "metadata": {
    "collapsed": true
   },
   "outputs": [],
   "source": [
    "def dcg_at_k(ratings):\n",
    "    \"\"\"\n",
    "    Discounted cumulative gain at k\n",
    "    https://en.wikipedia.org/wiki/Discounted_cumulative_gain\n",
    "    Using formula from this MSR IR paper:\n",
    "    https://dl.acm.org/citation.cfm?doid=1102351.1102363\n",
    "\n",
    "    k is assumed to be the length of the input list\n",
    "    args:\n",
    "        ratings: a list of relevance scores, e.g. explicit ratings 1-5\n",
    "    returns:\n",
    "        a dcg_at_k value\n",
    "    \"\"\"\n",
    "    k = len(ratings)\n",
    "\n",
    "    return sum([\n",
    "        (2 ** rating - 1) / \n",
    "        (np.math.log(i + 1, 2))\n",
    "        for rating, i in zip(ratings, range(1, k+1))\n",
    "    ])"
   ]
  },
  {
   "cell_type": "markdown",
   "metadata": {},
   "source": [
    "We can use the ratings sorted by true values to calculate ideal nDCG for various k values. In this example, let's just do 10 and 5.\n",
    "\n",
    "We'll want to get the first k TRUE RATINGS from the list sorted by true ratings as well as the list sorted by estimated ratings."
   ]
  },
  {
   "cell_type": "code",
   "execution_count": null,
   "metadata": {
    "collapsed": true
   },
   "outputs": [],
   "source": [
    "true_ratings_of_first_10_true = [x[1] for x in user_ratings_sorted_by_true[:10]]\n",
    "true_ratings_of_first_10_est = [x[1] for x in user_ratings_sorted_by_est[:10]]"
   ]
  },
  {
   "cell_type": "code",
   "execution_count": null,
   "metadata": {
    "collapsed": true
   },
   "outputs": [],
   "source": [
    "true_ratings_of_first_5_true = [x[1] for x in user_ratings_sorted_by_true[:5]]\n",
    "true_ratings_of_first_5_est = [x[1] for x in user_ratings_sorted_by_est[:5]]"
   ]
  },
  {
   "cell_type": "code",
   "execution_count": null,
   "metadata": {},
   "outputs": [],
   "source": [
    "ideal_dcg_at_10 = dcg_at_k(true_ratings_of_first_10_true)\n",
    "ideal_dcg_at_5 = dcg_at_k(true_ratings_of_first_5_true)\n",
    "print('At 10:', ideal_dcg_at_10, 'At 5:', ideal_dcg_at_5)"
   ]
  },
  {
   "cell_type": "markdown",
   "metadata": {},
   "source": [
    "Now calculate the dcg based on estimated values"
   ]
  },
  {
   "cell_type": "code",
   "execution_count": null,
   "metadata": {},
   "outputs": [],
   "source": [
    "est_dcg_at_10 = dcg_at_k(true_ratings_of_first_10_est)\n",
    "est_dcg_at_5 = dcg_at_k(true_ratings_of_first_5_est)\n",
    "print('At 10:', est_dcg_at_10, 'At 5:', est_dcg_at_5)"
   ]
  },
  {
   "cell_type": "markdown",
   "metadata": {},
   "source": [
    "And finally, we can add the n to nDCG by normalizing!"
   ]
  },
  {
   "cell_type": "code",
   "execution_count": null,
   "metadata": {},
   "outputs": [],
   "source": [
    "ndcg_at_10 = est_dcg_at_10 / ideal_dcg_at_10\n",
    "ndcg_at_5 = est_dcg_at_5 / ideal_dcg_at_5\n",
    "print('nDCG@10:', ndcg_at_10, 'nDCG@5:', ndcg_at_5)"
   ]
  },
  {
   "cell_type": "markdown",
   "metadata": {},
   "source": [
    "## Some problems that might arise...\n",
    "\n",
    "What if a user doesn't have ten ratings in a testset? How do we compute nDCG@10 for that testset?"
   ]
  }
 ],
 "metadata": {
  "kernelspec": {
   "display_name": "Python 3",
   "language": "python",
   "name": "python3"
  },
  "language_info": {
   "codemirror_mode": {
    "name": "ipython",
    "version": 3
   },
   "file_extension": ".py",
   "mimetype": "text/x-python",
   "name": "python",
   "nbconvert_exporter": "python",
   "pygments_lexer": "ipython3",
   "version": "3.6.1"
  }
 },
 "nbformat": 4,
 "nbformat_minor": 2
}
