{
 "cells": [
  {
   "cell_type": "markdown",
   "metadata": {},
   "source": [
    "# Visualize Simulated Boycott Results\n",
    "\n",
    "## Goals of this notebook\n",
    "This notebook includes code for exploring the results of simulated boycotts. It also generates plots (for papers/presentations). This notebook covers 3 broad categories of experiments\n",
    "\n",
    "1. MovieLens 1M random boycotts\n",
    "2. MovieLens 1M homogeneous boycotts (e.g. fans of Comedy movies boycott together, people of a single age group boycott together)\n",
    "3. MovieLens 20M random boycotts\n",
    "\n"
   ]
  },
  {
   "cell_type": "code",
   "execution_count": 1,
   "metadata": {},
   "outputs": [
    {
     "name": "stdout",
     "output_type": "stream",
     "text": [
      "ml-20m 144.4135299257002\n",
      "ml-1m 165.5975165562914\n"
     ]
    }
   ],
   "source": [
    "from collections import defaultdict, OrderedDict\n",
    "import json\n",
    "from pprint import pprint\n",
    "\n",
    "import pandas as pd\n",
    "import numpy as np\n",
    "import seaborn as sns\n",
    "import matplotlib.pyplot as plt\n",
    "sns.set(style=\"darkgrid\")\n",
    "sns.set_color_codes(\"dark\")\n",
    "\n",
    "from scipy import stats\n",
    "from scipy.interpolate import interp1d\n",
    "\n",
    "# http://files.grouplens.org/datasets/movielens/ml-20m-README.txt\n",
    "\n",
    "num_users = {\n",
    "    'ml-20m': 138493,\n",
    "    'ml-1m': 6040\n",
    "}\n",
    "num_ratings = {\n",
    "    'ml-20m': 20000263,\n",
    "    'ml-1m': 1000209\n",
    "}\n",
    "for dataset in ['ml-20m', 'ml-1m']:\n",
    "    ratio = num_ratings[dataset] / num_users[dataset]\n",
    "    print(dataset, ratio)"
   ]
  },
  {
   "cell_type": "markdown",
   "metadata": {},
   "source": [
    "First things first: let's load our master data files. Each is a single csv that was created by the `process_all.py` script."
   ]
  },
  {
   "cell_type": "code",
   "execution_count": 2,
   "metadata": {
    "collapsed": true
   },
   "outputs": [],
   "source": [
    "df_1m = pd.read_csv('ml-1m_collected/all_results.csv', dtype={'indices': str})\n",
    "df_1m = df_1m[df_1m.ratingfrac.notna()]"
   ]
  },
  {
   "cell_type": "code",
   "execution_count": 3,
   "metadata": {
    "collapsed": true
   },
   "outputs": [],
   "source": [
    "df_20m = pd.read_csv('ml-20m_collected/all_results.csv', dtype={'indices': str})\n",
    "df_20m = df_20m[df_20m.ratingfrac.notna()]"
   ]
  },
  {
   "cell_type": "markdown",
   "metadata": {},
   "source": [
    "Now we apply transformation that will affect the entire dataframe.\n",
    "1. Calculate the number of users included in each experiment.\n",
    "2. Calculate the number of ratings missing per experiment (so we can estimate how much we'd \"expect\" performance to decrease)\n",
    "3. Calculate the number of ratings missing per experiment, rounded to the nearest 10^5"
   ]
  },
  {
   "cell_type": "code",
   "execution_count": 4,
   "metadata": {
    "collapsed": true
   },
   "outputs": [],
   "source": [
    "for df, dataset in [\n",
    "    (df_1m, 'ml-1m',),\n",
    "    (df_20m, 'ml-20m',),\n",
    "]:\n",
    "    # Whoops! Assign doesn't work in a for loop.\n",
    "#     df = df.assign(num_users_boycotting = [(NUM_USERS - int(x))/NUM_USERS for x in df.num_users])\n",
    "#     df = df.assign(num_ratings_missing = [NUM_RATINGS - int(x) for x in df.num_ratings])\n",
    "#     df = df.assign(nrm_rounded = [round(x, -5) for x in df.num_ratings_missing])\n",
    "    df['num_users_boycotting'] = [(num_users[dataset] - int(x)) / num_users[dataset] for x in df.num_users]\n",
    "    df['num_ratings_missing'] = [num_ratings[dataset] - int(x) for x in df.num_ratings]\n",
    "    df['nrm_rounded'] = [round(x, -5) for x in df.num_ratings_missing]\n",
    "\n",
    "    # drop columns we're not going to use.\n",
    "    drops = [\n",
    "        #'tail',\n",
    "        # 'vanilla',\n",
    "    ]\n",
    "    for column in df.columns.values:\n",
    "        for drop in drops:\n",
    "            if drop in column:\n",
    "                df = df.drop(column, axis=1)"
   ]
  },
  {
   "cell_type": "markdown",
   "metadata": {},
   "source": [
    "# EDIT ME\n",
    "Define all the lists that can be used throughout. By editing this cell we can easily modify the full notebook."
   ]
  },
  {
   "cell_type": "code",
   "execution_count": 5,
   "metadata": {
    "collapsed": true
   },
   "outputs": [],
   "source": [
    "id_vars = ['name','algo_name', 'indices', 'ratingfrac', 'userfrac', 'num_ratings', 'num_users', 'num_users_boycotting']\n",
    "#id_vars = [x for x in id_vars if x in list(df.columns.values)]\n",
    "metrics = [\n",
    "    'rmse',\n",
    "    'ndcg10',\n",
    "    #'tailndcg10',\n",
    "    #'ndcg5',\n",
    "    #'tailndcg5',\n",
    "    #'ndcgfull',\n",
    "    #'tailndcgfull',\n",
    "    #'ndcgfull',\n",
    "    #'prec10t4',\n",
    "    #'tailprec10t4',\n",
    "    #'prec5t4',\n",
    "    #'tailprec5t4',\n",
    "]\n",
    "\n",
    "organized_experiments = [\n",
    "    'gender', 'state', 'power', 'genre', 'occupation', 'age'\n",
    "]\n",
    "algo_names = [\n",
    "    #'KNNBaseline_item_msd',\n",
    "    'SVD'\n",
    "]\n",
    "standard_algo_names = [\n",
    "    'SVD', \n",
    "    #'GlobalMean', 'GuessThree',\n",
    "    'MovieMean', \n",
    "    'KNNBaseline_item_msd',\n",
    "    'KNNBasic_user_msd',\n",
    "    'KNNBasic_item_msd',\n",
    "]"
   ]
  },
  {
   "cell_type": "markdown",
   "metadata": {},
   "source": [
    "## Load and Organize Standard Results\n",
    "For any of our visualizations to be meaningful, we need standard results to compare the boycott results to. These standards let us evaluate \"what is the effect of the boycott compared to other algorithms\".\n",
    "\n",
    "In particular, we compare the boycott performance to performance when using very non-personalized algorithms (MovieMean) and simpler personalized algorithms (user-based KNN, item-based KNN).\n",
    "\n",
    "Below, we load these results from json files into Python data structures so we can use below when generating plots."
   ]
  },
  {
   "cell_type": "code",
   "execution_count": 6,
   "metadata": {},
   "outputs": [
    {
     "name": "stdout",
     "output_type": "stream",
     "text": [
      "File not found: standard_results/ml-20m_ratingcv_standards_for_KNNBasic_user_msd.json\n",
      "{'ml-1m': defaultdict(<function <lambda> at 0x00000236AECCAAE8>,\n",
      "                      {'SVD': defaultdict(<class 'dict'>,\n",
      "                                          {'ndcg10': {'KNNBaseline_item_msd': -0.21579272303199185,\n",
      "                                                      'KNNBasic_item_msd': -0.783459813821296,\n",
      "                                                      'KNNBasic_user_msd': -1.774069901999796,\n",
      "                                                      'MovieMean': -2.527446665665193,\n",
      "                                                      'SVD': 0.0},\n",
      "                                           'rmse': {'KNNBaseline_item_msd': 1.326125568048003,\n",
      "                                                    'KNNBasic_item_msd': 4.626236780474338,\n",
      "                                                    'KNNBasic_user_msd': 5.627334338473019,\n",
      "                                                    'MovieMean': 12.072697294556987,\n",
      "                                                    'SVD': 0.0}})}),\n",
      " 'ml-20m': defaultdict(<function <lambda> at 0x00000236AED22E18>,\n",
      "                       {'SVD': defaultdict(<class 'dict'>,\n",
      "                                           {'ndcg10': {'1M_SVD': -2.3961525421001535,\n",
      "                                                       'KNNBaseline_item_msd': -2.545825243372394,\n",
      "                                                       'KNNBasic_item_msd': -2.2383269117241746,\n",
      "                                                       'KNNBasic_user_msd': 0,\n",
      "                                                       'MovieMean': -5.647772312509133,\n",
      "                                                       'SVD': 0.0},\n",
      "                                            'rmse': {'1M_SVD': 11.166751126528048,\n",
      "                                                     'KNNBaseline_item_msd': 4.991087869128467,\n",
      "                                                     'KNNBasic_item_msd': 8.197945180278845,\n",
      "                                                     'KNNBasic_user_msd': 0,\n",
      "                                                     'MovieMean': 19.759535282577247,\n",
      "                                                     'SVD': 0.0}})})}\n"
     ]
    }
   ],
   "source": [
    "dataset_to_algo_to_metric_to_altalgo = {}\n",
    "\n",
    "one_mill_svd = {}\n",
    "for dataset in [\n",
    "    'ml-1m',\n",
    "    'ml-20m',\n",
    "]:\n",
    "    standard_results = {}\n",
    "    algo_to_metric_to_altalgo = defaultdict(lambda: defaultdict(dict))\n",
    "\n",
    "    for algo_name in standard_algo_names:\n",
    "        try:\n",
    "            filename_ratingcv_standards = 'standard_results/{}_ratingcv_standards_for_{}.json'.format(\n",
    "                dataset, algo_name)\n",
    "            with open(filename_ratingcv_standards, 'r') as f:\n",
    "                standard_results[algo_name] = json.load(f)\n",
    "                if algo_name == 'SVD' and dataset == 'ml-1m':\n",
    "                    one_mill_svd = standard_results[algo_name]\n",
    "        except FileNotFoundError:\n",
    "            print('File not found: {}'.format(filename_ratingcv_standards))\n",
    "    for main_algo_name in algo_names:\n",
    "        for metric in metrics:\n",
    "            goodval = standard_results[main_algo_name].get(metric, 0)\n",
    "            for st_algo_name in standard_algo_names:\n",
    "                val = standard_results.get(st_algo_name, {}).get(metric)\n",
    "                if val:\n",
    "                    algo_to_metric_to_altalgo[main_algo_name][metric][st_algo_name] = (val - goodval) / goodval * 100 if goodval else 0\n",
    "                else:\n",
    "                    algo_to_metric_to_altalgo[main_algo_name][metric][st_algo_name] = 0\n",
    "            if dataset == 'ml-20m':\n",
    "                val = one_mill_svd.get(metric)\n",
    "                if val:\n",
    "                    algo_to_metric_to_altalgo[main_algo_name][metric]['1M_SVD'] = (val - goodval) / goodval * 100 if goodval else 0\n",
    "                else:\n",
    "                    algo_to_metric_to_altalgo[main_algo_name][metric]['1M_SVD'] = 0\n",
    "            \n",
    "    dataset_to_algo_to_metric_to_altalgo[dataset] = algo_to_metric_to_altalgo\n",
    "pprint(dataset_to_algo_to_metric_to_altalgo)"
   ]
  },
  {
   "cell_type": "markdown",
   "metadata": {},
   "source": [
    "## Seperate out our data\n",
    "We want to separate the simuated boycotts into homogenous vs. heterogenous boycotts."
   ]
  },
  {
   "cell_type": "code",
   "execution_count": 7,
   "metadata": {},
   "outputs": [
    {
     "name": "stdout",
     "output_type": "stream",
     "text": [
      "\n",
      "===Heterogenous 20M Boycotts===\n",
      "\n",
      "41548 user sample     50\n",
      "692 user sample       50\n",
      "14 user sample        50\n",
      "83096 user sample     50\n",
      "96945 user sample     50\n",
      "138 user sample       50\n",
      "137108 user sample    50\n",
      "13849 user sample     50\n",
      "55397 user sample     50\n",
      "27699 user sample     50\n",
      "69 user sample        50\n",
      "6925 user sample      50\n",
      "1385 user sample      50\n",
      "110794 user sample    50\n",
      "124644 user sample    50\n",
      "69246 user sample     50\n",
      "Name: name, dtype: int64\n",
      "\n",
      "===Heterogenous Boycotts===\n",
      "\n",
      "4228 user sample    250\n",
      "30 user sample      250\n",
      "1 user sample       250\n",
      "3020 user sample    250\n",
      "60 user sample      250\n",
      "5980 user sample    250\n",
      "2416 user sample    250\n",
      "4832 user sample    250\n",
      "302 user sample     250\n",
      "1208 user sample    250\n",
      "3 user sample       250\n",
      "5436 user sample    250\n",
      "604 user sample     250\n",
      "1812 user sample    250\n",
      "6 user sample       250\n",
      "3624 user sample    250\n",
      "Name: name, dtype: int64\n",
      "\n",
      "===Homogenous Boycotts===\n",
      "\n",
      "male users excluded                               60\n",
      "female users excluded                             60\n",
      "users from state US_AR excluded                   50\n",
      "users from state US_WI excluded                   50\n",
      "users from state US_OK excluded                   50\n",
      "Fans of Western excluded using threshold 4        50\n",
      "users from state US_NY excluded                   50\n",
      "Fans of Documentary excluded using threshold 4    50\n",
      "users from state US_MI excluded                   50\n",
      "users from state US_AL excluded                   50\n",
      "users from state US_NE excluded                   50\n",
      "users from state US_FL excluded                   50\n",
      "users from state US_MT excluded                   50\n",
      "users from state US_CT excluded                   50\n",
      "56+ excluded                                      50\n",
      "users from state US_SC excluded                   50\n",
      "Fans of Film-Noir excluded using threshold 4      50\n",
      "users from state US_IL excluded                   50\n",
      "writer excluded                                   50\n",
      "users from state US_IA excluded                   50\n",
      "users from state US_PA excluded                   50\n",
      "Fans of Musical excluded using threshold 4        50\n",
      "35-44 excluded                                    50\n",
      "users from state US_NM excluded                   50\n",
      "Fans of Adventure excluded using threshold 4      50\n",
      "users from state US_ME excluded                   50\n",
      "users from state US_RI excluded                   50\n",
      "Fans of Crime excluded using threshold 4          50\n",
      "doctor/health care excluded                       50\n",
      "users from state US_DE excluded                   50\n",
      "                                                  ..\n",
      "users from state US_HI excluded                   50\n",
      "Top 10% contributors excluded                     50\n",
      "scientist excluded                                50\n",
      "clerical/admin excluded                           50\n",
      "users from state US_AK excluded                   50\n",
      "lawyer excluded                                   50\n",
      "users from state US_NJ excluded                   50\n",
      "executive/managerial excluded                     50\n",
      "users from state US_UT excluded                   50\n",
      "users from state US_LA excluded                   50\n",
      "users from state US_CO excluded                   50\n",
      "retired excluded                                  50\n",
      "users from state US_VA excluded                   50\n",
      "farmer excluded                                   50\n",
      "users from state US_DC excluded                   50\n",
      "users from state US_ID excluded                   50\n",
      "users from state US_SD excluded                   50\n",
      "users from state US_MN excluded                   50\n",
      "Fans of Mystery excluded using threshold 4        50\n",
      "users from state US_IN excluded                   50\n",
      "self-employed excluded                            50\n",
      "users from state US_MA excluded                   50\n",
      "Fans of Comedy excluded using threshold 4         50\n",
      "users from state US_nan excluded                  50\n",
      "users from state US_NC excluded                   50\n",
      "Fans of Romance excluded using threshold 4        50\n",
      "academic/educator excluded                        50\n",
      "users from state US_KS excluded                   50\n",
      "programmer excluded                               50\n",
      "users from state US_GA excluded                   50\n",
      "Name: name, Length: 102, dtype: int64\n"
     ]
    }
   ],
   "source": [
    "samples_df_20m = df_20m[df_20m['type'] == 'sample_users']\n",
    "print('\\n===Heterogenous 20M Boycotts===\\n')\n",
    "print(samples_df_20m.name.value_counts())\n",
    "samples_df_1m = df_1m[df_1m['type'] == 'sample_users']\n",
    "print('\\n===Heterogenous Boycotts===\\n')\n",
    "print(samples_df_1m.name.value_counts())\n",
    "org_df = df_1m[df_1m['type'].isin(organized_experiments)]\n",
    "print('\\n===Homogenous Boycotts===\\n')\n",
    "print(org_df.name.value_counts())"
   ]
  },
  {
   "cell_type": "markdown",
   "metadata": {},
   "source": [
    "## Clean up the homogenous boycott \"name\" columns\n",
    "This is helpful because our homogenous boycott plots are going to very cluttered. We want to remove as much text as possible without making the plots too confusing."
   ]
  },
  {
   "cell_type": "code",
   "execution_count": 8,
   "metadata": {},
   "outputs": [
    {
     "name": "stderr",
     "output_type": "stream",
     "text": [
      "C:\\Users\\Nick\\Anaconda3\\lib\\site-packages\\pandas\\core\\generic.py:4405: SettingWithCopyWarning: \n",
      "A value is trying to be set on a copy of a slice from a DataFrame.\n",
      "Try using .loc[row_indexer,col_indexer] = value instead\n",
      "\n",
      "See the caveats in the documentation: http://pandas.pydata.org/pandas-docs/stable/indexing.html#indexing-view-versus-copy\n",
      "  self[name] = value\n"
     ]
    }
   ],
   "source": [
    "org_df.name = [\n",
    "    x.replace('excluded', '')\n",
    "    .replace('users from', '')\n",
    "    .replace('using threshold 4', '')\n",
    "    .replace('Top 10% contributors', 'power users')\n",
    "    .strip()\n",
    "    .lower()\n",
    "    for x in list(org_df.name)\n",
    "]\n",
    "# can ignore the below warning, the code in this cell works"
   ]
  },
  {
   "cell_type": "markdown",
   "metadata": {},
   "source": [
    "## Data Manipulating Helpers\n",
    "In the following two cells, we define two functions (`select_cols` and `fill_in_longform`) that will help with general purpose manipulating of our result data."
   ]
  },
  {
   "cell_type": "code",
   "execution_count": 9,
   "metadata": {
    "collapsed": true
   },
   "outputs": [],
   "source": [
    "def select_cols(cols, metrics, groups, percents):\n",
    "    \"\"\"\n",
    "    take a list of cols and filter based on metrics/groups/percents\n",
    "    \n",
    "    The returned columns must match all the metrics and groups passed\n",
    "    if percents is True, return columns with \"percent\" in the name\n",
    "    if percents is False return only columns without \"percent\" in the name\n",
    "    \n",
    "    returns a list of cols\n",
    "    \"\"\"\n",
    "    increase_cols = [\n",
    "        x for x in cols if 'increase' in x and (any(metric == x.split('_')[-2] for metric in metrics))\n",
    "    ]\n",
    "    increase_cols = [\n",
    "        x for x in increase_cols if any(group == x.split('_')[-1] for group in groups)\n",
    "    ]\n",
    "    if percents:\n",
    "        increase_cols = [x for x in increase_cols if 'percent' in x]\n",
    "    else:\n",
    "        increase_cols = [x for x in increase_cols if 'percent' not in x]\n",
    "    return increase_cols"
   ]
  },
  {
   "cell_type": "code",
   "execution_count": 10,
   "metadata": {
    "collapsed": true
   },
   "outputs": [],
   "source": [
    "def fill_in_longform(df):\n",
    "    \"\"\"Fill in a longform dataframe with metric, group, and name information\"\"\"\n",
    "    df = df.assign(\n",
    "        metric=[x.split('_')[-2] for x in df.increase_type]\n",
    "    )\n",
    "    df = df.assign(\n",
    "        group=[x.split('_')[-1] for x in df.increase_type]\n",
    "    )\n",
    "    return df\n",
    "    "
   ]
  },
  {
   "cell_type": "code",
   "execution_count": 11,
   "metadata": {
    "collapsed": true
   },
   "outputs": [],
   "source": [
    "palette={'all': 'b', 'non-boycott': 'g'}\n",
    "TITLE_TEMPLATE = 'Recommender Performance vs. Size of Boycott for {}'\n",
    "YLABEL = 'nDCG@10 personalization factor'"
   ]
  },
  {
   "cell_type": "code",
   "execution_count": 149,
   "metadata": {
    "collapsed": true
   },
   "outputs": [],
   "source": [
    "def p_b_curve(\n",
    "        df, dataset, metrics, groups,\n",
    "        percents=False, normalize=True,\n",
    "        reg_plot=False, hue='group', row='metric',\n",
    "        save=False, show_interp=False, legend=True\n",
    "    ):\n",
    "    \"\"\"\n",
    "    Plots a performance vs. boycott size (P v B) curve\n",
    "    \n",
    "    Args:\n",
    "        df - the dataframe to use for plotting the pb curve\n",
    "        metrics - which metrics to plot the curve for.\n",
    "        groups - which groups to include.\n",
    "          for each metric, \n",
    "        percents - show the Y-axis in percent change or raw change. Set this True for percent change.\n",
    "        normalize - should we normalize the y-axis relative to MovieMean (no personalization)\n",
    "        reg_plot - ?\n",
    "        hue - which facet to use to determine hue. default is group\n",
    "          (each group will appear as a separate (distinctly colored) trajectory on each plot)\n",
    "        row - which facet to use to split plots into different rows. default is metric.\n",
    "        save - should we save a PNG file?\n",
    "        show_interp - include the interpolated function on this plot?\n",
    "        \n",
    "    Returns:\n",
    "        ?\n",
    "    \"\"\"\n",
    "    algo_to_metric_to_altalgo=dataset_to_algo_to_metric_to_altalgo[dataset]\n",
    "    \n",
    "    algo_names = list(set(df.algo_name))\n",
    "    df = df.copy()\n",
    "    algo_to_metric_to_group_to = defaultdict(lambda: defaultdict(lambda: defaultdict(dict)))\n",
    "\n",
    "    increase_cols = select_cols(list(df.columns.values), metrics, groups, percents)\n",
    "    increase_cols = [x for x in increase_cols if 'vanilla' not in x]\n",
    "    if normalize:\n",
    "        for metric in metrics:\n",
    "            for algo_name in algo_names:\n",
    "                movie_val = abs(algo_to_metric_to_altalgo[algo_name][metric]['MovieMean'])\n",
    "                for increase_col in increase_cols:\n",
    "                    if increase_col.split('_')[-2] == metric:\n",
    "                        df.loc[df.algo_name == algo_name, increase_col] /= movie_val\n",
    "    \n",
    "    longform = df[increase_cols + id_vars].melt(\n",
    "        id_vars = id_vars,\n",
    "        var_name='increase_type'\n",
    "    )\n",
    "    longform = fill_in_longform(longform)\n",
    "\n",
    "    grid = sns.lmplot(\n",
    "        x=\"num_users_boycotting\", y=\"value\", hue=hue, data=longform,\n",
    "        sharey='row', sharex='col',\n",
    "        height=5, \n",
    "        row=row, col='algo_name',\n",
    "        fit_reg=False,\n",
    "        x_estimator=np.mean, ci=99, \n",
    "        palette=palette,\n",
    "        legend=legend,\n",
    "        legend_out=True\n",
    "    )\n",
    "    \n",
    "\n",
    "    algo_to_size_to_decreases = defaultdict(lambda: defaultdict(list))\n",
    "    for metric in metrics:\n",
    "        for algo_name in algo_names:\n",
    "            filt = df[df.algo_name == algo_name]\n",
    "            for group in groups:\n",
    "                key = 'increase_{}_{}'.format(metric, group)\n",
    "                if percents:\n",
    "                    key = 'percent_' + key\n",
    "                x = filt.num_users_boycotting\n",
    "                user_nums = sorted(list(set(filt.num_users_boycotting)))\n",
    "                nrm_rounded = sorted(list(set(filt.nrm_rounded)))\n",
    "                y = filt[key]\n",
    "\n",
    "                num_to_mean = OrderedDict()\n",
    "                rounded_num_to_mean = OrderedDict()\n",
    "                for num_users_boycotting in user_nums:\n",
    "                    filt_by_name = filt[filt.num_users_boycotting == num_users_boycotting]\n",
    "                    num_to_mean[num_users_boycotting] = np.mean(filt_by_name[key])\n",
    "                    rounded_num_to_mean[round(num_users_boycotting, 2)] = np.mean(filt_by_name[key])\n",
    "                nrm_rounded_to_mean = OrderedDict()\n",
    "                for num in nrm_rounded:\n",
    "                    filt_by_nrm = filt[filt.nrm_rounded == num]\n",
    "                    nrm_rounded_to_mean[num] = np.mean(filt_by_nrm[key])\n",
    "\n",
    "                if group == 'non-boycott':\n",
    "                    for num in [\n",
    "                        0.1, 0.2, 0.3,\n",
    "                    ]:\n",
    "                        \n",
    "                        val_nb = rounded_num_to_mean.get(num)\n",
    "                        if val_nb is None:\n",
    "                            continue\n",
    "                        val_all = np.mean(filt[filt.num_users_boycotting == num][key.replace('non-boycott', 'all')])\n",
    "                        print(\n",
    "                            'Algo:{}  |  Metric:{}  |  #users:{}'.format(\n",
    "                                algo_name, metric, num, \n",
    "                            )\n",
    "                        )\n",
    "                        print('NB Val:{}  |  ALL val:{}'.format(\n",
    "                            val_nb,\n",
    "                            val_all\n",
    "                        ))\n",
    "                        if percents is False:\n",
    "                            ratio_nb = val_nb / algo_to_metric_to_altalgo[algo_name][metric]['MovieMean']\n",
    "                            ratio_all = val_all / algo_to_metric_to_altalgo[algo_name][metric]['MovieMean']\n",
    "\n",
    "                            print('ratio_nb: {}  |  ratio_all:{}'.format(\n",
    "                                ratio_nb,\n",
    "                                ratio_all,\n",
    "                            ))\n",
    "                        algo_to_size_to_decreases[algo_name][num].append(val_nb)\n",
    "                meany = np.array(list(num_to_mean.values()))\n",
    "                meany_ratings = np.array(list(nrm_rounded_to_mean.values()))\n",
    "\n",
    "                algo_to_metric_to_group_to[algo_name][metric][group]['x'] = user_nums\n",
    "                algo_to_metric_to_group_to[algo_name][metric][group]['y'] = meany\n",
    "\n",
    "                smoothf_ratings = interp1d(nrm_rounded, meany_ratings, kind='linear', bounds_error=False, fill_value='extrapolate')\n",
    "                algo_to_metric_to_group_to[algo_name][metric][group]['interp_ratings'] = smoothf_ratings\n",
    "                algo_to_metric_to_group_to[algo_name][metric][group]['max_user_units'] = max(user_nums)\n",
    "                algo_to_metric_to_group_to[algo_name][metric][group]['xnew_ratings'] = np.linspace(\n",
    "                    min(filt.num_ratings_missing), max(filt.num_ratings_missing), num=1000)\n",
    "\n",
    "                \n",
    "    for x in grid.facet_data():\n",
    "        i_row, i_col, i_hue = x[0]\n",
    "        metric = grid.row_names[i_row]\n",
    "        algo_name = grid.col_names[i_col]\n",
    "        group = grid.hue_names[i_hue]\n",
    "        \n",
    "        lines_caption = \"\"\n",
    "        \n",
    "        lines = {}\n",
    "        \n",
    "        lines['MovieMean'] = {\n",
    "            'value': algo_to_metric_to_altalgo[algo_name][metric]['MovieMean'],\n",
    "            'color': '0.3',\n",
    "            'name': 'MovieMean',\n",
    "            'linestyle': '-'\n",
    "        }\n",
    "        lines['Zero'] = {\n",
    "            'value': 0,\n",
    "            'color': '0.3',\n",
    "            'name': 'Zero',\n",
    "            'linestyle': '-'\n",
    "        }\n",
    "        \n",
    "        lines['KNNBasic_item_msd'] = {\n",
    "            'value': algo_to_metric_to_altalgo[algo_name][metric]['KNNBasic_item_msd'],\n",
    "            'color': 'r',\n",
    "            'name': 'Item KNN (1999)',\n",
    "            'linestyle': ':'\n",
    "        }\n",
    "        lines['KNNBaseline_item_msd'] = {\n",
    "            'value': algo_to_metric_to_altalgo[algo_name][metric]['KNNBaseline_item_msd'],\n",
    "            'color': 'y',\n",
    "            'name': 'Item KNN + Baselines: 2010',\n",
    "            'linestyle': ':',\n",
    "        }\n",
    "        if dataset == 'ml-1m':\n",
    "            \n",
    "            \n",
    "            lines['KNNBasic_user_msd'] = {\n",
    "                'value': algo_to_metric_to_altalgo[algo_name][metric]['KNNBasic_user_msd'],\n",
    "                'color': 'c',\n",
    "                'name': 'User KNN (1994)',\n",
    "                'linestyle': ':'\n",
    "            }\n",
    "        elif dataset == 'ml-20m':\n",
    "            lines['1M_SVD'] = {\n",
    "                'value': algo_to_metric_to_altalgo[algo_name][metric]['1M_SVD'],\n",
    "                'color': '0.3',\n",
    "                'name': 'ml-1m SVD',\n",
    "                'linestyle': ':'\n",
    "            }\n",
    "        \n",
    "        if normalize:\n",
    "            norm_val = abs(algo_to_metric_to_altalgo[algo_name][metric]['MovieMean'])\n",
    "            for key in lines.keys():\n",
    "                lines[key]['value'] /= norm_val\n",
    "        \n",
    "        ax = grid.axes[i_row, i_col]\n",
    "        \n",
    "        if normalize and metric == 'ndcg10':\n",
    "            if dataset == 'ml-1m':\n",
    "                ax.set(ylim=(-1.6, 0.1))\n",
    "            elif dataset == 'ml-20m':\n",
    "                ax.set(ylim=(-1.2, 0.1))\n",
    "    \n",
    "        linestyle = '-' if group  != 'all' else '--'\n",
    "\n",
    "        ax.plot(\n",
    "            algo_to_metric_to_group_to[algo_name][metric][group]['x'],\n",
    "            algo_to_metric_to_group_to[algo_name][metric][group]['y'],\n",
    "            linestyle=linestyle, color=grid._colors[i_hue]\n",
    "        )\n",
    "        if show_interp:\n",
    "            xnew_ratings = algo_to_metric_to_group_to[algo_name][metric][group]['xnew_ratings']\n",
    "            ynew_ratings = algo_to_metric_to_group_to[algo_name][metric][group]['interp_ratings'](xnew_ratings)\n",
    "            ax.plot(\n",
    "                xnew_ratings * algo_to_metric_to_group_to[algo_name][metric][group]['max_user_units'] / num_ratings[dataset],\n",
    "                ynew_ratings, '-')\n",
    "\n",
    "        plt.setp(ax.get_xticklabels(), visible=True, rotation=45)\n",
    "        if percents:\n",
    "            \n",
    "            for line in lines.values():\n",
    "                ax.axhline(line['value'], color=line['color'], linestyle=line['linestyle'])\n",
    "                #ax.text(0.7, line['value'] + 0.05, line['name'])\n",
    "                lines_caption += \"{} colored line (value of {}) shows comparison with {}\\n\".format(\n",
    "                    line['color'], line['value'], line['name']\n",
    "                )\n",
    "        print(lines_caption)\n",
    "\n",
    "    plt.subplots_adjust(hspace=0.2)\n",
    "    algo_to_size_to_mean_dec = defaultdict(dict)\n",
    "    for algo_name, size2dec in algo_to_size_to_decreases.items():\n",
    "        for size, decs in size2dec.items():\n",
    "            algo_to_size_to_mean_dec[algo_name][size] = np.mean(decs)\n",
    "    print('=====\\nSize to Mean Decrease')\n",
    "    pprint(algo_to_size_to_mean_dec)\n",
    "                   \n",
    "    grid.set_xlabels('Fraction of users boycotting')\n",
    "    grid.set_ylabels(YLABEL)\n",
    "    if save:\n",
    "        new_labels = ['All\\nUsers', 'Not\\nBoycotting\\nUsers',]\n",
    "        if grid._legend:\n",
    "            for t, l in zip(grid._legend.texts, new_labels): t.set_text(l)\n",
    "            grid._legend.set_title('')\n",
    "        grid.set_titles(TITLE_TEMPLATE.format(dataset.upper()))\n",
    "        plt.savefig(dataset + '_pb_curve.svg', bbox_inches='tight', dpi=300)\n",
    "    return algo_to_metric_to_group_to"
   ]
  },
  {
   "cell_type": "code",
   "execution_count": 150,
   "metadata": {
    "scrolled": false
   },
   "outputs": [
    {
     "name": "stderr",
     "output_type": "stream",
     "text": [
      "C:\\Users\\Nick\\Anaconda3\\lib\\site-packages\\scipy\\stats\\stats.py:1713: FutureWarning: Using a non-tuple sequence for multidimensional indexing is deprecated; use `arr[tuple(seq)]` instead of `arr[seq]`. In the future this will be interpreted as an array index, `arr[np.array(seq)]`, which will result either in an error or a different result.\n",
      "  return np.add.reduce(sorted[indexer] * weights, axis=axis) / sumval\n"
     ]
    },
    {
     "name": "stdout",
     "output_type": "stream",
     "text": [
      "Algo:SVD  |  Metric:ndcg10  |  #users:0.1\n",
      "NB Val:-0.06754775360839378  |  ALL val:-0.17066137274875315\n",
      "Algo:SVD  |  Metric:ndcg10  |  #users:0.2\n",
      "NB Val:-0.14355844612009977  |  ALL val:-0.3353765179702833\n",
      "Algo:SVD  |  Metric:ndcg10  |  #users:0.3\n",
      "NB Val:-0.2305288131116384  |  ALL val:-0.4933845828779054\n",
      "0.3 colored line (value of -1.0) shows comparison with MovieMean\n",
      "0.3 colored line (value of 0.0) shows comparison with Zero\n",
      "r colored line (value of -0.30998075032182687) shows comparison with Item KNN (1999)\n",
      "y colored line (value of -0.08537973361158853) shows comparison with Item KNN + Baselines: 2010\n",
      "c colored line (value of -0.7019217956604764) shows comparison with User KNN (1994)\n",
      "\n",
      "0.3 colored line (value of -1.0) shows comparison with MovieMean\n",
      "0.3 colored line (value of 0.0) shows comparison with Zero\n",
      "r colored line (value of -0.30998075032182687) shows comparison with Item KNN (1999)\n",
      "y colored line (value of -0.08537973361158853) shows comparison with Item KNN + Baselines: 2010\n",
      "c colored line (value of -0.7019217956604764) shows comparison with User KNN (1994)\n",
      "\n",
      "=====\n",
      "Size to Mean Decrease\n",
      "defaultdict(<class 'dict'>,\n",
      "            {'SVD': {0.1: -0.06754775360839378,\n",
      "                     0.2: -0.14355844612009977,\n",
      "                     0.3: -0.2305288131116384}})\n"
     ]
    },
    {
     "data": {
      "image/png": "[encoded data removed]",
      "text/plain": [
       "<Figure size 360x360 with 1 Axes>"
      ]
     },
     "metadata": {},
     "output_type": "display_data"
    }
   ],
   "source": [
    "_ = p_b_curve(\n",
    "    samples_df_1m[samples_df_1m.algo_name == 'SVD'], 'ml-1m',\n",
    "    show_interp=False,\n",
    "    percents=True, normalize=True,\n",
    "    metrics=['ndcg10', ],\n",
    "    groups=['non-boycott', 'all', ],\n",
    "    save=True, legend=False,    \n",
    ")\n",
    "plt.ylim(-1.2, 0.05)\n",
    "plt.savefig('ml-1m_pb_curve.svg', bbox_inches='tight', dpi=300)\n",
    "plt.show()"
   ]
  },
  {
   "cell_type": "code",
   "execution_count": 151,
   "metadata": {},
   "outputs": [
    {
     "name": "stderr",
     "output_type": "stream",
     "text": [
      "C:\\Users\\Nick\\Anaconda3\\lib\\site-packages\\scipy\\stats\\stats.py:1713: FutureWarning: Using a non-tuple sequence for multidimensional indexing is deprecated; use `arr[tuple(seq)]` instead of `arr[seq]`. In the future this will be interpreted as an array index, `arr[np.array(seq)]`, which will result either in an error or a different result.\n",
      "  return np.add.reduce(sorted[indexer] * weights, axis=axis) / sumval\n"
     ]
    },
    {
     "name": "stdout",
     "output_type": "stream",
     "text": [
      "Algo:SVD  |  Metric:ndcg10  |  #users:0.1\n",
      "NB Val:-0.007788517547258645  |  ALL val:nan\n",
      "Algo:SVD  |  Metric:ndcg10  |  #users:0.2\n",
      "NB Val:-0.016260668657253688  |  ALL val:nan\n",
      "Algo:SVD  |  Metric:ndcg10  |  #users:0.3\n",
      "NB Val:-0.028071160999143897  |  ALL val:nan\n",
      "0.3 colored line (value of -1.0) shows comparison with MovieMean\n",
      "0.3 colored line (value of 0.0) shows comparison with Zero\n",
      "r colored line (value of -0.3963203167320593) shows comparison with Item KNN (1999)\n",
      "y colored line (value of -0.4507662672118879) shows comparison with Item KNN + Baselines: 2010\n",
      "0.3 colored line (value of -0.4242650747079455) shows comparison with ml-1m SVD\n",
      "\n",
      "0.3 colored line (value of -1.0) shows comparison with MovieMean\n",
      "0.3 colored line (value of 0.0) shows comparison with Zero\n",
      "r colored line (value of -0.3963203167320593) shows comparison with Item KNN (1999)\n",
      "y colored line (value of -0.4507662672118879) shows comparison with Item KNN + Baselines: 2010\n",
      "0.3 colored line (value of -0.4242650747079455) shows comparison with ml-1m SVD\n",
      "\n",
      "=====\n",
      "Size to Mean Decrease\n",
      "defaultdict(<class 'dict'>,\n",
      "            {'SVD': {0.1: -0.007788517547258645,\n",
      "                     0.2: -0.016260668657253688,\n",
      "                     0.3: -0.028071160999143897}})\n"
     ]
    },
    {
     "data": {
      "image/png": "[encoded data removed]",
      "text/plain": [
       "<Figure size 457.475x360 with 1 Axes>"
      ]
     },
     "metadata": {},
     "output_type": "display_data"
    }
   ],
   "source": [
    "twenty_algo_to_metric_to_group_to = p_b_curve(\n",
    "    samples_df_20m, 'ml-20m',\n",
    "    show_interp=False,\n",
    "    percents=True, normalize=True,\n",
    "    metrics=['ndcg10'],\n",
    "    groups=['non-boycott', 'all', ],\n",
    "    save=True,     \n",
    ")\n",
    "plt.ylim(-1.2, 0.05)\n",
    "plt.savefig('ml-20_pb_curve.svg', bbox_inches='tight', dpi=300)\n",
    "plt.show()"
   ]
  },
  {
   "cell_type": "code",
   "execution_count": 152,
   "metadata": {},
   "outputs": [
    {
     "name": "stderr",
     "output_type": "stream",
     "text": [
      "C:\\Users\\Nick\\Anaconda3\\lib\\site-packages\\scipy\\stats\\stats.py:1713: FutureWarning: Using a non-tuple sequence for multidimensional indexing is deprecated; use `arr[tuple(seq)]` instead of `arr[seq]`. In the future this will be interpreted as an array index, `arr[np.array(seq)]`, which will result either in an error or a different result.\n",
      "  return np.add.reduce(sorted[indexer] * weights, axis=axis) / sumval\n"
     ]
    },
    {
     "name": "stdout",
     "output_type": "stream",
     "text": [
      "Algo:SVD  |  Metric:ndcg10  |  #users:0.1\n",
      "NB Val:-0.06754775360839378  |  ALL val:-0.17066137274875315\n",
      "Algo:SVD  |  Metric:ndcg10  |  #users:0.2\n",
      "NB Val:-0.14355844612009977  |  ALL val:-0.3353765179702833\n",
      "Algo:SVD  |  Metric:ndcg10  |  #users:0.3\n",
      "NB Val:-0.2305288131116384  |  ALL val:-0.4933845828779054\n",
      "0.3 colored line (value of -1.0) shows comparison with MovieMean\n",
      "0.3 colored line (value of 0.0) shows comparison with Zero\n",
      "r colored line (value of -0.30998075032182687) shows comparison with Item KNN (1999)\n",
      "y colored line (value of -0.08537973361158853) shows comparison with Item KNN + Baselines: 2010\n",
      "c colored line (value of -0.7019217956604764) shows comparison with User KNN (1994)\n",
      "\n",
      "0.3 colored line (value of -1.0) shows comparison with MovieMean\n",
      "0.3 colored line (value of 0.0) shows comparison with Zero\n",
      "r colored line (value of -0.30998075032182687) shows comparison with Item KNN (1999)\n",
      "y colored line (value of -0.08537973361158853) shows comparison with Item KNN + Baselines: 2010\n",
      "c colored line (value of -0.7019217956604764) shows comparison with User KNN (1994)\n",
      "\n",
      "=====\n",
      "Size to Mean Decrease\n",
      "defaultdict(<class 'dict'>,\n",
      "            {'SVD': {0.1: -0.06754775360839378,\n",
      "                     0.2: -0.14355844612009977,\n",
      "                     0.3: -0.2305288131116384}})\n"
     ]
    },
    {
     "data": {
      "image/png": "[encoded data removed]",
      "text/plain": [
       "<Figure size 457.475x360 with 1 Axes>"
      ]
     },
     "metadata": {},
     "output_type": "display_data"
    }
   ],
   "source": [
    "algo_to_metric_to_group_to = p_b_curve(\n",
    "    samples_df_1m, 'ml-1m',\n",
    "    metrics=metrics,\n",
    "    percents=True, normalize=True, show_interp=True,\n",
    "    groups=['non-boycott', 'all', ],\n",
    ")\n",
    "plt.show()"
   ]
  },
  {
   "cell_type": "markdown",
   "metadata": {},
   "source": [
    "## Find intersection of the non-boycott curve with horizontal lines"
   ]
  },
  {
   "cell_type": "code",
   "execution_count": 153,
   "metadata": {},
   "outputs": [
    {
     "name": "stdout",
     "output_type": "stream",
     "text": [
      "all found item:\n",
      "0.05508848650632018\n",
      "all found knnbasicitem\n",
      "0.186860946062273\n",
      "all found user\n",
      "0.44110780846803016\n",
      "non-boycott found item:\n",
      "0.13327214612146063\n",
      "non-boycott found knnbasicitem\n",
      "0.37772105629923347\n",
      "non-boycott found user\n",
      "0.6473647007775375\n"
     ]
    }
   ],
   "source": [
    "movie_val = -1 * dataset_to_algo_to_metric_to_altalgo['ml-1m']['SVD']['ndcg10']['MovieMean']\n",
    "for group in ['all', 'non-boycott']:\n",
    "    found_item, found_user = False, False\n",
    "    found_itembasic = False\n",
    "    for x in range(0, num_ratings['ml-1m'], int(num_ratings['ml-1m'] / 10000)):\n",
    "        y = algo_to_metric_to_group_to['SVD']['ndcg10'][group]['interp_ratings'](x)\n",
    "        #print(x, y)\n",
    "        if not found_item:\n",
    "            if y <= dataset_to_algo_to_metric_to_altalgo['ml-1m']['SVD']['ndcg10']['KNNBaseline_item_msd']/movie_val:\n",
    "                print(group + ' found item:')\n",
    "                print(x / num_ratings['ml-1m'])\n",
    "                found_item = True\n",
    "        if not found_user:\n",
    "            if y <= dataset_to_algo_to_metric_to_altalgo['ml-1m']['SVD']['ndcg10']['KNNBasic_user_msd'] / movie_val:\n",
    "                print(group + ' found user')\n",
    "                print(x / num_ratings['ml-1m'])\n",
    "                found_user = True\n",
    "        if not found_itembasic:\n",
    "            if y <= dataset_to_algo_to_metric_to_altalgo['ml-1m']['SVD']['ndcg10']['KNNBasic_item_msd'] / movie_val:\n",
    "                print(group + ' found knnbasicitem')\n",
    "                print(x / num_ratings['ml-1m'])\n",
    "                found_itembasic = True"
   ]
  },
  {
   "cell_type": "code",
   "execution_count": 154,
   "metadata": {},
   "outputs": [
    {
     "name": "stdout",
     "output_type": "stream",
     "text": [
      "{19: -1.5908953327736146, 44: -4.902099014886493}\n"
     ]
    }
   ],
   "source": [
    "movie_val = -1 * dataset_to_algo_to_metric_to_altalgo['ml-20m']['SVD']['ndcg10']['MovieMean']\n",
    "d = {}\n",
    "d[19] = twenty_algo_to_metric_to_group_to['SVD']['ndcg10'][group]['interp_ratings'](0.19 * num_ratings['ml-20m']) * 100\n",
    "d[44] = twenty_algo_to_metric_to_group_to['SVD']['ndcg10'][group]['interp_ratings'](0.44 * num_ratings['ml-20m']) * 100\n",
    "print(d)"
   ]
  },
  {
   "cell_type": "code",
   "execution_count": 155,
   "metadata": {
    "collapsed": true
   },
   "outputs": [],
   "source": [
    "def half_users(df):\n",
    "    return df[(\n",
    "        (df.userfrac == 0.5) & (df.ratingfrac == 1.0) \n",
    "        #& (df.algo_name == 'SVD')\n",
    "    )]"
   ]
  },
  {
   "cell_type": "code",
   "execution_count": 156,
   "metadata": {
    "collapsed": true
   },
   "outputs": [],
   "source": [
    "def half_ratings(df):\n",
    "    return df[(\n",
    "        (df.userfrac == 1.0) & (df.ratingfrac == 0.5)\n",
    "    )]"
   ]
  },
  {
   "cell_type": "code",
   "execution_count": 157,
   "metadata": {
    "collapsed": true
   },
   "outputs": [],
   "source": [
    "def all_users_all_ratings(df):\n",
    "    return df[(\n",
    "        (df.userfrac == 1.0) & (df.ratingfrac == 1.0)\n",
    "    )]"
   ]
  },
  {
   "cell_type": "code",
   "execution_count": 158,
   "metadata": {
    "collapsed": true
   },
   "outputs": [],
   "source": [
    "NORMALIZE = True\n",
    "normed_org_df = org_df.copy()\n",
    "for metric in metrics:\n",
    "    for algo_name in algo_names:\n",
    "        movie_val = abs(dataset_to_algo_to_metric_to_altalgo['ml-1m']['SVD'][metric]['MovieMean'])\n",
    "        for group in ['non-boycott', 'like-boycott']:\n",
    "            col = 'percent_increase_{}_{}'.format(metric, group)\n",
    "            if NORMALIZE:\n",
    "                normed_org_df.loc[\n",
    "                    normed_org_df.algo_name == algo_name, col\n",
    "                ] = org_df.loc[org_df.algo_name == algo_name, col] / movie_val\n",
    "                \n",
    "for metric in metrics:\n",
    "    expec = []\n",
    "    col = 'percent_increase_{}_expected'.format(metric)\n",
    "    for i, row in normed_org_df.iterrows():\n",
    "        x = row.num_ratings_missing\n",
    "        expec.append(float(algo_to_metric_to_group_to[row.algo_name][metric]['non-boycott']['interp_ratings'](x)))\n",
    "    kwargs = {col: expec}\n",
    "    normed_org_df = normed_org_df.assign(**kwargs)"
   ]
  },
  {
   "cell_type": "markdown",
   "metadata": {},
   "source": [
    "## LB = like-boycott\n",
    "### So lbless is the number cases where the like boycott performance change was less than expected"
   ]
  },
  {
   "cell_type": "code",
   "execution_count": 159,
   "metadata": {
    "collapsed": true
   },
   "outputs": [],
   "source": [
    "def plot2(\n",
    "        df, metrics, groups,\n",
    "        percents=False, kind='bar', height=4, flip=False, filename='tmp.svg', save=False,\n",
    "        palette=None, aspect=1\n",
    "    ):\n",
    "    \"\"\"\n",
    "    Plots the results of homogenous boycotts\n",
    "    e.g. 50% of Comedy fans boycott together\n",
    "    \"\"\"\n",
    "    print('len of df (number of experiments included)', len(df.index))\n",
    "#     for name in list(set(df.name)):\n",
    "#         tmp = df[df.name == name].num_ratings_missing.mean()\n",
    "#         print('name', name)\n",
    "#         print('mean number of ratings missing', tmp)\n",
    "#         print(algo_to_metric_to_group_to['SVD']['ndcg10']['non-boycott']['interp_ratings'](tmp))\n",
    "    increase_cols = select_cols(list(df.columns.values), metrics, groups, percents)\n",
    "    increase_cols = [x for x in increase_cols if 'vanilla' not in x]\n",
    "    longform = df[increase_cols + id_vars].melt(\n",
    "        id_vars = id_vars,\n",
    "        var_name='increase_type'\n",
    "    )\n",
    "    longform = fill_in_longform(longform)\n",
    "    if flip:\n",
    "        x = \"name\"\n",
    "        y = \"value\"\n",
    "    else:\n",
    "        x = \"value\"\n",
    "        y = \"name\"\n",
    "    if '?' in filename:\n",
    "        legend = False\n",
    "    else:\n",
    "        legend = True\n",
    "    grid = sns.factorplot(\n",
    "        x=x, y=y, hue=\"group\", data=longform,\n",
    "        height=height, kind=kind, col='algo_name', row='metric',\n",
    "        sharex=False,\n",
    "        row_order=metrics,\n",
    "        legend=legend,\n",
    "        legend_out=True,\n",
    "        palette=palette,\n",
    "        aspect=aspect\n",
    "    )\n",
    "    a = grid.axes\n",
    "    \n",
    "#     for metric in metrics:\n",
    "#         for col in increase_cols:\n",
    "#             if metric in col and 'expected' in col:\n",
    "#                 expec = col\n",
    "    \n",
    "    name_to_ratios = defaultdict(list)\n",
    "    diffs = defaultdict(dict)\n",
    "    ratios = defaultdict(dict)\n",
    "    name_to_counts = defaultdict(lambda: defaultdict(int))\n",
    "    \n",
    "    for x in grid.facet_data():\n",
    "        i_row, i_col, i_hue = x[0]\n",
    "        metric = grid.row_names[i_row]\n",
    "        algo_name = grid.col_names[i_col]\n",
    "        if grid.hue_names:\n",
    "            group = grid.hue_names[i_hue]        \n",
    "        \n",
    "        if NORMALIZE:\n",
    "            val = -1\n",
    "        else:\n",
    "            val = abs(dataset_to_algo_to_metric_to_altalgo['ml-1m']['SVD'][metric]['MovieMean'])\n",
    "        \n",
    "        if flip:\n",
    "            grid.axes[i_row, i_col].axhline(0, color='0.7', linestyle='-')\n",
    "        else:\n",
    "            grid.axes[i_row, i_col].axvline(0, color='0.7', linestyle='-')\n",
    "            grid.axes[i_row, i_col].axvline(val, color='0.7', linestyle='-')\n",
    "        \n",
    "        for col in increase_cols:\n",
    "            if metric == col.split('_')[-2]:\n",
    "                if 'expected' in col:\n",
    "                    expec = col\n",
    "                elif 'non-boycott' in col:\n",
    "                    nb = col\n",
    "                elif 'like-boycott' in col:\n",
    "                    lb = col\n",
    "        for name in list(set(longform.name)):\n",
    "            mask = (\n",
    "                (longform.metric == metric) &\n",
    "                (longform.algo_name == algo_name) &\n",
    "                (longform.name == name)\n",
    "            )\n",
    "            \n",
    "            masked = longform[mask]\n",
    "            try:\n",
    "                expec_arr = np.array(masked[masked.increase_type == expec].value)\n",
    "                nb_arr = np.array(masked[masked.increase_type == nb].value)\n",
    "                lb_arr = np.array(masked[masked.increase_type == lb].value)\n",
    "                \n",
    "                expec_mean = np.mean(expec_arr)\n",
    "                nb_mean = np.mean(nb_arr)\n",
    "                lb_mean = np.nanmean(lb_arr)\n",
    "                \n",
    "                ratio = nb_mean / expec_mean\n",
    "                diff = nb_mean - expec_mean\n",
    "                lb_diff = lb_mean - nb_mean\n",
    "                lb_ratio = lb_mean / expec_mean\n",
    "\n",
    "                pval = stats.ttest_ind(expec_arr, nb_arr, equal_var=False).pvalue                \n",
    "                name_to_counts[name]['total'] += 1\n",
    "                \n",
    "                print('{} {} {}, {}, {}'.format(metric, algo_name, name, expec, nb))\n",
    "                print('Ratio: {}, pval: {}'.format(ratio, pval))\n",
    "                name_to_ratios[name].append(ratio)\n",
    "                diffs['nb'][name] = diff\n",
    "                diffs['lb'][name] = lb_diff\n",
    "                \n",
    "                ratios['nb'][name] = ratio\n",
    "                ratios['lb'][name] = lb_ratio\n",
    "                \n",
    "                if pval < 0.5:\n",
    "                    name_to_counts[name]['total_sig'] += 1\n",
    "\n",
    "                if diff > 0:\n",
    "                    name_to_counts[name]['total_less'] += 1\n",
    "                else:\n",
    "                    name_to_counts[name]['total_more'] += 1\n",
    "                #print('lb info', lb_diff, lb_mean, nb_mean)\n",
    "                if lb_diff < 0:\n",
    "                    name_to_counts[name]['total_lbless'] += 1\n",
    "            except Exception as err:\n",
    "                print(err)\n",
    "                print(algo_name, metric)\n",
    "    total = 0\n",
    "    total_sig = 0\n",
    "    total_less = 0\n",
    "    total_more = 0\n",
    "    total_lbless = 0\n",
    "    \n",
    "    for name, counts in name_to_counts.items():\n",
    "        total += counts['total']\n",
    "        total_sig += counts['total_sig']\n",
    "        total_less += counts['total_less']\n",
    "        total_more += counts['total_more']\n",
    "        total_lbless += counts['total_lbless']\n",
    "\n",
    "    print('Totals:')\n",
    "    print('{} lbless, {} sig, {} less, and {} more out of {} total'.format(\n",
    "            total_lbless, total_sig, total_less,\n",
    "            total_more, total)\n",
    "        )\n",
    "    if save:\n",
    "        new_labels = ['Users Similar\\n to Boycotting\\n Users', 'Not Boycotting\\n Users', 'Expected']\n",
    "        for t, l in zip(grid._legend.texts, new_labels): t.set_text(l)\n",
    "        if 'h2' in filename:\n",
    "            grid.set_ylabels(\"\")\n",
    "        else:\n",
    "            grid.set_ylabels(YLABEL)\n",
    "        grid.set_xlabels(\"\")\n",
    "        grid.set_titles(\"\")\n",
    "        plt.savefig(filename, size=(3, 3), bbox_inches='tight', dpi=300)\n",
    "    return grid, (total, total_sig, total_less, total_more, total_lbless), (diffs, ratios)\n"
   ]
  },
  {
   "cell_type": "code",
   "execution_count": 160,
   "metadata": {
    "collapsed": true
   },
   "outputs": [],
   "source": [
    "normed_org_df = normed_org_df[normed_org_df.algo_name == 'SVD']"
   ]
  },
  {
   "cell_type": "code",
   "execution_count": 161,
   "metadata": {
    "collapsed": true
   },
   "outputs": [],
   "source": [
    "gender_boycotts = normed_org_df[normed_org_df['type'] == 'gender']\n",
    "age_boycotts = normed_org_df[normed_org_df['type'] == 'age']\n",
    "occupation_boycotts = normed_org_df[normed_org_df['type'] == 'occupation']\n",
    "power_boycotts = normed_org_df[normed_org_df['type'] == 'power']\n",
    "genre_boycotts = normed_org_df[normed_org_df['type'] == 'genre']\n",
    "state_boycotts = org_df[org_df['type'] == 'state']\n",
    "\n",
    "# removing these from contention\n",
    "# genre_strict_boycotts = org_df[org_df['type'] == 'genre_strict']"
   ]
  },
  {
   "cell_type": "markdown",
   "metadata": {},
   "source": [
    "# Control which metrics we do comparisons for here.."
   ]
  },
  {
   "cell_type": "code",
   "execution_count": 162,
   "metadata": {
    "collapsed": true
   },
   "outputs": [],
   "source": [
    "metrics=['ndcg10']"
   ]
  },
  {
   "cell_type": "code",
   "execution_count": 163,
   "metadata": {
    "collapsed": true
   },
   "outputs": [],
   "source": [
    "palette={'all': 'b', 'non-boycott': 'g', 'expected': 'y', 'like-boycott': 'c'}\n",
    "\n",
    "def plot_all_three_scenarios(df, height=6):\n",
    "#     all_df = all_users_all_ratings(df)\n",
    "#     if not all_df.empty:\n",
    "#         grid, (total, total_sig, total_less, total_more, total_lbless), diffs, ratios = plot2(\n",
    "#             all_users_all_ratings(df),\n",
    "#             metrics=metrics,\n",
    "#             percents=True,\n",
    "#             groups=['all', 'non-boycott', 'expected'],\n",
    "#             height=height,\n",
    "#             palette=palette\n",
    "#         )\n",
    "#         grid.fig.suptitle('All Users, All Ratings')\n",
    "#         print('total1', total)\n",
    "\n",
    "    total, total_sig, total_less, total_more, total_lbless = 0, 0, 0, 0, 0\n",
    "    \n",
    "    half_users_df = half_users(df)\n",
    "    if not half_users_df.empty:\n",
    "        grid, (total2, total_sig2, total_less2, total_more2, total_lbless2), (diffs, ratios) = plot2(\n",
    "            half_users_df,\n",
    "            metrics=metrics,\n",
    "            percents=True,\n",
    "            groups=['non-boycott', 'like-boycott', 'expected'],\n",
    "            height=height,\n",
    "            kind='bar',\n",
    "            palette=palette\n",
    "        )\n",
    "        grid.fig.suptitle('Half Users')\n",
    "        total += total2\n",
    "        total_sig += total_sig2\n",
    "        total_less += total_less2\n",
    "        total_more += total_more2\n",
    "        total_lbless += total_lbless2\n",
    "        print('total2', total2, total)\n",
    "        \n",
    "#     half_ratings_df = half_ratings(df)\n",
    "#     if not half_ratings_df.empty:\n",
    "#         plot2(\n",
    "#             half_ratings_df,\n",
    "#             metrics=metrics,\n",
    "#             percents=True,\n",
    "#             groups=['non-boycott', 'boycott', 'like-boycott', 'expected'],\n",
    "#             height=height,\n",
    "#         ).fig.suptitle('Half Ratings')\n",
    "#     plt.show()\n",
    "    \n",
    "    return (total, total_sig, total_less, total_more, total_lbless), (diffs, ratios)"
   ]
  },
  {
   "cell_type": "code",
   "execution_count": 164,
   "metadata": {
    "collapsed": true
   },
   "outputs": [],
   "source": [
    "running_totals = {\n",
    "    'total': 0,\n",
    "    'total_sig': 0,\n",
    "    'total_less': 0,\n",
    "    'total_more': 0,\n",
    "    'total_lbless': 0\n",
    "}\n",
    "all_diffs = {\n",
    "    'lb': {},\n",
    "    'nb': {}\n",
    "}\n",
    "all_ratios = {\n",
    "    'lb': {},\n",
    "    'nb': {}\n",
    "}"
   ]
  },
  {
   "cell_type": "markdown",
   "metadata": {},
   "source": [
    "# Make plots for paper here."
   ]
  },
  {
   "cell_type": "code",
   "execution_count": 165,
   "metadata": {
    "scrolled": false
   },
   "outputs": [
    {
     "name": "stdout",
     "output_type": "stream",
     "text": [
      "len of df (number of experiments included) 200\n"
     ]
    },
    {
     "name": "stderr",
     "output_type": "stream",
     "text": [
      "C:\\Users\\Nick\\Anaconda3\\lib\\site-packages\\seaborn\\categorical.py:3666: UserWarning: The `factorplot` function has been renamed to `catplot`. The original name will be removed in a future release. Please update your code. Note that the default `kind` in `factorplot` (`'point'`) has changed `'strip'` in `catplot`.\n",
      "  warnings.warn(msg)\n",
      "C:\\Users\\Nick\\Anaconda3\\lib\\site-packages\\scipy\\stats\\stats.py:1713: FutureWarning: Using a non-tuple sequence for multidimensional indexing is deprecated; use `arr[tuple(seq)]` instead of `arr[seq]`. In the future this will be interpreted as an array index, `arr[np.array(seq)]`, which will result either in an error or a different result.\n",
      "  return np.add.reduce(sorted[indexer] * weights, axis=axis) / sumval\n"
     ]
    },
    {
     "name": "stdout",
     "output_type": "stream",
     "text": [
      "ndcg10 SVD fans of film-noir, percent_increase_ndcg10_expected, percent_increase_ndcg10_non-boycott\n",
      "Ratio: 1.3574470323375432, pval: 0.0017860842063051245\n",
      "ndcg10 SVD female users, percent_increase_ndcg10_expected, percent_increase_ndcg10_non-boycott\n",
      "Ratio: 0.7934439572584691, pval: 0.00016701534992585602\n",
      "ndcg10 SVD male users, percent_increase_ndcg10_expected, percent_increase_ndcg10_non-boycott\n",
      "Ratio: 1.0963237423769971, pval: 0.00011323340199027262\n",
      "ndcg10 SVD power users, percent_increase_ndcg10_expected, percent_increase_ndcg10_non-boycott\n",
      "Ratio: 1.9190082873239434, pval: 2.0540906574173002e-25\n",
      "Totals:\n",
      "4 lbless, 4 sig, 1 less, and 3 more out of 4 total\n"
     ]
    },
    {
     "data": {
      "image/png": "[encoded data removed]",
      "text/plain": [
       "<Figure size 475.475x252 with 1 Axes>"
      ]
     },
     "metadata": {},
     "output_type": "display_data"
    }
   ],
   "source": [
    "df1 = half_users(gender_boycotts)\n",
    "df2 = half_users(genre_boycotts)\n",
    "df3 = half_users(power_boycotts)\n",
    "\n",
    "grid, (total, total_sig, total_less, total_more, total_lbless), (diffs, ratios) = plot2(\n",
    "    pd.concat([df1[\n",
    "        #(df1.name.str.contains('female')) & \n",
    "        (df1.algo_name == 'SVD')],\n",
    "        df2[(df2.name.str.contains('film-noir')) & (df2.algo_name == 'SVD')],\n",
    "        df3[(df3.name.str.contains('power')) & (df3.algo_name == 'SVD')]\n",
    "    \n",
    "    ]),\n",
    "    metrics=['ndcg10'],\n",
    "    percents=True,\n",
    "    groups=['non-boycott', 'like-boycott', 'expected'],\n",
    "    height=3.5,\n",
    "    kind='bar',\n",
    "    flip=True,\n",
    "    filename='h1.svg', save=True,\n",
    "    palette=palette,\n",
    "    aspect=1.5\n",
    ")\n",
    "\n",
    "# grid, (total, total_sig, total_less, total_more) = plot2(\n",
    "#     df2[(df2.name.str.contains('Film-Noir')) & (df2.algo_name == 'SVD')],\n",
    "#     metrics=['ndcg10'],\n",
    "#     percents=True,\n",
    "#     groups=['non-boycott', 'expected', 'like-boycott',],\n",
    "#     height=2.5,\n",
    "#     kind='bar',\n",
    "#     flip=True,\n",
    "#     filename='h2.svg', save=True,\n",
    "#     palette=palette\n",
    "# )\n",
    "\n",
    "# grid, (total, total_sig, total_less, total_more) = plot2(\n",
    "#     df3[(df3.name.str.contains('power')) & (df3.algo_name == 'SVD')],\n",
    "#     metrics=['ndcg10'],\n",
    "#     percents=True,\n",
    "#     groups=['non-boycott', 'expected', 'like-boycott',],\n",
    "#     size=2.5,\n",
    "#     kind='bar',\n",
    "#     flip=True,\n",
    "#     filename='h3.svg', save=True,\n",
    "#     palette=palette\n",
    "# )\n",
    "\n",
    "plt.show()"
   ]
  },
  {
   "cell_type": "markdown",
   "metadata": {},
   "source": [
    "## Male User and Female User Boycotts"
   ]
  },
  {
   "cell_type": "code",
   "execution_count": 166,
   "metadata": {
    "scrolled": false
   },
   "outputs": [
    {
     "name": "stdout",
     "output_type": "stream",
     "text": [
      "len of df (number of experiments included) 100\n"
     ]
    },
    {
     "name": "stderr",
     "output_type": "stream",
     "text": [
      "C:\\Users\\Nick\\Anaconda3\\lib\\site-packages\\seaborn\\categorical.py:3666: UserWarning: The `factorplot` function has been renamed to `catplot`. The original name will be removed in a future release. Please update your code. Note that the default `kind` in `factorplot` (`'point'`) has changed `'strip'` in `catplot`.\n",
      "  warnings.warn(msg)\n",
      "C:\\Users\\Nick\\Anaconda3\\lib\\site-packages\\scipy\\stats\\stats.py:1713: FutureWarning: Using a non-tuple sequence for multidimensional indexing is deprecated; use `arr[tuple(seq)]` instead of `arr[seq]`. In the future this will be interpreted as an array index, `arr[np.array(seq)]`, which will result either in an error or a different result.\n",
      "  return np.add.reduce(sorted[indexer] * weights, axis=axis) / sumval\n"
     ]
    },
    {
     "name": "stdout",
     "output_type": "stream",
     "text": [
      "ndcg10 SVD female users, percent_increase_ndcg10_expected, percent_increase_ndcg10_non-boycott\n",
      "Ratio: 0.7934439572584691, pval: 0.00016701534992585602\n",
      "ndcg10 SVD male users, percent_increase_ndcg10_expected, percent_increase_ndcg10_non-boycott\n",
      "Ratio: 1.0963237423769971, pval: 0.00011323340199027262\n",
      "Totals:\n",
      "2 lbless, 2 sig, 1 less, and 1 more out of 2 total\n",
      "total2 2 2\n"
     ]
    },
    {
     "data": {
      "image/png": "[encoded data removed]",
      "text/plain": [
       "<Figure size 529.475x432 with 1 Axes>"
      ]
     },
     "metadata": {},
     "output_type": "display_data"
    }
   ],
   "source": [
    "(total, total_sig, total_less, total_more, total_lbless), (diffs, ratios) = plot_all_three_scenarios(gender_boycotts)\n",
    "running_totals['total'] += total\n",
    "running_totals['total_sig'] += total_sig\n",
    "running_totals['total_less'] += total_less\n",
    "running_totals['total_more'] += total_more\n",
    "running_totals['total_lbless'] += total_lbless\n",
    "for key in all_diffs.keys():\n",
    "    all_diffs[key].update(diffs[key])\n",
    "    all_ratios[key].update(ratios[key])\n",
    "\n",
    "plt.show()"
   ]
  },
  {
   "cell_type": "markdown",
   "metadata": {},
   "source": [
    "# Power Boycotts\n",
    "\n",
    "Below, the power boycotts show a very weird results. Warrants double checks."
   ]
  },
  {
   "cell_type": "code",
   "execution_count": 167,
   "metadata": {
    "scrolled": false
   },
   "outputs": [
    {
     "name": "stdout",
     "output_type": "stream",
     "text": [
      "len of df (number of experiments included) 100\n"
     ]
    },
    {
     "name": "stderr",
     "output_type": "stream",
     "text": [
      "C:\\Users\\Nick\\Anaconda3\\lib\\site-packages\\seaborn\\categorical.py:3666: UserWarning: The `factorplot` function has been renamed to `catplot`. The original name will be removed in a future release. Please update your code. Note that the default `kind` in `factorplot` (`'point'`) has changed `'strip'` in `catplot`.\n",
      "  warnings.warn(msg)\n",
      "C:\\Users\\Nick\\Anaconda3\\lib\\site-packages\\scipy\\stats\\stats.py:1713: FutureWarning: Using a non-tuple sequence for multidimensional indexing is deprecated; use `arr[tuple(seq)]` instead of `arr[seq]`. In the future this will be interpreted as an array index, `arr[np.array(seq)]`, which will result either in an error or a different result.\n",
      "  return np.add.reduce(sorted[indexer] * weights, axis=axis) / sumval\n"
     ]
    },
    {
     "name": "stdout",
     "output_type": "stream",
     "text": [
      "ndcg10 SVD bottom 10% contributors, percent_increase_ndcg10_expected, percent_increase_ndcg10_non-boycott\n",
      "Ratio: -0.30039856848456054, pval: 0.0019857762625803983\n",
      "ndcg10 SVD power users, percent_increase_ndcg10_expected, percent_increase_ndcg10_non-boycott\n",
      "Ratio: 1.9190082873239434, pval: 2.0540906574173002e-25\n",
      "Totals:\n",
      "2 lbless, 2 sig, 1 less, and 1 more out of 2 total\n",
      "total2 2 2\n"
     ]
    },
    {
     "data": {
      "image/png": "[encoded data removed]",
      "text/plain": [
       "<Figure size 529.475x432 with 1 Axes>"
      ]
     },
     "metadata": {},
     "output_type": "display_data"
    }
   ],
   "source": [
    "(total, total_sig, total_less, total_more, total_lbless), (diffs, ratios) = plot_all_three_scenarios(power_boycotts)\n",
    "running_totals['total'] += total\n",
    "running_totals['total_sig'] += total_sig\n",
    "running_totals['total_less'] += total_less\n",
    "running_totals['total_more'] += total_more\n",
    "running_totals['total_lbless'] += total_lbless\n",
    "\n",
    "for key in all_diffs.keys():\n",
    "    all_diffs[key].update(diffs[key])\n",
    "    all_ratios[key].update(ratios[key])\n",
    "\n",
    "\n",
    "plt.show()"
   ]
  },
  {
   "cell_type": "markdown",
   "metadata": {},
   "source": [
    "# Age Boycotts"
   ]
  },
  {
   "cell_type": "code",
   "execution_count": 168,
   "metadata": {
    "scrolled": false
   },
   "outputs": [
    {
     "name": "stdout",
     "output_type": "stream",
     "text": [
      "len of df (number of experiments included) 350\n"
     ]
    },
    {
     "name": "stderr",
     "output_type": "stream",
     "text": [
      "C:\\Users\\Nick\\Anaconda3\\lib\\site-packages\\seaborn\\categorical.py:3666: UserWarning: The `factorplot` function has been renamed to `catplot`. The original name will be removed in a future release. Please update your code. Note that the default `kind` in `factorplot` (`'point'`) has changed `'strip'` in `catplot`.\n",
      "  warnings.warn(msg)\n",
      "C:\\Users\\Nick\\Anaconda3\\lib\\site-packages\\scipy\\stats\\stats.py:1713: FutureWarning: Using a non-tuple sequence for multidimensional indexing is deprecated; use `arr[tuple(seq)]` instead of `arr[seq]`. In the future this will be interpreted as an array index, `arr[np.array(seq)]`, which will result either in an error or a different result.\n",
      "  return np.add.reduce(sorted[indexer] * weights, axis=axis) / sumval\n"
     ]
    },
    {
     "name": "stdout",
     "output_type": "stream",
     "text": [
      "ndcg10 SVD under 18, percent_increase_ndcg10_expected, percent_increase_ndcg10_non-boycott\n",
      "Ratio: 0.020090789404979194, pval: 0.0011997178613798237\n",
      "ndcg10 SVD 45-49, percent_increase_ndcg10_expected, percent_increase_ndcg10_non-boycott\n",
      "Ratio: 0.8913736780844764, pval: 0.4496784309904025\n",
      "ndcg10 SVD 50-55, percent_increase_ndcg10_expected, percent_increase_ndcg10_non-boycott\n",
      "Ratio: 0.7976365131326462, pval: 0.22497379448772015\n",
      "ndcg10 SVD 18-24, percent_increase_ndcg10_expected, percent_increase_ndcg10_non-boycott\n",
      "Ratio: 1.33780774440666, pval: 8.213290415012035e-05\n",
      "ndcg10 SVD 25-34, percent_increase_ndcg10_expected, percent_increase_ndcg10_non-boycott\n",
      "Ratio: 1.0904646330670862, pval: 0.011923611683828278\n",
      "ndcg10 SVD 56+, percent_increase_ndcg10_expected, percent_increase_ndcg10_non-boycott\n",
      "Ratio: -0.1970748476723377, pval: 1.8032059689161897e-05\n",
      "ndcg10 SVD 35-44, percent_increase_ndcg10_expected, percent_increase_ndcg10_non-boycott\n",
      "Ratio: 1.0820044054403612, pval: 0.25410402127978704\n",
      "Totals:\n",
      "7 lbless, 7 sig, 4 less, and 3 more out of 7 total\n",
      "total2 7 7\n"
     ]
    },
    {
     "data": {
      "image/png": "[encoded data removed]",
      "text/plain": [
       "<Figure size 529.475x432 with 1 Axes>"
      ]
     },
     "metadata": {},
     "output_type": "display_data"
    }
   ],
   "source": [
    "(total, total_sig, total_less, total_more, total_lbless), (diffs, ratios) = plot_all_three_scenarios(age_boycotts)\n",
    "running_totals['total'] += total\n",
    "running_totals['total_sig'] += total_sig\n",
    "running_totals['total_less'] += total_less\n",
    "running_totals['total_more'] += total_more\n",
    "running_totals['total_lbless'] += total_lbless\n",
    "\n",
    "for key in all_diffs.keys():\n",
    "    all_diffs[key].update(diffs[key])\n",
    "    all_ratios[key].update(ratios[key])\n",
    "\n",
    "plt.show()\n"
   ]
  },
  {
   "cell_type": "markdown",
   "metadata": {},
   "source": [
    "# Occupation Boycotts"
   ]
  },
  {
   "cell_type": "code",
   "execution_count": 169,
   "metadata": {
    "scrolled": false
   },
   "outputs": [
    {
     "name": "stdout",
     "output_type": "stream",
     "text": [
      "len of df (number of experiments included) 1050\n"
     ]
    },
    {
     "name": "stderr",
     "output_type": "stream",
     "text": [
      "C:\\Users\\Nick\\Anaconda3\\lib\\site-packages\\seaborn\\categorical.py:3666: UserWarning: The `factorplot` function has been renamed to `catplot`. The original name will be removed in a future release. Please update your code. Note that the default `kind` in `factorplot` (`'point'`) has changed `'strip'` in `catplot`.\n",
      "  warnings.warn(msg)\n",
      "C:\\Users\\Nick\\Anaconda3\\lib\\site-packages\\scipy\\stats\\stats.py:1713: FutureWarning: Using a non-tuple sequence for multidimensional indexing is deprecated; use `arr[tuple(seq)]` instead of `arr[seq]`. In the future this will be interpreted as an array index, `arr[np.array(seq)]`, which will result either in an error or a different result.\n",
      "  return np.add.reduce(sorted[indexer] * weights, axis=axis) / sumval\n"
     ]
    },
    {
     "name": "stdout",
     "output_type": "stream",
     "text": [
      "ndcg10 SVD tradesman/craftsman, percent_increase_ndcg10_expected, percent_increase_ndcg10_non-boycott\n",
      "Ratio: -0.17117790251498288, pval: 0.0006068399427131337\n",
      "ndcg10 SVD sales/marketing, percent_increase_ndcg10_expected, percent_increase_ndcg10_non-boycott\n",
      "Ratio: 0.9681400963753205, pval: 0.8504823327054023\n",
      "ndcg10 SVD scientist, percent_increase_ndcg10_expected, percent_increase_ndcg10_non-boycott\n",
      "Ratio: 0.36670753997988376, pval: 0.07232910164152052\n",
      "ndcg10 SVD doctor/health care, percent_increase_ndcg10_expected, percent_increase_ndcg10_non-boycott\n",
      "Ratio: 0.6285599083434869, pval: 0.1783196241607691\n",
      "ndcg10 SVD self-employed, percent_increase_ndcg10_expected, percent_increase_ndcg10_non-boycott\n",
      "Ratio: 0.6857615226311611, pval: 0.06210469421322799\n",
      "ndcg10 SVD college/grad student, percent_increase_ndcg10_expected, percent_increase_ndcg10_non-boycott\n",
      "Ratio: 1.0574700997918913, pval: 0.575578568383889\n",
      "ndcg10 SVD retired, percent_increase_ndcg10_expected, percent_increase_ndcg10_non-boycott\n",
      "Ratio: -0.39438228945508635, pval: 0.0005690300137077221\n",
      "ndcg10 SVD k-12 student, percent_increase_ndcg10_expected, percent_increase_ndcg10_non-boycott\n",
      "Ratio: -0.6358042656058945, pval: 4.320329373162261e-06\n",
      "ndcg10 SVD other, percent_increase_ndcg10_expected, percent_increase_ndcg10_non-boycott\n",
      "Ratio: 0.9102476057112183, pval: 0.3013597813220566\n",
      "ndcg10 SVD writer, percent_increase_ndcg10_expected, percent_increase_ndcg10_non-boycott\n",
      "Ratio: 1.0177389996781645, pval: 0.9204319333801071\n",
      "ndcg10 SVD farmer, percent_increase_ndcg10_expected, percent_increase_ndcg10_non-boycott\n",
      "Ratio: 0.4453938524184989, pval: 0.20517267904327993\n",
      "ndcg10 SVD technician/engineer, percent_increase_ndcg10_expected, percent_increase_ndcg10_non-boycott\n",
      "Ratio: 0.850856217817202, pval: 0.3616525632728774\n",
      "ndcg10 SVD executive/managerial, percent_increase_ndcg10_expected, percent_increase_ndcg10_non-boycott\n",
      "Ratio: 0.8982224310989301, pval: 0.5111140756368548\n",
      "ndcg10 SVD clerical/admin, percent_increase_ndcg10_expected, percent_increase_ndcg10_non-boycott\n",
      "Ratio: 0.3918638187890139, pval: 0.032737644435096684\n",
      "ndcg10 SVD programmer, percent_increase_ndcg10_expected, percent_increase_ndcg10_non-boycott\n",
      "Ratio: 0.9150773459416508, pval: 0.6890748818878684\n",
      "ndcg10 SVD customer service, percent_increase_ndcg10_expected, percent_increase_ndcg10_non-boycott\n",
      "Ratio: 0.02674940276550118, pval: 0.0009492348796968544\n",
      "ndcg10 SVD artist, percent_increase_ndcg10_expected, percent_increase_ndcg10_non-boycott\n",
      "Ratio: 0.5262081902732823, pval: 0.02622321636764469\n",
      "ndcg10 SVD homemaker, percent_increase_ndcg10_expected, percent_increase_ndcg10_non-boycott\n",
      "Ratio: -0.3649219503511196, pval: 0.002215647100879238\n",
      "ndcg10 SVD lawyer, percent_increase_ndcg10_expected, percent_increase_ndcg10_non-boycott\n",
      "Ratio: 0.4198392714547227, pval: 0.10470511963798733\n",
      "ndcg10 SVD academic/educator, percent_increase_ndcg10_expected, percent_increase_ndcg10_non-boycott\n",
      "Ratio: 0.8473118142215885, pval: 0.27714450555473213\n",
      "ndcg10 SVD unemployed, percent_increase_ndcg10_expected, percent_increase_ndcg10_non-boycott\n",
      "Ratio: 0.14930854803137322, pval: 0.015649368859982454\n",
      "Totals:\n",
      "10 lbless, 16 sig, 19 less, and 2 more out of 21 total\n",
      "total2 21 21\n"
     ]
    },
    {
     "data": {
      "image/png": "[encoded data removed]",
      "text/plain": [
       "<Figure size 529.475x432 with 1 Axes>"
      ]
     },
     "metadata": {},
     "output_type": "display_data"
    }
   ],
   "source": [
    "(total, total_sig, total_less, total_more, total_lbless), (diffs, ratios) = plot_all_three_scenarios(occupation_boycotts)\n",
    "running_totals['total'] += total\n",
    "running_totals['total_sig'] += total_sig\n",
    "running_totals['total_less'] += total_less\n",
    "running_totals['total_more'] += total_more\n",
    "running_totals['total_lbless'] += total_lbless\n",
    "\n",
    "for key in all_diffs.keys():\n",
    "    all_diffs[key].update(diffs[key])\n",
    "    all_ratios[key].update(ratios[key])\n",
    "plt.show()"
   ]
  },
  {
   "cell_type": "markdown",
   "metadata": {},
   "source": [
    "# Genre Boycotts"
   ]
  },
  {
   "cell_type": "code",
   "execution_count": 170,
   "metadata": {
    "scrolled": false
   },
   "outputs": [
    {
     "name": "stdout",
     "output_type": "stream",
     "text": [
      "len of df (number of experiments included) 900\n"
     ]
    },
    {
     "name": "stderr",
     "output_type": "stream",
     "text": [
      "C:\\Users\\Nick\\Anaconda3\\lib\\site-packages\\seaborn\\categorical.py:3666: UserWarning: The `factorplot` function has been renamed to `catplot`. The original name will be removed in a future release. Please update your code. Note that the default `kind` in `factorplot` (`'point'`) has changed `'strip'` in `catplot`.\n",
      "  warnings.warn(msg)\n",
      "C:\\Users\\Nick\\Anaconda3\\lib\\site-packages\\scipy\\stats\\stats.py:1713: FutureWarning: Using a non-tuple sequence for multidimensional indexing is deprecated; use `arr[tuple(seq)]` instead of `arr[seq]`. In the future this will be interpreted as an array index, `arr[np.array(seq)]`, which will result either in an error or a different result.\n",
      "  return np.add.reduce(sorted[indexer] * weights, axis=axis) / sumval\n"
     ]
    },
    {
     "name": "stdout",
     "output_type": "stream",
     "text": [
      "ndcg10 SVD fans of fantasy, percent_increase_ndcg10_expected, percent_increase_ndcg10_non-boycott\n",
      "Ratio: 0.5090996649094666, pval: 0.03431827361239725\n",
      "ndcg10 SVD fans of sci-fi, percent_increase_ndcg10_expected, percent_increase_ndcg10_non-boycott\n",
      "Ratio: 0.29891254110928106, pval: 2.955404768453154e-07\n",
      "ndcg10 SVD fans of war, percent_increase_ndcg10_expected, percent_increase_ndcg10_non-boycott\n",
      "Ratio: 1.0419729177834929, pval: 0.39673677239676775\n",
      "ndcg10 SVD fans of horror, percent_increase_ndcg10_expected, percent_increase_ndcg10_non-boycott\n",
      "Ratio: 0.7760951205076158, pval: 0.29605851012694406\n",
      "ndcg10 SVD fans of children's, percent_increase_ndcg10_expected, percent_increase_ndcg10_non-boycott\n",
      "Ratio: 0.5419978236225189, pval: 0.000660917102920723\n",
      "ndcg10 SVD fans of animation, percent_increase_ndcg10_expected, percent_increase_ndcg10_non-boycott\n",
      "Ratio: 1.0158401645330821, pval: 0.8363465945937836\n",
      "ndcg10 SVD fans of western, percent_increase_ndcg10_expected, percent_increase_ndcg10_non-boycott\n",
      "Ratio: 1.1033037047239478, pval: 0.6197833123260466\n",
      "ndcg10 SVD fans of comedy, percent_increase_ndcg10_expected, percent_increase_ndcg10_non-boycott\n",
      "Ratio: 0.17298269892774903, pval: 1.2505056177936433e-10\n",
      "ndcg10 SVD fans of adventure, percent_increase_ndcg10_expected, percent_increase_ndcg10_non-boycott\n",
      "Ratio: 0.41951617024208554, pval: 5.844939627032891e-05\n",
      "ndcg10 SVD fans of documentary, percent_increase_ndcg10_expected, percent_increase_ndcg10_non-boycott\n",
      "Ratio: 1.157893324399804, pval: 0.4583372156019294\n",
      "ndcg10 SVD fans of crime, percent_increase_ndcg10_expected, percent_increase_ndcg10_non-boycott\n",
      "Ratio: 0.9911397621132291, pval: 0.9201679739148847\n",
      "ndcg10 SVD fans of film-noir, percent_increase_ndcg10_expected, percent_increase_ndcg10_non-boycott\n",
      "Ratio: 1.3574470323375432, pval: 0.0017860842063051245\n",
      "ndcg10 SVD fans of musical, percent_increase_ndcg10_expected, percent_increase_ndcg10_non-boycott\n",
      "Ratio: 1.0440957277784573, pval: 0.707135975939901\n",
      "ndcg10 SVD fans of thriller, percent_increase_ndcg10_expected, percent_increase_ndcg10_non-boycott\n",
      "Ratio: 0.6189280945084575, pval: 4.5625546396623555e-05\n",
      "ndcg10 SVD fans of mystery, percent_increase_ndcg10_expected, percent_increase_ndcg10_non-boycott\n",
      "Ratio: 1.195841884505386, pval: 0.09498658114390564\n",
      "ndcg10 SVD fans of action, percent_increase_ndcg10_expected, percent_increase_ndcg10_non-boycott\n",
      "Ratio: 0.39681207475423647, pval: 1.1870472363175006e-06\n",
      "ndcg10 SVD fans of romance, percent_increase_ndcg10_expected, percent_increase_ndcg10_non-boycott\n",
      "Ratio: 0.8394834169779329, pval: 0.1287523201878132\n",
      "ndcg10 SVD fans of drama, percent_increase_ndcg10_expected, percent_increase_ndcg10_non-boycott\n",
      "Ratio: 0.5033881526227265, pval: 1.0421136974244635e-12\n",
      "Totals:\n",
      "16 lbless, 14 sig, 11 less, and 7 more out of 18 total\n",
      "total2 18 18\n"
     ]
    },
    {
     "data": {
      "image/png": "[encoded data removed]",
      "text/plain": [
       "<Figure size 529.475x432 with 1 Axes>"
      ]
     },
     "metadata": {},
     "output_type": "display_data"
    }
   ],
   "source": [
    "(total, total_sig, total_less, total_more, total_lbless), (diffs, ratios) = plot_all_three_scenarios(genre_boycotts)\n",
    "running_totals['total'] += total\n",
    "running_totals['total_sig'] += total_sig\n",
    "running_totals['total_less'] += total_less\n",
    "running_totals['total_more'] += total_more\n",
    "running_totals['total_lbless'] += total_lbless\n",
    "\n",
    "for key in all_diffs.keys():\n",
    "    all_diffs[key].update(diffs[key])\n",
    "    all_ratios[key].update(ratios[key])\n",
    "\n",
    "plt.show()"
   ]
  },
  {
   "cell_type": "code",
   "execution_count": 171,
   "metadata": {},
   "outputs": [
    {
     "data": {
      "text/plain": [
       "{'total': 50,\n",
       " 'total_lbless': 37,\n",
       " 'total_less': 36,\n",
       " 'total_more': 14,\n",
       " 'total_sig': 41}"
      ]
     },
     "execution_count": 171,
     "metadata": {},
     "output_type": "execute_result"
    }
   ],
   "source": [
    "running_totals"
   ]
  },
  {
   "cell_type": "code",
   "execution_count": 172,
   "metadata": {},
   "outputs": [
    {
     "name": "stdout",
     "output_type": "stream",
     "text": [
      "{'lb': {'18-24': -0.07422645573381648,\n",
      "        '25-34': -0.024862169783425536,\n",
      "        '35-44': -0.05291675983953624,\n",
      "        '45-49': -0.07340881502334753,\n",
      "        '50-55': -0.08478266186702534,\n",
      "        '56+': -0.056760111460816325,\n",
      "        'academic/educator': 0.0024312017968756774,\n",
      "        'artist': 0.003849788854826925,\n",
      "        'bottom 10% contributors': -1.165898456682662,\n",
      "        'clerical/admin': 0.197728386057877,\n",
      "        'college/grad student': 0.03473085400089548,\n",
      "        'customer service': -0.41496029200860923,\n",
      "        'doctor/health care': -0.22790064299734622,\n",
      "        'executive/managerial': -0.01602541212569883,\n",
      "        'fans of action': -0.05034776084376496,\n",
      "        'fans of adventure': -0.07834766365025918,\n",
      "        'fans of animation': 0.012914031850264594,\n",
      "        \"fans of children's\": -0.07075534277333252,\n",
      "        'fans of comedy': -0.030208322279931695,\n",
      "        'fans of crime': -0.0664415480117897,\n",
      "        'fans of documentary': -0.1524936080835349,\n",
      "        'fans of drama': -0.039945490102568544,\n",
      "        'fans of fantasy': -0.09266760207328283,\n",
      "        'fans of film-noir': -0.18254269867575848,\n",
      "        'fans of horror': -0.05901679041946104,\n",
      "        'fans of musical': -0.03017192104612388,\n",
      "        'fans of mystery': -0.12026763165519014,\n",
      "        'fans of romance': -0.05842880243947232,\n",
      "        'fans of sci-fi': -0.15965960118571598,\n",
      "        'fans of thriller': -0.06844221095227779,\n",
      "        'fans of war': -0.04217143120816286,\n",
      "        'fans of western': 0.033421336665234544,\n",
      "        'farmer': -0.6671422822242367,\n",
      "        'female users': -0.07584222634311277,\n",
      "        'homemaker': -0.25942917693764345,\n",
      "        'k-12 student': -0.38292186493328445,\n",
      "        'lawyer': -0.04911752514640094,\n",
      "        'male users': -0.06495540583386639,\n",
      "        'other': -0.07791040166488448,\n",
      "        'power users': -0.17160899698727078,\n",
      "        'programmer': 0.0183257939777578,\n",
      "        'retired': 0.07101097133003835,\n",
      "        'sales/marketing': 0.18125179433388316,\n",
      "        'scientist': 0.31898281350047825,\n",
      "        'self-employed': -0.00911094732622441,\n",
      "        'technician/engineer': -0.07587642361101839,\n",
      "        'tradesman/craftsman': 0.1315197912627244,\n",
      "        'under 18': -0.3238456659474422,\n",
      "        'unemployed': 0.0194582653264769,\n",
      "        'writer': 0.08476284966873182},\n",
      " 'nb': {'18-24': -0.017673172596715393,\n",
      "        '25-34': -0.012835709764734166,\n",
      "        '35-44': -0.004630291738564309,\n",
      "        '45-49': 0.003059896017351779,\n",
      "        '50-55': 0.005087361225930776,\n",
      "        '56+': 0.020324369507827907,\n",
      "        'academic/educator': 0.004306438773386271,\n",
      "        'artist': 0.00942795609777556,\n",
      "        'bottom 10% contributors': 0.0143480076739544,\n",
      "        'clerical/admin': 0.009273679863466657,\n",
      "        'college/grad student': -0.0022888373396222003,\n",
      "        'customer service': 0.012466078093569432,\n",
      "        'doctor/health care': 0.006169947230472511,\n",
      "        'executive/managerial': 0.0033756686937354216,\n",
      "        'fans of action': 0.022929740735669592,\n",
      "        'fans of adventure': 0.018835042613003252,\n",
      "        'fans of animation': -0.0005999007774971019,\n",
      "        \"fans of children's\": 0.013133735661121526,\n",
      "        'fans of comedy': 0.03661068164877014,\n",
      "        'fans of crime': 0.00045175589750515166,\n",
      "        'fans of documentary': -0.0028798010759641703,\n",
      "        'fans of drama': 0.04659058708695867,\n",
      "        'fans of fantasy': 0.00913821626165844,\n",
      "        'fans of film-noir': -0.013602919547453816,\n",
      "        'fans of horror': 0.004312796729197181,\n",
      "        'fans of musical': -0.0016311413302066424,\n",
      "        'fans of mystery': -0.0065594174533038785,\n",
      "        'fans of romance': 0.00707012397924963,\n",
      "        'fans of sci-fi': 0.02277744712126791,\n",
      "        'fans of thriller': 0.01806995855247973,\n",
      "        'fans of war': -0.0036109274246000633,\n",
      "        'fans of western': -0.0021020346226051888,\n",
      "        'farmer': 0.004505147970074931,\n",
      "        'female users': 0.01588594338840854,\n",
      "        'homemaker': 0.0139249677128493,\n",
      "        'k-12 student': 0.02151429271376404,\n",
      "        'lawyer': 0.007250507785944059,\n",
      "        'male users': -0.029767730051994568,\n",
      "        'other': 0.0035385202238400817,\n",
      "        'power users': -0.12431846497612864,\n",
      "        'programmer': 0.001842703072606526,\n",
      "        'retired': 0.015157817381625638,\n",
      "        'sales/marketing': 0.000621994690184046,\n",
      "        'scientist': 0.008273525144186835,\n",
      "        'self-employed': 0.005939663012382666,\n",
      "        'technician/engineer': 0.003763824007964066,\n",
      "        'tradesman/craftsman': 0.012296110380660563,\n",
      "        'under 18': 0.013920802139677288,\n",
      "        'unemployed': 0.009451044240427087,\n",
      "        'writer': -0.0003944545060084112}}\n",
      "{'lb': {'18-24': 2.756583657419667,\n",
      "        '25-34': 1.265690398368252,\n",
      "        '35-44': 2.0191823789857297,\n",
      "        '45-49': 3.497386930477468,\n",
      "        '50-55': 4.170095105979684,\n",
      "        '56+': 3.14601049402312,\n",
      "        'academic/educator': 0.7611116355681106,\n",
      "        'artist': 0.33274118537022035,\n",
      "        'bottom 10% contributors': 105.36811782217029,\n",
      "        'clerical/admin': -12.574486905474505,\n",
      "        'college/grad student': 0.18541789637120906,\n",
      "        'customer service': 32.42349431280344,\n",
      "        'doctor/health care': 14.348520964968234,\n",
      "        'executive/managerial': 1.381394103075573,\n",
      "        'fans of action': 1.7212562433216594,\n",
      "        'fans of adventure': 2.834140484226351,\n",
      "        'fans of animation': 0.6748497925133673,\n",
      "        \"fans of children's\": 3.0093918550441723,\n",
      "        'fans of comedy': 0.8553738491812736,\n",
      "        'fans of crime': 2.2942504114723854,\n",
      "        'fans of documentary': 9.518791211059849,\n",
      "        'fans of drama': 0.9291695147936254,\n",
      "        'fans of fantasy': 5.4871561703871485,\n",
      "        'fans of film-noir': 6.154163332019664,\n",
      "        'fans of horror': 3.8400344101658397,\n",
      "        'fans of musical': 1.8597533243120683,\n",
      "        'fans of mystery': 4.786624114181672,\n",
      "        'fans of romance': 2.1660219253805684,\n",
      "        'fans of sci-fi': 5.213218498526353,\n",
      "        'fans of thriller': 2.0622852371323113,\n",
      "        'fans of war': 1.5321677643632452,\n",
      "        'fans of western': -0.5391753758851375,\n",
      "        'farmer': 82.57393069312087,\n",
      "        'female users': 1.7795780358660762,\n",
      "        'homemaker': 25.064262911382293,\n",
      "        'k-12 student': 28.479037127757366,\n",
      "        'lawyer': 4.350054921801286,\n",
      "        'male users': 1.3065093281306346,\n",
      "        'other': 2.88639713915531,\n",
      "        'power users': 3.1876057594768907,\n",
      "        'programmer': 0.07051639336434036,\n",
      "        'retired': -6.92675026082519,\n",
      "        'sales/marketing': -8.315966006795827,\n",
      "        'scientist': -24.049657569853885,\n",
      "        'self-employed': 1.1677771200163687,\n",
      "        'technician/engineer': 3.8575049803274277,\n",
      "        'tradesman/craftsman': -12.69815338514814,\n",
      "        'under 18': 22.816144327777693,\n",
      "        'unemployed': -1.6021360079644202,\n",
      "        'writer': -2.794128123375783},\n",
      " 'nb': {'18-24': 1.33780774440666,\n",
      "        '25-34': 1.0904646330670862,\n",
      "        '35-44': 1.0820044054403612,\n",
      "        '45-49': 0.8913736780844764,\n",
      "        '50-55': 0.7976365131326462,\n",
      "        '56+': -0.1970748476723377,\n",
      "        'academic/educator': 0.8473118142215885,\n",
      "        'artist': 0.5262081902732823,\n",
      "        'bottom 10% contributors': -0.30039856848456054,\n",
      "        'clerical/admin': 0.3918638187890139,\n",
      "        'college/grad student': 1.0574700997918913,\n",
      "        'customer service': 0.02674940276550118,\n",
      "        'doctor/health care': 0.6285599083434869,\n",
      "        'executive/managerial': 0.8982224310989301,\n",
      "        'fans of action': 0.39681207475423647,\n",
      "        'fans of adventure': 0.41951617024208554,\n",
      "        'fans of animation': 1.0158401645330821,\n",
      "        \"fans of children's\": 0.5419978236225189,\n",
      "        'fans of comedy': 0.17298269892774903,\n",
      "        'fans of crime': 0.9911397621132291,\n",
      "        'fans of documentary': 1.157893324399804,\n",
      "        'fans of drama': 0.5033881526227265,\n",
      "        'fans of fantasy': 0.5090996649094666,\n",
      "        'fans of film-noir': 1.3574470323375432,\n",
      "        'fans of horror': 0.7760951205076158,\n",
      "        'fans of musical': 1.0440957277784573,\n",
      "        'fans of mystery': 1.195841884505386,\n",
      "        'fans of romance': 0.8394834169779329,\n",
      "        'fans of sci-fi': 0.29891254110928106,\n",
      "        'fans of thriller': 0.6189280945084575,\n",
      "        'fans of war': 1.0419729177834929,\n",
      "        'fans of western': 1.1033037047239478,\n",
      "        'farmer': 0.4453938524184989,\n",
      "        'female users': 0.7934439572584691,\n",
      "        'homemaker': -0.3649219503511196,\n",
      "        'k-12 student': -0.6358042656058945,\n",
      "        'lawyer': 0.4198392714547227,\n",
      "        'male users': 1.0963237423769971,\n",
      "        'other': 0.9102476057112183,\n",
      "        'power users': 1.9190082873239434,\n",
      "        'programmer': 0.9150773459416508,\n",
      "        'retired': -0.39438228945508635,\n",
      "        'sales/marketing': 0.9681400963753205,\n",
      "        'scientist': 0.36670753997988376,\n",
      "        'self-employed': 0.6857615226311611,\n",
      "        'technician/engineer': 0.850856217817202,\n",
      "        'tradesman/craftsman': -0.17117790251498288,\n",
      "        'under 18': 0.020090789404979194,\n",
      "        'unemployed': 0.14930854803137322,\n",
      "        'writer': 1.0177389996781645}}\n"
     ]
    }
   ],
   "source": [
    "from pprint import pprint\n",
    "pprint(all_diffs)\n",
    "pprint(all_ratios)"
   ]
  },
  {
   "cell_type": "code",
   "execution_count": 173,
   "metadata": {
    "collapsed": true
   },
   "outputs": [],
   "source": [
    "with open('all_ratios.json', 'w') as f:\n",
    "    json.dump(all_ratios, f)\n",
    "with open('all_diffs.json', 'w') as f:\n",
    "    json.dump(all_diffs, f)"
   ]
  },
  {
   "cell_type": "code",
   "execution_count": null,
   "metadata": {
    "collapsed": true
   },
   "outputs": [],
   "source": []
  }
 ],
 "metadata": {
  "celltoolbar": "Edit Metadata",
  "kernelspec": {
   "display_name": "Python 3",
   "language": "python",
   "name": "python3"
  },
  "language_info": {
   "codemirror_mode": {
    "name": "ipython",
    "version": 3
   },
   "file_extension": ".py",
   "mimetype": "text/x-python",
   "name": "python",
   "nbconvert_exporter": "python",
   "pygments_lexer": "ipython3",
   "version": "3.6.6"
  }
 },
 "nbformat": 4,
 "nbformat_minor": 2
}
