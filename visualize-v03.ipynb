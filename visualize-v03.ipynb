{
 "cells": [
  {
   "cell_type": "markdown",
   "metadata": {},
   "source": [
    "# Visualize Simulated Boycott Results"
   ]
  },
  {
   "cell_type": "code",
   "execution_count": 3,
   "metadata": {
    "collapsed": true
   },
   "outputs": [],
   "source": [
    "from collections import defaultdict, OrderedDict\n",
    "import json\n",
    "\n",
    "import pandas as pd\n",
    "import numpy as np\n",
    "import seaborn as sns\n",
    "import matplotlib.pyplot as plt\n",
    "sns.set(style=\"darkgrid\")\n",
    "sns.set_color_codes(\"dark\")\n",
    "\n",
    "from scipy import stats\n",
    "from scipy.interpolate import interp1d\n",
    "\n",
    "# http://files.grouplens.org/datasets/movielens/ml-20m-README.txt\n",
    "dataset = 'ml-20m'\n",
    "if dataset == 'ml-20m':\n",
    "    NUM_USERS = 138493\n",
    "    NUM_RATINGS = 20000263"
   ]
  },
  {
   "cell_type": "markdown",
   "metadata": {},
   "source": [
    "First things first: let's load our master data file (a single, aggregated csv)."
   ]
  },
  {
   "cell_type": "code",
   "execution_count": 4,
   "metadata": {},
   "outputs": [
    {
     "name": "stdout",
     "output_type": "stream",
     "text": [
      "13849 user sample     50\n",
      "1385 user sample      50\n",
      "692 user sample       50\n",
      "137108 user sample    50\n",
      "83096 user sample     50\n",
      "124644 user sample    50\n",
      "96945 user sample     50\n",
      "110794 user sample    50\n",
      "27699 user sample     50\n",
      "55397 user sample     50\n",
      "41548 user sample     50\n",
      "138 user sample       50\n",
      "69 user sample        50\n",
      "14 user sample        50\n",
      "6925 user sample      50\n",
      "69246 user sample     50\n",
      "Name: name, dtype: int64\n"
     ]
    }
   ],
   "source": [
    "df = pd.read_csv('ml-20m_collected/all_results.csv', dtype={'indices': str})\n",
    "df = df[df.ratingfrac.notna()]\n",
    "print(df.name.value_counts())"
   ]
  },
  {
   "cell_type": "markdown",
   "metadata": {},
   "source": [
    "Let's apply transformation that will affect the entire dataframe.\n",
    "1. Calculate the number of users included in each experiment."
   ]
  },
  {
   "cell_type": "code",
   "execution_count": 5,
   "metadata": {
    "collapsed": true
   },
   "outputs": [],
   "source": [
    "df = df.assign(num_users_boycotting = [(NUM_USERS - int(x))/NUM_USERS for x in df.num_users])\n",
    "df = df.assign(num_ratings_missing = [NUM_RATINGS - int(x) for x in df.num_ratings])\n",
    "df = df.assign(nrm_rounded = [round(x, -5) for x in df.num_ratings_missing])\n",
    "# df = df.assign(user_boycott_frac = [x / NUM_USERS for x in df.num_users_boycotting])\n",
    "\n",
    "# drop columns we're not going to use.\n",
    "drops = [\n",
    "    #'tail',\n",
    "    # 'vanilla',\n",
    "]\n",
    "for column in df.columns.values:\n",
    "    for drop in drops:\n",
    "        if drop in column:\n",
    "            df = df.drop(column, axis=1)\n",
    "\n",
    "# old_df = old_df.assign(num_users_boycotting = [NUM_USERS - int(x) for x in old_df.num_users])"
   ]
  },
  {
   "cell_type": "markdown",
   "metadata": {},
   "source": [
    "# EDIT ME\n",
    "Define all the lists that can be used throughout. By editing this cell we can easily modify the full notebook."
   ]
  },
  {
   "cell_type": "code",
   "execution_count": 6,
   "metadata": {},
   "outputs": [
    {
     "name": "stdout",
     "output_type": "stream",
     "text": [
      "got knn\n",
      "got knn\n",
      "defaultdict(<class 'dict'>, {'SVD': {'rmse': 19.759535282577247, 'ndcg10': -5.647772312509133}})\n",
      "movie defaultdict(<class 'dict'>, {'SVD': {'rmse': 19.759535282577247, 'ndcg10': -5.647772312509133}})\n",
      "standards {'mae': 0.5982146327484761, 'ndcg10': 0.8129494361428661, 'ndcg10_frac': 0.6321670812615489, 'ndcg5': 0.8018415454553228, 'ndcg5_frac': 0.8882993107995836, 'ndcgfull': 0.9157547380976656, 'ndcgfull_frac': 1.0, 'prec10t4': 0.7634889929461244, 'prec10t4_frac': 0.9730377255431292, 'prec5t4': 0.7897671534264847, 'prec5t4_frac': 0.9730377255431292, 'rec10t4': 0.725164049738134, 'rec10t4_frac': 0.9730377255431292, 'rec5t4': 0.5333599422857678, 'rec5t4_frac': 0.9730377255431292, 'rmse': 0.7861107003407806, 'tailndcg10': 0.8025284326387213, 'tailndcg5': 0.8023871407169866, 'tailndcgfull': 0.9381273986072488, 'tailprec10t4': 0.7523732863793005, 'tailprec5t4': 0.7630235092235855, 'tailrec10t4': 0.8950962212516975, 'tailrec5t4': 0.7881534103580077}\n"
     ]
    }
   ],
   "source": [
    "id_vars = ['name','algo_name', 'indices', 'ratingfrac', 'userfrac', 'num_ratings', 'num_users', 'num_users_boycotting']\n",
    "id_vars = [x for x in id_vars if x in list(df.columns.values)]\n",
    "metrics = [\n",
    "    'rmse',\n",
    "    'ndcg10',\n",
    "    #'tailndcg10',\n",
    "    #'ndcg5',\n",
    "    #'tailndcg5',\n",
    "    #'ndcgfull',\n",
    "    #'tailndcgfull',\n",
    "    #'ndcgfull',\n",
    "    #'prec10t4',\n",
    "    #'tailprec10t4',\n",
    "    #'prec5t4',\n",
    "    #'tailprec5t4',\n",
    "]\n",
    "\n",
    "organized_experiments = [\n",
    "    \n",
    "]\n",
    "algo_names = [\n",
    "    #'KNNBaseline_item_msd',\n",
    "    'SVD'\n",
    "]\n",
    "standard_algo_names = [\n",
    "    'KNNBaseline_item_msd',\n",
    "    'SVD', 'GlobalMean',\n",
    "    'MovieMean', 'GuessThree',\n",
    "    #'KNNBasic_user_msd',\n",
    "    #'KNNBasic_item_msd',\n",
    "]\n",
    "standard_results = {}\n",
    "algo_to_metric_vs_global_mean = defaultdict(dict)\n",
    "algo_to_metric_vs_movie_mean = defaultdict(dict)\n",
    "algo_to_metric_vs_guess_three = defaultdict(dict)\n",
    "algo_to_metric_vs_knn = defaultdict(dict)\n",
    "algo_to_metric_vs_user = defaultdict(dict)\n",
    "algo_to_metric_vs_knnbasicitem = defaultdict(dict)\n",
    "\n",
    "for algo_name in standard_algo_names:\n",
    "    filename_ratingcv_standards = 'standard_results/{}_ratingcv_standards_for_{}.json'.format(\n",
    "        'ml-20m', algo_name)\n",
    "    with open(filename_ratingcv_standards, 'r') as f:\n",
    "        standard_results[algo_name] = json.load(f)\n",
    "for main_algo_name in algo_names:\n",
    "    for metric in metrics:\n",
    "        goodval = standard_results[main_algo_name].get(metric, 0)\n",
    "        gmean = standard_results['GlobalMean'][metric]\n",
    "        mmean = standard_results['MovieMean'].get(metric, 0)\n",
    "        guess_three = standard_results['GuessThree'][metric]\n",
    "        knn = standard_results.get('KNNBaseline_item_msd', {}).get(metric)\n",
    "        userval = standard_results.get('KNNBasic_user_msd', {}).get(metric)\n",
    "        knnbasicitem = standard_results.get('KNNBasic_item_msd', {}).get(metric)\n",
    "        \n",
    "        algo_to_metric_vs_global_mean[main_algo_name][metric] = (gmean - goodval) / goodval * 100 if goodval else 0\n",
    "        algo_to_metric_vs_movie_mean[main_algo_name][metric] = (mmean - goodval) / goodval * 100 if goodval else 0\n",
    "        algo_to_metric_vs_guess_three[main_algo_name][metric] = (guess_three - goodval) / goodval * 100 if goodval else 0\n",
    "        if knn:\n",
    "            print('got knn')\n",
    "            algo_to_metric_vs_knn[main_algo_name][metric] = (knn - goodval) / goodval * 100 if goodval else 0\n",
    "        else:\n",
    "            algo_to_metric_vs_knn[main_algo_name][metric] = algo_to_metric_vs_movie_mean[main_algo_name][metric]\n",
    "        if userval:\n",
    "            algo_to_metric_vs_user[main_algo_name][metric] = (userval - goodval) / goodval * 100 if goodval else 0\n",
    "        else:\n",
    "            algo_to_metric_vs_user[main_algo_name][metric] = algo_to_metric_vs_movie_mean[main_algo_name][metric]\n",
    "        if knnbasicitem:\n",
    "            algo_to_metric_vs_knnbasicitem[main_algo_name][metric] = (knnbasicitem - goodval) / goodval * 100 if goodval else 0\n",
    "        else:\n",
    "            algo_to_metric_vs_knnbasicitem[main_algo_name][metric] = algo_to_metric_vs_movie_mean[main_algo_name][metric]\n",
    "print(algo_to_metric_vs_user)\n",
    "print('movie', algo_to_metric_vs_movie_mean)\n",
    "print('standards for SVD', standard_results['SVD'])\n"
   ]
  },
  {
   "cell_type": "code",
   "execution_count": 7,
   "metadata": {},
   "outputs": [
    {
     "data": {
      "text/plain": [
       "defaultdict(dict,\n",
       "            {'SVD': {'ndcg10': -5.647772312509133,\n",
       "              'rmse': 19.759535282577247}})"
      ]
     },
     "execution_count": 7,
     "metadata": {},
     "output_type": "execute_result"
    }
   ],
   "source": [
    "algo_to_metric_vs_movie_mean"
   ]
  },
  {
   "cell_type": "code",
   "execution_count": 8,
   "metadata": {},
   "outputs": [
    {
     "name": "stdout",
     "output_type": "stream",
     "text": [
      "                 name  num_users  num_users_boycotting\n",
      "0  110794 user sample      27699              0.799997\n",
      "1  110794 user sample      27699              0.799997\n",
      "2  110794 user sample      27699              0.799997\n",
      "3  110794 user sample      27699              0.799997\n",
      "4  110794 user sample      27699              0.799997\n"
     ]
    }
   ],
   "source": [
    "samples_df = df[df['type'] == 'sample_users']\n",
    "if not samples_df.empty:\n",
    "    print(samples_df[['name', 'num_users', 'num_users_boycotting']].head())\n",
    "org_df = df[df['type'].isin(organized_experiments)]"
   ]
  },
  {
   "cell_type": "code",
   "execution_count": 9,
   "metadata": {
    "collapsed": true
   },
   "outputs": [],
   "source": [
    "org_df.name = [\n",
    "    x.replace('excluded', '')\n",
    "    .replace('users from', '')\n",
    "#     .replace('US_', '')\n",
    "#     .replace('state', '')\n",
    "    .replace('using threshold 4', '')\n",
    "    .replace('Top 10% contributors', 'power users')\n",
    "    .strip()\n",
    "    .lower()\n",
    "    for x in list(org_df.name)\n",
    "]"
   ]
  },
  {
   "cell_type": "code",
   "execution_count": 10,
   "metadata": {
    "collapsed": true,
    "scrolled": true
   },
   "outputs": [],
   "source": [
    "# for algo_name in algo_names:\n",
    "#     filt = org_df[org_df.algo_name == algo_name]\n",
    "#     for metric in metrics:\n",
    "#         key = 'percent_increase_{}_non-boycott'.format(metric)\n",
    "#         sns.jointplot(filt.num_ratings, y=filt[key], kind=\"reg\").fig.suptitle(algo_name)\n",
    "#         plt.show()\n",
    "#         slope, intercept, r_value, p_value, std_err = stats.linregress(filt.num_ratings, y=filt[key])\n",
    "#         print(slope, intercept, r_value, p_value)\n",
    "#         algo_to_metric_to_slope[algo_name][metric] = slope\n",
    "#         algo_to_metric_to_intercept[algo_name][metric] = intercept\n",
    "        \n",
    "#         # calculate the average error for all boycott users in each dataframe\n",
    "#         algo_to_metric_to_average_boycott[algo_name][metric] = np.mean(\n",
    "#             samples_df[(\n",
    "#                 (samples_df.algo_name == algo_name) &\n",
    "#                 (samples_df.userfrac == 1.0) & \n",
    "#                 (samples_df.ratingfrac == 1.0)\n",
    "#             )][key.replace('non-boycott', 'boycott')]\n",
    "#         )"
   ]
  },
  {
   "cell_type": "code",
   "execution_count": 11,
   "metadata": {
    "collapsed": true
   },
   "outputs": [],
   "source": [
    "def select_cols(cols, metrics, groups, percents):\n",
    "    \"\"\"\n",
    "    take a list of cols and filter based on metrics/groups/percents\n",
    "    \n",
    "    The returned columns must match all the metrics and groups passed\n",
    "    if percents is True, return columns with \"percent\" in the name\n",
    "    if percents is False return only columns without \"percent\" in the name\n",
    "    \n",
    "    returns a list of cols\n",
    "    \"\"\"\n",
    "    increase_cols = [\n",
    "        x for x in cols if 'increase' in x and (any(metric == x.split('_')[-2] for metric in metrics))\n",
    "    ]\n",
    "    increase_cols = [\n",
    "        x for x in increase_cols if any(group == x.split('_')[-1] for group in groups)\n",
    "    ]\n",
    "    if percents:\n",
    "        increase_cols = [x for x in increase_cols if 'percent' in x]\n",
    "    else:\n",
    "        increase_cols = [x for x in increase_cols if 'percent' not in x]\n",
    "    return increase_cols"
   ]
  },
  {
   "cell_type": "code",
   "execution_count": 12,
   "metadata": {
    "collapsed": true
   },
   "outputs": [],
   "source": [
    "def fill_in_longform(df):\n",
    "    \"\"\"Fill in a longform dataframe with metric, group, and name information\"\"\"\n",
    "    df = df.assign(\n",
    "        metric=[x.split('_')[-2] for x in df.increase_type]\n",
    "    )\n",
    "    df = df.assign(\n",
    "        group=[x.split('_')[-1] for x in df.increase_type]\n",
    "    )\n",
    "    return df\n",
    "    "
   ]
  },
  {
   "cell_type": "code",
   "execution_count": 13,
   "metadata": {
    "collapsed": true
   },
   "outputs": [],
   "source": [
    "palette={'all': 'b', 'non-boycott': 'g'}\n",
    "TITLE = 'Effect of Boycott Size on Recommender Performance'\n",
    "YLABEL = 'nDCG@10 personalization factor'"
   ]
  },
  {
   "cell_type": "code",
   "execution_count": 37,
   "metadata": {},
   "outputs": [],
   "source": [
    "def p_b_curve(\n",
    "        df, metrics, groups, percents=False,\n",
    "        reg_plot=False, hue='group', row='metric',\n",
    "        save=False, normalize=False,\n",
    "    ):\n",
    "    \n",
    "    algo_names = list(set(df.algo_name))\n",
    "    df = df.copy()\n",
    "    algo_to_metric_to_group_to = defaultdict(lambda: defaultdict(lambda: defaultdict(dict)))\n",
    "\n",
    "    increase_cols = select_cols(list(df.columns.values), metrics, groups, percents)\n",
    "    increase_cols = [x for x in increase_cols if 'vanilla' not in x]\n",
    "    if normalize:\n",
    "        for metric in metrics:\n",
    "            for algo_name in algo_names:\n",
    "                movie_val = abs(algo_to_metric_vs_movie_mean[algo_name][metric])\n",
    "                for increase_col in increase_cols:\n",
    "                    if increase_col.split('_')[-2] == metric:\n",
    "                        df.loc[df.algo_name == algo_name, increase_col] /= movie_val\n",
    "    \n",
    "    longform = df[increase_cols + id_vars].melt(\n",
    "        id_vars = id_vars,\n",
    "        var_name='increase_type'\n",
    "    )\n",
    "    longform = fill_in_longform(longform)\n",
    "\n",
    "    grid = sns.lmplot(\n",
    "        x=\"num_users_boycotting\", y=\"value\", hue=hue, data=longform,\n",
    "        sharey='row', sharex='col',\n",
    "        size=4, \n",
    "        row=row, col='algo_name',\n",
    "        fit_reg=False,\n",
    "        x_estimator=np.mean, ci=99, \n",
    "        palette=palette,\n",
    "        legend_out=True,\n",
    "    )\n",
    "    \n",
    "    if normalize:\n",
    "        grid.set(ylim=(-1.6, 0.1))\n",
    "\n",
    "    algo_to_size_to_decreases = defaultdict(lambda: defaultdict(list))\n",
    "    for metric in metrics:\n",
    "        for algo_name in algo_names:\n",
    "            filt = df[df.algo_name == algo_name]\n",
    "            for group in groups:\n",
    "                key = 'increase_{}_{}'.format(metric, group)\n",
    "                if percents:\n",
    "                    key = 'percent_' + key\n",
    "                x = filt.num_users_boycotting\n",
    "                user_nums = sorted(list(set(filt.num_users_boycotting)))\n",
    "                nrm_rounded = sorted(list(set(filt.nrm_rounded)))\n",
    "                y = filt[key]\n",
    "\n",
    "                num_to_mean = OrderedDict()\n",
    "                rounded_num_to_mean = OrderedDict()\n",
    "                for num_users_boycotting in user_nums:\n",
    "                    filt_by_name = filt[filt.num_users_boycotting == num_users_boycotting]\n",
    "                    # print('1', len(filt_by_name[key]))\n",
    "                    num_to_mean[num_users_boycotting] = np.mean(filt_by_name[key])\n",
    "                    rounded_num_to_mean[round(num_users_boycotting, 2)] = np.mean(filt_by_name[key])\n",
    "                nrm_rounded_to_mean = OrderedDict()\n",
    "                for num in nrm_rounded:\n",
    "                    filt_by_nrm = filt[filt.nrm_rounded == num]\n",
    "                    nrm_rounded_to_mean[num] = np.mean(filt_by_nrm[key])\n",
    "\n",
    "                if group == 'non-boycott':\n",
    "                    for num in [\n",
    "                        0.1, 0.3, 0.9\n",
    "                    ]:\n",
    "                        \n",
    "                        val_nb = rounded_num_to_mean.get(num)\n",
    "                        if val_nb is None:\n",
    "                            continue\n",
    "                        val_all = np.mean(filt[filt.num_users_boycotting == num][key.replace('non-boycott', 'all')])\n",
    "                        ratio_nb = val_nb / algo_to_metric_vs_movie_mean[algo_name][metric]\n",
    "                        ratio_all = val_all / algo_to_metric_vs_movie_mean[algo_name][metric]\n",
    "                        print(\n",
    "                            'Algo:{}  |  Metric:{}  |  #users:{}'.format(\n",
    "                                algo_name, metric, num, \n",
    "                            )\n",
    "                        )\n",
    "                        print('NB Val:{}  |  NB Ratio:{}'.format(\n",
    "                            val_nb,\n",
    "                            ratio_nb\n",
    "                        ))\n",
    "                        print('all Val:{}  |  all Ratio:{}'.format(\n",
    "                            val_all,\n",
    "                            ratio_all,\n",
    "                        ))\n",
    "                        algo_to_size_to_decreases[algo_name][num].append(ratio_nb)\n",
    "                meany = np.array(list(num_to_mean.values()))\n",
    "                meany_ratings = np.array(list(nrm_rounded_to_mean.values()))\n",
    "\n",
    "                algo_to_metric_to_group_to[algo_name][metric][group]['x'] = user_nums\n",
    "                algo_to_metric_to_group_to[algo_name][metric][group]['y'] = meany\n",
    "\n",
    "                #smoothf = interp1d(user_nums, meany, kind='linear', bounds_error=False, fill_value='extrapolate')\n",
    "                smoothf_ratings = interp1d(nrm_rounded, meany_ratings, kind='quadratic', bounds_error=False, fill_value='extrapolate')\n",
    "\n",
    "                #algo_to_metric_to_group_to[algo_name][metric][group]['interp'] = smoothf\n",
    "                algo_to_metric_to_group_to[algo_name][metric][group]['interp_ratings'] = smoothf_ratings\n",
    "\n",
    "                algo_to_metric_to_group_to[algo_name][metric][group]['max_user_units'] = max(user_nums)\n",
    "                #xnew = np.linspace(min(user_nums), max(user_nums), num=1000)\n",
    "                algo_to_metric_to_group_to[algo_name][metric][group]['xnew_ratings'] = np.linspace(\n",
    "                    min(filt.num_ratings_missing), max(filt.num_ratings_missing), num=1000)\n",
    "\n",
    "    for x in grid.facet_data():\n",
    "        i_row, i_col, i_hue = x[0]\n",
    "        metric = grid.row_names[i_row]\n",
    "        algo_name = grid.col_names[i_col]\n",
    "        group = grid.hue_names[i_hue]\n",
    "        \n",
    "        zero_line = 0\n",
    "        movie_val = abs(algo_to_metric_vs_movie_mean[algo_name][metric])\n",
    "        knnbaseline_line = algo_to_metric_vs_knn[algo_name][metric]\n",
    "        knnbasicitem_line = algo_to_metric_vs_knnbasicitem[algo_name][metric]\n",
    "        useruser_line = algo_to_metric_vs_user[algo_name][metric]\n",
    "        movie_val = -1 * algo_to_metric_vs_movie_mean[algo_name][metric]\n",
    "        movie_line = algo_to_metric_vs_movie_mean[algo_name][metric]\n",
    "        if normalize:\n",
    "            knnbaseline_line /= movie_val\n",
    "            knnbasicitem_line /= movie_val\n",
    "            useruser_line /= movie_val\n",
    "            movie_line /= movie_val\n",
    "        \n",
    "        ax = grid.axes[i_row, i_col]\n",
    "#         print(algo_to_metric_to_group_to[algo_name][metric][group]['x'])\n",
    "#         print(algo_to_metric_to_group_to[algo_name][metric][group]['y'])\n",
    "    \n",
    "        linestyle = '-'\n",
    "        if group == 'all':\n",
    "            linestyle = '--'\n",
    "        ax.plot(\n",
    "            algo_to_metric_to_group_to[algo_name][metric][group]['x'],\n",
    "            algo_to_metric_to_group_to[algo_name][metric][group]['y'],\n",
    "            linestyle=linestyle, color=grid._colors[i_hue]\n",
    "        )\n",
    "        if not save:\n",
    "            xnew_ratings = algo_to_metric_to_group_to[algo_name][metric][group]['xnew_ratings']\n",
    "            ynew_ratings = algo_to_metric_to_group_to[algo_name][metric][group]['interp_ratings'](xnew_ratings)\n",
    "            ax.plot(\n",
    "                xnew_ratings * algo_to_metric_to_group_to[algo_name][metric][group]['max_user_units'] / NUM_RATINGS,\n",
    "                ynew_ratings, '-')\n",
    "        plt.setp(ax.get_xticklabels(), visible=True, rotation=45)\n",
    "        if percents:\n",
    "            ax.axhline(0, color='0.3', linestyle='-')\n",
    "            ax.axhline(movie_line, color='0.3', linestyle='-')\n",
    "        \n",
    "            if algo_name == 'SVD':\n",
    "                ax.text(0.7, knnbaseline_line+0.05, 'Item KNN + Baselines: 2010')\n",
    "                ax.axhline(knnbaseline_line, color='y', linestyle=':')\n",
    "                ax.text(0.7, knnbasicitem_line+0.05, 'Item KNN (1999)')\n",
    "                ax.axhline(knnbasicitem_line, color='r', linestyle=':')\n",
    "                ax.axhline(useruser_line, color='c', linestyle=':')\n",
    "                ax.text(0.7, useruser_line+0.05, 'User KNN (1994)')\n",
    "    plt.subplots_adjust(hspace=0.2)\n",
    "    algo_to_size_to_mean_dec = defaultdict(dict)\n",
    "    for algo_name, size2dec in algo_to_size_to_decreases.items():\n",
    "        for size, decs in size2dec.items():\n",
    "            algo_to_size_to_mean_dec[algo_name][size] = np.mean(decs)\n",
    "    print('=====\\nSize to Mean Decrease')\n",
    "    print(algo_to_size_to_mean_dec)\n",
    "                   \n",
    "    grid.set_xlabels('Fraction of users boycotting')\n",
    "    grid.set_ylabels(YLABEL)\n",
    "    if save:\n",
    "        new_labels = ['All\\nUsers', 'Not\\nBoycotting\\nUsers',]\n",
    "        for t, l in zip(grid._legend.texts, new_labels): t.set_text(l)\n",
    "        grid._legend.set_title('')\n",
    "        grid.set_titles(TITLE)\n",
    "        plt.savefig('sample.svg', bbox_inches='tight', dpi=300)\n",
    "    return algo_to_metric_to_group_to"
   ]
  },
  {
   "cell_type": "code",
   "execution_count": 40,
   "metadata": {
    "scrolled": false
   },
   "outputs": [
    {
     "name": "stdout",
     "output_type": "stream",
     "text": [
      "OrderedDict([(0.0, -0.00011499158286678801), (0.01, -8.20476297927275e-05), (0.05, -0.0002032063099035142), (0.1, -0.0003575970062670919), (0.2, -0.0007465852217268631), (0.3, -0.0012888441545653162), (0.4, -0.0019336762931266094), (0.5, -0.0029195797969430904), (0.6, -0.004343048284246889), (0.7, -0.00661916665521774), (0.8, -0.010135490584376928), (0.9, -0.01794998150811462), (0.99, -0.05046457973413363)])\n",
      "Algo:SVD  |  Metric:ndcg10  |  #users:0.1\n",
      "NB Val:-0.0003575970062670919  |  NB Ratio:6.331647001332858e-05\n",
      "all Val:nan  |  all Ratio:nan\n",
      "Algo:SVD  |  Metric:ndcg10  |  #users:0.3\n",
      "NB Val:-0.0012888441545653162  |  NB Ratio:0.00022820398614701272\n",
      "all Val:nan  |  all Ratio:nan\n",
      "Algo:SVD  |  Metric:ndcg10  |  #users:0.9\n",
      "NB Val:-0.01794998150811462  |  NB Ratio:0.003178240997491627\n",
      "all Val:nan  |  all Ratio:nan\n",
      "OrderedDict([(0.0, -0.0003656644651165153), (0.01, -0.0005837588337927335), (0.05, -0.002734873057777969), (0.1, -0.005378246358143539), (0.2, -0.010661542772088622), (0.3, -0.01596754529746508), (0.4, -0.02115368078574302), (0.5, -0.02640674530200344), (0.6, -0.031543154051854594), (0.7, -0.03667680359554797), (0.8, -0.0415753956304439), (0.9, -0.04629780602500811), (0.99, -0.05309161386758155)])\n",
      "=====\n",
      "Size to Mean Decrease\n",
      "defaultdict(<class 'dict'>, {'SVD': {0.1: 6.331647001332858e-05, 0.3: 0.00022820398614701272, 0.9: 0.003178240997491627}})\n"
     ]
    },
    {
     "data": {
      "image/png": "[encoded data removed]",
      "text/plain": [
       "<matplotlib.figure.Figure at 0x15bb9f166d8>"
      ]
     },
     "metadata": {},
     "output_type": "display_data"
    }
   ],
   "source": [
    "_ = p_b_curve(\n",
    "    samples_df[samples_df.algo_name == 'SVD'],\n",
    "    metrics=['ndcg10', ],\n",
    "    percents=False,\n",
    "    groups=['non-boycott', 'all', ],\n",
    "    save=False, normalize=False,\n",
    ")\n",
    "plt.show()\n"
   ]
  },
  {
   "cell_type": "code",
   "execution_count": 33,
   "metadata": {},
   "outputs": [
    {
     "name": "stdout",
     "output_type": "stream",
     "text": [
      "OrderedDict([(0.0, -0.005045609208590065), (0.01, -0.0065028852774432445), (0.05, 0.03098327291589545), (0.1, 0.08510862304957444), (0.2, 0.2081021501420641), (0.3, 0.36706302827418597), (0.4, 0.5678737791568637), (0.5, 0.8263035933121547), (0.6, 1.1956963604228097), (0.7, 1.7407615070399012), (0.8, 2.583247334664693), (0.9, 4.307691585753226), (0.99, 11.299174140930162)])\n",
      "OrderedDict([(0.0, 0.11177680386574007), (0.01, 0.22686529269353045), (0.05, 1.1617841487842098), (0.1, 2.3229117382718734), (0.2, 4.603116003244441), (0.3, 6.823035959310682), (0.4, 8.999730786321507), (0.5, 11.12075305742502), (0.6, 13.197680142062692), (0.7, 15.235220785209172), (0.8, 17.21544889425139), (0.9, 19.292800912175124), (0.99, 23.119712270888186)])\n",
      "OrderedDict([(0.0, -0.01414507744562091), (0.01, -0.010092614729368956), (0.05, -0.024995872071677222), (0.1, -0.043987773758898924), (0.2, -0.09183655422532246), (0.3, -0.1585395258709511), (0.4, -0.23785204730078685), (0.5, -0.35912440463391065), (0.6, -0.5342354803604878), (0.7, -0.8142404043911304), (0.8, -1.246906027369627), (0.9, -2.2083404424442707), (0.99, -6.208981268767006)])\n",
      "OrderedDict([(0.0, -0.04497997647325438), (0.01, -0.07180752059592362), (0.05, -0.3364136730020867), (0.1, -0.661572063283697), (0.2, -1.3114644402330307), (0.3, -1.964149870528845), (0.4, -2.6020905907886642), (0.5, -3.248264175850019), (0.6, -3.880088065687675), (0.7, -4.511572548664941), (0.8, -5.114142870644357), (0.9, -5.695041286291248), (0.99, -6.530739982978638)])\n"
     ]
    },
    {
     "ename": "ValueError",
     "evalue": "x and y must have same first dimension, but have shapes (16,) and (13,)",
     "output_type": "error",
     "traceback": [
      "\u001b[1;31m---------------------------------------------------------------------------\u001b[0m",
      "\u001b[1;31mValueError\u001b[0m                                Traceback (most recent call last)",
      "\u001b[1;32m<ipython-input-33-5c5f84e552c7>\u001b[0m in \u001b[0;36m<module>\u001b[1;34m()\u001b[0m\n\u001b[0;32m      3\u001b[0m     \u001b[0mmetrics\u001b[0m\u001b[1;33m=\u001b[0m\u001b[0mmetrics\u001b[0m\u001b[1;33m,\u001b[0m\u001b[1;33m\u001b[0m\u001b[0m\n\u001b[0;32m      4\u001b[0m     \u001b[0mpercents\u001b[0m\u001b[1;33m=\u001b[0m\u001b[1;32mTrue\u001b[0m\u001b[1;33m,\u001b[0m\u001b[1;33m\u001b[0m\u001b[0m\n\u001b[1;32m----> 5\u001b[1;33m     \u001b[0mgroups\u001b[0m\u001b[1;33m=\u001b[0m\u001b[1;33m[\u001b[0m\u001b[1;34m'non-boycott'\u001b[0m\u001b[1;33m,\u001b[0m \u001b[1;34m'all'\u001b[0m\u001b[1;33m,\u001b[0m \u001b[1;33m]\u001b[0m\u001b[1;33m,\u001b[0m\u001b[1;33m\u001b[0m\u001b[0m\n\u001b[0m\u001b[0;32m      6\u001b[0m )\n\u001b[0;32m      7\u001b[0m \u001b[1;33m\u001b[0m\u001b[0m\n",
      "\u001b[1;32m<ipython-input-31-9cab7c76ddb0>\u001b[0m in \u001b[0;36mp_b_curve\u001b[1;34m(df, metrics, groups, percents, reg_plot, hue, row, save, normalize)\u001b[0m\n\u001b[0;32m    134\u001b[0m             \u001b[0malgo_to_metric_to_group_to\u001b[0m\u001b[1;33m[\u001b[0m\u001b[0malgo_name\u001b[0m\u001b[1;33m]\u001b[0m\u001b[1;33m[\u001b[0m\u001b[0mmetric\u001b[0m\u001b[1;33m]\u001b[0m\u001b[1;33m[\u001b[0m\u001b[0mgroup\u001b[0m\u001b[1;33m]\u001b[0m\u001b[1;33m[\u001b[0m\u001b[1;34m'x'\u001b[0m\u001b[1;33m]\u001b[0m\u001b[1;33m,\u001b[0m\u001b[1;33m\u001b[0m\u001b[0m\n\u001b[0;32m    135\u001b[0m             \u001b[0malgo_to_metric_to_group_to\u001b[0m\u001b[1;33m[\u001b[0m\u001b[0malgo_name\u001b[0m\u001b[1;33m]\u001b[0m\u001b[1;33m[\u001b[0m\u001b[0mmetric\u001b[0m\u001b[1;33m]\u001b[0m\u001b[1;33m[\u001b[0m\u001b[0mgroup\u001b[0m\u001b[1;33m]\u001b[0m\u001b[1;33m[\u001b[0m\u001b[1;34m'y'\u001b[0m\u001b[1;33m]\u001b[0m\u001b[1;33m,\u001b[0m\u001b[1;33m\u001b[0m\u001b[0m\n\u001b[1;32m--> 136\u001b[1;33m             \u001b[0mlinestyle\u001b[0m\u001b[1;33m=\u001b[0m\u001b[0mlinestyle\u001b[0m\u001b[1;33m,\u001b[0m \u001b[0mcolor\u001b[0m\u001b[1;33m=\u001b[0m\u001b[0mgrid\u001b[0m\u001b[1;33m.\u001b[0m\u001b[0m_colors\u001b[0m\u001b[1;33m[\u001b[0m\u001b[0mi_hue\u001b[0m\u001b[1;33m]\u001b[0m\u001b[1;33m\u001b[0m\u001b[0m\n\u001b[0m\u001b[0;32m    137\u001b[0m         )\n\u001b[0;32m    138\u001b[0m         \u001b[1;32mif\u001b[0m \u001b[1;32mnot\u001b[0m \u001b[0msave\u001b[0m\u001b[1;33m:\u001b[0m\u001b[1;33m\u001b[0m\u001b[0m\n",
      "\u001b[1;32mC:\\Users\\Nick\\Anaconda3\\lib\\site-packages\\matplotlib\\__init__.py\u001b[0m in \u001b[0;36minner\u001b[1;34m(ax, *args, **kwargs)\u001b[0m\n\u001b[0;32m   1895\u001b[0m                     warnings.warn(msg % (label_namer, func.__name__),\n\u001b[0;32m   1896\u001b[0m                                   RuntimeWarning, stacklevel=2)\n\u001b[1;32m-> 1897\u001b[1;33m             \u001b[1;32mreturn\u001b[0m \u001b[0mfunc\u001b[0m\u001b[1;33m(\u001b[0m\u001b[0max\u001b[0m\u001b[1;33m,\u001b[0m \u001b[1;33m*\u001b[0m\u001b[0margs\u001b[0m\u001b[1;33m,\u001b[0m \u001b[1;33m**\u001b[0m\u001b[0mkwargs\u001b[0m\u001b[1;33m)\u001b[0m\u001b[1;33m\u001b[0m\u001b[0m\n\u001b[0m\u001b[0;32m   1898\u001b[0m         \u001b[0mpre_doc\u001b[0m \u001b[1;33m=\u001b[0m \u001b[0minner\u001b[0m\u001b[1;33m.\u001b[0m\u001b[0m__doc__\u001b[0m\u001b[1;33m\u001b[0m\u001b[0m\n\u001b[0;32m   1899\u001b[0m         \u001b[1;32mif\u001b[0m \u001b[0mpre_doc\u001b[0m \u001b[1;32mis\u001b[0m \u001b[1;32mNone\u001b[0m\u001b[1;33m:\u001b[0m\u001b[1;33m\u001b[0m\u001b[0m\n",
      "\u001b[1;32mC:\\Users\\Nick\\Anaconda3\\lib\\site-packages\\matplotlib\\axes\\_axes.py\u001b[0m in \u001b[0;36mplot\u001b[1;34m(self, *args, **kwargs)\u001b[0m\n\u001b[0;32m   1404\u001b[0m         \u001b[0mkwargs\u001b[0m \u001b[1;33m=\u001b[0m \u001b[0mcbook\u001b[0m\u001b[1;33m.\u001b[0m\u001b[0mnormalize_kwargs\u001b[0m\u001b[1;33m(\u001b[0m\u001b[0mkwargs\u001b[0m\u001b[1;33m,\u001b[0m \u001b[0m_alias_map\u001b[0m\u001b[1;33m)\u001b[0m\u001b[1;33m\u001b[0m\u001b[0m\n\u001b[0;32m   1405\u001b[0m \u001b[1;33m\u001b[0m\u001b[0m\n\u001b[1;32m-> 1406\u001b[1;33m         \u001b[1;32mfor\u001b[0m \u001b[0mline\u001b[0m \u001b[1;32min\u001b[0m \u001b[0mself\u001b[0m\u001b[1;33m.\u001b[0m\u001b[0m_get_lines\u001b[0m\u001b[1;33m(\u001b[0m\u001b[1;33m*\u001b[0m\u001b[0margs\u001b[0m\u001b[1;33m,\u001b[0m \u001b[1;33m**\u001b[0m\u001b[0mkwargs\u001b[0m\u001b[1;33m)\u001b[0m\u001b[1;33m:\u001b[0m\u001b[1;33m\u001b[0m\u001b[0m\n\u001b[0m\u001b[0;32m   1407\u001b[0m             \u001b[0mself\u001b[0m\u001b[1;33m.\u001b[0m\u001b[0madd_line\u001b[0m\u001b[1;33m(\u001b[0m\u001b[0mline\u001b[0m\u001b[1;33m)\u001b[0m\u001b[1;33m\u001b[0m\u001b[0m\n\u001b[0;32m   1408\u001b[0m             \u001b[0mlines\u001b[0m\u001b[1;33m.\u001b[0m\u001b[0mappend\u001b[0m\u001b[1;33m(\u001b[0m\u001b[0mline\u001b[0m\u001b[1;33m)\u001b[0m\u001b[1;33m\u001b[0m\u001b[0m\n",
      "\u001b[1;32mC:\\Users\\Nick\\Anaconda3\\lib\\site-packages\\matplotlib\\axes\\_base.py\u001b[0m in \u001b[0;36m_grab_next_args\u001b[1;34m(self, *args, **kwargs)\u001b[0m\n\u001b[0;32m    405\u001b[0m                 \u001b[1;32mreturn\u001b[0m\u001b[1;33m\u001b[0m\u001b[0m\n\u001b[0;32m    406\u001b[0m             \u001b[1;32mif\u001b[0m \u001b[0mlen\u001b[0m\u001b[1;33m(\u001b[0m\u001b[0mremaining\u001b[0m\u001b[1;33m)\u001b[0m \u001b[1;33m<=\u001b[0m \u001b[1;36m3\u001b[0m\u001b[1;33m:\u001b[0m\u001b[1;33m\u001b[0m\u001b[0m\n\u001b[1;32m--> 407\u001b[1;33m                 \u001b[1;32mfor\u001b[0m \u001b[0mseg\u001b[0m \u001b[1;32min\u001b[0m \u001b[0mself\u001b[0m\u001b[1;33m.\u001b[0m\u001b[0m_plot_args\u001b[0m\u001b[1;33m(\u001b[0m\u001b[0mremaining\u001b[0m\u001b[1;33m,\u001b[0m \u001b[0mkwargs\u001b[0m\u001b[1;33m)\u001b[0m\u001b[1;33m:\u001b[0m\u001b[1;33m\u001b[0m\u001b[0m\n\u001b[0m\u001b[0;32m    408\u001b[0m                     \u001b[1;32myield\u001b[0m \u001b[0mseg\u001b[0m\u001b[1;33m\u001b[0m\u001b[0m\n\u001b[0;32m    409\u001b[0m                 \u001b[1;32mreturn\u001b[0m\u001b[1;33m\u001b[0m\u001b[0m\n",
      "\u001b[1;32mC:\\Users\\Nick\\Anaconda3\\lib\\site-packages\\matplotlib\\axes\\_base.py\u001b[0m in \u001b[0;36m_plot_args\u001b[1;34m(self, tup, kwargs)\u001b[0m\n\u001b[0;32m    383\u001b[0m             \u001b[0mx\u001b[0m\u001b[1;33m,\u001b[0m \u001b[0my\u001b[0m \u001b[1;33m=\u001b[0m \u001b[0mindex_of\u001b[0m\u001b[1;33m(\u001b[0m\u001b[0mtup\u001b[0m\u001b[1;33m[\u001b[0m\u001b[1;33m-\u001b[0m\u001b[1;36m1\u001b[0m\u001b[1;33m]\u001b[0m\u001b[1;33m)\u001b[0m\u001b[1;33m\u001b[0m\u001b[0m\n\u001b[0;32m    384\u001b[0m \u001b[1;33m\u001b[0m\u001b[0m\n\u001b[1;32m--> 385\u001b[1;33m         \u001b[0mx\u001b[0m\u001b[1;33m,\u001b[0m \u001b[0my\u001b[0m \u001b[1;33m=\u001b[0m \u001b[0mself\u001b[0m\u001b[1;33m.\u001b[0m\u001b[0m_xy_from_xy\u001b[0m\u001b[1;33m(\u001b[0m\u001b[0mx\u001b[0m\u001b[1;33m,\u001b[0m \u001b[0my\u001b[0m\u001b[1;33m)\u001b[0m\u001b[1;33m\u001b[0m\u001b[0m\n\u001b[0m\u001b[0;32m    386\u001b[0m \u001b[1;33m\u001b[0m\u001b[0m\n\u001b[0;32m    387\u001b[0m         \u001b[1;32mif\u001b[0m \u001b[0mself\u001b[0m\u001b[1;33m.\u001b[0m\u001b[0mcommand\u001b[0m \u001b[1;33m==\u001b[0m \u001b[1;34m'plot'\u001b[0m\u001b[1;33m:\u001b[0m\u001b[1;33m\u001b[0m\u001b[0m\n",
      "\u001b[1;32mC:\\Users\\Nick\\Anaconda3\\lib\\site-packages\\matplotlib\\axes\\_base.py\u001b[0m in \u001b[0;36m_xy_from_xy\u001b[1;34m(self, x, y)\u001b[0m\n\u001b[0;32m    242\u001b[0m         \u001b[1;32mif\u001b[0m \u001b[0mx\u001b[0m\u001b[1;33m.\u001b[0m\u001b[0mshape\u001b[0m\u001b[1;33m[\u001b[0m\u001b[1;36m0\u001b[0m\u001b[1;33m]\u001b[0m \u001b[1;33m!=\u001b[0m \u001b[0my\u001b[0m\u001b[1;33m.\u001b[0m\u001b[0mshape\u001b[0m\u001b[1;33m[\u001b[0m\u001b[1;36m0\u001b[0m\u001b[1;33m]\u001b[0m\u001b[1;33m:\u001b[0m\u001b[1;33m\u001b[0m\u001b[0m\n\u001b[0;32m    243\u001b[0m             raise ValueError(\"x and y must have same first dimension, but \"\n\u001b[1;32m--> 244\u001b[1;33m                              \"have shapes {} and {}\".format(x.shape, y.shape))\n\u001b[0m\u001b[0;32m    245\u001b[0m         \u001b[1;32mif\u001b[0m \u001b[0mx\u001b[0m\u001b[1;33m.\u001b[0m\u001b[0mndim\u001b[0m \u001b[1;33m>\u001b[0m \u001b[1;36m2\u001b[0m \u001b[1;32mor\u001b[0m \u001b[0my\u001b[0m\u001b[1;33m.\u001b[0m\u001b[0mndim\u001b[0m \u001b[1;33m>\u001b[0m \u001b[1;36m2\u001b[0m\u001b[1;33m:\u001b[0m\u001b[1;33m\u001b[0m\u001b[0m\n\u001b[0;32m    246\u001b[0m             raise ValueError(\"x and y can be no greater than 2-D, but have \"\n",
      "\u001b[1;31mValueError\u001b[0m: x and y must have same first dimension, but have shapes (16,) and (13,)"
     ]
    }
   ],
   "source": [
    "algo_to_metric_to_group_to = p_b_curve(\n",
    "    samples_df,\n",
    "    metrics=metrics,\n",
    "    percents=True,\n",
    "    groups=['non-boycott', 'all', ],\n",
    ")\n",
    "\n",
    "plt.show()"
   ]
  },
  {
   "cell_type": "code",
   "execution_count": null,
   "metadata": {},
   "outputs": [],
   "source": [
    "movie_val = -1 * algo_to_metric_vs_movie_mean['SVD']['ndcg10']\n",
    "print(algo_to_metric_vs_knnbasicitem['SVD']['ndcg10']/movie_val)\n",
    "for group in ['all', 'non-boycott']:\n",
    "    found_item, found_user = False, False\n",
    "    found_itembasic = False\n",
    "    for x in range(0, NUM_RATINGS, NUM_RATINGS//10000):\n",
    "        y = algo_to_metric_to_group_to['SVD']['ndcg10'][group]['interp_ratings'](x)\n",
    "        #print(x, y)\n",
    "        \n",
    "        if not found_item:\n",
    "            if y <= algo_to_metric_vs_knn['SVD']['ndcg10']/movie_val:\n",
    "                print(group + ' found item:')\n",
    "                print(x/NUM_RATINGS)\n",
    "                found_item = True\n",
    "        if not found_user:\n",
    "            if y <= algo_to_metric_vs_user['SVD']['ndcg10']/movie_val:\n",
    "                print(group + ' found user')\n",
    "                print(x/NUM_RATINGS)\n",
    "                found_user = True\n",
    "        if not found_itembasic:\n",
    "            if y <= algo_to_metric_vs_knnbasicitem['SVD']['ndcg10']/movie_val:\n",
    "                print(group + ' found knnbasicitem')\n",
    "                print(x/NUM_RATINGS)\n",
    "                found_itembasic = True"
   ]
  },
  {
   "cell_type": "code",
   "execution_count": null,
   "metadata": {
    "collapsed": true
   },
   "outputs": [],
   "source": [
    "def half_users(df):\n",
    "    return df[(\n",
    "        (df.userfrac == 0.5) & (df.ratingfrac == 1.0) \n",
    "        #& (df.algo_name == 'SVD')\n",
    "    )]"
   ]
  },
  {
   "cell_type": "code",
   "execution_count": null,
   "metadata": {
    "collapsed": true
   },
   "outputs": [],
   "source": [
    "def half_ratings(df):\n",
    "    return df[(\n",
    "        (df.userfrac == 1.0) & (df.ratingfrac == 0.5)\n",
    "    )]"
   ]
  },
  {
   "cell_type": "code",
   "execution_count": null,
   "metadata": {
    "collapsed": true
   },
   "outputs": [],
   "source": [
    "def all_users_all_ratings(df):\n",
    "    return df[(\n",
    "        (df.userfrac == 1.0) & (df.ratingfrac == 1.0)\n",
    "    )]"
   ]
  },
  {
   "cell_type": "code",
   "execution_count": null,
   "metadata": {},
   "outputs": [],
   "source": [
    "normed_org_df = org_df.copy()\n",
    "for metric in metrics:\n",
    "    for algo_name in algo_names:\n",
    "        movie_val = abs(algo_to_metric_vs_movie_mean[algo_name][metric])\n",
    "        for group in ['non-boycott', 'like-boycott']:\n",
    "            col = 'percent_increase_{}_{}'.format(metric, group)\n",
    "            if normalize:\n",
    "                normed_org_df.loc[\n",
    "                    normed_org_df.algo_name == algo_name, col\n",
    "                ] = org_df.loc[org_df.algo_name == algo_name, col] / movie_val\n",
    "                \n",
    "for metric in metrics:\n",
    "    expec = []\n",
    "    col = 'percent_increase_{}_expected'.format(metric)\n",
    "    for i, row in normed_org_df.iterrows():\n",
    "        x = row.num_ratings_missing\n",
    "        expec.append(float(algo_to_metric_to_group_to[row.algo_name][metric]['non-boycott']['interp_ratings'](x)))\n",
    "    kwargs = {col: expec}\n",
    "    normed_org_df = normed_org_df.assign(**kwargs)"
   ]
  },
  {
   "cell_type": "code",
   "execution_count": null,
   "metadata": {
    "collapsed": true
   },
   "outputs": [],
   "source": [
    "NORMALIZE = True"
   ]
  },
  {
   "cell_type": "code",
   "execution_count": 22,
   "metadata": {
    "collapsed": true
   },
   "outputs": [],
   "source": [
    "def plot2(\n",
    "        df, metrics, groups,\n",
    "        percents=False, kind='bar', size=4, flip=False, filename='tmp.svg', save=False,\n",
    "        palette=None, aspect=1\n",
    "    ):\n",
    "    #df = input_df.copy()\n",
    "\n",
    "    print('len of df', len(df.index))\n",
    "    for name in list(set(df.name)):\n",
    "        tmp = df[df.name == name].num_ratings_missing.mean()\n",
    "        print(name)\n",
    "        print(tmp)\n",
    "        print(algo_to_metric_to_group_to['SVD']['ndcg10']['non-boycott']['interp_ratings'](tmp))\n",
    "    increase_cols = select_cols(list(df.columns.values), metrics, groups, percents)\n",
    "    increase_cols = [x for x in increase_cols if 'vanilla' not in x]\n",
    "    longform = df[increase_cols + id_vars].melt(\n",
    "        id_vars = id_vars,\n",
    "        var_name='increase_type'\n",
    "    )\n",
    "    longform = fill_in_longform(longform)\n",
    "    if flip:\n",
    "        x = \"name\"\n",
    "        y = \"value\"\n",
    "    else:\n",
    "        x = \"value\"\n",
    "        y = \"name\"\n",
    "    if '?' in filename:\n",
    "        legend = False\n",
    "    else:\n",
    "        legend = True\n",
    "    grid = sns.factorplot(\n",
    "        x=x, y=y, hue=\"group\", data=longform,\n",
    "        size=size, kind=kind, col='algo_name', row='metric',\n",
    "        sharex=False,\n",
    "        row_order=metrics,\n",
    "        legend=legend,\n",
    "        legend_out=True,\n",
    "        palette=palette,\n",
    "        aspect=aspect\n",
    "    )\n",
    "    a = grid.axes\n",
    "    \n",
    "#     for metric in metrics:\n",
    "#         for col in increase_cols:\n",
    "#             if metric in col and 'expected' in col:\n",
    "#                 expec = col\n",
    "    \n",
    "    name_to_ratios = defaultdict(list)\n",
    "    diffs = defaultdict(list)\n",
    "    name_to_counts = defaultdict(lambda: defaultdict(int))\n",
    "    for x in grid.facet_data():\n",
    "        i_row, i_col, i_hue = x[0]\n",
    "        metric = grid.row_names[i_row]\n",
    "        algo_name = grid.col_names[i_col]\n",
    "        if grid.hue_names:\n",
    "            group = grid.hue_names[i_hue]\n",
    "        val = algo_to_metric_vs_movie_mean[algo_name][metric]\n",
    "        \n",
    "        \n",
    "        if NORMALIZE:\n",
    "            movie_val = abs(algo_to_metric_vs_movie_mean[algo_name][metric])\n",
    "            val /= movie_val\n",
    "        \n",
    "        \n",
    "        if flip:\n",
    "            grid.axes[i_row, i_col].axhline(0, color='0.7', linestyle='-')\n",
    "            #grid.axes[i_row, i_col].axhline(val, color='0.7', linestyle='-')\n",
    "        else:\n",
    "            grid.axes[i_row, i_col].axvline(0, color='0.7', linestyle='-')\n",
    "            grid.axes[i_row, i_col].axvline(val, color='0.7', linestyle='-')\n",
    "        \n",
    "        for col in increase_cols:\n",
    "            if metric == col.split('_')[-2]:\n",
    "                if 'expected' in col:\n",
    "                    expec = col\n",
    "                elif 'non-boycott' in col:\n",
    "                    nb = col\n",
    "                elif 'like-boycott' in col:\n",
    "                    lb = col\n",
    "        for name in list(set(longform.name)):\n",
    "            mask = (\n",
    "                (longform.metric == metric) &\n",
    "                (longform.algo_name == algo_name) &\n",
    "                (longform.name == name)\n",
    "            )\n",
    "            \n",
    "            masked = longform[mask]\n",
    "            try:\n",
    "                expec_arr = np.array(masked[masked.increase_type == expec].value)\n",
    "                nb_arr = np.array(masked[masked.increase_type == nb].value)\n",
    "                lb_arr = np.array(masked[masked.increase_type == lb].value)\n",
    "                \n",
    "                expec_mean = np.mean(expec_arr)\n",
    "                nb_mean = np.mean(nb_arr)\n",
    "                lb_mean = np.nanmean(lb_arr)\n",
    "                \n",
    "                ratio = nb_mean / expec_mean\n",
    "                diff = nb_mean - expec_mean\n",
    "                lb_diff = lb_mean - nb_mean\n",
    "                pval = stats.ttest_ind(expec_arr, nb_arr, equal_var=False).pvalue\n",
    "                #lb_vs_nb = stats.ttest_ind(lb_arr, nb_arr, equal_var=False).pvalue\n",
    "                if True:# < 0.05:\n",
    "                    pass\n",
    "#                     if abs(ratio) >= 1.5 and diff < 0:\n",
    "#                         print('Very effective...')\n",
    "#                     elif abs(ratio) <= 0.67 and diff > 0:\n",
    "#                         print('Very ineffective...')\n",
    "#                     else:\n",
    "#                         continue\n",
    "                else:\n",
    "                    continue\n",
    "                \n",
    "                name_to_counts[name]['total'] += 1\n",
    "                \n",
    "                print('{} {} {}, {}, {}'.format(metric, algo_name, name, expec, nb))\n",
    "                print('Ratio: {}, pval: {}'.format(ratio, pval))\n",
    "                name_to_ratios[name].append(ratio)\n",
    "                diffs['nb'].append(lb_diff)\n",
    "                diffs['lb'].append(lb_diff)\n",
    "                name_to_counts[name]['total_sig'] += 1\n",
    "                if diff >= 0:\n",
    "                    name_to_counts[name]['total_less'] += 1\n",
    "                else:\n",
    "                    name_to_counts[name]['total_more'] += 1\n",
    "                print(lb)\n",
    "                print('lb info', lb_diff, lb_mean, nb_mean)\n",
    "                if lb_diff < 0:\n",
    "                    name_to_counts[name]['total_lbless'] += 1\n",
    "            except Exception as err:\n",
    "                print(err)\n",
    "                print(algo_name, metric)\n",
    "    total = 0\n",
    "    total_sig = 0\n",
    "    total_less = 0\n",
    "    total_more = 0\n",
    "    total_lbless = 0\n",
    "    \n",
    "    for name, counts in name_to_counts.items():\n",
    "        total += counts['total']\n",
    "        total_sig += counts['total_sig']\n",
    "        total_less += counts['total_less']\n",
    "        total_more += counts['total_more']\n",
    "        total_lbless += counts['total_lbless']\n",
    "#         print(name)\n",
    "#         print('{} sig, {} less, and {} more out of {} total'.format(\n",
    "#             counts['total_sig'], counts['total_less'],\n",
    "#             counts['total_more'], counts['total'])\n",
    "#         )\n",
    "#         print('Mean:')\n",
    "    print('Totals:')\n",
    "    print('{} lbless, {} sig, {} less, and {} more out of {} total'.format(\n",
    "            total_lbless, total_sig, total_less,\n",
    "            total_more, total)\n",
    "        )\n",
    "    if save:\n",
    "        new_labels = ['Users Similar\\n to Boycotting\\n Users', 'Not Boycotting\\n Users', 'Expected']\n",
    "        for t, l in zip(grid._legend.texts, new_labels): t.set_text(l)\n",
    "        if 'h2' in filename:\n",
    "            grid.set_ylabels(\"\")\n",
    "        else:\n",
    "            grid.set_ylabels(YLABEL)\n",
    "        grid.set_xlabels(\"\")\n",
    "        grid.set_titles(\"\")\n",
    "        plt.savefig(filename, size=(3, 3), bbox_inches='tight', dpi=300)\n",
    "    return grid, (total, total_sig, total_less, total_more, total_lbless), diffs\n"
   ]
  },
  {
   "cell_type": "code",
   "execution_count": 23,
   "metadata": {
    "collapsed": true
   },
   "outputs": [],
   "source": [
    "normed_org_df = normed_org_df[normed_org_df.algo_name == 'SVD']"
   ]
  },
  {
   "cell_type": "code",
   "execution_count": 24,
   "metadata": {
    "collapsed": true
   },
   "outputs": [],
   "source": [
    "gender_boycotts = normed_org_df[normed_org_df['type'] == 'gender']\n",
    "age_boycotts = normed_org_df[normed_org_df['type'] == 'age']\n",
    "occupation_boycotts = normed_org_df[normed_org_df['type'] == 'occupation']\n",
    "power_boycotts = normed_org_df[normed_org_df['type'] == 'power']\n",
    "genre_boycotts = normed_org_df[normed_org_df['type'] == 'genre']\n",
    "\n",
    "# removing these from contention\n",
    "# genre_strict_boycotts = org_df[org_df['type'] == 'genre_strict']\n",
    "# state_boycotts = org_df[org_df['type'] == 'state']"
   ]
  },
  {
   "cell_type": "code",
   "execution_count": 25,
   "metadata": {
    "collapsed": true
   },
   "outputs": [],
   "source": [
    "palette={'all': 'b', 'non-boycott': 'g', 'expected': 'y', 'like-boycott': 'c'}\n",
    "\n",
    "def plot_all_three_scenarios(df, size=6):\n",
    "    if False:\n",
    "        all_df = all_users_all_ratings(df)\n",
    "        if not all_df.empty:\n",
    "            grid, (total, total_sig, total_less, total_more, total_lbless) = plot2(\n",
    "                all_users_all_ratings(df),\n",
    "                metrics=metrics,\n",
    "                percents=True,\n",
    "                groups=['all', 'non-boycott', 'expected'],\n",
    "                size=size,\n",
    "                palette=palette\n",
    "            )\n",
    "            grid.fig.suptitle('All Users, All Ratings')\n",
    "            print('total1', total)\n",
    "    else:\n",
    "        total, total_sig, total_less, total_more, total_lbless = 0, 0, 0, 0, 0\n",
    "    \n",
    "    half_users_df = half_users(df)\n",
    "    if not half_users_df.empty:\n",
    "        grid, (total2, total_sig2, total_less2, total_more2, total_lbless2), ntd = plot2(\n",
    "            half_users_df,\n",
    "            metrics=metrics,\n",
    "            percents=True,\n",
    "            groups=['non-boycott', 'like-boycott', 'expected'],\n",
    "            size=size,\n",
    "            kind='bar',\n",
    "            palette=palette\n",
    "        )\n",
    "        grid.fig.suptitle('Half Users')\n",
    "        total += total2\n",
    "        total_sig += total_sig2\n",
    "        total_less += total_less2\n",
    "        total_more += total_more2\n",
    "        total_lbless += total_lbless2\n",
    "        print('total2', total2, total)\n",
    "        \n",
    "#     half_ratings_df = half_ratings(df)\n",
    "#     if not half_ratings_df.empty:\n",
    "#         plot2(\n",
    "#             half_ratings_df,\n",
    "#             metrics=metrics,\n",
    "#             percents=True,\n",
    "#             groups=['non-boycott', 'boycott', 'like-boycott', 'expected'],\n",
    "#             size=size,\n",
    "#         ).fig.suptitle('Half Ratings')\n",
    "#     plt.show()\n",
    "    \n",
    "    return (total, total_sig, total_less, total_more, total_lbless), ntd"
   ]
  },
  {
   "cell_type": "code",
   "execution_count": 26,
   "metadata": {
    "collapsed": true
   },
   "outputs": [],
   "source": [
    "running_totals = {\n",
    "    'total': 0,\n",
    "    'total_sig': 0,\n",
    "    'total_less': 0,\n",
    "    'total_more': 0,\n",
    "    'total_lbless': 0\n",
    "}\n",
    "lbdiffs = []\n",
    "diffs = []"
   ]
  },
  {
   "cell_type": "markdown",
   "metadata": {},
   "source": [
    "# Make plots for paper here."
   ]
  },
  {
   "cell_type": "code",
   "execution_count": 27,
   "metadata": {
    "scrolled": false
   },
   "outputs": [
    {
     "name": "stdout",
     "output_type": "stream",
     "text": [
      "len of df 80\n",
      "power users\n",
      "190338.05\n",
      "-0.11302769985665324\n",
      "male users\n",
      "375947.55\n",
      "-0.29115748811954834\n",
      "female users\n",
      "124734.0\n",
      "-0.059993512414410935\n",
      "fans of film-noir\n",
      "63147.6\n",
      "-0.016559214068952215\n"
     ]
    },
    {
     "name": "stderr",
     "output_type": "stream",
     "text": [
      "C:\\Users\\Nick\\Anaconda3\\lib\\site-packages\\seaborn\\categorical.py:1468: FutureWarning: remove_na is deprecated and is a private function. Do not use.\n",
      "  stat_data = remove_na(group_data[hue_mask])\n"
     ]
    },
    {
     "name": "stdout",
     "output_type": "stream",
     "text": [
      "ndcg10 SVD power users, percent_increase_ndcg10_expected, percent_increase_ndcg10_non-boycott\n",
      "Ratio: 1.6748878353682681, pval: 1.2790282191657302e-07\n",
      "percent_increase_ndcg10_like-boycott\n",
      "lb info -0.28887224849680154 -0.4781868632007346 -0.18931461470393307\n",
      "ndcg10 SVD male users, percent_increase_ndcg10_expected, percent_increase_ndcg10_non-boycott\n",
      "Ratio: 1.1214421607655032, pval: 0.01065906164058103\n",
      "percent_increase_ndcg10_like-boycott\n",
      "lb info -0.09246718700146117 -0.4190639421654413 -0.3265967551639801\n",
      "ndcg10 SVD female users, percent_increase_ndcg10_expected, percent_increase_ndcg10_non-boycott\n",
      "Ratio: 0.6160046559005126, pval: 0.013040910971429799\n",
      "percent_increase_ndcg10_like-boycott\n",
      "lb info -0.018481621472703734 -0.05544490753163141 -0.03696328605892767\n",
      "ndcg10 SVD fans of film-noir, percent_increase_ndcg10_expected, percent_increase_ndcg10_non-boycott\n",
      "Ratio: 3.257517102735211, pval: 2.487621635325052e-05\n",
      "percent_increase_ndcg10_like-boycott\n",
      "lb info -0.18599859814631137 -0.23996154790285948 -0.0539629497565481\n",
      "Totals:\n",
      "4 lbless, 4 sig, 1 less, and 3 more out of 4 total\n"
     ]
    },
    {
     "data": {
      "image/png": "[encoded data removed]",
      "text/plain": [
       "<matplotlib.figure.Figure at 0x19b8c3d6860>"
      ]
     },
     "metadata": {},
     "output_type": "display_data"
    }
   ],
   "source": [
    "\n",
    "df1 = half_users(gender_boycotts)\n",
    "df2 = half_users(genre_boycotts)\n",
    "df3 = half_users(power_boycotts)\n",
    "#df4 = all_users_all_ratings(occupation_boycotts)\n",
    "\n",
    "grid, (total, total_sig, total_less, total_more, total_lbless), ntd = plot2(\n",
    "    pd.concat([df1[\n",
    "        #(df1.name.str.contains('female')) & \n",
    "        (df1.algo_name == 'SVD')],\n",
    "        df2[(df2.name.str.contains('film-noir')) & (df2.algo_name == 'SVD')],\n",
    "        df3[(df3.name.str.contains('power')) & (df3.algo_name == 'SVD')]\n",
    "    \n",
    "    ]),\n",
    "    metrics=['ndcg10'],\n",
    "    percents=True,\n",
    "    groups=['non-boycott', 'like-boycott', 'expected'],\n",
    "    size=3.5,\n",
    "    kind='bar',\n",
    "    flip=True,\n",
    "    filename='h1.svg', save=True,\n",
    "    palette=palette,\n",
    "    aspect=1.5\n",
    ")\n",
    "\n",
    "# grid, (total, total_sig, total_less, total_more) = plot2(\n",
    "#     df2[(df2.name.str.contains('Film-Noir')) & (df2.algo_name == 'SVD')],\n",
    "#     metrics=['ndcg10'],\n",
    "#     percents=True,\n",
    "#     groups=['non-boycott', 'expected', 'like-boycott',],\n",
    "#     size=2.5,\n",
    "#     kind='bar',\n",
    "#     flip=True,\n",
    "#     filename='h2.svg', save=True,\n",
    "#     palette=palette\n",
    "# )\n",
    "\n",
    "# grid, (total, total_sig, total_less, total_more) = plot2(\n",
    "#     df3[(df3.name.str.contains('power')) & (df3.algo_name == 'SVD')],\n",
    "#     metrics=['ndcg10'],\n",
    "#     percents=True,\n",
    "#     groups=['non-boycott', 'expected', 'like-boycott',],\n",
    "#     size=2.5,\n",
    "#     kind='bar',\n",
    "#     flip=True,\n",
    "#     filename='h3.svg', save=True,\n",
    "#     palette=palette\n",
    "# )\n",
    "\n",
    "\n",
    "\n",
    "\n",
    "plt.show()\n"
   ]
  },
  {
   "cell_type": "markdown",
   "metadata": {},
   "source": [
    "## Let's do gender first..."
   ]
  },
  {
   "cell_type": "code",
   "execution_count": 28,
   "metadata": {},
   "outputs": [
    {
     "data": {
      "text/plain": [
       "0.24941587208273472"
      ]
     },
     "execution_count": 28,
     "metadata": {},
     "output_type": "execute_result"
    }
   ],
   "source": [
    "124734.0*2 / NUM_RATINGS"
   ]
  },
  {
   "cell_type": "code",
   "execution_count": 29,
   "metadata": {
    "scrolled": false
   },
   "outputs": [
    {
     "name": "stdout",
     "output_type": "stream",
     "text": [
      "len of df 40\n",
      "male users\n",
      "375947.55\n",
      "-0.29115748811954834\n",
      "female users\n",
      "124734.0\n",
      "-0.059993512414410935\n"
     ]
    },
    {
     "name": "stderr",
     "output_type": "stream",
     "text": [
      "C:\\Users\\Nick\\Anaconda3\\lib\\site-packages\\seaborn\\categorical.py:1468: FutureWarning: remove_na is deprecated and is a private function. Do not use.\n",
      "  stat_data = remove_na(group_data[hue_mask])\n"
     ]
    },
    {
     "name": "stdout",
     "output_type": "stream",
     "text": [
      "ndcg10 SVD male users, percent_increase_ndcg10_expected, percent_increase_ndcg10_non-boycott\n",
      "Ratio: 1.1214421607655032, pval: 0.01065906164058103\n",
      "percent_increase_ndcg10_like-boycott\n",
      "lb info -0.09246718700146117 -0.4190639421654413 -0.3265967551639801\n",
      "ndcg10 SVD female users, percent_increase_ndcg10_expected, percent_increase_ndcg10_non-boycott\n",
      "Ratio: 0.6160046559005126, pval: 0.013040910971429799\n",
      "percent_increase_ndcg10_like-boycott\n",
      "lb info -0.018481621472703734 -0.05544490753163141 -0.03696328605892767\n",
      "Totals:\n",
      "2 lbless, 2 sig, 1 less, and 1 more out of 2 total\n",
      "total2 2 2\n",
      "[-0.09246718700146117, -0.018481621472703734]\n"
     ]
    },
    {
     "data": {
      "image/png": "[encoded data removed]",
      "text/plain": [
       "<matplotlib.figure.Figure at 0x19b89be3048>"
      ]
     },
     "metadata": {},
     "output_type": "display_data"
    }
   ],
   "source": [
    "(total, total_sig, total_less, total_more, total_lbless), ntd = plot_all_three_scenarios(gender_boycotts)\n",
    "running_totals['total'] += total\n",
    "running_totals['total_sig'] += total_sig\n",
    "running_totals['total_less'] += total_less\n",
    "running_totals['total_more'] += total_more\n",
    "running_totals['total_lbless'] += total_lbless\n",
    "lbdiffs += ntd['lb']\n",
    "diffs += ntd['nb']\n",
    "print(diffs)\n",
    "plt.show()"
   ]
  },
  {
   "cell_type": "markdown",
   "metadata": {},
   "source": [
    "# Power Boycotts\n",
    "\n",
    "Below, the power boycotts show a very weird results. Warrants double checks."
   ]
  },
  {
   "cell_type": "code",
   "execution_count": 30,
   "metadata": {
    "scrolled": false
   },
   "outputs": [
    {
     "name": "stdout",
     "output_type": "stream",
     "text": [
      "len of df 40\n",
      "bottom 10% contributors\n",
      "7213.2\n",
      "0.016894784522087643\n",
      "power users\n",
      "190338.05\n",
      "-0.11302769985665324\n"
     ]
    },
    {
     "name": "stderr",
     "output_type": "stream",
     "text": [
      "C:\\Users\\Nick\\Anaconda3\\lib\\site-packages\\seaborn\\categorical.py:1468: FutureWarning: remove_na is deprecated and is a private function. Do not use.\n",
      "  stat_data = remove_na(group_data[hue_mask])\n"
     ]
    },
    {
     "name": "stdout",
     "output_type": "stream",
     "text": [
      "ndcg10 SVD bottom 10% contributors, percent_increase_ndcg10_expected, percent_increase_ndcg10_non-boycott\n",
      "Ratio: 4.106074007079791, pval: 1.4556953064024207e-07\n",
      "percent_increase_ndcg10_like-boycott\n",
      "lb info -1.8078085916799327 -1.7384373593330684 0.06937123234686426\n",
      "ndcg10 SVD power users, percent_increase_ndcg10_expected, percent_increase_ndcg10_non-boycott\n",
      "Ratio: 1.6748878353682681, pval: 1.2790282191657302e-07\n",
      "percent_increase_ndcg10_like-boycott\n",
      "lb info -0.28887224849680154 -0.4781868632007346 -0.18931461470393307\n",
      "Totals:\n",
      "2 lbless, 2 sig, 1 less, and 1 more out of 2 total\n",
      "total2 2 2\n"
     ]
    },
    {
     "data": {
      "image/png": "[encoded data removed]",
      "text/plain": [
       "<matplotlib.figure.Figure at 0x19b85005208>"
      ]
     },
     "metadata": {},
     "output_type": "display_data"
    }
   ],
   "source": [
    "(total, total_sig, total_less, total_more, total_lbless), ntd = plot_all_three_scenarios(power_boycotts)\n",
    "running_totals['total'] += total\n",
    "running_totals['total_sig'] += total_sig\n",
    "running_totals['total_less'] += total_less\n",
    "running_totals['total_more'] += total_more\n",
    "running_totals['total_lbless'] += total_lbless\n",
    "lbdiffs += ntd['lb']\n",
    "diffs += ntd['nb']\n",
    "\n",
    "\n",
    "plt.show()"
   ]
  },
  {
   "cell_type": "code",
   "execution_count": 31,
   "metadata": {
    "scrolled": false
   },
   "outputs": [
    {
     "name": "stdout",
     "output_type": "stream",
     "text": [
      "len of df 140\n",
      "50-55\n",
      "36205.35\n",
      "0.0002670488847310434\n",
      "45-49\n",
      "41306.85\n",
      "-0.002817392761531658\n",
      "35-44\n",
      "99619.1\n",
      "-0.0414457702732811\n",
      "56+\n",
      "19843.45\n",
      "0.009839458617814266\n",
      "18-24\n",
      "91701.25\n",
      "-0.035836815463781986\n",
      "under 18\n",
      "13785.2\n",
      "0.013259936018357366\n",
      "25-34\n",
      "198664.2\n",
      "-0.12004309077818827\n"
     ]
    },
    {
     "name": "stderr",
     "output_type": "stream",
     "text": [
      "C:\\Users\\Nick\\Anaconda3\\lib\\site-packages\\seaborn\\categorical.py:1468: FutureWarning: remove_na is deprecated and is a private function. Do not use.\n",
      "  stat_data = remove_na(group_data[hue_mask])\n"
     ]
    },
    {
     "name": "stdout",
     "output_type": "stream",
     "text": [
      "ndcg10 SVD 50-55, percent_increase_ndcg10_expected, percent_increase_ndcg10_non-boycott\n",
      "Ratio: 8.840861645242331, pval: 0.7651921426667849\n",
      "percent_increase_ndcg10_like-boycott\n",
      "lb info 0.03725577605712509 0.03958658910548184 0.002330813048356751\n",
      "ndcg10 SVD 45-49, percent_increase_ndcg10_expected, percent_increase_ndcg10_non-boycott\n",
      "Ratio: -3.6193987771250065, pval: 0.08384491015167295\n",
      "percent_increase_ndcg10_like-boycott\n",
      "lb info 0.0671099469261467 0.07731955933592581 0.010209612409779103\n",
      "ndcg10 SVD 35-44, percent_increase_ndcg10_expected, percent_increase_ndcg10_non-boycott\n",
      "Ratio: 0.8315249171582008, pval: 0.429562017456398\n",
      "percent_increase_ndcg10_like-boycott\n",
      "lb info -0.01783358636841014 -0.052305911199808576 -0.034472324831398435\n",
      "ndcg10 SVD 56+, percent_increase_ndcg10_expected, percent_increase_ndcg10_non-boycott\n",
      "Ratio: 3.387121467921116, pval: 0.00011914575878212035\n",
      "percent_increase_ndcg10_like-boycott\n",
      "lb info 0.005600567202154502 0.038924118926873565 0.03332355172471906\n",
      "ndcg10 SVD 18-24, percent_increase_ndcg10_expected, percent_increase_ndcg10_non-boycott\n",
      "Ratio: 1.194736546098981, pval: 0.4939365877325631\n",
      "percent_increase_ndcg10_like-boycott\n",
      "lb info -0.10665541038129875 -0.1494814204720425 -0.042826010090743744\n",
      "ndcg10 SVD under 18, percent_increase_ndcg10_expected, percent_increase_ndcg10_non-boycott\n",
      "Ratio: 1.7524109824403697, pval: 0.1706909447908615\n",
      "percent_increase_ndcg10_like-boycott\n",
      "lb info -0.08670799380536948 -0.06347230086410763 0.02323569294126184\n",
      "ndcg10 SVD 25-34, percent_increase_ndcg10_expected, percent_increase_ndcg10_non-boycott\n",
      "Ratio: 1.0073039006782603, pval: 0.9350582288553033\n",
      "percent_increase_ndcg10_like-boycott\n",
      "lb info -0.004790831924629119 -0.125718257427811 -0.12092742550318189\n",
      "Totals:\n",
      "4 lbless, 7 sig, 5 less, and 2 more out of 7 total\n",
      "total2 7 7\n",
      "[-0.09246718700146117, -0.018481621472703734, -1.8078085916799327, -0.28887224849680154, 0.03725577605712509, 0.0671099469261467, -0.01783358636841014, 0.005600567202154502, -0.10665541038129875, -0.08670799380536948, -0.004790831924629119]\n"
     ]
    },
    {
     "data": {
      "image/png": "[encoded data removed]",
      "text/plain": [
       "<matplotlib.figure.Figure at 0x19b816b3898>"
      ]
     },
     "metadata": {},
     "output_type": "display_data"
    }
   ],
   "source": [
    "(total, total_sig, total_less, total_more, total_lbless), ntd = plot_all_three_scenarios(age_boycotts)\n",
    "running_totals['total'] += total\n",
    "running_totals['total_sig'] += total_sig\n",
    "running_totals['total_less'] += total_less\n",
    "running_totals['total_more'] += total_more\n",
    "running_totals['total_lbless'] += total_lbless\n",
    "lbdiffs += ntd['lb']\n",
    "diffs += ntd['nb']\n",
    "print(diffs)\n",
    "\n",
    "\n",
    "plt.show()\n"
   ]
  },
  {
   "cell_type": "code",
   "execution_count": 32,
   "metadata": {
    "scrolled": false
   },
   "outputs": [
    {
     "name": "stdout",
     "output_type": "stream",
     "text": [
      "len of df 420\n",
      "clerical/admin\n",
      "15329.5\n",
      "0.012394383523412406\n",
      "homemaker\n",
      "5604.3\n",
      "0.017772634234005998\n",
      "technician/engineer\n",
      "36898.3\n",
      "-0.00014913314136535873\n",
      "artist\n",
      "24724.9\n",
      "0.007034704766803539\n",
      "lawyer\n",
      "9662.6\n",
      "0.015549275894638611\n",
      "writer\n",
      "30434.9\n",
      "0.003698739956518131\n",
      "customer service\n",
      "10758.65\n",
      "0.014943648275797502\n",
      "tradesman/craftsman\n",
      "5999.6\n",
      "0.01755738769204081\n",
      "academic/educator\n",
      "42088.6\n",
      "-0.003294244197564968\n",
      "self-employed\n",
      "23266.25\n",
      "0.007877359709629186\n",
      "scientist\n",
      "11196.6\n",
      "0.014701044316170423\n",
      "retired\n",
      "6891.25\n",
      "0.01707082504122328\n",
      "college/grad student\n",
      "66676.0\n",
      "-0.01886084657109758\n",
      "doctor/health care\n",
      "18143.7\n",
      "0.010805890020267672\n",
      "k-12 student\n",
      "11371.7\n",
      "0.01460394916313386\n",
      "other\n",
      "65295.8\n",
      "-0.017957816077948035\n",
      "executive/managerial\n",
      "52689.75\n",
      "-0.009870765705463143\n",
      "farmer\n",
      "1136.3\n",
      "0.02018571019258739\n",
      "unemployed\n",
      "7810.05"
     ]
    },
    {
     "name": "stderr",
     "output_type": "stream",
     "text": [
      "C:\\Users\\Nick\\Anaconda3\\lib\\site-packages\\seaborn\\categorical.py:1468: FutureWarning: remove_na is deprecated and is a private function. Do not use.\n",
      "  stat_data = remove_na(group_data[hue_mask])\n"
     ]
    },
    {
     "name": "stdout",
     "output_type": "stream",
     "text": [
      "\n",
      "0.016567930109109882\n",
      "sales/marketing\n",
      "24670.95\n",
      "0.007065940522179754\n",
      "programmer\n",
      "28882.55\n",
      "0.004611557896126304\n",
      "ndcg10 SVD clerical/admin, percent_increase_ndcg10_expected, percent_increase_ndcg10_non-boycott\n",
      "Ratio: 1.6748908952801682, pval: 0.312134295326039\n",
      "percent_increase_ndcg10_like-boycott\n",
      "lb info 0.18830218055011422 0.2090593376104927 0.02075715706037847\n",
      "ndcg10 SVD homemaker, percent_increase_ndcg10_expected, percent_increase_ndcg10_non-boycott\n",
      "Ratio: 2.384947193782035, pval: 0.02889758785135035\n",
      "percent_increase_ndcg10_like-boycott\n",
      "lb info 0.06710552661632299 0.10949153081197541 0.042386004195652416\n",
      "ndcg10 SVD technician/engineer, percent_increase_ndcg10_expected, percent_increase_ndcg10_non-boycott\n",
      "Ratio: -93.35719785826734, pval: 0.17357366050434014\n",
      "percent_increase_ndcg10_like-boycott\n",
      "lb info 0.03040320224107417 0.04469946131479534 0.01429625907372117\n",
      "ndcg10 SVD artist, percent_increase_ndcg10_expected, percent_increase_ndcg10_non-boycott\n",
      "Ratio: 1.5487971770285718, pval: 0.6604743616112319\n",
      "percent_increase_ndcg10_like-boycott\n",
      "lb info -0.12862054642906107 -0.11772826363450868 0.010892282794552397\n",
      "ndcg10 SVD lawyer, percent_increase_ndcg10_expected, percent_increase_ndcg10_non-boycott\n",
      "Ratio: 1.6765361886620034, pval: 0.28033291521278114\n",
      "percent_increase_ndcg10_like-boycott\n",
      "lb info -0.07695988762636485 -0.050891443218283275 0.02606844440808157\n",
      "ndcg10 SVD writer, percent_increase_ndcg10_expected, percent_increase_ndcg10_non-boycott\n",
      "Ratio: 5.96010710303768, pval: 0.1018521875757955\n",
      "percent_increase_ndcg10_like-boycott\n",
      "lb info 0.0158120717766648 0.0378364165525516 0.0220243447758868\n",
      "ndcg10 SVD customer service, percent_increase_ndcg10_expected, percent_increase_ndcg10_non-boycott\n",
      "Ratio: 1.9643028471175035, pval: 0.11612182214875132\n",
      "percent_increase_ndcg10_like-boycott\n",
      "lb info 0.12973816906022584 0.1590882244911684 0.029350055430942566\n",
      "ndcg10 SVD tradesman/craftsman, percent_increase_ndcg10_expected, percent_increase_ndcg10_non-boycott\n",
      "Ratio: 1.262849854266215, pval: 0.6361658891564603\n",
      "percent_increase_ndcg10_like-boycott\n",
      "lb info -0.11981121769160884 -0.09764002861035093 0.022171189081257914\n",
      "ndcg10 SVD academic/educator, percent_increase_ndcg10_expected, percent_increase_ndcg10_non-boycott\n",
      "Ratio: -1.9128927877081123, pval: 0.2651452416626559\n",
      "percent_increase_ndcg10_like-boycott\n",
      "lb info 0.017013776630921993 0.023323776190466293 0.006309999559544299\n",
      "ndcg10 SVD self-employed, percent_increase_ndcg10_expected, percent_increase_ndcg10_non-boycott\n",
      "Ratio: 2.98486447789391, pval: 0.14532286186785906\n",
      "percent_increase_ndcg10_like-boycott\n",
      "lb info 0.01823189078824342 0.04173859233971762 0.0235067015514742\n",
      "ndcg10 SVD scientist, percent_increase_ndcg10_expected, percent_increase_ndcg10_non-boycott\n",
      "Ratio: 1.6611152998906717, pval: 0.2695846142273832\n",
      "percent_increase_ndcg10_like-boycott\n",
      "lb info 0.21975714140263605 0.24417564867560376 0.024418507272967717\n",
      "ndcg10 SVD retired, percent_increase_ndcg10_expected, percent_increase_ndcg10_non-boycott\n",
      "Ratio: 1.750859747632362, pval: 0.2168252838485975\n",
      "percent_increase_ndcg10_like-boycott\n",
      "lb info 0.18944370395020058 0.2193316713453397 0.02988796739513913\n",
      "ndcg10 SVD college/grad student, percent_increase_ndcg10_expected, percent_increase_ndcg10_non-boycott\n",
      "Ratio: 0.709997102752691, pval: 0.5356965995414043\n",
      "percent_increase_ndcg10_like-boycott\n",
      "lb info 0.0300178843784039 0.016623928613049305 -0.013393955765354593\n",
      "ndcg10 SVD doctor/health care, percent_increase_ndcg10_expected, percent_increase_ndcg10_non-boycott\n",
      "Ratio: 1.5646840717504376, pval: 0.38738785860205394\n",
      "percent_increase_ndcg10_like-boycott\n",
      "lb info 0.02412645355037897 0.0410295898247382 0.01690313627435923\n",
      "ndcg10 SVD k-12 student, percent_increase_ndcg10_expected, percent_increase_ndcg10_non-boycott\n",
      "Ratio: 2.2354774933440695, pval: 0.1083324714355352\n",
      "percent_increase_ndcg10_like-boycott\n",
      "lb info -0.14971281978745732 -0.11706776867952888 0.032645051107928445\n",
      "ndcg10 SVD other, percent_increase_ndcg10_expected, percent_increase_ndcg10_non-boycott\n",
      "Ratio: 0.1323048171333306, pval: 0.1525950151116819\n",
      "percent_increase_ndcg10_like-boycott\n",
      "lb info -0.040142080727386946 -0.04251858028413125 -0.0023764995567443\n",
      "ndcg10 SVD executive/managerial, percent_increase_ndcg10_expected, percent_increase_ndcg10_non-boycott\n",
      "Ratio: 0.35730005666828824, pval: 0.5736151018480502\n",
      "percent_increase_ndcg10_like-boycott\n",
      "lb info -0.06720117720484071 -0.0707303225614343 -0.0035291453565935898\n",
      "ndcg10 SVD farmer, percent_increase_ndcg10_expected, percent_increase_ndcg10_non-boycott\n",
      "Ratio: 1.5602396947692367, pval: 0.19444734430863378\n",
      "percent_increase_ndcg10_like-boycott\n",
      "lb info -0.05357755491307371 -0.02208326373039882 0.03149429118267489\n",
      "ndcg10 SVD unemployed, percent_increase_ndcg10_expected, percent_increase_ndcg10_non-boycott\n",
      "Ratio: 1.4962570494665948, pval: 0.4199603851255549\n",
      "percent_increase_ndcg10_like-boycott\n",
      "lb info -0.042028088755189846 -0.01723913723871271 0.02478895151647714\n",
      "ndcg10 SVD sales/marketing, percent_increase_ndcg10_expected, percent_increase_ndcg10_non-boycott\n",
      "Ratio: 2.509366020288633, pval: 0.286210474564199\n",
      "percent_increase_ndcg10_like-boycott\n",
      "lb info 0.11170746685889991 0.12943180742235919 0.017724340563459274\n",
      "ndcg10 SVD programmer, percent_increase_ndcg10_expected, percent_increase_ndcg10_non-boycott\n",
      "Ratio: 1.351973864401072, pval: 0.8460011630653849\n",
      "percent_increase_ndcg10_like-boycott\n",
      "lb info 0.04821527674238644 0.05444794085491643 0.006232664112529992\n",
      "Totals:\n",
      "8 lbless, 21 sig, 21 less, and 0 more out of 21 total\n",
      "total2 21 21\n"
     ]
    },
    {
     "data": {
      "image/png": "[encoded data removed]",
      "text/plain": [
       "<matplotlib.figure.Figure at 0x19b84eb5710>"
      ]
     },
     "metadata": {},
     "output_type": "display_data"
    }
   ],
   "source": [
    "(total, total_sig, total_less, total_more, total_lbless), ntd = plot_all_three_scenarios(occupation_boycotts)\n",
    "running_totals['total'] += total\n",
    "running_totals['total_sig'] += total_sig\n",
    "running_totals['total_less'] += total_less\n",
    "running_totals['total_more'] += total_more\n",
    "running_totals['total_lbless'] += total_lbless\n",
    "lbdiffs += ntd['lb']\n",
    "diffs += ntd['nb']\n",
    "\n",
    "\n",
    "plt.show()"
   ]
  },
  {
   "cell_type": "code",
   "execution_count": 33,
   "metadata": {
    "scrolled": false
   },
   "outputs": [
    {
     "name": "stdout",
     "output_type": "stream",
     "text": [
      "len of df 360\n",
      "fans of war\n",
      "134025.7\n",
      "-0.06714709979604282\n",
      "fans of action\n",
      "62644.1\n",
      "-0.016232624025317752\n",
      "fans of romance\n",
      "75700.25\n",
      "-0.0248508069103006\n",
      "fans of comedy\n",
      "75372.6\n",
      "-0.024630726729872515\n",
      "fans of animation\n",
      "61326.65\n",
      "-0.01538026137332319\n",
      "fans of thriller\n",
      "82779.25\n",
      "-0.029653532217800316\n",
      "fans of adventure\n",
      "51318.9\n",
      "-0.00900880791876564\n",
      "fans of documentary\n",
      "21881.2\n",
      "0.008673904714887569\n",
      "fans of film-noir\n",
      "63147.6\n",
      "-0.016559214068952215\n",
      "fans of crime\n",
      "88663.9\n",
      "-0.03371551845268055\n",
      "fans of western\n",
      "26131.95\n",
      "0.006218182036130163\n",
      "fans of horror"
     ]
    },
    {
     "name": "stderr",
     "output_type": "stream",
     "text": [
      "C:\\Users\\Nick\\Anaconda3\\lib\\site-packages\\seaborn\\categorical.py:1468: FutureWarning: remove_na is deprecated and is a private function. Do not use.\n",
      "  stat_data = remove_na(group_data[hue_mask])\n"
     ]
    },
    {
     "name": "stdout",
     "output_type": "stream",
     "text": [
      "\n",
      "24414.75\n",
      "0.007214201716090296\n",
      "fans of drama\n",
      "142555.85\n",
      "-0.07385300371253792\n",
      "fans of mystery\n",
      "53860.55\n",
      "-0.010609650353264753\n",
      "fans of fantasy\n",
      "22876.25\n",
      "0.00810200335563384\n",
      "fans of musical\n",
      "60833.5\n",
      "-0.015062017828876392\n",
      "fans of sci-fi\n",
      "50312.6\n",
      "-0.008378251802294298\n",
      "fans of children's\n",
      "42879.55\n",
      "-0.003777841752838483\n",
      "ndcg10 SVD fans of war, percent_increase_ndcg10_expected, percent_increase_ndcg10_non-boycott\n",
      "Ratio: 0.9930371901611053, pval: 0.9591852419934459\n",
      "percent_increase_ndcg10_like-boycott\n",
      "lb info -0.02023056129545972 -0.08691446441453499 -0.06668390311907527\n",
      "ndcg10 SVD fans of action, percent_increase_ndcg10_expected, percent_increase_ndcg10_non-boycott\n",
      "Ratio: 0.39852116294859163, pval: 0.22924720603593013\n",
      "percent_increase_ndcg10_like-boycott\n",
      "lb info -0.0605432597126603 -0.06701414308532642 -0.006470883372666124\n",
      "ndcg10 SVD fans of romance, percent_increase_ndcg10_expected, percent_increase_ndcg10_non-boycott\n",
      "Ratio: 0.781235153361706, pval: 0.500003630725431\n",
      "percent_increase_ndcg10_like-boycott\n",
      "lb info -0.15113198044458626 -0.1705500795940043 -0.019418099149418062\n",
      "ndcg10 SVD fans of comedy, percent_increase_ndcg10_expected, percent_increase_ndcg10_non-boycott\n",
      "Ratio: 0.4383504876016627, pval: 0.12376988227464315\n",
      "percent_increase_ndcg10_like-boycott\n",
      "lb info -0.012905384227163358 -0.023704355686516732 -0.010798971459353374\n",
      "ndcg10 SVD fans of animation, percent_increase_ndcg10_expected, percent_increase_ndcg10_non-boycott\n",
      "Ratio: 1.7201510515593854, pval: 0.13785520925786515\n",
      "percent_increase_ndcg10_like-boycott\n",
      "lb info 0.06997368163316352 0.043506617245821465 -0.026467064387342053\n",
      "ndcg10 SVD fans of thriller, percent_increase_ndcg10_expected, percent_increase_ndcg10_non-boycott\n",
      "Ratio: 0.7174144234767519, pval: 0.30818457334196464\n",
      "percent_increase_ndcg10_like-boycott\n",
      "lb info -0.09524477252282793 -0.11652193193654739 -0.02127715941371947\n",
      "ndcg10 SVD fans of adventure, percent_increase_ndcg10_expected, percent_increase_ndcg10_non-boycott\n",
      "Ratio: 1.7239941085939274, pval: 0.4207965908977862\n",
      "percent_increase_ndcg10_like-boycott\n",
      "lb info -0.03386882841003801 -0.04940388557326249 -0.01553505716322448\n",
      "ndcg10 SVD fans of documentary, percent_increase_ndcg10_expected, percent_increase_ndcg10_non-boycott\n",
      "Ratio: -0.7549292716547188, pval: 0.028554955801993593\n",
      "percent_increase_ndcg10_like-boycott\n",
      "lb info -0.24496884217059142 -0.25151606140042115 -0.006547219229829736\n",
      "ndcg10 SVD fans of film-noir, percent_increase_ndcg10_expected, percent_increase_ndcg10_non-boycott\n",
      "Ratio: 3.257517102735211, pval: 2.487621635325052e-05\n",
      "percent_increase_ndcg10_like-boycott\n",
      "lb info -0.18599859814631137 -0.23996154790285948 -0.0539629497565481\n",
      "ndcg10 SVD fans of crime, percent_increase_ndcg10_expected, percent_increase_ndcg10_non-boycott\n",
      "Ratio: 1.3251929556477884, pval: 0.19835525474418303\n",
      "percent_increase_ndcg10_like-boycott\n",
      "lb info -0.06613023951116533 -0.11081593388307634 -0.044685694371911014\n",
      "ndcg10 SVD fans of western, percent_increase_ndcg10_expected, percent_increase_ndcg10_non-boycott\n",
      "Ratio: -1.5453996965035481, pval: 0.02233385239603319\n",
      "percent_increase_ndcg10_like-boycott\n",
      "lb info -0.2140444636501451 -0.2236514860888111 -0.009607022438666003\n",
      "ndcg10 SVD fans of horror, percent_increase_ndcg10_expected, percent_increase_ndcg10_non-boycott\n",
      "Ratio: 0.002635640513053728, pval: 0.219530827280164\n",
      "percent_increase_ndcg10_like-boycott\n",
      "lb info -0.07499275325649588 -0.07497374478797095 1.900846852493244e-05\n",
      "ndcg10 SVD fans of drama, percent_increase_ndcg10_expected, percent_increase_ndcg10_non-boycott\n",
      "Ratio: 0.6646547421719615, pval: 0.009580957127379004\n",
      "percent_increase_ndcg10_like-boycott\n",
      "lb info -0.049228167725768705 -0.09832101065635268 -0.049092842930583976\n",
      "ndcg10 SVD fans of mystery, percent_increase_ndcg10_expected, percent_increase_ndcg10_non-boycott\n",
      "Ratio: 2.074745430267758, pval: 0.1462471174780207\n",
      "percent_increase_ndcg10_like-boycott\n",
      "lb info -0.13212907632920598 -0.15414605661761382 -0.02201698028840785\n",
      "ndcg10 SVD fans of fantasy, percent_increase_ndcg10_expected, percent_increase_ndcg10_non-boycott\n",
      "Ratio: 0.8709068328702114, pval: 0.8692737271116326\n",
      "percent_increase_ndcg10_like-boycott\n",
      "lb info -0.07929095994879079 -0.07223602243725491 0.007054937511535887\n",
      "ndcg10 SVD fans of musical, percent_increase_ndcg10_expected, percent_increase_ndcg10_non-boycott\n",
      "Ratio: 2.062620538579899, pval: 0.06482592603844163\n",
      "percent_increase_ndcg10_like-boycott\n",
      "lb info 0.010786244120504489 -0.020293853169162795 -0.031080097289667284\n",
      "ndcg10 SVD fans of sci-fi, percent_increase_ndcg10_expected, percent_increase_ndcg10_non-boycott\n",
      "Ratio: 0.4905828112210175, pval: 0.5984162323363791\n",
      "percent_increase_ndcg10_like-boycott\n",
      "lb info 0.03112278577735752 0.027011483858904083 -0.004111301918453437\n",
      "ndcg10 SVD fans of children's, percent_increase_ndcg10_expected, percent_increase_ndcg10_non-boycott\n",
      "Ratio: 6.77749057727655, pval: 0.006069343861786211\n",
      "percent_increase_ndcg10_like-boycott\n",
      "lb info 0.11005003040961442 0.08442647908885538 -0.025623551320759042\n",
      "Totals:\n",
      "14 lbless, 18 sig, 7 less, and 11 more out of 18 total\n",
      "total2 18 18\n"
     ]
    },
    {
     "data": {
      "image/png": "[encoded data removed]",
      "text/plain": [
       "<matplotlib.figure.Figure at 0x19b84cab160>"
      ]
     },
     "metadata": {},
     "output_type": "display_data"
    }
   ],
   "source": [
    "(total, total_sig, total_less, total_more, total_lbless), ntd = plot_all_three_scenarios(genre_boycotts)\n",
    "running_totals['total'] += total\n",
    "running_totals['total_sig'] += total_sig\n",
    "running_totals['total_less'] += total_less\n",
    "running_totals['total_more'] += total_more\n",
    "running_totals['total_lbless'] += total_lbless\n",
    "lbdiffs.append(ntd['lb'])\n",
    "diffs.append(ntd['nb'])\n",
    "\n",
    "plt.show()"
   ]
  },
  {
   "cell_type": "code",
   "execution_count": 34,
   "metadata": {},
   "outputs": [
    {
     "data": {
      "text/plain": [
       "0.12626880981874788"
      ]
     },
     "execution_count": 34,
     "metadata": {},
     "output_type": "execute_result"
    }
   ],
   "source": [
    "63147.6 *2 / NUM_RATINGS"
   ]
  },
  {
   "cell_type": "code",
   "execution_count": 35,
   "metadata": {},
   "outputs": [
    {
     "data": {
      "text/plain": [
       "{'total': 50,\n",
       " 'total_lbless': 30,\n",
       " 'total_less': 35,\n",
       " 'total_more': 15,\n",
       " 'total_sig': 50}"
      ]
     },
     "execution_count": 35,
     "metadata": {},
     "output_type": "execute_result"
    }
   ],
   "source": [
    "running_totals"
   ]
  },
  {
   "cell_type": "code",
   "execution_count": 36,
   "metadata": {},
   "outputs": [
    {
     "ename": "ValueError",
     "evalue": "setting an array element with a sequence.",
     "output_type": "error",
     "traceback": [
      "\u001b[1;31m---------------------------------------------------------------------------\u001b[0m",
      "\u001b[1;31mValueError\u001b[0m                                Traceback (most recent call last)",
      "\u001b[1;32m<ipython-input-36-afe31a5d5a2b>\u001b[0m in \u001b[0;36m<module>\u001b[1;34m()\u001b[0m\n\u001b[1;32m----> 1\u001b[1;33m \u001b[0mprint\u001b[0m\u001b[1;33m(\u001b[0m\u001b[0mnp\u001b[0m\u001b[1;33m.\u001b[0m\u001b[0mmean\u001b[0m\u001b[1;33m(\u001b[0m\u001b[0mlbdiffs\u001b[0m\u001b[1;33m)\u001b[0m\u001b[1;33m,\u001b[0m \u001b[0mnp\u001b[0m\u001b[1;33m.\u001b[0m\u001b[0mmean\u001b[0m\u001b[1;33m(\u001b[0m\u001b[0mdiffs\u001b[0m\u001b[1;33m)\u001b[0m\u001b[1;33m)\u001b[0m\u001b[1;33m\u001b[0m\u001b[0m\n\u001b[0m",
      "\u001b[1;32mC:\\Users\\Nick\\Anaconda3\\lib\\site-packages\\numpy\\core\\fromnumeric.py\u001b[0m in \u001b[0;36mmean\u001b[1;34m(a, axis, dtype, out, keepdims)\u001b[0m\n\u001b[0;32m   2955\u001b[0m \u001b[1;33m\u001b[0m\u001b[0m\n\u001b[0;32m   2956\u001b[0m     return _methods._mean(a, axis=axis, dtype=dtype,\n\u001b[1;32m-> 2957\u001b[1;33m                           out=out, **kwargs)\n\u001b[0m\u001b[0;32m   2958\u001b[0m \u001b[1;33m\u001b[0m\u001b[0m\n\u001b[0;32m   2959\u001b[0m \u001b[1;33m\u001b[0m\u001b[0m\n",
      "\u001b[1;32mC:\\Users\\Nick\\Anaconda3\\lib\\site-packages\\numpy\\core\\_methods.py\u001b[0m in \u001b[0;36m_mean\u001b[1;34m(a, axis, dtype, out, keepdims)\u001b[0m\n\u001b[0;32m     52\u001b[0m \u001b[1;33m\u001b[0m\u001b[0m\n\u001b[0;32m     53\u001b[0m \u001b[1;32mdef\u001b[0m \u001b[0m_mean\u001b[0m\u001b[1;33m(\u001b[0m\u001b[0ma\u001b[0m\u001b[1;33m,\u001b[0m \u001b[0maxis\u001b[0m\u001b[1;33m=\u001b[0m\u001b[1;32mNone\u001b[0m\u001b[1;33m,\u001b[0m \u001b[0mdtype\u001b[0m\u001b[1;33m=\u001b[0m\u001b[1;32mNone\u001b[0m\u001b[1;33m,\u001b[0m \u001b[0mout\u001b[0m\u001b[1;33m=\u001b[0m\u001b[1;32mNone\u001b[0m\u001b[1;33m,\u001b[0m \u001b[0mkeepdims\u001b[0m\u001b[1;33m=\u001b[0m\u001b[1;32mFalse\u001b[0m\u001b[1;33m)\u001b[0m\u001b[1;33m:\u001b[0m\u001b[1;33m\u001b[0m\u001b[0m\n\u001b[1;32m---> 54\u001b[1;33m     \u001b[0marr\u001b[0m \u001b[1;33m=\u001b[0m \u001b[0masanyarray\u001b[0m\u001b[1;33m(\u001b[0m\u001b[0ma\u001b[0m\u001b[1;33m)\u001b[0m\u001b[1;33m\u001b[0m\u001b[0m\n\u001b[0m\u001b[0;32m     55\u001b[0m \u001b[1;33m\u001b[0m\u001b[0m\n\u001b[0;32m     56\u001b[0m     \u001b[0mis_float16_result\u001b[0m \u001b[1;33m=\u001b[0m \u001b[1;32mFalse\u001b[0m\u001b[1;33m\u001b[0m\u001b[0m\n",
      "\u001b[1;32mC:\\Users\\Nick\\Anaconda3\\lib\\site-packages\\numpy\\core\\numeric.py\u001b[0m in \u001b[0;36masanyarray\u001b[1;34m(a, dtype, order)\u001b[0m\n\u001b[0;32m    542\u001b[0m \u001b[1;33m\u001b[0m\u001b[0m\n\u001b[0;32m    543\u001b[0m     \"\"\"\n\u001b[1;32m--> 544\u001b[1;33m     \u001b[1;32mreturn\u001b[0m \u001b[0marray\u001b[0m\u001b[1;33m(\u001b[0m\u001b[0ma\u001b[0m\u001b[1;33m,\u001b[0m \u001b[0mdtype\u001b[0m\u001b[1;33m,\u001b[0m \u001b[0mcopy\u001b[0m\u001b[1;33m=\u001b[0m\u001b[1;32mFalse\u001b[0m\u001b[1;33m,\u001b[0m \u001b[0morder\u001b[0m\u001b[1;33m=\u001b[0m\u001b[0morder\u001b[0m\u001b[1;33m,\u001b[0m \u001b[0msubok\u001b[0m\u001b[1;33m=\u001b[0m\u001b[1;32mTrue\u001b[0m\u001b[1;33m)\u001b[0m\u001b[1;33m\u001b[0m\u001b[0m\n\u001b[0m\u001b[0;32m    545\u001b[0m \u001b[1;33m\u001b[0m\u001b[0m\n\u001b[0;32m    546\u001b[0m \u001b[1;33m\u001b[0m\u001b[0m\n",
      "\u001b[1;31mValueError\u001b[0m: setting an array element with a sequence."
     ]
    }
   ],
   "source": [
    "print(np.mean(lbdiffs), np.mean(diffs))"
   ]
  },
  {
   "cell_type": "code",
   "execution_count": null,
   "metadata": {
    "collapsed": true
   },
   "outputs": [],
   "source": []
  },
  {
   "cell_type": "code",
   "execution_count": null,
   "metadata": {
    "collapsed": true
   },
   "outputs": [],
   "source": []
  }
 ],
 "metadata": {
  "celltoolbar": "Edit Metadata",
  "kernelspec": {
   "display_name": "Python 3",
   "language": "python",
   "name": "python3"
  },
  "language_info": {
   "codemirror_mode": {
    "name": "ipython",
    "version": 3
   },
   "file_extension": ".py",
   "mimetype": "text/x-python",
   "name": "python",
   "nbconvert_exporter": "python",
   "pygments_lexer": "ipython3",
   "version": "3.6.1"
  }
 },
 "nbformat": 4,
 "nbformat_minor": 2
}
