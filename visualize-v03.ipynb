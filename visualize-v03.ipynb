{
 "cells": [
  {
   "cell_type": "markdown",
   "metadata": {},
   "source": [
    "# Visualize Simulated Boycott Results\n",
    "\n",
    "## Goals of this notebook\n",
    "This notebook includes code for exploring the results of simulated boycotts. It also generates plots (for papers/presentations). This notebook covers 3 broad categories of experiments\n",
    "\n",
    "1. MovieLens 1M random boycotts\n",
    "2. MovieLens 1M homogeneous boycotts (e.g. fans of Comedy movies boycott together, people of a single age group boycott together)\n",
    "3. MovieLens 20M random boycotts\n",
    "\n"
   ]
  },
  {
   "cell_type": "code",
   "execution_count": 11,
   "metadata": {},
   "outputs": [
    {
     "name": "stdout",
     "output_type": "stream",
     "text": [
      "ml-20m 144.4135299257002\n",
      "ml-1m 165.5975165562914\n"
     ]
    }
   ],
   "source": [
    "from collections import defaultdict, OrderedDict\n",
    "import json\n",
    "from pprint import pprint\n",
    "\n",
    "import pandas as pd\n",
    "import numpy as np\n",
    "import seaborn as sns\n",
    "import matplotlib.pyplot as plt\n",
    "sns.set(style=\"darkgrid\")\n",
    "sns.set_color_codes(\"dark\")\n",
    "\n",
    "from scipy import stats\n",
    "from scipy.interpolate import interp1d\n",
    "\n",
    "# http://files.grouplens.org/datasets/movielens/ml-20m-README.txt\n",
    "\n",
    "num_users = {\n",
    "    'ml-20m': 138493,\n",
    "    'ml-1m': 6040\n",
    "}\n",
    "num_ratings = {\n",
    "    'ml-20m': 20000263,\n",
    "    'ml-1m': 1000209\n",
    "}\n",
    "for dataset in ['ml-20m', 'ml-1m']:\n",
    "    ratio = num_ratings[dataset] / num_users[dataset]\n",
    "    print(dataset, ratio)"
   ]
  },
  {
   "cell_type": "markdown",
   "metadata": {},
   "source": [
    "First things first: let's load our master data files. Each is a single csv that was created by the `process_all.py` script."
   ]
  },
  {
   "cell_type": "code",
   "execution_count": 12,
   "metadata": {
    "collapsed": true
   },
   "outputs": [],
   "source": [
    "df_1m = pd.read_csv('ml-1m_collected/all_results.csv', dtype={'indices': str})\n",
    "df_1m = df_1m[df_1m.ratingfrac.notna()]"
   ]
  },
  {
   "cell_type": "code",
   "execution_count": 13,
   "metadata": {
    "collapsed": true
   },
   "outputs": [],
   "source": [
    "df_20m = pd.read_csv('ml-20m_collected/all_results.csv', dtype={'indices': str})\n",
    "df_20m = df_20m[df_20m.ratingfrac.notna()]"
   ]
  },
  {
   "cell_type": "markdown",
   "metadata": {},
   "source": [
    "Now we apply transformation that will affect the entire dataframe.\n",
    "1. Calculate the number of users included in each experiment.\n",
    "2. Calculate the number of ratings missing per experiment (so we can estimate how much we'd \"expect\" performance to decrease)\n",
    "3. Calculate the number of ratings missing per experiment, rounded to the nearest 10^5"
   ]
  },
  {
   "cell_type": "code",
   "execution_count": 14,
   "metadata": {
    "collapsed": true
   },
   "outputs": [],
   "source": [
    "for df, dataset in [\n",
    "    (df_1m, 'ml-1m',),\n",
    "    (df_20m, 'ml-20m',),\n",
    "]:\n",
    "    # Whoops! Assign doesn't work in a for loop.\n",
    "#     df = df.assign(num_users_boycotting = [(NUM_USERS - int(x))/NUM_USERS for x in df.num_users])\n",
    "#     df = df.assign(num_ratings_missing = [NUM_RATINGS - int(x) for x in df.num_ratings])\n",
    "#     df = df.assign(nrm_rounded = [round(x, -5) for x in df.num_ratings_missing])\n",
    "    df['num_users_boycotting'] = [(num_users[dataset] - int(x)) / num_users[dataset] for x in df.num_users]\n",
    "    df['num_ratings_missing'] = [num_ratings[dataset] - int(x) for x in df.num_ratings]\n",
    "    df['nrm_rounded'] = [round(x, -5) for x in df.num_ratings_missing]\n",
    "\n",
    "    # drop columns we're not going to use.\n",
    "    drops = [\n",
    "        #'tail',\n",
    "        # 'vanilla',\n",
    "    ]\n",
    "    for column in df.columns.values:\n",
    "        for drop in drops:\n",
    "            if drop in column:\n",
    "                df = df.drop(column, axis=1)"
   ]
  },
  {
   "cell_type": "markdown",
   "metadata": {},
   "source": [
    "# EDIT ME\n",
    "Define all the lists that can be used throughout. By editing this cell we can easily modify the full notebook."
   ]
  },
  {
   "cell_type": "code",
   "execution_count": 15,
   "metadata": {
    "collapsed": true
   },
   "outputs": [],
   "source": [
    "id_vars = ['name','algo_name', 'indices', 'ratingfrac', 'userfrac', 'num_ratings', 'num_users', 'num_users_boycotting']\n",
    "#id_vars = [x for x in id_vars if x in list(df.columns.values)]\n",
    "metrics = [\n",
    "    'rmse',\n",
    "    'ndcg10',\n",
    "    #'tailndcg10',\n",
    "    #'ndcg5',\n",
    "    #'tailndcg5',\n",
    "    #'ndcgfull',\n",
    "    #'tailndcgfull',\n",
    "    #'ndcgfull',\n",
    "    #'prec10t4',\n",
    "    #'tailprec10t4',\n",
    "    #'prec5t4',\n",
    "    #'tailprec5t4',\n",
    "]\n",
    "\n",
    "organized_experiments = [\n",
    "    'gender', 'state', 'power', 'genre', 'occupation', 'age'\n",
    "]\n",
    "algo_names = [\n",
    "    #'KNNBaseline_item_msd',\n",
    "    'SVD'\n",
    "]\n",
    "standard_algo_names = [\n",
    "    'SVD', \n",
    "    #'GlobalMean', 'GuessThree',\n",
    "    'MovieMean', \n",
    "    'KNNBaseline_item_msd',\n",
    "    'KNNBasic_user_msd',\n",
    "    'KNNBasic_item_msd',\n",
    "]"
   ]
  },
  {
   "cell_type": "markdown",
   "metadata": {},
   "source": [
    "## Load and Organize Standard Results\n",
    "For any of our visualizations to be meaningful, we need standard results to compare the boycott results to. These standards let us evaluate \"what is the effect of the boycott compared to other algorithms\".\n",
    "\n",
    "In particular, we compare the boycott performance to performance when using very non-personalized algorithms (MovieMean) and simpler personalized algorithms (user-based KNN, item-based KNN).\n",
    "\n",
    "Below, we load these results from json files into Python data structures so we can use below when generating plots."
   ]
  },
  {
   "cell_type": "code",
   "execution_count": 16,
   "metadata": {},
   "outputs": [
    {
     "name": "stdout",
     "output_type": "stream",
     "text": [
      "File not found: standard_results/ml-20m_ratingcv_standards_for_KNNBasic_user_msd.json\n",
      "{'ml-1m': defaultdict(<function <lambda> at 0x000002DAEC158C80>,\n",
      "                      {'SVD': defaultdict(<class 'dict'>,\n",
      "                                          {'ndcg10': {'KNNBaseline_item_msd': -0.21579272303199185,\n",
      "                                                      'KNNBasic_item_msd': -0.783459813821296,\n",
      "                                                      'KNNBasic_user_msd': -1.774069901999796,\n",
      "                                                      'MovieMean': -2.527446665665193,\n",
      "                                                      'SVD': 0.0},\n",
      "                                           'rmse': {'KNNBaseline_item_msd': 1.326125568048003,\n",
      "                                                    'KNNBasic_item_msd': 4.626236780474338,\n",
      "                                                    'KNNBasic_user_msd': 5.627334338473019,\n",
      "                                                    'MovieMean': 12.072697294556987,\n",
      "                                                    'SVD': 0.0}})}),\n",
      " 'ml-20m': defaultdict(<function <lambda> at 0x000002DAEC0BBE18>,\n",
      "                       {'SVD': defaultdict(<class 'dict'>,\n",
      "                                           {'ndcg10': {'1M_SVD': -2.3961525421001535,\n",
      "                                                       'KNNBaseline_item_msd': -2.545825243372394,\n",
      "                                                       'KNNBasic_item_msd': -2.2383269117241746,\n",
      "                                                       'KNNBasic_user_msd': 0,\n",
      "                                                       'MovieMean': -5.647772312509133,\n",
      "                                                       'SVD': 0.0},\n",
      "                                            'rmse': {'1M_SVD': 11.166751126528048,\n",
      "                                                     'KNNBaseline_item_msd': 4.991087869128467,\n",
      "                                                     'KNNBasic_item_msd': 8.197945180278845,\n",
      "                                                     'KNNBasic_user_msd': 0,\n",
      "                                                     'MovieMean': 19.759535282577247,\n",
      "                                                     'SVD': 0.0}})})}\n"
     ]
    }
   ],
   "source": [
    "dataset_to_algo_to_metric_to_altalgo = {}\n",
    "\n",
    "one_mill_svd = {}\n",
    "for dataset in [\n",
    "    'ml-1m',\n",
    "    'ml-20m',\n",
    "]:\n",
    "    standard_results = {}\n",
    "    algo_to_metric_to_altalgo = defaultdict(lambda: defaultdict(dict))\n",
    "\n",
    "    for algo_name in standard_algo_names:\n",
    "        try:\n",
    "            filename_ratingcv_standards = 'standard_results/{}_ratingcv_standards_for_{}.json'.format(\n",
    "                dataset, algo_name)\n",
    "            with open(filename_ratingcv_standards, 'r') as f:\n",
    "                standard_results[algo_name] = json.load(f)\n",
    "                if algo_name == 'SVD' and dataset == 'ml-1m':\n",
    "                    one_mill_svd = standard_results[algo_name]\n",
    "        except FileNotFoundError:\n",
    "            print('File not found: {}'.format(filename_ratingcv_standards))\n",
    "    for main_algo_name in algo_names:\n",
    "        for metric in metrics:\n",
    "            goodval = standard_results[main_algo_name].get(metric, 0)\n",
    "            for st_algo_name in standard_algo_names:\n",
    "                val = standard_results.get(st_algo_name, {}).get(metric)\n",
    "                if val:\n",
    "                    algo_to_metric_to_altalgo[main_algo_name][metric][st_algo_name] = (val - goodval) / goodval * 100 if goodval else 0\n",
    "                else:\n",
    "                    algo_to_metric_to_altalgo[main_algo_name][metric][st_algo_name] = 0\n",
    "            if dataset == 'ml-20m':\n",
    "                val = one_mill_svd.get(metric)\n",
    "                if val:\n",
    "                    algo_to_metric_to_altalgo[main_algo_name][metric]['1M_SVD'] = (val - goodval) / goodval * 100 if goodval else 0\n",
    "                else:\n",
    "                    algo_to_metric_to_altalgo[main_algo_name][metric]['1M_SVD'] = 0\n",
    "            \n",
    "    dataset_to_algo_to_metric_to_altalgo[dataset] = algo_to_metric_to_altalgo\n",
    "pprint(dataset_to_algo_to_metric_to_altalgo)"
   ]
  },
  {
   "cell_type": "markdown",
   "metadata": {},
   "source": [
    "## Seperate out our data\n",
    "We want to separate the simuated boycotts into homogenous vs. heterogenous boycotts."
   ]
  },
  {
   "cell_type": "code",
   "execution_count": 17,
   "metadata": {},
   "outputs": [
    {
     "name": "stdout",
     "output_type": "stream",
     "text": [
      "\n",
      "===Heterogenous 20M Boycotts===\n",
      "\n",
      "14 user sample        50\n",
      "6925 user sample      50\n",
      "96945 user sample     50\n",
      "41548 user sample     50\n",
      "137108 user sample    50\n",
      "13849 user sample     50\n",
      "692 user sample       50\n",
      "69246 user sample     50\n",
      "1385 user sample      50\n",
      "83096 user sample     50\n",
      "69 user sample        50\n",
      "27699 user sample     50\n",
      "110794 user sample    50\n",
      "55397 user sample     50\n",
      "124644 user sample    50\n",
      "138 user sample       50\n",
      "Name: name, dtype: int64\n",
      "\n",
      "===Heterogenous Boycotts===\n",
      "\n",
      "1 user sample       500\n",
      "3 user sample       500\n",
      "6 user sample       500\n",
      "604 user sample     250\n",
      "5436 user sample    250\n",
      "4832 user sample    250\n",
      "1812 user sample    250\n",
      "5980 user sample    250\n",
      "60 user sample      250\n",
      "3624 user sample    250\n",
      "30 user sample      250\n",
      "3020 user sample    250\n",
      "2416 user sample    250\n",
      "4228 user sample    250\n",
      "302 user sample     250\n",
      "1208 user sample    250\n",
      "Name: name, dtype: int64\n",
      "\n",
      "===Homogenous Boycotts===\n",
      "\n",
      "male users excluded                               60\n",
      "female users excluded                             60\n",
      "K-12 student excluded                             50\n",
      "users from state US_CA excluded                   50\n",
      "users from state US_WV excluded                   50\n",
      "Under 18 excluded                                 50\n",
      "executive/managerial excluded                     50\n",
      "Fans of Film-Noir excluded using threshold 4      50\n",
      "users from state US_ND excluded                   50\n",
      "sales/marketing excluded                          50\n",
      "users from state US_OK excluded                   50\n",
      "56+ excluded                                      50\n",
      "Fans of War excluded using threshold 4            50\n",
      "users from state US_VT excluded                   50\n",
      "Fans of Horror excluded using threshold 4         50\n",
      "users from state US_FL excluded                   50\n",
      "retired excluded                                  50\n",
      "Fans of Adventure excluded using threshold 4      50\n",
      "users from state US_RI excluded                   50\n",
      "users from state US_KS excluded                   50\n",
      "Fans of Animation excluded using threshold 4      50\n",
      "users from state US_DE excluded                   50\n",
      "Top 10% contributors excluded                     50\n",
      "writer excluded                                   50\n",
      "users from state US_UT excluded                   50\n",
      "users from state US_MI excluded                   50\n",
      "users from state US_IN excluded                   50\n",
      "users from state US_NH excluded                   50\n",
      "self-employed excluded                            50\n",
      "users from state US_DC excluded                   50\n",
      "                                                  ..\n",
      "users from state US_IL excluded                   50\n",
      "unemployed excluded                               50\n",
      "farmer excluded                                   50\n",
      "users from state US_NJ excluded                   50\n",
      "users from state US_WI excluded                   50\n",
      "users from state US_NC excluded                   50\n",
      "homemaker excluded                                50\n",
      "users from state US_IA excluded                   50\n",
      "users from state US_LA excluded                   50\n",
      "Fans of Drama excluded using threshold 4          50\n",
      "users from state US_GA excluded                   50\n",
      "users from state US_KY excluded                   50\n",
      "Fans of Mystery excluded using threshold 4        50\n",
      "users from state US_nan excluded                  50\n",
      "users from state US_AK excluded                   50\n",
      "technician/engineer excluded                      50\n",
      "lawyer excluded                                   50\n",
      "18-24 excluded                                    50\n",
      "Fans of Documentary excluded using threshold 4    50\n",
      "users from state US_MS excluded                   50\n",
      "users from state US_MN excluded                   50\n",
      "Fans of Crime excluded using threshold 4          50\n",
      "scientist excluded                                50\n",
      "users from state US_PA excluded                   50\n",
      "programmer excluded                               50\n",
      "users from state US_AZ excluded                   50\n",
      "Fans of Children's excluded using threshold 4     50\n",
      "Fans of Fantasy excluded using threshold 4        50\n",
      "users from state US_SC excluded                   50\n",
      "doctor/health care excluded                       50\n",
      "Name: name, Length: 102, dtype: int64\n"
     ]
    }
   ],
   "source": [
    "samples_df_20m = df_20m[df_20m['type'] == 'sample_users']\n",
    "print('\\n===Heterogenous 20M Boycotts===\\n')\n",
    "print(samples_df_20m.name.value_counts())\n",
    "samples_df_1m = df_1m[df_1m['type'] == 'sample_users']\n",
    "print('\\n===Heterogenous Boycotts===\\n')\n",
    "print(samples_df_1m.name.value_counts())\n",
    "org_df = df_1m[df_1m['type'].isin(organized_experiments)]\n",
    "print('\\n===Homogenous Boycotts===\\n')\n",
    "print(org_df.name.value_counts())"
   ]
  },
  {
   "cell_type": "code",
   "execution_count": 18,
   "metadata": {},
   "outputs": [
    {
     "name": "stdout",
     "output_type": "stream",
     "text": [
      "1...\n",
      "0.9095572516420898\n",
      "0.9096433125904835\n",
      "0.9096002821162862\n",
      "0.7237272614903365\n",
      "3...\n",
      "0.909550319637464\n",
      "0.909522046412812\n",
      "0.9095361830251375\n",
      "0.7236599993969711\n",
      "6\n",
      "0.9095209687890901\n",
      "0.9095185126257369\n",
      "0.909519740707414\n",
      "0.723789333644263\n",
      "30\n",
      "0.9094839612305778\n",
      "nan\n",
      "0.9094839612305778\n",
      "0.7245554937388897\n"
     ]
    }
   ],
   "source": [
    "# bonus\n",
    "metric = 'ndcgfull_non-boycott'\n",
    "print('1...')\n",
    "name = '1 user sample'\n",
    "print(samples_df_1m[(samples_df_1m.indices == '1-to-250') & (samples_df_1m.name == name)][metric].mean())\n",
    "print(samples_df_1m[(samples_df_1m.indices == '251-to-500') & (samples_df_1m.name == name)][metric].mean())\n",
    "print(samples_df_1m[(samples_df_1m.name == name)][metric].mean())\n",
    "print(samples_df_1m[(samples_df_1m.name == name)]['ndcg10_frac_non-boycott'].mean())\n",
    "\n",
    "print('3...')\n",
    "name = '3 user sample'\n",
    "print(samples_df_1m[(samples_df_1m.indices == '1-to-250') & (samples_df_1m.name == name)][metric].mean())\n",
    "print(samples_df_1m[(samples_df_1m.indices == '251-to-500') & (samples_df_1m.name == name)][metric].mean())\n",
    "print(samples_df_1m[(samples_df_1m.name == name)][metric].mean())\n",
    "print(samples_df_1m[(samples_df_1m.name == name)]['ndcg10_frac_non-boycott'].mean())\n",
    "\n",
    "print('6')\n",
    "name = '6 user sample'\n",
    "print(samples_df_1m[(samples_df_1m.indices == '1-to-250') & (samples_df_1m.name == name)][metric].mean())\n",
    "print(samples_df_1m[(samples_df_1m.indices == '251-to-500') & (samples_df_1m.name == name)][metric].mean())\n",
    "print(samples_df_1m[(samples_df_1m.name == name)][metric].mean())\n",
    "print(samples_df_1m[(samples_df_1m.name == name)]['ndcg10_frac_non-boycott'].mean())\n",
    "\n",
    "print('30')\n",
    "name = '30 user sample'\n",
    "print(samples_df_1m[(samples_df_1m.indices == '1-to-250') & (samples_df_1m.name == name)][metric].mean())\n",
    "print(samples_df_1m[(samples_df_1m.indices == '251-to-500') & (samples_df_1m.name == name)][metric].mean())\n",
    "print(samples_df_1m[(samples_df_1m.name == name)][metric].mean())\n",
    "print(samples_df_1m[(samples_df_1m.name == name)]['ndcg10_frac_non-boycott'].mean())"
   ]
  },
  {
   "cell_type": "markdown",
   "metadata": {},
   "source": [
    "## Clean up the homogenous boycott \"name\" columns\n",
    "This is helpful because our homogenous boycott plots are going to very cluttered. We want to remove as much text as possible without making the plots too confusing."
   ]
  },
  {
   "cell_type": "code",
   "execution_count": 19,
   "metadata": {},
   "outputs": [
    {
     "name": "stderr",
     "output_type": "stream",
     "text": [
      "C:\\Users\\Nick\\Anaconda3\\lib\\site-packages\\pandas\\core\\generic.py:4405: SettingWithCopyWarning: \n",
      "A value is trying to be set on a copy of a slice from a DataFrame.\n",
      "Try using .loc[row_indexer,col_indexer] = value instead\n",
      "\n",
      "See the caveats in the documentation: http://pandas.pydata.org/pandas-docs/stable/indexing.html#indexing-view-versus-copy\n",
      "  self[name] = value\n"
     ]
    }
   ],
   "source": [
    "org_df.name = [\n",
    "    x.replace('excluded', '')\n",
    "    .replace('users from', '')\n",
    "    .replace('using threshold 4', '')\n",
    "    .replace('Top 10% contributors', 'power users')\n",
    "    .strip()\n",
    "    .lower()\n",
    "    for x in list(org_df.name)\n",
    "]\n",
    "# can ignore the below warning, the code in this cell works"
   ]
  },
  {
   "cell_type": "markdown",
   "metadata": {},
   "source": [
    "## Data Manipulating Helpers\n",
    "In the following two cells, we define two functions (`select_cols` and `fill_in_longform`) that will help with general purpose manipulating of our result data."
   ]
  },
  {
   "cell_type": "code",
   "execution_count": 20,
   "metadata": {
    "collapsed": true
   },
   "outputs": [],
   "source": [
    "def select_cols(cols, metrics, groups, percents):\n",
    "    \"\"\"\n",
    "    take a list of cols and filter based on metrics/groups/percents\n",
    "    \n",
    "    The returned columns must match all the metrics and groups passed\n",
    "    if percents is True, return columns with \"percent\" in the name\n",
    "    if percents is False return only columns without \"percent\" in the name\n",
    "    \n",
    "    returns a list of cols\n",
    "    \"\"\"\n",
    "    increase_cols = [\n",
    "        x for x in cols if 'increase' in x and (any(metric == x.split('_')[-2] for metric in metrics))\n",
    "    ]\n",
    "    increase_cols = [\n",
    "        x for x in increase_cols if any(group == x.split('_')[-1] for group in groups)\n",
    "    ]\n",
    "    if percents:\n",
    "        increase_cols = [x for x in increase_cols if 'percent' in x]\n",
    "    else:\n",
    "        increase_cols = [x for x in increase_cols if 'percent' not in x]\n",
    "    return increase_cols"
   ]
  },
  {
   "cell_type": "code",
   "execution_count": 21,
   "metadata": {
    "collapsed": true
   },
   "outputs": [],
   "source": [
    "def fill_in_longform(df):\n",
    "    \"\"\"Fill in a longform dataframe with metric, group, and name information\"\"\"\n",
    "    df = df.assign(\n",
    "        metric=[x.split('_')[-2] for x in df.increase_type]\n",
    "    )\n",
    "    df = df.assign(\n",
    "        group=[x.split('_')[-1] for x in df.increase_type]\n",
    "    )\n",
    "    return df\n",
    "    "
   ]
  },
  {
   "cell_type": "code",
   "execution_count": 22,
   "metadata": {
    "collapsed": true
   },
   "outputs": [],
   "source": [
    "palette={'all': 'b', 'non-boycott': 'g'}\n",
    "TITLE_TEMPLATE = 'Recommender Performance vs. Size of Boycott for {}'\n",
    "YLABEL = 'nDCG@10 personalization factor'"
   ]
  },
  {
   "cell_type": "code",
   "execution_count": 23,
   "metadata": {
    "collapsed": true
   },
   "outputs": [],
   "source": [
    "def p_b_curve(\n",
    "        df, dataset, metrics, groups,\n",
    "        percents=False, normalize=True,\n",
    "        reg_plot=False, hue='group', row='metric',\n",
    "        save=False, show_interp=False, legend=True\n",
    "    ):\n",
    "    \"\"\"\n",
    "    Plots a performance vs. boycott size (P v B) curve\n",
    "    \n",
    "    Args:\n",
    "        df - the dataframe to use for plotting the pb curve\n",
    "        metrics - which metrics to plot the curve for.\n",
    "        groups - which groups to include.\n",
    "          for each metric, \n",
    "        percents - show the Y-axis in percent change or raw change. Set this True for percent change.\n",
    "        normalize - should we normalize the y-axis relative to MovieMean (no personalization)\n",
    "        reg_plot - ?\n",
    "        hue - which facet to use to determine hue. default is group\n",
    "          (each group will appear as a separate (distinctly colored) trajectory on each plot)\n",
    "        row - which facet to use to split plots into different rows. default is metric.\n",
    "        save - should we save a PNG file?\n",
    "        show_interp - include the interpolated function on this plot?\n",
    "        \n",
    "    Returns:\n",
    "        ?\n",
    "    \"\"\"\n",
    "    algo_to_metric_to_altalgo=dataset_to_algo_to_metric_to_altalgo[dataset]\n",
    "    \n",
    "    algo_names = list(set(df.algo_name))\n",
    "    df = df.copy()\n",
    "    algo_to_metric_to_group_to = defaultdict(lambda: defaultdict(lambda: defaultdict(dict)))\n",
    "\n",
    "    increase_cols = select_cols(list(df.columns.values), metrics, groups, percents)\n",
    "    increase_cols = [x for x in increase_cols if 'vanilla' not in x]\n",
    "    if normalize:\n",
    "        for metric in metrics:\n",
    "            for algo_name in algo_names:\n",
    "                movie_val = abs(algo_to_metric_to_altalgo[algo_name][metric]['MovieMean'])\n",
    "                for increase_col in increase_cols:\n",
    "                    if increase_col.split('_')[-2] == metric:\n",
    "                        df.loc[df.algo_name == algo_name, increase_col] /= movie_val\n",
    "    \n",
    "    longform = df[increase_cols + id_vars].melt(\n",
    "        id_vars = id_vars,\n",
    "        var_name='increase_type'\n",
    "    )\n",
    "    longform = fill_in_longform(longform)\n",
    "\n",
    "    grid = sns.lmplot(\n",
    "        x=\"num_users_boycotting\", y=\"value\", hue=hue, data=longform,\n",
    "        sharey='row', sharex='col',\n",
    "        height=5, \n",
    "        row=row, col='algo_name',\n",
    "        fit_reg=False,\n",
    "        x_estimator=np.mean, ci=99, \n",
    "        palette=palette,\n",
    "        legend=legend,\n",
    "        legend_out=True\n",
    "    )\n",
    "    \n",
    "\n",
    "    algo_to_size_to_decreases = defaultdict(lambda: defaultdict(list))\n",
    "    for metric in metrics:\n",
    "        for algo_name in algo_names:\n",
    "            filt = df[df.algo_name == algo_name]\n",
    "            for group in groups:\n",
    "                key = 'increase_{}_{}'.format(metric, group)\n",
    "                if percents:\n",
    "                    key = 'percent_' + key\n",
    "                x = filt.num_users_boycotting\n",
    "                user_nums = sorted(list(set(filt.num_users_boycotting)))\n",
    "                nrm_rounded = sorted(list(set(filt.nrm_rounded)))\n",
    "                y = filt[key]\n",
    "\n",
    "                num_to_mean = OrderedDict()\n",
    "                rounded_num_to_mean = OrderedDict()\n",
    "                for num_users_boycotting in user_nums:\n",
    "                    filt_by_name = filt[filt.num_users_boycotting == num_users_boycotting]\n",
    "                    num_to_mean[num_users_boycotting] = np.mean(filt_by_name[key])\n",
    "                    rounded_num_to_mean[round(num_users_boycotting, 2)] = np.mean(filt_by_name[key])\n",
    "                nrm_rounded_to_mean = OrderedDict()\n",
    "                for num in nrm_rounded:\n",
    "                    filt_by_nrm = filt[filt.nrm_rounded == num]\n",
    "                    nrm_rounded_to_mean[num] = np.mean(filt_by_nrm[key])\n",
    "\n",
    "                if group == 'non-boycott':\n",
    "                    for num in [\n",
    "                        0.1, 0.2, 0.3,\n",
    "                    ]:\n",
    "                        \n",
    "                        val_nb = rounded_num_to_mean.get(num)\n",
    "                        if val_nb is None:\n",
    "                            continue\n",
    "                        val_all = np.mean(filt[filt.num_users_boycotting == num][key.replace('non-boycott', 'all')])\n",
    "                        print(\n",
    "                            'Algo:{}  |  Metric:{}  |  #users:{}'.format(\n",
    "                                algo_name, metric, num, \n",
    "                            )\n",
    "                        )\n",
    "                        print('NB Val:{}  |  ALL val:{}'.format(\n",
    "                            val_nb,\n",
    "                            val_all\n",
    "                        ))\n",
    "                        if percents is False:\n",
    "                            ratio_nb = val_nb / algo_to_metric_to_altalgo[algo_name][metric]['MovieMean']\n",
    "                            ratio_all = val_all / algo_to_metric_to_altalgo[algo_name][metric]['MovieMean']\n",
    "\n",
    "                            print('ratio_nb: {}  |  ratio_all:{}'.format(\n",
    "                                ratio_nb,\n",
    "                                ratio_all,\n",
    "                            ))\n",
    "                        algo_to_size_to_decreases[algo_name][num].append(val_nb)\n",
    "                meany = np.array(list(num_to_mean.values()))\n",
    "                meany_ratings = np.array(list(nrm_rounded_to_mean.values()))\n",
    "\n",
    "                algo_to_metric_to_group_to[algo_name][metric][group]['x'] = user_nums\n",
    "                algo_to_metric_to_group_to[algo_name][metric][group]['y'] = meany\n",
    "\n",
    "                smoothf_ratings = interp1d(nrm_rounded, meany_ratings, kind='quadratic', bounds_error=False, fill_value='extrapolate')\n",
    "                algo_to_metric_to_group_to[algo_name][metric][group]['interp_ratings'] = smoothf_ratings\n",
    "                algo_to_metric_to_group_to[algo_name][metric][group]['max_user_units'] = max(user_nums)\n",
    "                algo_to_metric_to_group_to[algo_name][metric][group]['xnew_ratings'] = np.linspace(\n",
    "                    min(filt.num_ratings_missing), max(filt.num_ratings_missing), num=1000)\n",
    "\n",
    "                \n",
    "    for x in grid.facet_data():\n",
    "        i_row, i_col, i_hue = x[0]\n",
    "        metric = grid.row_names[i_row]\n",
    "        algo_name = grid.col_names[i_col]\n",
    "        group = grid.hue_names[i_hue]\n",
    "        \n",
    "        lines_caption = \"\"\n",
    "        \n",
    "        lines = {}\n",
    "        \n",
    "        lines['MovieMean'] = {\n",
    "            'value': algo_to_metric_to_altalgo[algo_name][metric]['MovieMean'],\n",
    "            'color': '0.3',\n",
    "            'name': 'MovieMean',\n",
    "            'linestyle': '-'\n",
    "        }\n",
    "        lines['Zero'] = {\n",
    "            'value': 0,\n",
    "            'color': '0.3',\n",
    "            'name': 'Zero',\n",
    "            'linestyle': '-'\n",
    "        }\n",
    "        \n",
    "        lines['KNNBasic_item_msd'] = {\n",
    "            'value': algo_to_metric_to_altalgo[algo_name][metric]['KNNBasic_item_msd'],\n",
    "            'color': 'r',\n",
    "            'name': 'Item KNN (1999)',\n",
    "            'linestyle': ':'\n",
    "        }\n",
    "        lines['KNNBaseline_item_msd'] = {\n",
    "            'value': algo_to_metric_to_altalgo[algo_name][metric]['KNNBaseline_item_msd'],\n",
    "            'color': 'y',\n",
    "            'name': 'Item KNN + Baselines: 2010',\n",
    "            'linestyle': ':',\n",
    "        }\n",
    "        if dataset == 'ml-1m':\n",
    "            \n",
    "            \n",
    "            lines['KNNBasic_user_msd'] = {\n",
    "                'value': algo_to_metric_to_altalgo[algo_name][metric]['KNNBasic_user_msd'],\n",
    "                'color': 'c',\n",
    "                'name': 'User KNN (1994)',\n",
    "                'linestyle': ':'\n",
    "            }\n",
    "        elif dataset == 'ml-20m':\n",
    "            lines['1M_SVD'] = {\n",
    "                'value': algo_to_metric_to_altalgo[algo_name][metric]['1M_SVD'],\n",
    "                'color': '0.3',\n",
    "                'name': 'ml-1m SVD',\n",
    "                'linestyle': ':'\n",
    "            }\n",
    "        \n",
    "        if normalize:\n",
    "            norm_val = abs(algo_to_metric_to_altalgo[algo_name][metric]['MovieMean'])\n",
    "            for key in lines.keys():\n",
    "                lines[key]['value'] /= norm_val\n",
    "        \n",
    "        ax = grid.axes[i_row, i_col]\n",
    "        \n",
    "        if normalize and metric == 'ndcg10':\n",
    "            if dataset == 'ml-1m':\n",
    "                ax.set(ylim=(-1.6, 0.1))\n",
    "            elif dataset == 'ml-20m':\n",
    "                ax.set(ylim=(-1.2, 0.1))\n",
    "    \n",
    "        linestyle = '-' if group  != 'all' else '--'\n",
    "\n",
    "        ax.plot(\n",
    "            algo_to_metric_to_group_to[algo_name][metric][group]['x'],\n",
    "            algo_to_metric_to_group_to[algo_name][metric][group]['y'],\n",
    "            linestyle=linestyle, color=grid._colors[i_hue]\n",
    "        )\n",
    "        if show_interp:\n",
    "            xnew_ratings = algo_to_metric_to_group_to[algo_name][metric][group]['xnew_ratings']\n",
    "            ynew_ratings = algo_to_metric_to_group_to[algo_name][metric][group]['interp_ratings'](xnew_ratings)\n",
    "            ax.plot(\n",
    "                xnew_ratings * algo_to_metric_to_group_to[algo_name][metric][group]['max_user_units'] / num_ratings[dataset],\n",
    "                ynew_ratings, '-')\n",
    "\n",
    "        plt.setp(ax.get_xticklabels(), visible=True, rotation=45)\n",
    "        if percents:\n",
    "            \n",
    "            for line in lines.values():\n",
    "                ax.axhline(line['value'], color=line['color'], linestyle=line['linestyle'])\n",
    "                #ax.text(0.7, line['value'] + 0.05, line['name'])\n",
    "                lines_caption += \"{} colored line (value of {}) shows comparison with {}\\n\".format(\n",
    "                    line['color'], line['value'], line['name']\n",
    "                )\n",
    "        print(lines_caption)\n",
    "\n",
    "    plt.subplots_adjust(hspace=0.2)\n",
    "    algo_to_size_to_mean_dec = defaultdict(dict)\n",
    "    for algo_name, size2dec in algo_to_size_to_decreases.items():\n",
    "        for size, decs in size2dec.items():\n",
    "            algo_to_size_to_mean_dec[algo_name][size] = np.mean(decs)\n",
    "    print('=====\\nSize to Mean Decrease')\n",
    "    pprint(algo_to_size_to_mean_dec)\n",
    "                   \n",
    "    grid.set_xlabels('Fraction of users boycotting')\n",
    "    grid.set_ylabels(YLABEL)\n",
    "    if save:\n",
    "        #new_labels = ['All\\nUsers', 'Not\\nBoycotting\\nUsers',]\n",
    "        new_labels = ['Strike', 'Boycott']\n",
    "        if grid._legend:\n",
    "            for t, l in zip(grid._legend.texts, new_labels): t.set_text(l)\n",
    "            grid._legend.set_title('')\n",
    "        grid.set_titles(TITLE_TEMPLATE.format(dataset.upper()))\n",
    "        plt.savefig(dataset + '_pb_curve.svg', bbox_inches='tight', dpi=300)\n",
    "    return algo_to_metric_to_group_to"
   ]
  },
  {
   "cell_type": "code",
   "execution_count": 24,
   "metadata": {
    "scrolled": false
   },
   "outputs": [
    {
     "name": "stderr",
     "output_type": "stream",
     "text": [
      "C:\\Users\\Nick\\Anaconda3\\lib\\site-packages\\scipy\\stats\\stats.py:1713: FutureWarning: Using a non-tuple sequence for multidimensional indexing is deprecated; use `arr[tuple(seq)]` instead of `arr[seq]`. In the future this will be interpreted as an array index, `arr[np.array(seq)]`, which will result either in an error or a different result.\n",
      "  return np.add.reduce(sorted[indexer] * weights, axis=axis) / sumval\n"
     ]
    },
    {
     "name": "stdout",
     "output_type": "stream",
     "text": [
      "Algo:SVD  |  Metric:ndcg10  |  #users:0.1\n",
      "NB Val:-0.06754775360839378  |  ALL val:-0.17066137274875315\n",
      "Algo:SVD  |  Metric:ndcg10  |  #users:0.2\n",
      "NB Val:-0.14355844612009977  |  ALL val:-0.3353765179702833\n",
      "Algo:SVD  |  Metric:ndcg10  |  #users:0.3\n",
      "NB Val:-0.2305288131116384  |  ALL val:-0.4933845828779054\n",
      "0.3 colored line (value of -1.0) shows comparison with MovieMean\n",
      "0.3 colored line (value of 0.0) shows comparison with Zero\n",
      "r colored line (value of -0.30998075032182687) shows comparison with Item KNN (1999)\n",
      "y colored line (value of -0.08537973361158853) shows comparison with Item KNN + Baselines: 2010\n",
      "c colored line (value of -0.7019217956604764) shows comparison with User KNN (1994)\n",
      "\n",
      "0.3 colored line (value of -1.0) shows comparison with MovieMean\n",
      "0.3 colored line (value of 0.0) shows comparison with Zero\n",
      "r colored line (value of -0.30998075032182687) shows comparison with Item KNN (1999)\n",
      "y colored line (value of -0.08537973361158853) shows comparison with Item KNN + Baselines: 2010\n",
      "c colored line (value of -0.7019217956604764) shows comparison with User KNN (1994)\n",
      "\n",
      "=====\n",
      "Size to Mean Decrease\n",
      "defaultdict(<class 'dict'>,\n",
      "            {'SVD': {0.1: -0.06754775360839378,\n",
      "                     0.2: -0.14355844612009977,\n",
      "                     0.3: -0.2305288131116384}})\n"
     ]
    },
    {
     "data": {
      "image/png": "[encoded data removed]",
      "text/plain": [
       "<Figure size 360x360 with 1 Axes>"
      ]
     },
     "metadata": {},
     "output_type": "display_data"
    }
   ],
   "source": [
    "_ = p_b_curve(\n",
    "    samples_df_1m[samples_df_1m.algo_name == 'SVD'], 'ml-1m',\n",
    "    show_interp=False,\n",
    "    percents=True, normalize=True,\n",
    "    metrics=['ndcg10', ],\n",
    "    groups=['non-boycott', 'all', ],\n",
    "    save=True, legend=False,    \n",
    ")\n",
    "plt.ylim(-1.2, 0.05)\n",
    "plt.savefig('ml-1m_pb_curve.svg', bbox_inches='tight', dpi=300)\n",
    "plt.show()"
   ]
  },
  {
   "cell_type": "code",
   "execution_count": 25,
   "metadata": {},
   "outputs": [
    {
     "name": "stderr",
     "output_type": "stream",
     "text": [
      "C:\\Users\\Nick\\Anaconda3\\lib\\site-packages\\scipy\\stats\\stats.py:1713: FutureWarning: Using a non-tuple sequence for multidimensional indexing is deprecated; use `arr[tuple(seq)]` instead of `arr[seq]`. In the future this will be interpreted as an array index, `arr[np.array(seq)]`, which will result either in an error or a different result.\n",
      "  return np.add.reduce(sorted[indexer] * weights, axis=axis) / sumval\n"
     ]
    },
    {
     "name": "stdout",
     "output_type": "stream",
     "text": [
      "Algo:SVD  |  Metric:ndcg10  |  #users:0.1\n",
      "NB Val:-0.007788517547258645  |  ALL val:nan\n",
      "Algo:SVD  |  Metric:ndcg10  |  #users:0.2\n",
      "NB Val:-0.016260668657253688  |  ALL val:nan\n",
      "Algo:SVD  |  Metric:ndcg10  |  #users:0.3\n",
      "NB Val:-0.028071160999143897  |  ALL val:nan\n",
      "0.3 colored line (value of -1.0) shows comparison with MovieMean\n",
      "0.3 colored line (value of 0.0) shows comparison with Zero\n",
      "r colored line (value of -0.3963203167320593) shows comparison with Item KNN (1999)\n",
      "y colored line (value of -0.4507662672118879) shows comparison with Item KNN + Baselines: 2010\n",
      "0.3 colored line (value of -0.4242650747079455) shows comparison with ml-1m SVD\n",
      "\n",
      "0.3 colored line (value of -1.0) shows comparison with MovieMean\n",
      "0.3 colored line (value of 0.0) shows comparison with Zero\n",
      "r colored line (value of -0.3963203167320593) shows comparison with Item KNN (1999)\n",
      "y colored line (value of -0.4507662672118879) shows comparison with Item KNN + Baselines: 2010\n",
      "0.3 colored line (value of -0.4242650747079455) shows comparison with ml-1m SVD\n",
      "\n",
      "=====\n",
      "Size to Mean Decrease\n",
      "defaultdict(<class 'dict'>,\n",
      "            {'SVD': {0.1: -0.007788517547258645,\n",
      "                     0.2: -0.016260668657253688,\n",
      "                     0.3: -0.028071160999143897}})\n"
     ]
    },
    {
     "data": {
      "image/png": "[encoded data removed]",
      "text/plain": [
       "<Figure size 457.475x360 with 1 Axes>"
      ]
     },
     "metadata": {},
     "output_type": "display_data"
    }
   ],
   "source": [
    "twenty_algo_to_metric_to_group_to = p_b_curve(\n",
    "    samples_df_20m, 'ml-20m',\n",
    "    show_interp=False,\n",
    "    percents=True, normalize=True,\n",
    "    metrics=['ndcg10'],\n",
    "    groups=['non-boycott', 'all', ],\n",
    "    save=True,     \n",
    ")\n",
    "plt.ylim(-1.2, 0.05)\n",
    "plt.savefig('ml-20_pb_curve.svg', bbox_inches='tight', dpi=300)\n",
    "plt.show()"
   ]
  },
  {
   "cell_type": "code",
   "execution_count": 26,
   "metadata": {},
   "outputs": [
    {
     "name": "stderr",
     "output_type": "stream",
     "text": [
      "C:\\Users\\Nick\\Anaconda3\\lib\\site-packages\\scipy\\stats\\stats.py:1713: FutureWarning: Using a non-tuple sequence for multidimensional indexing is deprecated; use `arr[tuple(seq)]` instead of `arr[seq]`. In the future this will be interpreted as an array index, `arr[np.array(seq)]`, which will result either in an error or a different result.\n",
      "  return np.add.reduce(sorted[indexer] * weights, axis=axis) / sumval\n"
     ]
    },
    {
     "name": "stdout",
     "output_type": "stream",
     "text": [
      "Algo:SVD  |  Metric:rmse  |  #users:0.1\n",
      "NB Val:0.02472945762459065  |  ALL val:0.13097278592843878\n",
      "Algo:SVD  |  Metric:rmse  |  #users:0.2\n",
      "NB Val:0.050012859374408886  |  ALL val:0.2569301619531217\n",
      "Algo:SVD  |  Metric:rmse  |  #users:0.3\n",
      "NB Val:0.07844807863338582  |  ALL val:0.3821830060587016\n",
      "Algo:SVD  |  Metric:ndcg10  |  #users:0.1\n",
      "NB Val:-0.06754775360839378  |  ALL val:-0.17066137274875315\n",
      "Algo:SVD  |  Metric:ndcg10  |  #users:0.2\n",
      "NB Val:-0.14355844612009977  |  ALL val:-0.3353765179702833\n",
      "Algo:SVD  |  Metric:ndcg10  |  #users:0.3\n",
      "NB Val:-0.2305288131116384  |  ALL val:-0.4933845828779054\n",
      "0.3 colored line (value of -1.0) shows comparison with MovieMean\n",
      "0.3 colored line (value of 0.0) shows comparison with Zero\n",
      "r colored line (value of -0.30998075032182687) shows comparison with Item KNN (1999)\n",
      "y colored line (value of -0.08537973361158853) shows comparison with Item KNN + Baselines: 2010\n",
      "c colored line (value of -0.7019217956604764) shows comparison with User KNN (1994)\n",
      "\n",
      "0.3 colored line (value of -1.0) shows comparison with MovieMean\n",
      "0.3 colored line (value of 0.0) shows comparison with Zero\n",
      "r colored line (value of -0.30998075032182687) shows comparison with Item KNN (1999)\n",
      "y colored line (value of -0.08537973361158853) shows comparison with Item KNN + Baselines: 2010\n",
      "c colored line (value of -0.7019217956604764) shows comparison with User KNN (1994)\n",
      "\n",
      "0.3 colored line (value of 1.0) shows comparison with MovieMean\n",
      "0.3 colored line (value of 0.0) shows comparison with Zero\n",
      "r colored line (value of 0.383198275215605) shows comparison with Item KNN (1999)\n",
      "y colored line (value of 0.10984501107684452) shows comparison with Item KNN + Baselines: 2010\n",
      "c colored line (value of 0.46612071860777293) shows comparison with User KNN (1994)\n",
      "\n",
      "0.3 colored line (value of 1.0) shows comparison with MovieMean\n",
      "0.3 colored line (value of 0.0) shows comparison with Zero\n",
      "r colored line (value of 0.383198275215605) shows comparison with Item KNN (1999)\n",
      "y colored line (value of 0.10984501107684452) shows comparison with Item KNN + Baselines: 2010\n",
      "c colored line (value of 0.46612071860777293) shows comparison with User KNN (1994)\n",
      "\n",
      "=====\n",
      "Size to Mean Decrease\n",
      "defaultdict(<class 'dict'>,\n",
      "            {'SVD': {0.1: -0.021409147991901564,\n",
      "                     0.2: -0.04677279337284544,\n",
      "                     0.3: -0.07604036723912629}})\n"
     ]
    },
    {
     "data": {
      "image/png": "[encoded data removed]",
      "text/plain": [
       "<Figure size 457.475x720 with 2 Axes>"
      ]
     },
     "metadata": {},
     "output_type": "display_data"
    }
   ],
   "source": [
    "algo_to_metric_to_group_to = p_b_curve(\n",
    "    samples_df_1m, 'ml-1m',\n",
    "    metrics=metrics,\n",
    "    percents=True, normalize=True, show_interp=True,\n",
    "    groups=['non-boycott', 'all', ],\n",
    ")\n",
    "plt.show()"
   ]
  },
  {
   "cell_type": "code",
   "execution_count": 27,
   "metadata": {},
   "outputs": [
    {
     "name": "stderr",
     "output_type": "stream",
     "text": [
      "C:\\Users\\Nick\\Anaconda3\\lib\\site-packages\\scipy\\stats\\stats.py:1713: FutureWarning: Using a non-tuple sequence for multidimensional indexing is deprecated; use `arr[tuple(seq)]` instead of `arr[seq]`. In the future this will be interpreted as an array index, `arr[np.array(seq)]`, which will result either in an error or a different result.\n",
      "  return np.add.reduce(sorted[indexer] * weights, axis=axis) / sumval\n"
     ]
    },
    {
     "name": "stdout",
     "output_type": "stream",
     "text": [
      "Algo:SVD  |  Metric:rmse  |  #users:0.1\n",
      "NB Val:0.02472945762459065  |  ALL val:0.13097278592843878\n",
      "Algo:SVD  |  Metric:rmse  |  #users:0.2\n",
      "NB Val:0.050012859374408886  |  ALL val:0.2569301619531217\n",
      "Algo:SVD  |  Metric:rmse  |  #users:0.3\n",
      "NB Val:0.07844807863338582  |  ALL val:0.3821830060587016\n",
      "0.3 colored line (value of 1.0) shows comparison with MovieMean\n",
      "0.3 colored line (value of 0.0) shows comparison with Zero\n",
      "r colored line (value of 0.383198275215605) shows comparison with Item KNN (1999)\n",
      "y colored line (value of 0.10984501107684452) shows comparison with Item KNN + Baselines: 2010\n",
      "c colored line (value of 0.46612071860777293) shows comparison with User KNN (1994)\n",
      "\n",
      "0.3 colored line (value of 1.0) shows comparison with MovieMean\n",
      "0.3 colored line (value of 0.0) shows comparison with Zero\n",
      "r colored line (value of 0.383198275215605) shows comparison with Item KNN (1999)\n",
      "y colored line (value of 0.10984501107684452) shows comparison with Item KNN + Baselines: 2010\n",
      "c colored line (value of 0.46612071860777293) shows comparison with User KNN (1994)\n",
      "\n",
      "=====\n",
      "Size to Mean Decrease\n",
      "defaultdict(<class 'dict'>,\n",
      "            {'SVD': {0.1: 0.02472945762459065,\n",
      "                     0.2: 0.050012859374408886,\n",
      "                     0.3: 0.07844807863338582}})\n"
     ]
    },
    {
     "data": {
      "image/png": "[encoded data removed]",
      "text/plain": [
       "<Figure size 457.475x360 with 1 Axes>"
      ]
     },
     "metadata": {},
     "output_type": "display_data"
    }
   ],
   "source": [
    "_ = p_b_curve(\n",
    "    samples_df_1m, 'ml-1m',\n",
    "    metrics=['rmse'],\n",
    "    percents=True, normalize=True, show_interp=True,\n",
    "    groups=['non-boycott', 'all', ],\n",
    ")\n",
    "plt.xlim(0, 0.01)\n",
    "plt.ylim(0, 0.02)\n",
    "plt.show()"
   ]
  },
  {
   "cell_type": "markdown",
   "metadata": {},
   "source": [
    "## Find intersection of the non-boycott curve with horizontal lines"
   ]
  },
  {
   "cell_type": "code",
   "execution_count": 28,
   "metadata": {},
   "outputs": [
    {
     "name": "stdout",
     "output_type": "stream",
     "text": [
      "all found item:\n",
      "0.06308681485569516\n",
      "all found knnbasicitem\n",
      "0.18626107143606987\n",
      "all found user\n",
      "0.44050793384182707\n",
      "non-boycott found item:\n",
      "0.13637149835684342\n",
      "non-boycott found knnbasicitem\n",
      "0.37962065928221\n",
      "non-boycott found user\n",
      "0.6526635933089984\n"
     ]
    }
   ],
   "source": [
    "movie_val = -1 * dataset_to_algo_to_metric_to_altalgo['ml-1m']['SVD']['ndcg10']['MovieMean']\n",
    "for group in ['all', 'non-boycott']:\n",
    "    found_item, found_user = False, False\n",
    "    found_itembasic = False\n",
    "    for x in range(0, num_ratings['ml-1m'], int(num_ratings['ml-1m'] / 10000)):\n",
    "        y = algo_to_metric_to_group_to['SVD']['ndcg10'][group]['interp_ratings'](x)\n",
    "        #print(x, y)\n",
    "        if not found_item:\n",
    "            if y <= dataset_to_algo_to_metric_to_altalgo['ml-1m']['SVD']['ndcg10']['KNNBaseline_item_msd']/movie_val:\n",
    "                print(group + ' found item:')\n",
    "                print(x / num_ratings['ml-1m'])\n",
    "                found_item = True\n",
    "        if not found_user:\n",
    "            if y <= dataset_to_algo_to_metric_to_altalgo['ml-1m']['SVD']['ndcg10']['KNNBasic_user_msd'] / movie_val:\n",
    "                print(group + ' found user')\n",
    "                print(x / num_ratings['ml-1m'])\n",
    "                found_user = True\n",
    "        if not found_itembasic:\n",
    "            if y <= dataset_to_algo_to_metric_to_altalgo['ml-1m']['SVD']['ndcg10']['KNNBasic_item_msd'] / movie_val:\n",
    "                print(group + ' found knnbasicitem')\n",
    "                print(x / num_ratings['ml-1m'])\n",
    "                found_itembasic = True"
   ]
  },
  {
   "cell_type": "code",
   "execution_count": 29,
   "metadata": {},
   "outputs": [
    {
     "name": "stdout",
     "output_type": "stream",
     "text": [
      "non-boycott\n",
      "{'30_1m': -23.058666562695052, '30_20m': -2.8121875718078724}\n",
      "all\n",
      "{'30_1m': -49.3478951742734, '30_20m': -34.76984903171993}\n"
     ]
    }
   ],
   "source": [
    "d = {}\n",
    "group = 'non-boycott'\n",
    "print(group)\n",
    "d['30_1m'] = algo_to_metric_to_group_to['SVD']['ndcg10'][group]['interp_ratings'](0.3 * num_ratings['ml-1m']) * 100\n",
    "d['30_20m'] = twenty_algo_to_metric_to_group_to['SVD']['ndcg10'][group]['interp_ratings'](0.3 * num_ratings['ml-20m']) * 100\n",
    "print(d)\n",
    "\n",
    "group = 'all'\n",
    "print(group)\n",
    "d['30_1m'] = algo_to_metric_to_group_to['SVD']['ndcg10'][group]['interp_ratings'](0.3 * num_ratings['ml-1m']) * 100\n",
    "d['30_20m'] = twenty_algo_to_metric_to_group_to['SVD']['ndcg10'][group]['interp_ratings'](0.3 * num_ratings['ml-20m']) * 100\n",
    "print(d)"
   ]
  },
  {
   "cell_type": "code",
   "execution_count": 30,
   "metadata": {},
   "outputs": [
    {
     "name": "stdout",
     "output_type": "stream",
     "text": [
      "{19: -22.196202966014464, 44: -50.83788997030839}\n"
     ]
    }
   ],
   "source": [
    "d = {}\n",
    "d[19] = twenty_algo_to_metric_to_group_to['SVD']['ndcg10'][group]['interp_ratings'](0.19 * num_ratings['ml-20m']) * 100\n",
    "d[44] = twenty_algo_to_metric_to_group_to['SVD']['ndcg10'][group]['interp_ratings'](0.44 * num_ratings['ml-20m']) * 100\n",
    "print(d)"
   ]
  },
  {
   "cell_type": "code",
   "execution_count": 31,
   "metadata": {
    "collapsed": true
   },
   "outputs": [],
   "source": [
    "def half_users(df):\n",
    "    return df[(\n",
    "        (df.userfrac == 0.5) & (df.ratingfrac == 1.0) \n",
    "        #& (df.algo_name == 'SVD')\n",
    "    )]"
   ]
  },
  {
   "cell_type": "code",
   "execution_count": 32,
   "metadata": {
    "collapsed": true
   },
   "outputs": [],
   "source": [
    "def half_ratings(df):\n",
    "    return df[(\n",
    "        (df.userfrac == 1.0) & (df.ratingfrac == 0.5)\n",
    "    )]"
   ]
  },
  {
   "cell_type": "code",
   "execution_count": 33,
   "metadata": {
    "collapsed": true
   },
   "outputs": [],
   "source": [
    "def all_users_all_ratings(df):\n",
    "    return df[(\n",
    "        (df.userfrac == 1.0) & (df.ratingfrac == 1.0)\n",
    "    )]"
   ]
  },
  {
   "cell_type": "code",
   "execution_count": 34,
   "metadata": {
    "collapsed": true
   },
   "outputs": [],
   "source": [
    "NORMALIZE = True\n",
    "normed_org_df = org_df.copy()\n",
    "for metric in metrics:\n",
    "    for algo_name in algo_names:\n",
    "        movie_val = abs(dataset_to_algo_to_metric_to_altalgo['ml-1m']['SVD'][metric]['MovieMean'])\n",
    "        for group in ['non-boycott', 'like-boycott']:\n",
    "            col = 'percent_increase_{}_{}'.format(metric, group)\n",
    "            if NORMALIZE:\n",
    "                normed_org_df.loc[\n",
    "                    normed_org_df.algo_name == algo_name, col\n",
    "                ] = org_df.loc[org_df.algo_name == algo_name, col] / movie_val\n",
    "                \n",
    "for metric in metrics:\n",
    "    expec = []\n",
    "    col = 'percent_increase_{}_expected'.format(metric)\n",
    "    for i, row in normed_org_df.iterrows():\n",
    "        x = row.num_ratings_missing\n",
    "        expec.append(float(algo_to_metric_to_group_to[row.algo_name][metric]['non-boycott']['interp_ratings'](x)))\n",
    "    kwargs = {col: expec}\n",
    "    normed_org_df = normed_org_df.assign(**kwargs)"
   ]
  },
  {
   "cell_type": "markdown",
   "metadata": {},
   "source": [
    "## LB = like-boycott\n",
    "### So lbless is the number cases where the like boycott performance change was less than expected"
   ]
  },
  {
   "cell_type": "code",
   "execution_count": 35,
   "metadata": {
    "collapsed": true
   },
   "outputs": [],
   "source": [
    "def plot2(\n",
    "        df, metrics, groups,\n",
    "        percents=False, kind='bar', height=4, flip=False, filename='tmp.svg', save=False,\n",
    "        palette=None, aspect=1\n",
    "    ):\n",
    "    \"\"\"\n",
    "    Plots the results of homogenous boycotts\n",
    "    e.g. 50% of Comedy fans boycott together\n",
    "    \"\"\"\n",
    "    print('len of df (number of experiments included)', len(df.index))\n",
    "    for name in list(set(df.name)):\n",
    "#        tmp = df[df.name == name].num_ratings_missing.mean()\n",
    "        tmp = df[df.name == name].num_users_boycotting.mean()\n",
    "        print('Num users boycottng: {}. As a percent: {}'.format(tmp, tmp*100))\n",
    "#         print('name', name)\n",
    "#         print('mean number of ratings missing', tmp)\n",
    "#         print(algo_to_metric_to_group_to['SVD']['ndcg10']['non-boycott']['interp_ratings'](tmp))\n",
    "    increase_cols = select_cols(list(df.columns.values), metrics, groups, percents)\n",
    "    increase_cols = [x for x in increase_cols if 'vanilla' not in x]\n",
    "    longform = df[increase_cols + id_vars].melt(\n",
    "        id_vars = id_vars,\n",
    "        var_name='increase_type'\n",
    "    )\n",
    "    longform = fill_in_longform(longform)\n",
    "    if flip:\n",
    "        x = \"name\"\n",
    "        y = \"value\"\n",
    "    else:\n",
    "        x = \"value\"\n",
    "        y = \"name\"\n",
    "    if '?' in filename:\n",
    "        legend = False\n",
    "    else:\n",
    "        legend = True\n",
    "    grid = sns.factorplot(\n",
    "        x=x, y=y, hue=\"group\", data=longform,\n",
    "        height=height, kind=kind, col='algo_name', row='metric',\n",
    "        sharex=False,\n",
    "        row_order=metrics,\n",
    "        legend=legend,\n",
    "        legend_out=True,\n",
    "        palette=palette,\n",
    "        aspect=aspect\n",
    "    )\n",
    "    a = grid.axes\n",
    "    \n",
    "#     for metric in metrics:\n",
    "#         for col in increase_cols:\n",
    "#             if metric in col and 'expected' in col:\n",
    "#                 expec = col\n",
    "    \n",
    "    name_to_ratios = defaultdict(list)\n",
    "    diffs = defaultdict(dict)\n",
    "    ratios = defaultdict(dict)\n",
    "    name_to_counts = defaultdict(lambda: defaultdict(int))\n",
    "    \n",
    "    for x in grid.facet_data():\n",
    "        i_row, i_col, i_hue = x[0]\n",
    "        metric = grid.row_names[i_row]\n",
    "        algo_name = grid.col_names[i_col]\n",
    "        if grid.hue_names:\n",
    "            group = grid.hue_names[i_hue]        \n",
    "        \n",
    "        if NORMALIZE:\n",
    "            val = -1\n",
    "        else:\n",
    "            val = abs(dataset_to_algo_to_metric_to_altalgo['ml-1m']['SVD'][metric]['MovieMean'])\n",
    "        \n",
    "        if flip:\n",
    "            grid.axes[i_row, i_col].axhline(0, color='0.7', linestyle='-')\n",
    "        else:\n",
    "            grid.axes[i_row, i_col].axvline(0, color='0.7', linestyle='-')\n",
    "            grid.axes[i_row, i_col].axvline(val, color='0.7', linestyle='-')\n",
    "        \n",
    "        for col in increase_cols:\n",
    "            if metric == col.split('_')[-2]:\n",
    "                if 'expected' in col:\n",
    "                    expec = col\n",
    "                elif 'non-boycott' in col:\n",
    "                    nb = col\n",
    "                elif 'like-boycott' in col:\n",
    "                    lb = col\n",
    "        for name in list(set(longform.name)):\n",
    "            mask = (\n",
    "                (longform.metric == metric) &\n",
    "                (longform.algo_name == algo_name) &\n",
    "                (longform.name == name)\n",
    "            )\n",
    "            \n",
    "            masked = longform[mask]\n",
    "            try:\n",
    "                expec_arr = np.array(masked[masked.increase_type == expec].value)\n",
    "                nb_arr = np.array(masked[masked.increase_type == nb].value)\n",
    "                lb_arr = np.array(masked[masked.increase_type == lb].value)\n",
    "                \n",
    "                expec_mean = np.mean(expec_arr)\n",
    "                nb_mean = np.mean(nb_arr)\n",
    "                lb_mean = np.nanmean(lb_arr)\n",
    "                \n",
    "                ratio = nb_mean / expec_mean\n",
    "                diff = nb_mean - expec_mean\n",
    "                lb_diff = lb_mean - nb_mean\n",
    "                lb_ratio = lb_mean / expec_mean\n",
    "\n",
    "                pval = stats.ttest_ind(expec_arr, nb_arr, equal_var=False).pvalue                \n",
    "                name_to_counts[name]['total'] += 1\n",
    "                \n",
    "                print('{} {} {}, {}, {}'.format(metric, algo_name, name, expec, nb))\n",
    "                print('Ratio: {}, pval: {}'.format(ratio, pval))\n",
    "                print('LB to NB: {}'.format(lb_diff / diff))\n",
    "                name_to_ratios[name].append(ratio)\n",
    "                diffs['nb'][name] = diff\n",
    "                diffs['lb'][name] = lb_diff\n",
    "                \n",
    "                ratios['nb'][name] = ratio\n",
    "                ratios['lb'][name] = lb_ratio\n",
    "                \n",
    "                if pval < 0.5:\n",
    "                    name_to_counts[name]['total_sig'] += 1\n",
    "\n",
    "                if diff > 0:\n",
    "                    name_to_counts[name]['total_less'] += 1\n",
    "                else:\n",
    "                    name_to_counts[name]['total_more'] += 1\n",
    "                #print('lb info', lb_diff, lb_mean, nb_mean)\n",
    "                if lb_diff < 0:\n",
    "                    name_to_counts[name]['total_lbless'] += 1\n",
    "            except Exception as err:\n",
    "                print(err)\n",
    "                print(algo_name, metric)\n",
    "    total = 0\n",
    "    total_sig = 0\n",
    "    total_less = 0\n",
    "    total_more = 0\n",
    "    total_lbless = 0\n",
    "    \n",
    "    for name, counts in name_to_counts.items():\n",
    "        total += counts['total']\n",
    "        total_sig += counts['total_sig']\n",
    "        total_less += counts['total_less']\n",
    "        total_more += counts['total_more']\n",
    "        total_lbless += counts['total_lbless']\n",
    "\n",
    "    print('Totals:')\n",
    "    print('{} lbless, {} sig, {} less, and {} more out of {} total'.format(\n",
    "            total_lbless, total_sig, total_less,\n",
    "            total_more, total)\n",
    "        )\n",
    "    if save:\n",
    "        new_labels = ['Similar Users', 'Not Participating\\n Users', 'Expected']\n",
    "        for t, l in zip(grid._legend.texts, new_labels): t.set_text(l)\n",
    "        if 'h2' in filename:\n",
    "            grid.set_ylabels(\"\")\n",
    "        else:\n",
    "            grid.set_ylabels(YLABEL)\n",
    "        grid.set_xlabels(\"\")\n",
    "        grid.set_titles(\"\")\n",
    "        plt.savefig(filename, size=(3, 3), bbox_inches='tight', dpi=300)\n",
    "    return grid, (total, total_sig, total_less, total_more, total_lbless), (diffs, ratios)\n"
   ]
  },
  {
   "cell_type": "code",
   "execution_count": 36,
   "metadata": {
    "collapsed": true
   },
   "outputs": [],
   "source": [
    "normed_org_df = normed_org_df[normed_org_df.algo_name == 'SVD']"
   ]
  },
  {
   "cell_type": "code",
   "execution_count": 37,
   "metadata": {
    "collapsed": true
   },
   "outputs": [],
   "source": [
    "gender_boycotts = normed_org_df[normed_org_df['type'] == 'gender']\n",
    "age_boycotts = normed_org_df[normed_org_df['type'] == 'age']\n",
    "occupation_boycotts = normed_org_df[normed_org_df['type'] == 'occupation']\n",
    "power_boycotts = normed_org_df[normed_org_df['type'] == 'power']\n",
    "genre_boycotts = normed_org_df[normed_org_df['type'] == 'genre']\n",
    "state_boycotts = org_df[org_df['type'] == 'state']\n",
    "\n",
    "# removing these from contention\n",
    "# genre_strict_boycotts = org_df[org_df['type'] == 'genre_strict']"
   ]
  },
  {
   "cell_type": "markdown",
   "metadata": {},
   "source": [
    "# Control which metrics we do comparisons for here.."
   ]
  },
  {
   "cell_type": "code",
   "execution_count": 38,
   "metadata": {
    "collapsed": true
   },
   "outputs": [],
   "source": [
    "metrics=['ndcg10']"
   ]
  },
  {
   "cell_type": "code",
   "execution_count": 39,
   "metadata": {
    "collapsed": true
   },
   "outputs": [],
   "source": [
    "palette={'all': 'b', 'non-boycott': 'g', 'expected': 'y', 'like-boycott': 'c'}\n",
    "\n",
    "def plot_all_three_scenarios(df, height=6):\n",
    "#     all_df = all_users_all_ratings(df)\n",
    "#     if not all_df.empty:\n",
    "#         grid, (total, total_sig, total_less, total_more, total_lbless), diffs, ratios = plot2(\n",
    "#             all_users_all_ratings(df),\n",
    "#             metrics=metrics,\n",
    "#             percents=True,\n",
    "#             groups=['all', 'non-boycott', 'expected'],\n",
    "#             height=height,\n",
    "#             palette=palette\n",
    "#         )\n",
    "#         grid.fig.suptitle('All Users, All Ratings')\n",
    "#         print('total1', total)\n",
    "\n",
    "    total, total_sig, total_less, total_more, total_lbless = 0, 0, 0, 0, 0\n",
    "    \n",
    "    half_users_df = half_users(df)\n",
    "    if not half_users_df.empty:\n",
    "        grid, (total2, total_sig2, total_less2, total_more2, total_lbless2), (diffs, ratios) = plot2(\n",
    "            half_users_df,\n",
    "            metrics=metrics,\n",
    "            percents=True,\n",
    "            groups=['non-boycott', 'like-boycott', 'expected'],\n",
    "            height=height,\n",
    "            kind='bar',\n",
    "            palette=palette\n",
    "        )\n",
    "        grid.fig.suptitle('Half Users')\n",
    "        total += total2\n",
    "        total_sig += total_sig2\n",
    "        total_less += total_less2\n",
    "        total_more += total_more2\n",
    "        total_lbless += total_lbless2\n",
    "        print('total2', total2, total)\n",
    "        \n",
    "#     half_ratings_df = half_ratings(df)\n",
    "#     if not half_ratings_df.empty:\n",
    "#         plot2(\n",
    "#             half_ratings_df,\n",
    "#             metrics=metrics,\n",
    "#             percents=True,\n",
    "#             groups=['non-boycott', 'boycott', 'like-boycott', 'expected'],\n",
    "#             height=height,\n",
    "#         ).fig.suptitle('Half Ratings')\n",
    "#     plt.show()\n",
    "    \n",
    "    return (total, total_sig, total_less, total_more, total_lbless), (diffs, ratios)"
   ]
  },
  {
   "cell_type": "code",
   "execution_count": 40,
   "metadata": {
    "collapsed": true
   },
   "outputs": [],
   "source": [
    "running_totals = {\n",
    "    'total': 0,\n",
    "    'total_sig': 0,\n",
    "    'total_less': 0,\n",
    "    'total_more': 0,\n",
    "    'total_lbless': 0\n",
    "}\n",
    "all_diffs = {\n",
    "    'lb': {},\n",
    "    'nb': {}\n",
    "}\n",
    "all_ratios = {\n",
    "    'lb': {},\n",
    "    'nb': {}\n",
    "}"
   ]
  },
  {
   "cell_type": "markdown",
   "metadata": {},
   "source": [
    "# Make plots for paper here."
   ]
  },
  {
   "cell_type": "code",
   "execution_count": 41,
   "metadata": {
    "scrolled": false
   },
   "outputs": [
    {
     "name": "stdout",
     "output_type": "stream",
     "text": [
      "len of df (number of experiments included) 200\n",
      "Num users boycottng: 0.04999999999999998. As a percent: 4.999999999999998\n",
      "Num users boycottng: 0.023841059602649022. As a percent: 2.384105960264902\n",
      "Num users boycottng: 0.14139072847682124. As a percent: 14.139072847682124\n",
      "Num users boycottng: 0.3586092715231786. As a percent: 35.86092715231786\n"
     ]
    },
    {
     "name": "stderr",
     "output_type": "stream",
     "text": [
      "C:\\Users\\Nick\\Anaconda3\\lib\\site-packages\\seaborn\\categorical.py:3666: UserWarning: The `factorplot` function has been renamed to `catplot`. The original name will be removed in a future release. Please update your code. Note that the default `kind` in `factorplot` (`'point'`) has changed `'strip'` in `catplot`.\n",
      "  warnings.warn(msg)\n",
      "C:\\Users\\Nick\\Anaconda3\\lib\\site-packages\\scipy\\stats\\stats.py:1713: FutureWarning: Using a non-tuple sequence for multidimensional indexing is deprecated; use `arr[tuple(seq)]` instead of `arr[seq]`. In the future this will be interpreted as an array index, `arr[np.array(seq)]`, which will result either in an error or a different result.\n",
      "  return np.add.reduce(sorted[indexer] * weights, axis=axis) / sumval\n"
     ]
    },
    {
     "name": "stdout",
     "output_type": "stream",
     "text": [
      "ndcg10 SVD power users, percent_increase_ndcg10_expected, percent_increase_ndcg10_non-boycott\n",
      "Ratio: 1.9219657974527684, pval: 1.889054624241862e-25\n",
      "LB to NB: 1.378090808601134\n",
      "ndcg10 SVD fans of film-noir, percent_increase_ndcg10_expected, percent_increase_ndcg10_non-boycott\n",
      "Ratio: 1.5773037533485257, pval: 3.077893904975885e-05\n",
      "LB to NB: 9.65455133926736\n",
      "ndcg10 SVD female users, percent_increase_ndcg10_expected, percent_increase_ndcg10_non-boycott\n",
      "Ratio: 0.8189799031262375, pval: 0.0011232169985036355\n",
      "LB to NB: -5.622975123343125\n",
      "ndcg10 SVD male users, percent_increase_ndcg10_expected, percent_increase_ndcg10_non-boycott\n",
      "Ratio: 1.1037525659881051, pval: 4.340371224182552e-05\n",
      "LB to NB: 2.0395623659501396\n",
      "Totals:\n",
      "4 lbless, 4 sig, 1 less, and 3 more out of 4 total\n"
     ]
    },
    {
     "data": {
      "image/png": "[encoded data removed]",
      "text/plain": [
       "<Figure size 475.475x252 with 1 Axes>"
      ]
     },
     "metadata": {},
     "output_type": "display_data"
    }
   ],
   "source": [
    "df1 = half_users(gender_boycotts)\n",
    "df2 = half_users(genre_boycotts)\n",
    "df3 = half_users(power_boycotts)\n",
    "\n",
    "grid, (total, total_sig, total_less, total_more, total_lbless), (diffs, ratios) = plot2(\n",
    "    pd.concat([df1[\n",
    "        #(df1.name.str.contains('female')) & \n",
    "        (df1.algo_name == 'SVD')],\n",
    "        df2[(df2.name.str.contains('film-noir')) & (df2.algo_name == 'SVD')],\n",
    "        df3[(df3.name.str.contains('power')) & (df3.algo_name == 'SVD')]\n",
    "    \n",
    "    ]),\n",
    "    metrics=['ndcg10'],\n",
    "    percents=True,\n",
    "    groups=['non-boycott', 'like-boycott', 'expected'],\n",
    "    height=3.5,\n",
    "    kind='bar',\n",
    "    flip=True,\n",
    "    filename='h1.svg', save=True,\n",
    "    palette=palette,\n",
    "    aspect=1.5\n",
    ")\n",
    "\n",
    "# grid, (total, total_sig, total_less, total_more) = plot2(\n",
    "#     df2[(df2.name.str.contains('Film-Noir')) & (df2.algo_name == 'SVD')],\n",
    "#     metrics=['ndcg10'],\n",
    "#     percents=True,\n",
    "#     groups=['non-boycott', 'expected', 'like-boycott',],\n",
    "#     height=2.5,\n",
    "#     kind='bar',\n",
    "#     flip=True,\n",
    "#     filename='h2.svg', save=True,\n",
    "#     palette=palette\n",
    "# )\n",
    "\n",
    "# grid, (total, total_sig, total_less, total_more) = plot2(\n",
    "#     df3[(df3.name.str.contains('power')) & (df3.algo_name == 'SVD')],\n",
    "#     metrics=['ndcg10'],\n",
    "#     percents=True,\n",
    "#     groups=['non-boycott', 'expected', 'like-boycott',],\n",
    "#     size=2.5,\n",
    "#     kind='bar',\n",
    "#     flip=True,\n",
    "#     filename='h3.svg', save=True,\n",
    "#     palette=palette\n",
    "# )\n",
    "\n",
    "plt.show()"
   ]
  },
  {
   "cell_type": "markdown",
   "metadata": {},
   "source": [
    "## Male User and Female User Boycotts"
   ]
  },
  {
   "cell_type": "code",
   "execution_count": 42,
   "metadata": {
    "scrolled": false
   },
   "outputs": [
    {
     "name": "stdout",
     "output_type": "stream",
     "text": [
      "len of df (number of experiments included) 100\n",
      "Num users boycottng: 0.14139072847682124. As a percent: 14.139072847682124\n",
      "Num users boycottng: 0.3586092715231786. As a percent: 35.86092715231786\n"
     ]
    },
    {
     "name": "stderr",
     "output_type": "stream",
     "text": [
      "C:\\Users\\Nick\\Anaconda3\\lib\\site-packages\\seaborn\\categorical.py:3666: UserWarning: The `factorplot` function has been renamed to `catplot`. The original name will be removed in a future release. Please update your code. Note that the default `kind` in `factorplot` (`'point'`) has changed `'strip'` in `catplot`.\n",
      "  warnings.warn(msg)\n",
      "C:\\Users\\Nick\\Anaconda3\\lib\\site-packages\\scipy\\stats\\stats.py:1713: FutureWarning: Using a non-tuple sequence for multidimensional indexing is deprecated; use `arr[tuple(seq)]` instead of `arr[seq]`. In the future this will be interpreted as an array index, `arr[np.array(seq)]`, which will result either in an error or a different result.\n",
      "  return np.add.reduce(sorted[indexer] * weights, axis=axis) / sumval\n"
     ]
    },
    {
     "name": "stdout",
     "output_type": "stream",
     "text": [
      "ndcg10 SVD female users, percent_increase_ndcg10_expected, percent_increase_ndcg10_non-boycott\n",
      "Ratio: 0.8189799031262375, pval: 0.0011232169985036355\n",
      "LB to NB: -5.622975123343125\n",
      "ndcg10 SVD male users, percent_increase_ndcg10_expected, percent_increase_ndcg10_non-boycott\n",
      "Ratio: 1.1037525659881051, pval: 4.340371224182552e-05\n",
      "LB to NB: 2.0395623659501396\n",
      "Totals:\n",
      "2 lbless, 2 sig, 1 less, and 1 more out of 2 total\n",
      "total2 2 2\n"
     ]
    },
    {
     "data": {
      "image/png": "[encoded data removed]",
      "text/plain": [
       "<Figure size 529.475x432 with 1 Axes>"
      ]
     },
     "metadata": {},
     "output_type": "display_data"
    }
   ],
   "source": [
    "(total, total_sig, total_less, total_more, total_lbless), (diffs, ratios) = plot_all_three_scenarios(gender_boycotts)\n",
    "running_totals['total'] += total\n",
    "running_totals['total_sig'] += total_sig\n",
    "running_totals['total_less'] += total_less\n",
    "running_totals['total_more'] += total_more\n",
    "running_totals['total_lbless'] += total_lbless\n",
    "for key in all_diffs.keys():\n",
    "    all_diffs[key].update(diffs[key])\n",
    "    all_ratios[key].update(ratios[key])\n",
    "\n",
    "plt.show()"
   ]
  },
  {
   "cell_type": "markdown",
   "metadata": {},
   "source": [
    "# Power Boycotts\n",
    "\n",
    "Below, the power boycotts show a very weird results. Warrants double checks."
   ]
  },
  {
   "cell_type": "code",
   "execution_count": 43,
   "metadata": {
    "scrolled": false
   },
   "outputs": [
    {
     "name": "stdout",
     "output_type": "stream",
     "text": [
      "len of df (number of experiments included) 100\n",
      "Num users boycottng: 0.04999999999999998. As a percent: 4.999999999999998\n",
      "Num users boycottng: 0.051324503311258284. As a percent: 5.1324503311258285\n"
     ]
    },
    {
     "name": "stderr",
     "output_type": "stream",
     "text": [
      "C:\\Users\\Nick\\Anaconda3\\lib\\site-packages\\seaborn\\categorical.py:3666: UserWarning: The `factorplot` function has been renamed to `catplot`. The original name will be removed in a future release. Please update your code. Note that the default `kind` in `factorplot` (`'point'`) has changed `'strip'` in `catplot`.\n",
      "  warnings.warn(msg)\n",
      "C:\\Users\\Nick\\Anaconda3\\lib\\site-packages\\scipy\\stats\\stats.py:1713: FutureWarning: Using a non-tuple sequence for multidimensional indexing is deprecated; use `arr[tuple(seq)]` instead of `arr[seq]`. In the future this will be interpreted as an array index, `arr[np.array(seq)]`, which will result either in an error or a different result.\n",
      "  return np.add.reduce(sorted[indexer] * weights, axis=axis) / sumval\n"
     ]
    },
    {
     "name": "stdout",
     "output_type": "stream",
     "text": [
      "ndcg10 SVD power users, percent_increase_ndcg10_expected, percent_increase_ndcg10_non-boycott\n",
      "Ratio: 1.9219657974527684, pval: 1.889054624241862e-25\n",
      "LB to NB: 1.378090808601134\n",
      "ndcg10 SVD bottom 10% contributors, percent_increase_ndcg10_expected, percent_increase_ndcg10_non-boycott\n",
      "Ratio: -0.35078652033834323, pval: 0.005472765027063369\n",
      "LB to NB: -91.34902774921616\n",
      "Totals:\n",
      "2 lbless, 2 sig, 1 less, and 1 more out of 2 total\n",
      "total2 2 2\n"
     ]
    },
    {
     "data": {
      "image/png": "[encoded data removed]",
      "text/plain": [
       "<Figure size 529.475x432 with 1 Axes>"
      ]
     },
     "metadata": {},
     "output_type": "display_data"
    }
   ],
   "source": [
    "(total, total_sig, total_less, total_more, total_lbless), (diffs, ratios) = plot_all_three_scenarios(power_boycotts)\n",
    "running_totals['total'] += total\n",
    "running_totals['total_sig'] += total_sig\n",
    "running_totals['total_less'] += total_less\n",
    "running_totals['total_more'] += total_more\n",
    "running_totals['total_lbless'] += total_lbless\n",
    "\n",
    "for key in all_diffs.keys():\n",
    "    all_diffs[key].update(diffs[key])\n",
    "    all_ratios[key].update(ratios[key])\n",
    "\n",
    "\n",
    "plt.show()"
   ]
  },
  {
   "cell_type": "markdown",
   "metadata": {},
   "source": [
    "# Age Boycotts"
   ]
  },
  {
   "cell_type": "code",
   "execution_count": 44,
   "metadata": {
    "scrolled": false
   },
   "outputs": [
    {
     "name": "stdout",
     "output_type": "stream",
     "text": [
      "len of df (number of experiments included) 350\n",
      "Num users boycottng: 0.17350993377483445. As a percent: 17.350993377483444\n",
      "Num users boycottng: 0.041059602649006634. As a percent: 4.105960264900664\n",
      "Num users boycottng: 0.09139072847682124. As a percent: 9.139072847682124\n",
      "Num users boycottng: 0.03145695364238411. As a percent: 3.145695364238411\n",
      "Num users boycottng: 0.04552980132450333. As a percent: 4.552980132450333\n",
      "Num users boycottng: 0.09867549668874175. As a percent: 9.867549668874174\n",
      "Num users boycottng: 0.0183774834437086. As a percent: 1.8377483443708602\n"
     ]
    },
    {
     "name": "stderr",
     "output_type": "stream",
     "text": [
      "C:\\Users\\Nick\\Anaconda3\\lib\\site-packages\\seaborn\\categorical.py:3666: UserWarning: The `factorplot` function has been renamed to `catplot`. The original name will be removed in a future release. Please update your code. Note that the default `kind` in `factorplot` (`'point'`) has changed `'strip'` in `catplot`.\n",
      "  warnings.warn(msg)\n",
      "C:\\Users\\Nick\\Anaconda3\\lib\\site-packages\\scipy\\stats\\stats.py:1713: FutureWarning: Using a non-tuple sequence for multidimensional indexing is deprecated; use `arr[tuple(seq)]` instead of `arr[seq]`. In the future this will be interpreted as an array index, `arr[np.array(seq)]`, which will result either in an error or a different result.\n",
      "  return np.add.reduce(sorted[indexer] * weights, axis=axis) / sumval\n"
     ]
    },
    {
     "name": "stdout",
     "output_type": "stream",
     "text": [
      "ndcg10 SVD 25-34, percent_increase_ndcg10_expected, percent_increase_ndcg10_non-boycott\n",
      "Ratio: 1.0907840853420248, pval: 0.011684818905722557\n",
      "LB to NB: 1.9307029104817985\n",
      "ndcg10 SVD 50-55, percent_increase_ndcg10_expected, percent_increase_ndcg10_non-boycott\n",
      "Ratio: 1.0077767681603076, pval: 0.9703300685940772\n",
      "LB to NB: 547.9069259652542\n",
      "ndcg10 SVD 18-24, percent_increase_ndcg10_expected, percent_increase_ndcg10_non-boycott\n",
      "Ratio: 1.3833196977475932, pval: 2.0695780449423394e-05\n",
      "LB to NB: 3.8272032352204457\n",
      "ndcg10 SVD 56+, percent_increase_ndcg10_expected, percent_increase_ndcg10_non-boycott\n",
      "Ratio: -0.24985036308180447, pval: 0.0002809359244364193\n",
      "LB to NB: -3.3910815030404904\n",
      "ndcg10 SVD 45-49, percent_increase_ndcg10_expected, percent_increase_ndcg10_non-boycott\n",
      "Ratio: 1.1096856553862546, pval: 0.539334048214529\n",
      "LB to NB: 29.577873827986934\n",
      "ndcg10 SVD 35-44, percent_increase_ndcg10_expected, percent_increase_ndcg10_non-boycott\n",
      "Ratio: 1.0938295876624033, pval: 0.19779541839418893\n",
      "LB to NB: 10.097245199258412\n",
      "ndcg10 SVD under 18, percent_increase_ndcg10_expected, percent_increase_ndcg10_non-boycott\n",
      "Ratio: 0.02487955381315747, pval: 0.008022604009066844\n",
      "LB to NB: -28.949894919585677\n",
      "Totals:\n",
      "7 lbless, 5 sig, 2 less, and 5 more out of 7 total\n",
      "total2 7 7\n"
     ]
    },
    {
     "data": {
      "image/png": "[encoded data removed]",
      "text/plain": [
       "<Figure size 529.475x432 with 1 Axes>"
      ]
     },
     "metadata": {},
     "output_type": "display_data"
    }
   ],
   "source": [
    "(total, total_sig, total_less, total_more, total_lbless), (diffs, ratios) = plot_all_three_scenarios(age_boycotts)\n",
    "running_totals['total'] += total\n",
    "running_totals['total_sig'] += total_sig\n",
    "running_totals['total_less'] += total_less\n",
    "running_totals['total_more'] += total_more\n",
    "running_totals['total_lbless'] += total_lbless\n",
    "\n",
    "for key in all_diffs.keys():\n",
    "    all_diffs[key].update(diffs[key])\n",
    "    all_ratios[key].update(ratios[key])\n",
    "\n",
    "plt.show()\n"
   ]
  },
  {
   "cell_type": "markdown",
   "metadata": {},
   "source": [
    "# Occupation Boycotts"
   ]
  },
  {
   "cell_type": "code",
   "execution_count": 45,
   "metadata": {
    "scrolled": false
   },
   "outputs": [
    {
     "name": "stdout",
     "output_type": "stream",
     "text": [
      "len of df (number of experiments included) 1050\n",
      "Num users boycottng: 0.056291390728476845. As a percent: 5.629139072847685\n",
      "Num users boycottng: 0.03211920529801326. As a percent: 3.2119205298013256\n",
      "Num users boycottng: 0.009271523178807958. As a percent: 0.9271523178807959\n",
      "Num users boycottng: 0.005794701986754968. As a percent: 0.5794701986754968\n",
      "Num users boycottng: 0.02218543046357616. As a percent: 2.218543046357616\n",
      "Num users boycottng: 0.01059602649006623. As a percent: 1.059602649006623\n",
      "Num users boycottng: 0.0059602649006622556. As a percent: 0.5960264900662255\n",
      "Num users boycottng: 0.06291390728476821. As a percent: 6.291390728476822\n",
      "Num users boycottng: 0.02317880794701987. As a percent: 2.317880794701987\n",
      "Num users boycottng: 0.014238410596026487. As a percent: 1.4238410596026487\n",
      "Num users boycottng: 0.04370860927152315. As a percent: 4.3708609271523144\n",
      "Num users boycottng: 0.05894039735099335. As a percent: 5.894039735099335\n",
      "Num users boycottng: 0.016225165562913896. As a percent: 1.6225165562913895\n",
      "Num users boycottng: 0.019867549668874166. As a percent: 1.9867549668874167\n",
      "Num users boycottng: 0.02499999999999999. As a percent: 2.499999999999999\n",
      "Num users boycottng: 0.011754966887417218. As a percent: 1.1754966887417218\n",
      "Num users boycottng: 0.011920529801324511. As a percent: 1.192052980132451\n",
      "Num users boycottng: 0.0013245033112582788. As a percent: 0.13245033112582788\n",
      "Num users boycottng: 0.007615894039735103. As a percent: 0.7615894039735103\n",
      "Num users boycottng: 0.019536423841059587. As a percent: 1.9536423841059587\n",
      "Num users boycottng: 0.04155629139072852. As a percent: 4.155629139072852\n"
     ]
    },
    {
     "name": "stderr",
     "output_type": "stream",
     "text": [
      "C:\\Users\\Nick\\Anaconda3\\lib\\site-packages\\seaborn\\categorical.py:3666: UserWarning: The `factorplot` function has been renamed to `catplot`. The original name will be removed in a future release. Please update your code. Note that the default `kind` in `factorplot` (`'point'`) has changed `'strip'` in `catplot`.\n",
      "  warnings.warn(msg)\n",
      "C:\\Users\\Nick\\Anaconda3\\lib\\site-packages\\scipy\\stats\\stats.py:1713: FutureWarning: Using a non-tuple sequence for multidimensional indexing is deprecated; use `arr[tuple(seq)]` instead of `arr[seq]`. In the future this will be interpreted as an array index, `arr[np.array(seq)]`, which will result either in an error or a different result.\n",
      "  return np.add.reduce(sorted[indexer] * weights, axis=axis) / sumval\n"
     ]
    },
    {
     "name": "stdout",
     "output_type": "stream",
     "text": [
      "ndcg10 SVD executive/managerial, percent_increase_ndcg10_expected, percent_increase_ndcg10_non-boycott\n",
      "Ratio: 1.0827245285647056, pval: 0.6573315377554353\n",
      "LB to NB: 7.0404633543566675\n",
      "ndcg10 SVD programmer, percent_increase_ndcg10_expected, percent_increase_ndcg10_non-boycott\n",
      "Ratio: 1.1681632810789333, pval: 0.535280477287764\n",
      "LB to NB: -6.411292234536559\n",
      "ndcg10 SVD customer service, percent_increase_ndcg10_expected, percent_increase_ndcg10_non-boycott\n",
      "Ratio: 0.0324502972439743, pval: 0.005833348913717383\n",
      "LB to NB: -40.6193230936117\n",
      "ndcg10 SVD tradesman/craftsman, percent_increase_ndcg10_expected, percent_increase_ndcg10_non-boycott\n",
      "Ratio: -0.19686733545491944, pval: 0.002045670505317963\n",
      "LB to NB: 12.0372193793219\n",
      "ndcg10 SVD artist, percent_increase_ndcg10_expected, percent_increase_ndcg10_non-boycott\n",
      "Ratio: 0.6722298922009121, pval: 0.22033477291162742\n",
      "LB to NB: 0.7540458973008811\n",
      "ndcg10 SVD lawyer, percent_increase_ndcg10_expected, percent_increase_ndcg10_non-boycott\n",
      "Ratio: 0.5064948755050948, pval: 0.24939143113674045\n",
      "LB to NB: -9.607639743206592\n",
      "ndcg10 SVD unemployed, percent_increase_ndcg10_expected, percent_increase_ndcg10_non-boycott\n",
      "Ratio: 0.17465938153588326, pval: 0.04305099188320465\n",
      "LB to NB: 2.482392329118387\n",
      "ndcg10 SVD college/grad student, percent_increase_ndcg10_expected, percent_increase_ndcg10_non-boycott\n",
      "Ratio: 1.2118538668562613, pval: 0.0760061602926102\n",
      "LB to NB: -4.717242959026794\n",
      "ndcg10 SVD writer, percent_increase_ndcg10_expected, percent_increase_ndcg10_non-boycott\n",
      "Ratio: 1.2977430705098856, pval: 0.19234262727194393\n",
      "LB to NB: -16.324819651643928\n",
      "ndcg10 SVD clerical/admin, percent_increase_ndcg10_expected, percent_increase_ndcg10_non-boycott\n",
      "Ratio: 0.49067287052211694, pval: 0.14795066793550157\n",
      "LB to NB: 31.877028802132727\n",
      "ndcg10 SVD academic/educator, percent_increase_ndcg10_expected, percent_increase_ndcg10_non-boycott\n",
      "Ratio: 1.0545781972088564, pval: 0.753605761894893\n",
      "LB to NB: -1.965732898541947\n",
      "ndcg10 SVD other, percent_increase_ndcg10_expected, percent_increase_ndcg10_non-boycott\n",
      "Ratio: 1.0461057000106597, pval: 0.6429167838305176\n",
      "LB to NB: 49.25850277474789\n",
      "ndcg10 SVD k-12 student, percent_increase_ndcg10_expected, percent_increase_ndcg10_non-boycott\n",
      "Ratio: -0.7757732500745306, pval: 3.011674762525121e-05\n",
      "LB to NB: -20.004987395687134\n",
      "ndcg10 SVD self-employed, percent_increase_ndcg10_expected, percent_increase_ndcg10_non-boycott\n",
      "Ratio: 0.8751031118392857, pval: 0.5547550684076519\n",
      "LB to NB: -4.924879266712874\n",
      "ndcg10 SVD sales/marketing, percent_increase_ndcg10_expected, percent_increase_ndcg10_non-boycott\n",
      "Ratio: 1.2365006017805282, pval: 0.2759990486292545\n",
      "LB to NB: -50.13764948817408\n",
      "ndcg10 SVD retired, percent_increase_ndcg10_expected, percent_increase_ndcg10_non-boycott\n",
      "Ratio: -0.45849024506604596, pval: 0.001721163511895735\n",
      "LB to NB: 5.206906847826759\n",
      "ndcg10 SVD scientist, percent_increase_ndcg10_expected, percent_increase_ndcg10_non-boycott\n",
      "Ratio: 0.44682781103235225, pval: 0.1940651714797037\n",
      "LB to NB: 53.78250539627521\n",
      "ndcg10 SVD farmer, percent_increase_ndcg10_expected, percent_increase_ndcg10_non-boycott\n",
      "Ratio: 0.4660778722223173, pval: 0.24318205275128604\n",
      "LB to NB: -160.9646212118804\n",
      "ndcg10 SVD homemaker, percent_increase_ndcg10_expected, percent_increase_ndcg10_non-boycott\n",
      "Ratio: -0.4158911364980974, pval: 0.005000264815618266\n",
      "LB to NB: -20.468322605011142\n",
      "ndcg10 SVD doctor/health care, percent_increase_ndcg10_expected, percent_increase_ndcg10_non-boycott\n",
      "Ratio: 0.7950867933341985, pval: 0.5541719361541144\n",
      "LB to NB: -84.69363871523987\n",
      "ndcg10 SVD technician/engineer, percent_increase_ndcg10_expected, percent_increase_ndcg10_non-boycott\n",
      "Ratio: 1.0745994040039732, pval: 0.7168742732121287\n",
      "LB to NB: 50.90234115614912\n",
      "Totals:\n",
      "10 lbless, 14 sig, 13 less, and 8 more out of 21 total\n",
      "total2 21 21\n"
     ]
    },
    {
     "data": {
      "image/png": "[encoded data removed]",
      "text/plain": [
       "<Figure size 529.475x432 with 1 Axes>"
      ]
     },
     "metadata": {},
     "output_type": "display_data"
    }
   ],
   "source": [
    "(total, total_sig, total_less, total_more, total_lbless), (diffs, ratios) = plot_all_three_scenarios(occupation_boycotts)\n",
    "running_totals['total'] += total\n",
    "running_totals['total_sig'] += total_sig\n",
    "running_totals['total_less'] += total_less\n",
    "running_totals['total_more'] += total_more\n",
    "running_totals['total_lbless'] += total_lbless\n",
    "\n",
    "for key in all_diffs.keys():\n",
    "    all_diffs[key].update(diffs[key])\n",
    "    all_ratios[key].update(ratios[key])\n",
    "plt.show()"
   ]
  },
  {
   "cell_type": "markdown",
   "metadata": {},
   "source": [
    "# Genre Boycotts"
   ]
  },
  {
   "cell_type": "code",
   "execution_count": 46,
   "metadata": {
    "scrolled": false
   },
   "outputs": [
    {
     "name": "stdout",
     "output_type": "stream",
     "text": [
      "len of df (number of experiments included) 900\n",
      "Num users boycottng: 0.007284768211920533. As a percent: 0.7284768211920533\n",
      "Num users boycottng: 0.05331125827814571. As a percent: 5.331125827814571\n",
      "Num users boycottng: 0.03096026490066223. As a percent: 3.096026490066223\n",
      "Num users boycottng: 0.02698675496688741. As a percent: 2.698675496688741\n",
      "Num users boycottng: 0.08642384105960266. As a percent: 8.642384105960266\n",
      "Num users boycottng: 0.05927152317880799. As a percent: 5.9271523178807985\n",
      "Num users boycottng: 0.0784768211920529. As a percent: 7.84768211920529\n",
      "Num users boycottng: 0.023841059602649022. As a percent: 2.384105960264902\n",
      "Num users boycottng: 0.16953642384105969. As a percent: 16.95364238410597\n",
      "Num users boycottng: 0.05099337748344369. As a percent: 5.099337748344369\n",
      "Num users boycottng: 0.08311258278145704. As a percent: 8.311258278145704\n",
      "Num users boycottng: 0.06821192052980139. As a percent: 6.821192052980139\n",
      "Num users boycottng: 0.01589403973509932. As a percent: 1.5894039735099321\n",
      "Num users boycottng: 0.031125827814569563. As a percent: 3.112582781456956\n",
      "Num users boycottng: 0.09602649006622511. As a percent: 9.602649006622512\n",
      "Num users boycottng: 0.011589403973509936. As a percent: 1.1589403973509935\n",
      "Num users boycottng: 0.011589403973509936. As a percent: 1.1589403973509935\n",
      "Num users boycottng: 0.028145695364238422. As a percent: 2.8145695364238423\n"
     ]
    },
    {
     "name": "stderr",
     "output_type": "stream",
     "text": [
      "C:\\Users\\Nick\\Anaconda3\\lib\\site-packages\\seaborn\\categorical.py:3666: UserWarning: The `factorplot` function has been renamed to `catplot`. The original name will be removed in a future release. Please update your code. Note that the default `kind` in `factorplot` (`'point'`) has changed `'strip'` in `catplot`.\n",
      "  warnings.warn(msg)\n",
      "C:\\Users\\Nick\\Anaconda3\\lib\\site-packages\\scipy\\stats\\stats.py:1713: FutureWarning: Using a non-tuple sequence for multidimensional indexing is deprecated; use `arr[tuple(seq)]` instead of `arr[seq]`. In the future this will be interpreted as an array index, `arr[np.array(seq)]`, which will result either in an error or a different result.\n",
      "  return np.add.reduce(sorted[indexer] * weights, axis=axis) / sumval\n"
     ]
    },
    {
     "name": "stdout",
     "output_type": "stream",
     "text": [
      "ndcg10 SVD fans of documentary, percent_increase_ndcg10_expected, percent_increase_ndcg10_non-boycott\n",
      "Ratio: 1.4751755791202705, pval: 0.08362392616289245\n",
      "LB to NB: 22.416818254620882\n",
      "ndcg10 SVD fans of sci-fi, percent_increase_ndcg10_expected, percent_increase_ndcg10_non-boycott\n",
      "Ratio: 0.36213651798171725, pval: 4.8519119071628446e-05\n",
      "LB to NB: -9.333889111521769\n",
      "ndcg10 SVD fans of musical, percent_increase_ndcg10_expected, percent_increase_ndcg10_non-boycott\n",
      "Ratio: 1.2233746703605812, pval: 0.10875472725354138\n",
      "LB to NB: 4.278515663448032\n",
      "ndcg10 SVD fans of mystery, percent_increase_ndcg10_expected, percent_increase_ndcg10_non-boycott\n",
      "Ratio: 1.4383299576249295, pval: 0.00263984022270913\n",
      "LB to NB: 9.8530952071603\n",
      "ndcg10 SVD fans of thriller, percent_increase_ndcg10_expected, percent_increase_ndcg10_non-boycott\n",
      "Ratio: 0.6666407528504121, pval: 0.0006703710163447671\n",
      "LB to NB: -4.663510528927806\n",
      "ndcg10 SVD fans of crime, percent_increase_ndcg10_expected, percent_increase_ndcg10_non-boycott\n",
      "Ratio: 1.0364003597520712, pval: 0.6941132275156663\n",
      "LB to NB: 37.43417564890987\n",
      "ndcg10 SVD fans of action, percent_increase_ndcg10_expected, percent_increase_ndcg10_non-boycott\n",
      "Ratio: 0.46134953343034935, pval: 9.412296182397355e-05\n",
      "LB to NB: -2.8587213284333806\n",
      "ndcg10 SVD fans of film-noir, percent_increase_ndcg10_expected, percent_increase_ndcg10_non-boycott\n",
      "Ratio: 1.5773037533485257, pval: 3.077893904975885e-05\n",
      "LB to NB: 9.65455133926736\n",
      "ndcg10 SVD fans of drama, percent_increase_ndcg10_expected, percent_increase_ndcg10_non-boycott\n",
      "Ratio: 0.5171990454431326, pval: 6.002313732593631e-12\n",
      "LB to NB: -0.9060939936195238\n",
      "ndcg10 SVD fans of adventure, percent_increase_ndcg10_expected, percent_increase_ndcg10_non-boycott\n",
      "Ratio: 0.5083942425256862, pval: 0.0034427160577844996\n",
      "LB to NB: -5.952296098452178\n",
      "ndcg10 SVD fans of war, percent_increase_ndcg10_expected, percent_increase_ndcg10_non-boycott\n",
      "Ratio: 1.0754206735425504, pval: 0.1429893295369387\n",
      "LB to NB: 6.708111680498915\n",
      "ndcg10 SVD fans of romance, percent_increase_ndcg10_expected, percent_increase_ndcg10_non-boycott\n",
      "Ratio: 0.9297148214946054, pval: 0.5441976121927299\n",
      "LB to NB: -20.90228391891237\n",
      "ndcg10 SVD fans of horror, percent_increase_ndcg10_expected, percent_increase_ndcg10_non-boycott\n",
      "Ratio: 0.9909506871638694, pval: 0.9734630579186092\n",
      "LB to NB: -432.3163332749441\n",
      "ndcg10 SVD fans of animation, percent_increase_ndcg10_expected, percent_increase_ndcg10_non-boycott\n",
      "Ratio: 1.1820045286909198, pval: 0.045734101346835095\n",
      "LB to NB: -2.179985890654282\n",
      "ndcg10 SVD fans of comedy, percent_increase_ndcg10_expected, percent_increase_ndcg10_non-boycott\n",
      "Ratio: 0.19123626447333675, pval: 3.4605793919844154e-09\n",
      "LB to NB: -0.9327801583222965\n",
      "ndcg10 SVD fans of western, percent_increase_ndcg10_expected, percent_increase_ndcg10_non-boycott\n",
      "Ratio: 1.4096870164681408, pval: 0.12755596524722077\n",
      "LB to NB: -5.122421001937979\n",
      "ndcg10 SVD fans of fantasy, percent_increase_ndcg10_expected, percent_increase_ndcg10_non-boycott\n",
      "Ratio: 0.649300948042422, pval: 0.22846037910446237\n",
      "LB to NB: -18.10374633978773\n",
      "ndcg10 SVD fans of children's, percent_increase_ndcg10_expected, percent_increase_ndcg10_non-boycott\n",
      "Ratio: 0.6728110818285493, pval: 0.041529403998794207\n",
      "LB to NB: -9.361286081586432\n",
      "Totals:\n",
      "16 lbless, 15 sig, 10 less, and 8 more out of 18 total\n",
      "total2 18 18\n"
     ]
    },
    {
     "data": {
      "image/png": "[encoded data removed]",
      "text/plain": [
       "<Figure size 529.475x432 with 1 Axes>"
      ]
     },
     "metadata": {},
     "output_type": "display_data"
    }
   ],
   "source": [
    "(total, total_sig, total_less, total_more, total_lbless), (diffs, ratios) = plot_all_three_scenarios(genre_boycotts)\n",
    "running_totals['total'] += total\n",
    "running_totals['total_sig'] += total_sig\n",
    "running_totals['total_less'] += total_less\n",
    "running_totals['total_more'] += total_more\n",
    "running_totals['total_lbless'] += total_lbless\n",
    "\n",
    "for key in all_diffs.keys():\n",
    "    all_diffs[key].update(diffs[key])\n",
    "    all_ratios[key].update(ratios[key])\n",
    "\n",
    "plt.show()"
   ]
  },
  {
   "cell_type": "code",
   "execution_count": 47,
   "metadata": {},
   "outputs": [
    {
     "data": {
      "text/plain": [
       "{'total': 50,\n",
       " 'total_lbless': 37,\n",
       " 'total_less': 27,\n",
       " 'total_more': 23,\n",
       " 'total_sig': 38}"
      ]
     },
     "execution_count": 47,
     "metadata": {},
     "output_type": "execute_result"
    }
   ],
   "source": [
    "running_totals"
   ]
  },
  {
   "cell_type": "code",
   "execution_count": 48,
   "metadata": {},
   "outputs": [
    {
     "name": "stdout",
     "output_type": "stream",
     "text": [
      "{'lb': {'18-24': -0.07422645573381648,\n",
      "        '25-34': -0.024862169783425536,\n",
      "        '35-44': -0.05291675983953624,\n",
      "        '45-49': -0.07340881502334753,\n",
      "        '50-55': -0.08478266186702534,\n",
      "        '56+': -0.056760111460816325,\n",
      "        'academic/educator': 0.0024312017968756774,\n",
      "        'artist': 0.003849788854826925,\n",
      "        'bottom 10% contributors': -1.165898456682662,\n",
      "        'clerical/admin': 0.197728386057877,\n",
      "        'college/grad student': 0.03473085400089548,\n",
      "        'customer service': -0.41496029200860923,\n",
      "        'doctor/health care': -0.22790064299734622,\n",
      "        'executive/managerial': -0.01602541212569883,\n",
      "        'fans of action': -0.05034776084376496,\n",
      "        'fans of adventure': -0.07834766365025918,\n",
      "        'fans of animation': 0.012914031850264594,\n",
      "        \"fans of children's\": -0.07075534277333252,\n",
      "        'fans of comedy': -0.030208322279931695,\n",
      "        'fans of crime': -0.0664415480117897,\n",
      "        'fans of documentary': -0.1524936080835349,\n",
      "        'fans of drama': -0.039945490102568544,\n",
      "        'fans of fantasy': -0.09266760207328283,\n",
      "        'fans of film-noir': -0.18254269867575848,\n",
      "        'fans of horror': -0.05901679041946104,\n",
      "        'fans of musical': -0.03017192104612388,\n",
      "        'fans of mystery': -0.12026763165519014,\n",
      "        'fans of romance': -0.05842880243947232,\n",
      "        'fans of sci-fi': -0.15965960118571598,\n",
      "        'fans of thriller': -0.06844221095227779,\n",
      "        'fans of war': -0.04217143120816286,\n",
      "        'fans of western': 0.033421336665234544,\n",
      "        'farmer': -0.6671422822242367,\n",
      "        'female users': -0.07584222634311277,\n",
      "        'homemaker': -0.25942917693764345,\n",
      "        'k-12 student': -0.38292186493328445,\n",
      "        'lawyer': -0.04911752514640094,\n",
      "        'male users': -0.06495540583386639,\n",
      "        'other': -0.07791040166488448,\n",
      "        'power users': -0.17160899698727078,\n",
      "        'programmer': 0.0183257939777578,\n",
      "        'retired': 0.07101097133003835,\n",
      "        'sales/marketing': 0.18125179433388316,\n",
      "        'scientist': 0.31898281350047825,\n",
      "        'self-employed': -0.00911094732622441,\n",
      "        'technician/engineer': -0.07587642361101839,\n",
      "        'tradesman/craftsman': 0.1315197912627244,\n",
      "        'under 18': -0.3238456659474422,\n",
      "        'unemployed': 0.0194582653264769,\n",
      "        'writer': 0.08476284966873182},\n",
      " 'nb': {'18-24': -0.019394437967321862,\n",
      "        '25-34': -0.012877263326454141,\n",
      "        '35-44': -0.005240712570139694,\n",
      "        '45-49': -0.0024818827563557744,\n",
      "        '50-55': -0.00015473916800314708,\n",
      "        '56+': 0.01673805581196572,\n",
      "        'academic/educator': -0.001236791528838422,\n",
      "        'artist': 0.005105509981033388,\n",
      "        'bottom 10% contributors': 0.012763118397750722,\n",
      "        'clerical/admin': 0.006202848680948834,\n",
      "        'college/grad student': -0.007362532373795888,\n",
      "        'customer service': 0.010215834740827354,\n",
      "        'doctor/health care': 0.002690882650155135,\n",
      "        'executive/managerial': -0.0022761871369989077,\n",
      "        'fans of action': 0.017611986290162897,\n",
      "        'fans of adventure': 0.013162595132092392,\n",
      "        'fans of animation': -0.005923906161791115,\n",
      "        \"fans of children's\": 0.0075582929692222175,\n",
      "        'fans of comedy': 0.03238525392120749,\n",
      "        'fans of crime': -0.0017748901067018569,\n",
      "        'fans of documentary': -0.006802642835010749,\n",
      "        'fans of drama': 0.04408537125712587,\n",
      "        'fans of fantasy': 0.005118697552098456,\n",
      "        'fans of film-noir': -0.018907424308089164,\n",
      "        'fans of horror': 0.00013651297875421145,\n",
      "        'fans of musical': -0.007051959936453404,\n",
      "        'fans of mystery': -0.012206076276192985,\n",
      "        'fans of romance': 0.002795331011010045,\n",
      "        'fans of sci-fi': 0.017105367256681023,\n",
      "        'fans of thriller': 0.01467611374043867,\n",
      "        'fans of war': -0.006286632247158169,\n",
      "        'fans of western': -0.006524519685631103,\n",
      "        'farmer': 0.004144651645817662,\n",
      "        'female users': 0.013487917815652894,\n",
      "        'homemaker': 0.01267466718909975,\n",
      "        'k-12 student': 0.01914131997982855,\n",
      "        'lawyer': 0.00511234043523865,\n",
      "        'male users': -0.03184771739186637,\n",
      "        'other': -0.0015816640229841666,\n",
      "        'power users': -0.12452662474504625,\n",
      "        'programmer': -0.0028583619818544244,\n",
      "        'retired': 0.013637841698603975,\n",
      "        'sales/marketing': -0.0036150835985367617,\n",
      "        'scientist': 0.005930977204393492,\n",
      "        'self-employed': 0.0018499838945910934,\n",
      "        'technician/engineer': -0.0014906273834882806,\n",
      "        'tradesman/craftsman': 0.010926094068589898,\n",
      "        'under 18': 0.011186419392781581,\n",
      "        'unemployed': 0.007838513315656045,\n",
      "        'writer': -0.00519226867294648}}\n",
      "{'lb': {'18-24': 2.850362085090906,\n",
      "        '25-34': 1.2660611831372997,\n",
      "        '35-44': 2.0412499412350025,\n",
      "        '45-49': 4.353954131140951,\n",
      "        '50-55': 5.268721904818875,\n",
      "        '56+': 3.9884940847333437,\n",
      "        'academic/educator': 0.9472920394122971,\n",
      "        'artist': 0.4250761871571424,\n",
      "        'bottom 10% contributors': 123.04224880931612,\n",
      "        'clerical/admin': -15.745162705551946,\n",
      "        'college/grad student': 0.21248770508596296,\n",
      "        'customer service': 39.33366428261895,\n",
      "        'doctor/health care': 18.14993188666887,\n",
      "        'executive/managerial': 1.6651435404309458,\n",
      "        'fans of action': 2.0012011107836014,\n",
      "        'fans of adventure': 3.4345772747166716,\n",
      "        'fans of animation': 0.7852372241095321,\n",
      "        \"fans of children's\": 3.7357201475562722,\n",
      "        'fans of comedy': 0.9456350297432298,\n",
      "        'fans of crime': 2.3990178203946164,\n",
      "        'fans of documentary': 12.1271001752936,\n",
      "        'fans of drama': 0.9546620904808828,\n",
      "        'fans of fantasy': 6.998267626286452,\n",
      "        'fans of film-noir': 7.150912478403609,\n",
      "        'fans of horror': 4.903116431137775,\n",
      "        'fans of musical': 2.1790866963158693,\n",
      "        'fans of mystery': 5.7572367622539,\n",
      "        'fans of romance': 2.3988355779058015,\n",
      "        'fans of sci-fi': 6.315883527429528,\n",
      "        'fans of thriller': 2.221265111847962,\n",
      "        'fans of war': 1.581350974684429,\n",
      "        'fans of western': -0.6889023609095747,\n",
      "        'farmer': 86.40865092659821,\n",
      "        'female users': 1.8368514046725668,\n",
      "        'homemaker': 28.565025418920825,\n",
      "        'k-12 student': 34.74854823526483,\n",
      "        'lawyer': 5.247914323078464,\n",
      "        'male users': 1.3153623949482025,\n",
      "        'other': 3.317203451917432,\n",
      "        'power users': 3.1925183887670436,\n",
      "        'programmer': 0.09001934296337953,\n",
      "        'retired': -8.05271308958897,\n",
      "        'sales/marketing': -10.621083674033832,\n",
      "        'scientist': -29.30415842718953,\n",
      "        'self-employed': 1.490205206818944,\n",
      "        'technician/engineer': 4.871883716659614,\n",
      "        'tradesman/craftsman': -14.603822020270243,\n",
      "        'under 18': 28.254514004861747,\n",
      "        'unemployed': -1.8741598386492657,\n",
      "        'writer': -3.562858858090696},\n",
      " 'nb': {'18-24': 1.3833196977475932,\n",
      "        '25-34': 1.0907840853420248,\n",
      "        '35-44': 1.0938295876624033,\n",
      "        '45-49': 1.1096856553862546,\n",
      "        '50-55': 1.0077767681603076,\n",
      "        '56+': -0.24985036308180447,\n",
      "        'academic/educator': 1.0545781972088564,\n",
      "        'artist': 0.6722298922009121,\n",
      "        'bottom 10% contributors': -0.35078652033834323,\n",
      "        'clerical/admin': 0.49067287052211694,\n",
      "        'college/grad student': 1.2118538668562613,\n",
      "        'customer service': 0.0324502972439743,\n",
      "        'doctor/health care': 0.7950867933341985,\n",
      "        'executive/managerial': 1.0827245285647056,\n",
      "        'fans of action': 0.46134953343034935,\n",
      "        'fans of adventure': 0.5083942425256862,\n",
      "        'fans of animation': 1.1820045286909198,\n",
      "        \"fans of children's\": 0.6728110818285493,\n",
      "        'fans of comedy': 0.19123626447333675,\n",
      "        'fans of crime': 1.0364003597520712,\n",
      "        'fans of documentary': 1.4751755791202705,\n",
      "        'fans of drama': 0.5171990454431326,\n",
      "        'fans of fantasy': 0.649300948042422,\n",
      "        'fans of film-noir': 1.5773037533485257,\n",
      "        'fans of horror': 0.9909506871638694,\n",
      "        'fans of musical': 1.2233746703605812,\n",
      "        'fans of mystery': 1.4383299576249295,\n",
      "        'fans of romance': 0.9297148214946054,\n",
      "        'fans of sci-fi': 0.36213651798171725,\n",
      "        'fans of thriller': 0.6666407528504121,\n",
      "        'fans of war': 1.0754206735425504,\n",
      "        'fans of western': 1.4096870164681408,\n",
      "        'farmer': 0.4660778722223173,\n",
      "        'female users': 0.8189799031262375,\n",
      "        'homemaker': -0.4158911364980974,\n",
      "        'k-12 student': -0.7757732500745306,\n",
      "        'lawyer': 0.5064948755050948,\n",
      "        'male users': 1.1037525659881051,\n",
      "        'other': 1.0461057000106597,\n",
      "        'power users': 1.9219657974527684,\n",
      "        'programmer': 1.1681632810789333,\n",
      "        'retired': -0.45849024506604596,\n",
      "        'sales/marketing': 1.2365006017805282,\n",
      "        'scientist': 0.44682781103235225,\n",
      "        'self-employed': 0.8751031118392857,\n",
      "        'technician/engineer': 1.0745994040039732,\n",
      "        'tradesman/craftsman': -0.19686733545491944,\n",
      "        'under 18': 0.02487955381315747,\n",
      "        'unemployed': 0.17465938153588326,\n",
      "        'writer': 1.2977430705098856}}\n"
     ]
    }
   ],
   "source": [
    "from pprint import pprint\n",
    "pprint(all_diffs)\n",
    "pprint(all_ratios)"
   ]
  },
  {
   "cell_type": "code",
   "execution_count": 49,
   "metadata": {
    "collapsed": true
   },
   "outputs": [],
   "source": [
    "with open('all_ratios.json', 'w') as f:\n",
    "    json.dump(all_ratios, f)\n",
    "with open('all_diffs.json', 'w') as f:\n",
    "    json.dump(all_diffs, f)"
   ]
  },
  {
   "cell_type": "markdown",
   "metadata": {
    "collapsed": true
   },
   "source": [
    "# Back of the napkin"
   ]
  },
  {
   "cell_type": "code",
   "execution_count": 51,
   "metadata": {},
   "outputs": [
    {
     "name": "stdout",
     "output_type": "stream",
     "text": [
      "{'boycott': {'1m': 0.3483, '20m': 0.30588},\n",
      " 'ratio': {'1m': 2.3549695740365113, '20m': 2.9298850574712643},\n",
      " 'strike': {'1m': 0.1479, '20m': 0.10439999999999999}}\n"
     ]
    }
   ],
   "source": [
    "\n",
    "# non-boycott\n",
    "# {'30_1m': -23.058666562695052, '30_20m': -2.8121875718078724}\n",
    "# all\n",
    "# {'30_1m': -49.3478951742734, '30_20m': -34.76984903171993}\n",
    "boycott_size =0.3\n",
    "\n",
    "strike_effects = {\n",
    "    '1m': 0.493,\n",
    "    '20m': 0.348,\n",
    "}\n",
    "\n",
    "boycott_effects = {\n",
    "    '1m': 0.23,\n",
    "    '20m': 0.028,\n",
    "}\n",
    "views_from_rec = 0.3\n",
    "\n",
    "total_effects = {\n",
    "    'strike': {},\n",
    "    'boycott': {},\n",
    "    'ratio': {},\n",
    "}\n",
    "\n",
    "# ds for dataset!\n",
    "for ds in ['1m', '20m']:\n",
    "    total_effects['boycott'][ds] = (1 - boycott_size) * boycott_effects[ds] * views_from_rec + boycott_size\n",
    "    total_effects['strike'][ds] = 1 * strike_effects[ds] * views_from_rec\n",
    "    total_effects['ratio'][ds] = total_effects['boycott'][ds] / total_effects['strike'][ds]\n",
    "\n",
    "\n",
    "from pprint import pprint\n",
    "pprint(total_effects)"
   ]
  },
  {
   "cell_type": "code",
   "execution_count": null,
   "metadata": {
    "collapsed": true
   },
   "outputs": [],
   "source": []
  }
 ],
 "metadata": {
  "celltoolbar": "Edit Metadata",
  "kernelspec": {
   "display_name": "Python 3",
   "language": "python",
   "name": "python3"
  },
  "language_info": {
   "codemirror_mode": {
    "name": "ipython",
    "version": 3
   },
   "file_extension": ".py",
   "mimetype": "text/x-python",
   "name": "python",
   "nbconvert_exporter": "python",
   "pygments_lexer": "ipython3",
   "version": "3.6.6"
  }
 },
 "nbformat": 4,
 "nbformat_minor": 2
}
