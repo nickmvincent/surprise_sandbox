{
 "cells": [
  {
   "cell_type": "code",
   "execution_count": 97,
   "metadata": {},
   "outputs": [],
   "source": [
    "import pandas as pd\n",
    "ex1 = pd.read_csv('ex1.csv')\n",
    "ex1 = ex1.rename(index=int, columns={\"Unnamed: 0\": \"Value\"})\n",
    "diff = -0.014048786592986806\n",
    "per_diff = -1.8152497147529003\n",
    "diff = round(diff, 3)\n",
    "per_diff = round(per_diff, 3)"
   ]
  },
  {
   "cell_type": "markdown",
   "metadata": {},
   "source": [
    "## How to use this document\n",
    "You can skip the code blocks unless you want to examine a particular calculation. The text slowly walks through a single table (`ex1.csv`) which shows a worked example of what exactly happens to surfaced hits for strikers and non-strikers during a 30% strike of ML-1M."
   ]
  },
  {
   "cell_type": "markdown",
   "metadata": {},
   "source": [
    "Some useful context to begin: for ML-1M, the difference in surfaced hits between SVD (fully personalized) and MovieMean (un-personalized) is 0.014, or 1.4% *of all* surfaced hits. This is a -1.815 *percent change* in surfaced hits. \n",
    "\n",
    "This will be important later for considering what these results mean in terms of \"how far does a strike take performance towards un-personalized results\"."
   ]
  },
  {
   "cell_type": "code",
   "execution_count": 98,
   "metadata": {},
   "outputs": [
    {
     "name": "stdout",
     "output_type": "stream",
     "text": [
      "Difference in % of surfaced hits -1.4\n",
      "Percent difference in surfaced hits -1.815\n"
     ]
    }
   ],
   "source": [
    "print('Difference in % of surfaced hits', round(diff * 100, 1))\n",
    "print('Percent difference in surfaced hits', per_diff)"
   ]
  },
  {
   "cell_type": "markdown",
   "metadata": {},
   "source": [
    "One other useful piece of context, because we use 5-fold cross-validation, the maximum number of hits is equal to 115056.2 (the total hits in ML-1M divided by 5). \n",
    "So to convert from surfaced hits to total hits we just multiply by 115056.2.\n",
    "\n",
    "For instance, below we'll see that the surfaced hits (SH) value for the all users with SVD is 77.393%.\n",
    "This corresponds to 89k hits."
   ]
  },
  {
   "cell_type": "code",
   "execution_count": 114,
   "metadata": {},
   "outputs": [
    {
     "data": {
      "text/plain": [
       "89000.0"
      ]
     },
     "execution_count": 114,
     "metadata": {},
     "output_type": "execute_result"
    }
   ],
   "source": [
    "round(115056.2 * 0.77393, -2)"
   ]
  },
  {
   "cell_type": "markdown",
   "metadata": {},
   "source": [
    "First, let's look at the baseline Surfaced Hits values for our strikers, non-strikers, and the whole system (\"everyone\")."
   ]
  },
  {
   "cell_type": "code",
   "execution_count": 115,
   "metadata": {},
   "outputs": [
    {
     "data": {
      "text/html": [
       "<div>\n",
       "<style scoped>\n",
       "    .dataframe tbody tr th:only-of-type {\n",
       "        vertical-align: middle;\n",
       "    }\n",
       "\n",
       "    .dataframe tbody tr th {\n",
       "        vertical-align: top;\n",
       "    }\n",
       "\n",
       "    .dataframe thead th {\n",
       "        text-align: right;\n",
       "    }\n",
       "</style>\n",
       "<table border=\"1\" class=\"dataframe\">\n",
       "  <thead>\n",
       "    <tr style=\"text-align: right;\">\n",
       "      <th></th>\n",
       "      <th>Value</th>\n",
       "      <th>strikers</th>\n",
       "      <th>non-strikers</th>\n",
       "      <th>everyone</th>\n",
       "    </tr>\n",
       "  </thead>\n",
       "  <tbody>\n",
       "    <tr>\n",
       "      <th>0</th>\n",
       "      <td>0) baseline</td>\n",
       "      <td>23.227</td>\n",
       "      <td>54.167</td>\n",
       "      <td>77.393</td>\n",
       "    </tr>\n",
       "  </tbody>\n",
       "</table>\n",
       "</div>"
      ],
      "text/plain": [
       "         Value  strikers  non-strikers  everyone\n",
       "0  0) baseline    23.227        54.167    77.393"
      ]
     },
     "execution_count": 115,
     "metadata": {},
     "output_type": "execute_result"
    }
   ],
   "source": [
    "ex1[ex1.index == 0]"
   ]
  },
  {
   "cell_type": "markdown",
   "metadata": {},
   "source": [
    "### Interpreting these baseline Surfaced Hits values\n",
    "Without any strike action:\n",
    "* the participants of the strike (30% of random users) were responsible for 23% of surfaced hits\n",
    "* the non-participants were responsible for 54%\n",
    "* together these exact values add up to about 77.39"
   ]
  },
  {
   "cell_type": "code",
   "execution_count": 116,
   "metadata": {},
   "outputs": [
    {
     "data": {
      "text/plain": [
       "77.39"
      ]
     },
     "execution_count": 116,
     "metadata": {},
     "output_type": "execute_result"
    }
   ],
   "source": [
    "round(23.227 + 54.167, 2)"
   ]
  },
  {
   "cell_type": "markdown",
   "metadata": {},
   "source": [
    "We can verify that the strikers were contributing about 30% of surfaced hits in the pre-strike condition."
   ]
  },
  {
   "cell_type": "code",
   "execution_count": 117,
   "metadata": {},
   "outputs": [
    {
     "data": {
      "text/plain": [
       "30.01"
      ]
     },
     "execution_count": 117,
     "metadata": {},
     "output_type": "execute_result"
    }
   ],
   "source": [
    "round(23.227 / 77.393 * 100, 2)"
   ]
  },
  {
   "cell_type": "markdown",
   "metadata": {},
   "source": [
    "Next, let's look at the next row in this table, which will show how surfaced hits change after the strike.\n",
    "\n",
    "### Surfaced Hits after strike"
   ]
  },
  {
   "cell_type": "code",
   "execution_count": 118,
   "metadata": {},
   "outputs": [
    {
     "data": {
      "text/html": [
       "<div>\n",
       "<style scoped>\n",
       "    .dataframe tbody tr th:only-of-type {\n",
       "        vertical-align: middle;\n",
       "    }\n",
       "\n",
       "    .dataframe tbody tr th {\n",
       "        vertical-align: top;\n",
       "    }\n",
       "\n",
       "    .dataframe thead th {\n",
       "        text-align: right;\n",
       "    }\n",
       "</style>\n",
       "<table border=\"1\" class=\"dataframe\">\n",
       "  <thead>\n",
       "    <tr style=\"text-align: right;\">\n",
       "      <th></th>\n",
       "      <th>Value</th>\n",
       "      <th>strikers</th>\n",
       "      <th>non-strikers</th>\n",
       "      <th>everyone</th>\n",
       "    </tr>\n",
       "  </thead>\n",
       "  <tbody>\n",
       "    <tr>\n",
       "      <th>0</th>\n",
       "      <td>0) baseline</td>\n",
       "      <td>23.227</td>\n",
       "      <td>54.167</td>\n",
       "      <td>77.393</td>\n",
       "    </tr>\n",
       "    <tr>\n",
       "      <th>1</th>\n",
       "      <td>1) SH after strike</td>\n",
       "      <td>22.770</td>\n",
       "      <td>53.917</td>\n",
       "      <td>76.687</td>\n",
       "    </tr>\n",
       "  </tbody>\n",
       "</table>\n",
       "</div>"
      ],
      "text/plain": [
       "                Value  strikers  non-strikers  everyone\n",
       "0         0) baseline    23.227        54.167    77.393\n",
       "1  1) SH after strike    22.770        53.917    76.687"
      ]
     },
     "execution_count": 118,
     "metadata": {},
     "output_type": "execute_result"
    }
   ],
   "source": [
    "ex1[ex1.index.isin([0,1])]"
   ]
  },
  {
   "cell_type": "markdown",
   "metadata": {},
   "source": [
    "Looks like surfaced hits decreased a bit for each group after the strike. We may also want to look directly at the *change* in hits.\n",
    "\n",
    "This means we'll subtract row 0) from row 1) to find the change (it will be negative).\n",
    "### Change in Surfaced Hits"
   ]
  },
  {
   "cell_type": "code",
   "execution_count": 119,
   "metadata": {},
   "outputs": [
    {
     "data": {
      "text/html": [
       "<div>\n",
       "<style scoped>\n",
       "    .dataframe tbody tr th:only-of-type {\n",
       "        vertical-align: middle;\n",
       "    }\n",
       "\n",
       "    .dataframe tbody tr th {\n",
       "        vertical-align: top;\n",
       "    }\n",
       "\n",
       "    .dataframe thead th {\n",
       "        text-align: right;\n",
       "    }\n",
       "</style>\n",
       "<table border=\"1\" class=\"dataframe\">\n",
       "  <thead>\n",
       "    <tr style=\"text-align: right;\">\n",
       "      <th></th>\n",
       "      <th>Value</th>\n",
       "      <th>strikers</th>\n",
       "      <th>non-strikers</th>\n",
       "      <th>everyone</th>\n",
       "    </tr>\n",
       "  </thead>\n",
       "  <tbody>\n",
       "    <tr>\n",
       "      <th>0</th>\n",
       "      <td>0) baseline</td>\n",
       "      <td>23.227</td>\n",
       "      <td>54.167</td>\n",
       "      <td>77.393</td>\n",
       "    </tr>\n",
       "    <tr>\n",
       "      <th>1</th>\n",
       "      <td>1) SH after strike</td>\n",
       "      <td>22.770</td>\n",
       "      <td>53.917</td>\n",
       "      <td>76.687</td>\n",
       "    </tr>\n",
       "    <tr>\n",
       "      <th>2</th>\n",
       "      <td>2) change in SH</td>\n",
       "      <td>-0.456</td>\n",
       "      <td>-0.250</td>\n",
       "      <td>-0.706</td>\n",
       "    </tr>\n",
       "  </tbody>\n",
       "</table>\n",
       "</div>"
      ],
      "text/plain": [
       "                Value  strikers  non-strikers  everyone\n",
       "0         0) baseline    23.227        54.167    77.393\n",
       "1  1) SH after strike    22.770        53.917    76.687\n",
       "2     2) change in SH    -0.456        -0.250    -0.706"
      ]
     },
     "execution_count": 119,
     "metadata": {},
     "output_type": "execute_result"
    }
   ],
   "source": [
    "ex1[ex1.index.isin([0,1,2])]"
   ]
  },
  {
   "cell_type": "markdown",
   "metadata": {},
   "source": [
    "Calculating the change in surfaced hits, it becomes more obvious that the strikers themselves experience more loss in hits than the non-strikers. Recall that strikers are getting un-personalized recommendations. This is a key take-away from this worked example.\n",
    "\n",
    "More specifically, from row 2), we can actually read the exact effect of the two data labor factors. The strikers column corresponds to the effect of strikers on themselves. The non-strikers column corresponds to the effect on strikers on non-strikers.\n",
    "\n",
    "Interestingly, for a 30% boycott of ML-1M, the strikers getting (slightly worse than) un-personalized recommendations have about twice the effect of the non-strikers getting slightly worse recommendations.\n",
    "\n",
    "We also verify that the effect on the whole system is equal to the sum of these two components.\n",
    "\n",
    "Next, it will be useful to think about how this change in hits translate to *loss in personalization*. In other words, how far does the strike take performance towards un-personalized?\n",
    "\n",
    "### Change in Surfaced Hits, normalized w.r.t to un-personalized results"
   ]
  },
  {
   "cell_type": "code",
   "execution_count": 120,
   "metadata": {},
   "outputs": [
    {
     "data": {
      "text/html": [
       "<div>\n",
       "<style scoped>\n",
       "    .dataframe tbody tr th:only-of-type {\n",
       "        vertical-align: middle;\n",
       "    }\n",
       "\n",
       "    .dataframe tbody tr th {\n",
       "        vertical-align: top;\n",
       "    }\n",
       "\n",
       "    .dataframe thead th {\n",
       "        text-align: right;\n",
       "    }\n",
       "</style>\n",
       "<table border=\"1\" class=\"dataframe\">\n",
       "  <thead>\n",
       "    <tr style=\"text-align: right;\">\n",
       "      <th></th>\n",
       "      <th>Value</th>\n",
       "      <th>strikers</th>\n",
       "      <th>non-strikers</th>\n",
       "      <th>everyone</th>\n",
       "    </tr>\n",
       "  </thead>\n",
       "  <tbody>\n",
       "    <tr>\n",
       "      <th>0</th>\n",
       "      <td>0) baseline</td>\n",
       "      <td>23.227</td>\n",
       "      <td>54.167</td>\n",
       "      <td>77.393</td>\n",
       "    </tr>\n",
       "    <tr>\n",
       "      <th>1</th>\n",
       "      <td>1) SH after strike</td>\n",
       "      <td>22.770</td>\n",
       "      <td>53.917</td>\n",
       "      <td>76.687</td>\n",
       "    </tr>\n",
       "    <tr>\n",
       "      <th>2</th>\n",
       "      <td>2) change in SH</td>\n",
       "      <td>-0.456</td>\n",
       "      <td>-0.250</td>\n",
       "      <td>-0.706</td>\n",
       "    </tr>\n",
       "    <tr>\n",
       "      <th>3</th>\n",
       "      <td>3) change in SH, normalized w.r.t un-personalized</td>\n",
       "      <td>32.471</td>\n",
       "      <td>17.771</td>\n",
       "      <td>50.241</td>\n",
       "    </tr>\n",
       "  </tbody>\n",
       "</table>\n",
       "</div>"
      ],
      "text/plain": [
       "                                               Value  strikers  non-strikers  \\\n",
       "0                                        0) baseline    23.227        54.167   \n",
       "1                                 1) SH after strike    22.770        53.917   \n",
       "2                                    2) change in SH    -0.456        -0.250   \n",
       "3  3) change in SH, normalized w.r.t un-personalized    32.471        17.771   \n",
       "\n",
       "   everyone  \n",
       "0    77.393  \n",
       "1    76.687  \n",
       "2    -0.706  \n",
       "3    50.241  "
      ]
     },
     "execution_count": 120,
     "metadata": {},
     "output_type": "execute_result"
    }
   ],
   "source": [
    "ex1[ex1.index.isin([0,1,2,3])]"
   ]
  },
  {
   "cell_type": "markdown",
   "metadata": {},
   "source": [
    "If we recall that the difference between SVD and MovieMean (i.e. the personalization gap) is equal to 1.4% surfaced hits, it makes sense that a loss of 0.25 takes non-participants 17.77% of the way towards un-personalized results."
   ]
  },
  {
   "cell_type": "code",
   "execution_count": 121,
   "metadata": {},
   "outputs": [
    {
     "data": {
      "text/plain": [
       "17.86"
      ]
     },
     "execution_count": 121,
     "metadata": {},
     "output_type": "execute_result"
    }
   ],
   "source": [
    "round(-0.250 / -1.4 * 100, 2)"
   ]
  },
  {
   "cell_type": "markdown",
   "metadata": {},
   "source": [
    "One puzzling result: why isn't the change in hits for participants not equal to 100% (since they are getting un-personalized recommendations)? This is because the strikers only comprise 30% of the population and we're looking at total surfaced hits still.\n",
    "\n",
    "In other words, the 30% of strikers can at most take us 30% of the way towards un-personalized results. If we divide the change in hits for strikers, normalized w.r.t un-personalized results, we see indeed the amount is about 30%."
   ]
  },
  {
   "cell_type": "code",
   "execution_count": 122,
   "metadata": {},
   "outputs": [
    {
     "data": {
      "text/plain": [
       "32.57"
      ]
     },
     "execution_count": 122,
     "metadata": {},
     "output_type": "execute_result"
    }
   ],
   "source": [
    "round(-0.456 / -1.4 * 100, 2)"
   ]
  },
  {
   "cell_type": "markdown",
   "metadata": {},
   "source": [
    "To get more insight into what's happening from a group's perspective, it might be interesting to consider *percent change* instead of raw change. Specifically, this is percent change for each group, i.e. the change is relative to the group's baseline.\n",
    "\n",
    "Critically, for an aggregate metric like surfaced hits, each group's baseline is proportional to its size.\n",
    "\n",
    "We can look at row 0) to review what the baselines look like."
   ]
  },
  {
   "cell_type": "code",
   "execution_count": 123,
   "metadata": {},
   "outputs": [
    {
     "data": {
      "text/html": [
       "<div>\n",
       "<style scoped>\n",
       "    .dataframe tbody tr th:only-of-type {\n",
       "        vertical-align: middle;\n",
       "    }\n",
       "\n",
       "    .dataframe tbody tr th {\n",
       "        vertical-align: top;\n",
       "    }\n",
       "\n",
       "    .dataframe thead th {\n",
       "        text-align: right;\n",
       "    }\n",
       "</style>\n",
       "<table border=\"1\" class=\"dataframe\">\n",
       "  <thead>\n",
       "    <tr style=\"text-align: right;\">\n",
       "      <th></th>\n",
       "      <th>Value</th>\n",
       "      <th>strikers</th>\n",
       "      <th>non-strikers</th>\n",
       "      <th>everyone</th>\n",
       "    </tr>\n",
       "  </thead>\n",
       "  <tbody>\n",
       "    <tr>\n",
       "      <th>0</th>\n",
       "      <td>0) baseline</td>\n",
       "      <td>23.227</td>\n",
       "      <td>54.167</td>\n",
       "      <td>77.393</td>\n",
       "    </tr>\n",
       "    <tr>\n",
       "      <th>1</th>\n",
       "      <td>1) SH after strike</td>\n",
       "      <td>22.770</td>\n",
       "      <td>53.917</td>\n",
       "      <td>76.687</td>\n",
       "    </tr>\n",
       "    <tr>\n",
       "      <th>2</th>\n",
       "      <td>2) change in SH</td>\n",
       "      <td>-0.456</td>\n",
       "      <td>-0.250</td>\n",
       "      <td>-0.706</td>\n",
       "    </tr>\n",
       "    <tr>\n",
       "      <th>3</th>\n",
       "      <td>3) change in SH, normalized w.r.t un-personalized</td>\n",
       "      <td>32.471</td>\n",
       "      <td>17.771</td>\n",
       "      <td>50.241</td>\n",
       "    </tr>\n",
       "    <tr>\n",
       "      <th>4</th>\n",
       "      <td>4) % change in SH</td>\n",
       "      <td>-1.964</td>\n",
       "      <td>-0.461</td>\n",
       "      <td>-0.912</td>\n",
       "    </tr>\n",
       "  </tbody>\n",
       "</table>\n",
       "</div>"
      ],
      "text/plain": [
       "                                               Value  strikers  non-strikers  \\\n",
       "0                                        0) baseline    23.227        54.167   \n",
       "1                                 1) SH after strike    22.770        53.917   \n",
       "2                                    2) change in SH    -0.456        -0.250   \n",
       "3  3) change in SH, normalized w.r.t un-personalized    32.471        17.771   \n",
       "4                                  4) % change in SH    -1.964        -0.461   \n",
       "\n",
       "   everyone  \n",
       "0    77.393  \n",
       "1    76.687  \n",
       "2    -0.706  \n",
       "3    50.241  \n",
       "4    -0.912  "
      ]
     },
     "execution_count": 123,
     "metadata": {},
     "output_type": "execute_result"
    }
   ],
   "source": [
    "ex1[ex1.index.isin([0,1,2,3,4])]"
   ]
  },
  {
   "cell_type": "markdown",
   "metadata": {},
   "source": [
    "Finally, we can also think of percent change normalized w.r.t un-personalized results.\n",
    "\n",
    "In other words, how close to un-personalized results did the strike bring *each individual group*. Here, we'd expect the strikers to experience around > 100% change."
   ]
  },
  {
   "cell_type": "code",
   "execution_count": 124,
   "metadata": {},
   "outputs": [
    {
     "data": {
      "text/html": [
       "<div>\n",
       "<style scoped>\n",
       "    .dataframe tbody tr th:only-of-type {\n",
       "        vertical-align: middle;\n",
       "    }\n",
       "\n",
       "    .dataframe tbody tr th {\n",
       "        vertical-align: top;\n",
       "    }\n",
       "\n",
       "    .dataframe thead th {\n",
       "        text-align: right;\n",
       "    }\n",
       "</style>\n",
       "<table border=\"1\" class=\"dataframe\">\n",
       "  <thead>\n",
       "    <tr style=\"text-align: right;\">\n",
       "      <th></th>\n",
       "      <th>Value</th>\n",
       "      <th>strikers</th>\n",
       "      <th>non-strikers</th>\n",
       "      <th>everyone</th>\n",
       "    </tr>\n",
       "  </thead>\n",
       "  <tbody>\n",
       "    <tr>\n",
       "      <th>0</th>\n",
       "      <td>0) baseline</td>\n",
       "      <td>23.227</td>\n",
       "      <td>54.167</td>\n",
       "      <td>77.393</td>\n",
       "    </tr>\n",
       "    <tr>\n",
       "      <th>1</th>\n",
       "      <td>1) SH after strike</td>\n",
       "      <td>22.770</td>\n",
       "      <td>53.917</td>\n",
       "      <td>76.687</td>\n",
       "    </tr>\n",
       "    <tr>\n",
       "      <th>2</th>\n",
       "      <td>2) change in SH</td>\n",
       "      <td>-0.456</td>\n",
       "      <td>-0.250</td>\n",
       "      <td>-0.706</td>\n",
       "    </tr>\n",
       "    <tr>\n",
       "      <th>3</th>\n",
       "      <td>3) change in SH, normalized w.r.t un-personalized</td>\n",
       "      <td>32.471</td>\n",
       "      <td>17.771</td>\n",
       "      <td>50.241</td>\n",
       "    </tr>\n",
       "    <tr>\n",
       "      <th>4</th>\n",
       "      <td>4) % change in SH</td>\n",
       "      <td>-1.964</td>\n",
       "      <td>-0.461</td>\n",
       "      <td>-0.912</td>\n",
       "    </tr>\n",
       "    <tr>\n",
       "      <th>5</th>\n",
       "      <td>5) % change in SH, normalized w.r.t un-persona...</td>\n",
       "      <td>108.199</td>\n",
       "      <td>25.399</td>\n",
       "      <td>50.241</td>\n",
       "    </tr>\n",
       "  </tbody>\n",
       "</table>\n",
       "</div>"
      ],
      "text/plain": [
       "                                               Value  strikers  non-strikers  \\\n",
       "0                                        0) baseline    23.227        54.167   \n",
       "1                                 1) SH after strike    22.770        53.917   \n",
       "2                                    2) change in SH    -0.456        -0.250   \n",
       "3  3) change in SH, normalized w.r.t un-personalized    32.471        17.771   \n",
       "4                                  4) % change in SH    -1.964        -0.461   \n",
       "5  5) % change in SH, normalized w.r.t un-persona...   108.199        25.399   \n",
       "\n",
       "   everyone  \n",
       "0    77.393  \n",
       "1    76.687  \n",
       "2    -0.706  \n",
       "3    50.241  \n",
       "4    -0.912  \n",
       "5    50.241  "
      ]
     },
     "execution_count": 124,
     "metadata": {},
     "output_type": "execute_result"
    }
   ],
   "source": [
    "ex1[ex1.index.isin([0,1,2,3,4,5])]"
   ]
  },
  {
   "cell_type": "markdown",
   "metadata": {},
   "source": [
    "Let's dig into why the normalized % change in hits is not the same as normalized change in hits for non-participants, but it is for \"everyone\".\n",
    "\n",
    "Non-participants experienced in 0.461% change in hits. The aggregate difference between fully- and un-personalized results is about 1.8.\n",
    "\n",
    "So a drop of 0.25% of hits corresponds to the system going 17.77% of the way towards un-personalized."
   ]
  },
  {
   "cell_type": "code",
   "execution_count": 125,
   "metadata": {},
   "outputs": [
    {
     "data": {
      "text/plain": [
       "17.86"
      ]
     },
     "execution_count": 125,
     "metadata": {},
     "output_type": "execute_result"
    }
   ],
   "source": [
    "round(0.25 / 1.4 * 100, 2)"
   ]
  },
  {
   "cell_type": "markdown",
   "metadata": {},
   "source": [
    "And a percent change of -0.461 corresponds to non-participants experiencing a change that's 25.4% of the way towards un-personalized.\n",
    "\n",
    "In other words, the asumption is that because the whole group experiences a -1.8 percent change when going from fully- to un-personalized, a group that experiences a -1.8 percent change is getting roughly un-personalized results.\n",
    "\n",
    "* Note the use of the word roughly here. If we wanted to be extra precise with the un-personalized analysis, we would actually run a third set of experiments where we run omniscient MovieMean for every user combination. However, since MovieMean is relatively static and these numbers are just used for context, this is unnecessary."
   ]
  },
  {
   "cell_type": "code",
   "execution_count": 126,
   "metadata": {},
   "outputs": [
    {
     "data": {
      "text/plain": [
       "25.4"
      ]
     },
     "execution_count": 126,
     "metadata": {},
     "output_type": "execute_result"
    }
   ],
   "source": [
    "round(0.461 / 1.815 * 100, 2)"
   ]
  },
  {
   "cell_type": "markdown",
   "metadata": {},
   "source": [
    "Finally, we clarify the distinction here. When normalizing change in *units of surfaced hits*, we're always considering the whole system. The \"how far towards un-personalized\" question is about how close we are to getting the experience of a totally un-personalized system.\n",
    "\n",
    "Specifically, the full question reads: \"How far does a given group take the system towards un-personalized results?\" This question is a bit unintuitive and so the results are not too useful.\n",
    "\n",
    "To get the total normalized change in units of surfaced hits, we can just add the value for each group."
   ]
  },
  {
   "cell_type": "code",
   "execution_count": 127,
   "metadata": {},
   "outputs": [
    {
     "data": {
      "text/plain": [
       "50.24"
      ]
     },
     "execution_count": 127,
     "metadata": {},
     "output_type": "execute_result"
    }
   ],
   "source": [
    "round(32.471 + 17.771, 2)"
   ]
  },
  {
   "cell_type": "markdown",
   "metadata": {},
   "source": [
    "When normalizing percent change, we're only considering one group. The \"how far towards un-personalized\" question is about how close we are to getting the experience of an un-personalized system *for this group*.\n",
    "\n",
    "Specifically, the full question here should read: \"How far does a given group go towards un-personalized results for that group?\"\n",
    "This is probably the more intuitive question we might ask about change relative to un-personalized results. This is the number we report in Section 5.1.\n",
    "\n",
    "To get the total normalized percent change, we can perform a weighted sum weighted by the size of each group."
   ]
  },
  {
   "cell_type": "code",
   "execution_count": 128,
   "metadata": {},
   "outputs": [
    {
     "data": {
      "text/plain": [
       "50.24"
      ]
     },
     "execution_count": 128,
     "metadata": {},
     "output_type": "execute_result"
    }
   ],
   "source": [
    "round(108.2 * 0.3 + 25.4 * 0.7, 2)"
   ]
  },
  {
   "cell_type": "markdown",
   "metadata": {},
   "source": [
    "A final note: the summative properties explored here apply only to surfaced hits. \n",
    "Taking the same approach with traditional metrics like NDCG, it is impossible to sum various groups to get \"everyone\". \n",
    "Instea you'd need weighted averages,"
   ]
  },
  {
   "cell_type": "code",
   "execution_count": null,
   "metadata": {},
   "outputs": [],
   "source": []
  }
 ],
 "metadata": {
  "kernelspec": {
   "display_name": "Python 3",
   "language": "python",
   "name": "python3"
  },
  "language_info": {
   "codemirror_mode": {
    "name": "ipython",
    "version": 3
   },
   "file_extension": ".py",
   "mimetype": "text/x-python",
   "name": "python",
   "nbconvert_exporter": "python",
   "pygments_lexer": "ipython3",
   "version": "3.6.6"
  }
 },
 "nbformat": 4,
 "nbformat_minor": 2
}
