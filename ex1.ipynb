{
 "cells": [
  {
   "cell_type": "code",
   "execution_count": 54,
   "metadata": {},
   "outputs": [],
   "source": [
    "import pandas as pd\n",
    "ex1 = pd.read_csv('ex1.csv')\n",
    "ex1 = ex1.rename(index=int, columns={\"Unnamed: 0\": \"Value\"})\n",
    "diff = -0.014048786592986806\n",
    "per_diff = -1.8152497147529003\n",
    "diff = round(diff, 3)\n",
    "per_diff = round(per_diff, 3)"
   ]
  },
  {
   "cell_type": "markdown",
   "metadata": {},
   "source": [
    "## How to use this document\n",
    "You can skip the code blocks unless you want to examine a particular calculation. The text slowly walks through a single table (`ex1.csv`) which shows a worked example of what exactly happens to surfaced hits for strikers and non-strikers during a 30% strike of ML-1M."
   ]
  },
  {
   "cell_type": "markdown",
   "metadata": {},
   "source": [
    "Some useful context to begin: for ML-1M, the difference in surfaced hits between SVD (fully personalized) and MovieMean (un-personalized) is 0.014, or 1.4% *of all* surfaced hits. This is a -1.815 *percent change* in surfaced hits."
   ]
  },
  {
   "cell_type": "code",
   "execution_count": 55,
   "metadata": {},
   "outputs": [
    {
     "data": {
      "text/plain": [
       "(-0.014, -1.815)"
      ]
     },
     "execution_count": 55,
     "metadata": {},
     "output_type": "execute_result"
    }
   ],
   "source": [
    "diff, per_diff"
   ]
  },
  {
   "cell_type": "markdown",
   "metadata": {},
   "source": [
    "First, let's look at the baseline surfaced hits values for our strikers, non-strikers, and the whole system (\"all\")."
   ]
  },
  {
   "cell_type": "code",
   "execution_count": 35,
   "metadata": {},
   "outputs": [
    {
     "data": {
      "text/html": [
       "<div>\n",
       "<style scoped>\n",
       "    .dataframe tbody tr th:only-of-type {\n",
       "        vertical-align: middle;\n",
       "    }\n",
       "\n",
       "    .dataframe tbody tr th {\n",
       "        vertical-align: top;\n",
       "    }\n",
       "\n",
       "    .dataframe thead th {\n",
       "        text-align: right;\n",
       "    }\n",
       "</style>\n",
       "<table border=\"1\" class=\"dataframe\">\n",
       "  <thead>\n",
       "    <tr style=\"text-align: right;\">\n",
       "      <th></th>\n",
       "      <th>Value</th>\n",
       "      <th>participants</th>\n",
       "      <th>non-participants</th>\n",
       "      <th>all</th>\n",
       "    </tr>\n",
       "  </thead>\n",
       "  <tbody>\n",
       "    <tr>\n",
       "      <th>0</th>\n",
       "      <td>1) baseline</td>\n",
       "      <td>23.227</td>\n",
       "      <td>54.167</td>\n",
       "      <td>77.393</td>\n",
       "    </tr>\n",
       "  </tbody>\n",
       "</table>\n",
       "</div>"
      ],
      "text/plain": [
       "         Value  participants  non-participants     all\n",
       "0  1) baseline        23.227            54.167  77.393"
      ]
     },
     "execution_count": 35,
     "metadata": {},
     "output_type": "execute_result"
    }
   ],
   "source": [
    "ex1[ex1.index == 0]"
   ]
  },
  {
   "cell_type": "markdown",
   "metadata": {},
   "source": [
    "### Interpreting these baseline values\n",
    "Without any strike action:\n",
    "* the participants of the strike (30% of random users) were responsible for 23.23 of surfaced hits\n",
    "* the non-participants were responsible for 54.17\n",
    "* together these add up to about 77.4"
   ]
  },
  {
   "cell_type": "code",
   "execution_count": 58,
   "metadata": {},
   "outputs": [
    {
     "data": {
      "text/plain": [
       "77.394"
      ]
     },
     "execution_count": 58,
     "metadata": {},
     "output_type": "execute_result"
    }
   ],
   "source": [
    "23.227 + 54.167"
   ]
  },
  {
   "cell_type": "code",
   "execution_count": 48,
   "metadata": {},
   "outputs": [
    {
     "data": {
      "text/plain": [
       "30.011758169343484"
      ]
     },
     "execution_count": 48,
     "metadata": {},
     "output_type": "execute_result"
    }
   ],
   "source": [
    "23.227 / 77.393 * 100"
   ]
  },
  {
   "cell_type": "markdown",
   "metadata": {},
   "source": [
    "Indeed, the strikers were contributing about 30% of surfaced hits in the pre-strike condition.\n",
    "\n",
    "Next, let's look at the next row in this table, which will show how surfaced hits change after the strike.\n",
    "\n",
    "### Surfaced Hits after strike"
   ]
  },
  {
   "cell_type": "code",
   "execution_count": 51,
   "metadata": {},
   "outputs": [
    {
     "data": {
      "text/html": [
       "<div>\n",
       "<style scoped>\n",
       "    .dataframe tbody tr th:only-of-type {\n",
       "        vertical-align: middle;\n",
       "    }\n",
       "\n",
       "    .dataframe tbody tr th {\n",
       "        vertical-align: top;\n",
       "    }\n",
       "\n",
       "    .dataframe thead th {\n",
       "        text-align: right;\n",
       "    }\n",
       "</style>\n",
       "<table border=\"1\" class=\"dataframe\">\n",
       "  <thead>\n",
       "    <tr style=\"text-align: right;\">\n",
       "      <th></th>\n",
       "      <th>Value</th>\n",
       "      <th>participants</th>\n",
       "      <th>non-participants</th>\n",
       "      <th>all</th>\n",
       "    </tr>\n",
       "  </thead>\n",
       "  <tbody>\n",
       "    <tr>\n",
       "      <th>0</th>\n",
       "      <td>1) baseline</td>\n",
       "      <td>23.227</td>\n",
       "      <td>54.167</td>\n",
       "      <td>77.393</td>\n",
       "    </tr>\n",
       "    <tr>\n",
       "      <th>1</th>\n",
       "      <td>2) hits after strike</td>\n",
       "      <td>22.770</td>\n",
       "      <td>53.917</td>\n",
       "      <td>76.687</td>\n",
       "    </tr>\n",
       "  </tbody>\n",
       "</table>\n",
       "</div>"
      ],
      "text/plain": [
       "                  Value  participants  non-participants     all\n",
       "0           1) baseline        23.227            54.167  77.393\n",
       "1  2) hits after strike        22.770            53.917  76.687"
      ]
     },
     "execution_count": 51,
     "metadata": {},
     "output_type": "execute_result"
    }
   ],
   "source": [
    "ex1[ex1.index.isin([0,1])]"
   ]
  },
  {
   "cell_type": "markdown",
   "metadata": {},
   "source": [
    "Looks like surfaced hits decreased a bit for each group after the strike. We may also want to look directly at the *change* in hits.\n",
    "### Change in Surfaced Hits"
   ]
  },
  {
   "cell_type": "code",
   "execution_count": 38,
   "metadata": {},
   "outputs": [
    {
     "data": {
      "text/html": [
       "<div>\n",
       "<style scoped>\n",
       "    .dataframe tbody tr th:only-of-type {\n",
       "        vertical-align: middle;\n",
       "    }\n",
       "\n",
       "    .dataframe tbody tr th {\n",
       "        vertical-align: top;\n",
       "    }\n",
       "\n",
       "    .dataframe thead th {\n",
       "        text-align: right;\n",
       "    }\n",
       "</style>\n",
       "<table border=\"1\" class=\"dataframe\">\n",
       "  <thead>\n",
       "    <tr style=\"text-align: right;\">\n",
       "      <th></th>\n",
       "      <th>Value</th>\n",
       "      <th>participants</th>\n",
       "      <th>non-participants</th>\n",
       "      <th>all</th>\n",
       "    </tr>\n",
       "  </thead>\n",
       "  <tbody>\n",
       "    <tr>\n",
       "      <th>0</th>\n",
       "      <td>1) baseline</td>\n",
       "      <td>23.227</td>\n",
       "      <td>54.167</td>\n",
       "      <td>77.393</td>\n",
       "    </tr>\n",
       "    <tr>\n",
       "      <th>1</th>\n",
       "      <td>2) hits after strike</td>\n",
       "      <td>22.770</td>\n",
       "      <td>53.917</td>\n",
       "      <td>76.687</td>\n",
       "    </tr>\n",
       "    <tr>\n",
       "      <th>2</th>\n",
       "      <td>3) change in hits</td>\n",
       "      <td>-0.456</td>\n",
       "      <td>-0.250</td>\n",
       "      <td>-0.706</td>\n",
       "    </tr>\n",
       "  </tbody>\n",
       "</table>\n",
       "</div>"
      ],
      "text/plain": [
       "                  Value  participants  non-participants     all\n",
       "0           1) baseline        23.227            54.167  77.393\n",
       "1  2) hits after strike        22.770            53.917  76.687\n",
       "2     3) change in hits        -0.456            -0.250  -0.706"
      ]
     },
     "execution_count": 38,
     "metadata": {},
     "output_type": "execute_result"
    }
   ],
   "source": [
    "ex1[ex1.index.isin([0,1,2])]"
   ]
  },
  {
   "cell_type": "markdown",
   "metadata": {},
   "source": [
    "Calculating the change in surfaced hits, it becomes more obvious that the strikers themselves experience more loss in hits than the non-strikers. Recall that strikers are getting un-personalized recommendations. This is a key take-away from this worked example.\n",
    "\n",
    "We also verify that the effect on the whole system is equal to the sum of these two components.\n",
    "\n",
    "Next, it will be useful to think about how this change in hits translate to *loss in personalization*. In other words, how far does the strike take performance towards un-personalized?\n",
    "\n",
    "### Change in Surfaced Hits, normalized w.r.t to un-personalized results"
   ]
  },
  {
   "cell_type": "code",
   "execution_count": 39,
   "metadata": {},
   "outputs": [
    {
     "data": {
      "text/html": [
       "<div>\n",
       "<style scoped>\n",
       "    .dataframe tbody tr th:only-of-type {\n",
       "        vertical-align: middle;\n",
       "    }\n",
       "\n",
       "    .dataframe tbody tr th {\n",
       "        vertical-align: top;\n",
       "    }\n",
       "\n",
       "    .dataframe thead th {\n",
       "        text-align: right;\n",
       "    }\n",
       "</style>\n",
       "<table border=\"1\" class=\"dataframe\">\n",
       "  <thead>\n",
       "    <tr style=\"text-align: right;\">\n",
       "      <th></th>\n",
       "      <th>Value</th>\n",
       "      <th>participants</th>\n",
       "      <th>non-participants</th>\n",
       "      <th>all</th>\n",
       "    </tr>\n",
       "  </thead>\n",
       "  <tbody>\n",
       "    <tr>\n",
       "      <th>0</th>\n",
       "      <td>1) baseline</td>\n",
       "      <td>23.227</td>\n",
       "      <td>54.167</td>\n",
       "      <td>77.393</td>\n",
       "    </tr>\n",
       "    <tr>\n",
       "      <th>1</th>\n",
       "      <td>2) hits after strike</td>\n",
       "      <td>22.770</td>\n",
       "      <td>53.917</td>\n",
       "      <td>76.687</td>\n",
       "    </tr>\n",
       "    <tr>\n",
       "      <th>2</th>\n",
       "      <td>3) change in hits</td>\n",
       "      <td>-0.456</td>\n",
       "      <td>-0.250</td>\n",
       "      <td>-0.706</td>\n",
       "    </tr>\n",
       "    <tr>\n",
       "      <th>3</th>\n",
       "      <td>4) change in hits, normalized w.r.t un-persona...</td>\n",
       "      <td>32.471</td>\n",
       "      <td>17.771</td>\n",
       "      <td>50.241</td>\n",
       "    </tr>\n",
       "  </tbody>\n",
       "</table>\n",
       "</div>"
      ],
      "text/plain": [
       "                                               Value  participants  \\\n",
       "0                                        1) baseline        23.227   \n",
       "1                               2) hits after strike        22.770   \n",
       "2                                  3) change in hits        -0.456   \n",
       "3  4) change in hits, normalized w.r.t un-persona...        32.471   \n",
       "\n",
       "   non-participants     all  \n",
       "0            54.167  77.393  \n",
       "1            53.917  76.687  \n",
       "2            -0.250  -0.706  \n",
       "3            17.771  50.241  "
      ]
     },
     "execution_count": 39,
     "metadata": {},
     "output_type": "execute_result"
    }
   ],
   "source": [
    "ex1[ex1.index.isin([0,1,2,3])]"
   ]
  },
  {
   "cell_type": "markdown",
   "metadata": {},
   "source": [
    "If we recall that the difference between SVD and MovieMean (i.e. the personalization gap) is equal to 1.4% surfaced hits, it makes sense that a loss of 0.25 takes non-participants 17.77% of the way towards un-personalized results."
   ]
  },
  {
   "cell_type": "code",
   "execution_count": 70,
   "metadata": {},
   "outputs": [
    {
     "data": {
      "text/plain": [
       "17.86"
      ]
     },
     "execution_count": 70,
     "metadata": {},
     "output_type": "execute_result"
    }
   ],
   "source": [
    "round(-0.250 / -1.4 * 100, 2)"
   ]
  },
  {
   "cell_type": "markdown",
   "metadata": {},
   "source": [
    "One puzzling result: why isn't the change in hits for participants not equal to 100% (since they are getting un-personalized recommendations)? This is because the strikers only comprise 30% of the population and we're looking at total surfaced hits still.\n",
    "\n",
    "In other words, the 30% of strikers can at most take us 30% of the way towards un-personalized results. If we divide the change in hits for strikers, normalized w.r.t un-personalized results, we see indeed the amount is about 30%."
   ]
  },
  {
   "cell_type": "code",
   "execution_count": 67,
   "metadata": {},
   "outputs": [
    {
     "data": {
      "text/plain": [
       "32.57"
      ]
     },
     "execution_count": 67,
     "metadata": {},
     "output_type": "execute_result"
    }
   ],
   "source": [
    "round(-0.456 / -1.4 * 100, 2)"
   ]
  },
  {
   "cell_type": "markdown",
   "metadata": {},
   "source": [
    "To get more insight into what's happening from a group's perspective, it might be interesting to consider *percent change* instead of raw change. Specifically, this is percent change for each group, i.e. the change is relative to the group's baseline.\n",
    "\n",
    "Critically, for an aggregate metric like surfaced hits, each group's baseline is proportional to it's size.\n",
    "\n",
    "We can look at row 1) to review what the baselines look like."
   ]
  },
  {
   "cell_type": "code",
   "execution_count": 49,
   "metadata": {},
   "outputs": [
    {
     "data": {
      "text/html": [
       "<div>\n",
       "<style scoped>\n",
       "    .dataframe tbody tr th:only-of-type {\n",
       "        vertical-align: middle;\n",
       "    }\n",
       "\n",
       "    .dataframe tbody tr th {\n",
       "        vertical-align: top;\n",
       "    }\n",
       "\n",
       "    .dataframe thead th {\n",
       "        text-align: right;\n",
       "    }\n",
       "</style>\n",
       "<table border=\"1\" class=\"dataframe\">\n",
       "  <thead>\n",
       "    <tr style=\"text-align: right;\">\n",
       "      <th></th>\n",
       "      <th>Value</th>\n",
       "      <th>participants</th>\n",
       "      <th>non-participants</th>\n",
       "      <th>all</th>\n",
       "    </tr>\n",
       "  </thead>\n",
       "  <tbody>\n",
       "    <tr>\n",
       "      <th>0</th>\n",
       "      <td>1) baseline</td>\n",
       "      <td>23.227</td>\n",
       "      <td>54.167</td>\n",
       "      <td>77.393</td>\n",
       "    </tr>\n",
       "    <tr>\n",
       "      <th>1</th>\n",
       "      <td>2) hits after strike</td>\n",
       "      <td>22.770</td>\n",
       "      <td>53.917</td>\n",
       "      <td>76.687</td>\n",
       "    </tr>\n",
       "    <tr>\n",
       "      <th>2</th>\n",
       "      <td>3) change in hits</td>\n",
       "      <td>-0.456</td>\n",
       "      <td>-0.250</td>\n",
       "      <td>-0.706</td>\n",
       "    </tr>\n",
       "    <tr>\n",
       "      <th>3</th>\n",
       "      <td>4) change in hits, normalized w.r.t un-persona...</td>\n",
       "      <td>32.471</td>\n",
       "      <td>17.771</td>\n",
       "      <td>50.241</td>\n",
       "    </tr>\n",
       "    <tr>\n",
       "      <th>4</th>\n",
       "      <td>5) percent change in hits</td>\n",
       "      <td>-1.964</td>\n",
       "      <td>-0.461</td>\n",
       "      <td>-0.912</td>\n",
       "    </tr>\n",
       "  </tbody>\n",
       "</table>\n",
       "</div>"
      ],
      "text/plain": [
       "                                               Value  participants  \\\n",
       "0                                        1) baseline        23.227   \n",
       "1                               2) hits after strike        22.770   \n",
       "2                                  3) change in hits        -0.456   \n",
       "3  4) change in hits, normalized w.r.t un-persona...        32.471   \n",
       "4                          5) percent change in hits        -1.964   \n",
       "\n",
       "   non-participants     all  \n",
       "0            54.167  77.393  \n",
       "1            53.917  76.687  \n",
       "2            -0.250  -0.706  \n",
       "3            17.771  50.241  \n",
       "4            -0.461  -0.912  "
      ]
     },
     "execution_count": 49,
     "metadata": {},
     "output_type": "execute_result"
    }
   ],
   "source": [
    "ex1[ex1.index.isin([0,1,2,3,4])]"
   ]
  },
  {
   "cell_type": "markdown",
   "metadata": {},
   "source": [
    "Finally, we can also think of percent change normalized w.r.t un-personalized results.\n",
    "\n",
    "In other words, how close to un-personalized results did the strike bring *each individual group*. Here, we'd expect the strikers to experience around > 100% change."
   ]
  },
  {
   "cell_type": "code",
   "execution_count": 50,
   "metadata": {},
   "outputs": [
    {
     "data": {
      "text/html": [
       "<div>\n",
       "<style scoped>\n",
       "    .dataframe tbody tr th:only-of-type {\n",
       "        vertical-align: middle;\n",
       "    }\n",
       "\n",
       "    .dataframe tbody tr th {\n",
       "        vertical-align: top;\n",
       "    }\n",
       "\n",
       "    .dataframe thead th {\n",
       "        text-align: right;\n",
       "    }\n",
       "</style>\n",
       "<table border=\"1\" class=\"dataframe\">\n",
       "  <thead>\n",
       "    <tr style=\"text-align: right;\">\n",
       "      <th></th>\n",
       "      <th>Value</th>\n",
       "      <th>participants</th>\n",
       "      <th>non-participants</th>\n",
       "      <th>all</th>\n",
       "    </tr>\n",
       "  </thead>\n",
       "  <tbody>\n",
       "    <tr>\n",
       "      <th>0</th>\n",
       "      <td>1) baseline</td>\n",
       "      <td>23.227</td>\n",
       "      <td>54.167</td>\n",
       "      <td>77.393</td>\n",
       "    </tr>\n",
       "    <tr>\n",
       "      <th>1</th>\n",
       "      <td>2) hits after strike</td>\n",
       "      <td>22.770</td>\n",
       "      <td>53.917</td>\n",
       "      <td>76.687</td>\n",
       "    </tr>\n",
       "    <tr>\n",
       "      <th>2</th>\n",
       "      <td>3) change in hits</td>\n",
       "      <td>-0.456</td>\n",
       "      <td>-0.250</td>\n",
       "      <td>-0.706</td>\n",
       "    </tr>\n",
       "    <tr>\n",
       "      <th>3</th>\n",
       "      <td>4) change in hits, normalized w.r.t un-persona...</td>\n",
       "      <td>32.471</td>\n",
       "      <td>17.771</td>\n",
       "      <td>50.241</td>\n",
       "    </tr>\n",
       "    <tr>\n",
       "      <th>4</th>\n",
       "      <td>5) percent change in hits</td>\n",
       "      <td>-1.964</td>\n",
       "      <td>-0.461</td>\n",
       "      <td>-0.912</td>\n",
       "    </tr>\n",
       "    <tr>\n",
       "      <th>5</th>\n",
       "      <td>6) percent change in hits, normalized w.r.t un...</td>\n",
       "      <td>108.199</td>\n",
       "      <td>25.399</td>\n",
       "      <td>50.241</td>\n",
       "    </tr>\n",
       "  </tbody>\n",
       "</table>\n",
       "</div>"
      ],
      "text/plain": [
       "                                               Value  participants  \\\n",
       "0                                        1) baseline        23.227   \n",
       "1                               2) hits after strike        22.770   \n",
       "2                                  3) change in hits        -0.456   \n",
       "3  4) change in hits, normalized w.r.t un-persona...        32.471   \n",
       "4                          5) percent change in hits        -1.964   \n",
       "5  6) percent change in hits, normalized w.r.t un...       108.199   \n",
       "\n",
       "   non-participants     all  \n",
       "0            54.167  77.393  \n",
       "1            53.917  76.687  \n",
       "2            -0.250  -0.706  \n",
       "3            17.771  50.241  \n",
       "4            -0.461  -0.912  \n",
       "5            25.399  50.241  "
      ]
     },
     "execution_count": 50,
     "metadata": {},
     "output_type": "execute_result"
    }
   ],
   "source": [
    "ex1[ex1.index.isin([0,1,2,3,4,5])]"
   ]
  },
  {
   "cell_type": "markdown",
   "metadata": {},
   "source": [
    "Let's dig into why the normalized % change in hits is not the same as normalized change in hits for non-participants, but it is for all.\n",
    "\n",
    "Non-participants experienced in 0.461% change in hits. The aggregate difference between fully- and un-personalized results is about 1.8.\n",
    "\n",
    "So a drop of 0.25% of hits corresponds to the system going 17.77% of the way towards un-personalized."
   ]
  },
  {
   "cell_type": "code",
   "execution_count": 68,
   "metadata": {},
   "outputs": [
    {
     "data": {
      "text/plain": [
       "17.86"
      ]
     },
     "execution_count": 68,
     "metadata": {},
     "output_type": "execute_result"
    }
   ],
   "source": [
    "round(0.25 / 1.4 * 100, 2)"
   ]
  },
  {
   "cell_type": "markdown",
   "metadata": {},
   "source": [
    "And a percent change of -0.461 corresponds to non-participants experiencing a change that's 25.4% of the way towards un-personalized."
   ]
  },
  {
   "cell_type": "code",
   "execution_count": 69,
   "metadata": {},
   "outputs": [
    {
     "data": {
      "text/plain": [
       "25.4"
      ]
     },
     "execution_count": 69,
     "metadata": {},
     "output_type": "execute_result"
    }
   ],
   "source": [
    "round(0.461 / 1.815 * 100, 2)"
   ]
  },
  {
   "cell_type": "markdown",
   "metadata": {},
   "source": [
    "Finally, we clarify the distinction here. When normalizing change in units of surfaced hits, we're always considering the whole system. The \"how far towards un-personalized\" question is about how close we are to getting the experience of a totally un-personalized system.\n",
    "\n",
    "Specifically, the full question reads: \"How far does a given group take the system towards un-personalized results?\" This question is a bit unintuitive and so the results are not too useful.\n",
    "\n",
    "To get the total normalized change in units of surfaced hits, we can just add the value for each group."
   ]
  },
  {
   "cell_type": "code",
   "execution_count": 64,
   "metadata": {},
   "outputs": [
    {
     "data": {
      "text/plain": [
       "50.24"
      ]
     },
     "execution_count": 64,
     "metadata": {},
     "output_type": "execute_result"
    }
   ],
   "source": [
    "round(32.471 + 17.771, 2)"
   ]
  },
  {
   "cell_type": "markdown",
   "metadata": {},
   "source": [
    "When normalizing percent change, we're only considering one group. The \"how far towards un-personalized\" question is about how close we are to getting the experience of an un-personalized system *for this group*.\n",
    "\n",
    "Specifically, the full question here should read: \"How far does a given group go towards un-personalized results for that group?\"\n",
    "This is probably the more intuitive question we might ask about change relative to un-personalized results. This is the number we report in Section 5.1.\n",
    "\n",
    "To get the total normalized percent change, we can perform a weighted sum weighted by the size of each group."
   ]
  },
  {
   "cell_type": "code",
   "execution_count": 63,
   "metadata": {},
   "outputs": [
    {
     "data": {
      "text/plain": [
       "50.24"
      ]
     },
     "execution_count": 63,
     "metadata": {},
     "output_type": "execute_result"
    }
   ],
   "source": [
    "round(108.2 * 0.3 + 25.4 * 0.7, 2)"
   ]
  },
  {
   "cell_type": "code",
   "execution_count": null,
   "metadata": {},
   "outputs": [],
   "source": []
  }
 ],
 "metadata": {
  "kernelspec": {
   "display_name": "Python 3",
   "language": "python",
   "name": "python3"
  },
  "language_info": {
   "codemirror_mode": {
    "name": "ipython",
    "version": 3
   },
   "file_extension": ".py",
   "mimetype": "text/x-python",
   "name": "python",
   "nbconvert_exporter": "python",
   "pygments_lexer": "ipython3",
   "version": "3.6.6"
  }
 },
 "nbformat": 4,
 "nbformat_minor": 2
}
