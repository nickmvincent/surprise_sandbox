{
 "cells": [
  {
   "cell_type": "markdown",
   "metadata": {},
   "source": [
    "# Data Boycott and Data Strikes: Simulated Campaign Results\n",
    "\n",
    "## Goals of this notebook\n",
    "This notebook includes code for exploring the results of simulated boycotts. It also generates plots (for papers/presentations). This notebook covers 3 broad categories of experiments\n",
    "\n",
    "1. MovieLens 1M random boycotts\n",
    "2. MovieLens 1M homogeneous boycotts (e.g. fans of Comedy movies boycott together, people of a single age group boycott together)\n",
    "3. MovieLens 20M random boycotts\n",
    "\n"
   ]
  },
  {
   "cell_type": "code",
   "execution_count": 1,
   "metadata": {},
   "outputs": [
    {
     "name": "stdout",
     "output_type": "stream",
     "text": [
      "ml-20m 144.4135299257002\n",
      "ml-1m 165.5975165562914\n"
     ]
    }
   ],
   "source": [
    "from collections import defaultdict, OrderedDict\n",
    "import json\n",
    "from pprint import pprint\n",
    "\n",
    "import pandas as pd\n",
    "import numpy as np\n",
    "import seaborn as sns\n",
    "import matplotlib.pyplot as plt\n",
    "sns.set(style=\"darkgrid\")\n",
    "sns.set_color_codes(\"dark\")\n",
    "\n",
    "from scipy import stats\n",
    "from scipy.interpolate import interp1d\n",
    "\n",
    "# http://files.grouplens.org/datasets/movielens/ml-20m-README.txt\n",
    "\n",
    "num_users = {\n",
    "    'ml-20m': 138493,\n",
    "    'ml-1m': 6040\n",
    "}\n",
    "num_ratings = {\n",
    "    'ml-20m': 20000263,\n",
    "    'ml-1m': 1000209\n",
    "}\n",
    "for dataset in ['ml-20m', 'ml-1m']:\n",
    "    ratio = num_ratings[dataset] / num_users[dataset]\n",
    "    print(dataset, ratio)"
   ]
  },
  {
   "cell_type": "markdown",
   "metadata": {},
   "source": [
    "First things first: let's load our master data files. Each is a single csv that was created by the `process_all.py` script."
   ]
  },
  {
   "cell_type": "code",
   "execution_count": 2,
   "metadata": {
    "collapsed": true
   },
   "outputs": [],
   "source": [
    "df_1m = pd.read_csv('ml-1m_collected_10_28/all_results.csv', dtype={'indices': str})\n",
    "df_1m = df_1m[df_1m.ratingfrac.notna()]\n",
    "df_1m['dataset'] = 'ml-1m'"
   ]
  },
  {
   "cell_type": "code",
   "execution_count": 3,
   "metadata": {
    "collapsed": true
   },
   "outputs": [],
   "source": [
    "df_20m = pd.read_csv('ml-20m_collected/all_results.csv', dtype={'indices': str})\n",
    "df_20m = df_20m[df_20m.ratingfrac.notna()]\n",
    "df_20m['dataset'] = 'ml-20m'"
   ]
  },
  {
   "cell_type": "markdown",
   "metadata": {},
   "source": [
    "Now we apply transformation that will affect the entire dataframe.\n",
    "1. Calculate the number of users included in each experiment.\n",
    "2. Calculate the number of ratings missing per experiment (so we can estimate how much we'd \"expect\" performance to decrease)\n",
    "3. Calculate the number of ratings missing per experiment, rounded to the nearest 10^5"
   ]
  },
  {
   "cell_type": "code",
   "execution_count": 4,
   "metadata": {},
   "outputs": [
    {
     "name": "stdout",
     "output_type": "stream",
     "text": [
      "Skipping\n",
      "'totalhits_all'\n"
     ]
    },
    {
     "name": "stderr",
     "output_type": "stream",
     "text": [
      "C:\\Users\\Nick\\Anaconda3\\lib\\site-packages\\ipykernel_launcher.py:20: RuntimeWarning: invalid value encountered in log10\n",
      "C:\\Users\\Nick\\Anaconda3\\lib\\site-packages\\ipykernel_launcher.py:20: RuntimeWarning: divide by zero encountered in log10\n",
      "C:\\Users\\Nick\\Anaconda3\\lib\\site-packages\\ipykernel_launcher.py:21: RuntimeWarning: divide by zero encountered in log10\n"
     ]
    }
   ],
   "source": [
    "\n",
    "for df, dataset in [\n",
    "    (df_1m, 'ml-1m',),\n",
    "    (df_20m, 'ml-20m',),\n",
    "]:\n",
    "    # Whoops! Assign doesn't work in a for loop.\n",
    "#     df = df.assign(num_users_boycotting = [(NUM_USERS - int(x))/NUM_USERS for x in df.num_users])\n",
    "#     df = df.assign(num_ratings_missing = [NUM_RATINGS - int(x) for x in df.num_ratings])\n",
    "#     df = df.assign(nrm_rounded = [round(x, -5) for x in df.num_ratings_missing])\n",
    "    filename_ratingcv_standards = 'standard_results/{}_ratingcv_standards_for_{}.json'.format(\n",
    "        dataset, 'GlobalMean')\n",
    "    with open(filename_ratingcv_standards, 'r') as f:\n",
    "        standard_results = json.load(f)\n",
    "    \n",
    "    df['num_users_boycotting'] = [(num_users[dataset] - int(x)) / num_users[dataset] for x in df.num_users]\n",
    "    df['num_ratings_missing'] = [num_ratings[dataset] - int(x) for x in df.num_ratings]\n",
    "    df['nrm_rounded'] = [round(x, -5) for x in df.num_ratings_missing]\n",
    "    try:\n",
    "        for group in ['all', 'non-boycott']:\n",
    "            df['loghits_' + group] = [np.log10(-1*(x - 89045.6)) for x in df['totalhits_' + group]]\n",
    "            df['standards_loghits_' + group] = [np.log10(-1 * (x - 89045.6)) for x in df['standards_totalhits_' + group]]\n",
    "            #TODO\n",
    "            df['frachits_' + group] = [x/114000 for x in df['totalhits_' + group]]\n",
    "            df['hitsbeyondrand_' + group] = [x - standard_results['totalhits'] for x in df['totalhits_' + group]]\n",
    "    except KeyError as err:\n",
    "        print('Skipping')\n",
    "        print(err)\n",
    "    \n",
    "\n",
    "    # drop columns we're not going to use.\n",
    "    drops = [\n",
    "        #'tail',\n",
    "        # 'vanilla',\n",
    "    ]\n",
    "    for column in df.columns.values:\n",
    "        for drop in drops:\n",
    "            if drop in column:\n",
    "                df = df.drop(column, axis=1)"
   ]
  },
  {
   "cell_type": "markdown",
   "metadata": {},
   "source": [
    "# EDIT ME\n",
    "Define all the lists that can be used throughout. By editing this cell we can easily modify the full notebook."
   ]
  },
  {
   "cell_type": "code",
   "execution_count": 5,
   "metadata": {
    "collapsed": true
   },
   "outputs": [],
   "source": [
    "id_vars = ['name','algo_name', 'indices', 'ratingfrac', 'userfrac', 'num_ratings', 'num_users', 'num_users_boycotting']\n",
    "#id_vars = [x for x in id_vars if x in list(df.columns.values)]\n",
    "metrics = [\n",
    "    'rmse',\n",
    "    'ndcg10',\n",
    "    #'tailndcg10',\n",
    "    #'ndcg5',\n",
    "    #'tailndcg5',\n",
    "    #'ndcgfull',\n",
    "    #'tailndcgfull',\n",
    "    #'ndcgfull',\n",
    "    'prec10t4',\n",
    "    #'tailprec10t4',\n",
    "    #'prec5t4',\n",
    "    #'tailprec5t4',\n",
    "    'hits',\n",
    "    'totalhits',\n",
    "    'normhits'\n",
    "]\n",
    "\n",
    "organized_experiments = [\n",
    "    'gender', 'state', 'power', 'genre', 'occupation', 'age'\n",
    "]\n",
    "algo_names = [\n",
    "    #'KNNBaseline_item_msd',\n",
    "    'SVD'\n",
    "]\n",
    "standard_algo_names = [\n",
    "    'SVD', \n",
    "    'GlobalMean', \n",
    "    'GuessThree',\n",
    "    'MovieMean', \n",
    "    'KNNBaseline_item_msd',\n",
    "    'KNNBasic_user_msd',\n",
    "    'KNNBasic_item_msd',\n",
    "]"
   ]
  },
  {
   "cell_type": "markdown",
   "metadata": {},
   "source": [
    "# Flags\n",
    "A variety of flags to turn various analyses on or off. Turning more flags off will make the notebook run faster."
   ]
  },
  {
   "cell_type": "code",
   "execution_count": 6,
   "metadata": {
    "collapsed": true
   },
   "outputs": [],
   "source": [
    "flags = {}"
   ]
  },
  {
   "cell_type": "markdown",
   "metadata": {},
   "source": [
    "## Load and Organize Standard Results\n",
    "For any of our visualizations to be meaningful, we need standard results to compare the boycott results to. These standards let us evaluate \"what is the effect of the boycott compared to other algorithms\".\n",
    "\n",
    "In particular, we compare the boycott performance to performance when using very non-personalized algorithms (MovieMean) and simpler personalized algorithms (user-based KNN, item-based KNN).\n",
    "\n",
    "Below, we load these results from json files into Python data structures so we can use below when generating plots."
   ]
  },
  {
   "cell_type": "code",
   "execution_count": 7,
   "metadata": {},
   "outputs": [
    {
     "name": "stdout",
     "output_type": "stream",
     "text": [
      "File not found: standard_results/ml-20m_ratingcv_standards_for_KNNBasic_user_msd.json\n",
      "{'ml-1m': defaultdict(<function <lambda> at 0x00000187406CBF28>,\n",
      "                      {'SVD': defaultdict(<class 'dict'>,\n",
      "                                          {'hits': {'GlobalMean': -17.84257427465695,\n",
      "                                                    'GuessThree': -17.84257427465695,\n",
      "                                                    'KNNBaseline_item_msd': 0,\n",
      "                                                    'KNNBasic_item_msd': 0,\n",
      "                                                    'KNNBasic_user_msd': 0,\n",
      "                                                    'MovieMean': -1.8152304579426788,\n",
      "                                                    'SVD': 0.0},\n",
      "                                           'ndcg10': {'GlobalMean': -25.473630285204873,\n",
      "                                                      'GuessThree': -25.473630285204873,\n",
      "                                                      'KNNBaseline_item_msd': -0.22155928322821253,\n",
      "                                                      'KNNBasic_item_msd': -0.7891935683607922,\n",
      "                                                      'KNNBasic_user_msd': -1.7797464088759558,\n",
      "                                                      'MovieMean': -2.594307467586317,\n",
      "                                                      'SVD': 0.0},\n",
      "                                           'normhits': {'GlobalMean': -17.288809053218642,\n",
      "                                                        'GuessThree': -17.288809053218642,\n",
      "                                                        'KNNBaseline_item_msd': 0,\n",
      "                                                        'KNNBasic_item_msd': 0,\n",
      "                                                        'KNNBasic_user_msd': 0,\n",
      "                                                        'MovieMean': -1.5798117185527312,\n",
      "                                                        'SVD': 0.0},\n",
      "                                           'prec10t4': {'GlobalMean': -21.95770974806061,\n",
      "                                                        'GuessThree': -21.95770974806061,\n",
      "                                                        'KNNBaseline_item_msd': -0.5954819973671458,\n",
      "                                                        'KNNBasic_item_msd': -0.7694496756109535,\n",
      "                                                        'KNNBasic_user_msd': -1.509512022153612,\n",
      "                                                        'MovieMean': -2.3220059942464455,\n",
      "                                                        'SVD': 0.0},\n",
      "                                           'rmse': {'GlobalMean': 27.898536572930073,\n",
      "                                                    'GuessThree': 44.191989927589994,\n",
      "                                                    'KNNBaseline_item_msd': 1.380013996648701,\n",
      "                                                    'KNNBasic_item_msd': 4.681880312277179,\n",
      "                                                    'KNNBasic_user_msd': 5.683510285523893,\n",
      "                                                    'MovieMean': 12.143262185169235,\n",
      "                                                    'SVD': 0.0},\n",
      "                                           'totalhits': {'GlobalMean': -17.842543595640883,\n",
      "                                                         'GuessThree': 0,\n",
      "                                                         'KNNBaseline_item_msd': 0,\n",
      "                                                         'KNNBasic_item_msd': 0,\n",
      "                                                         'KNNBasic_user_msd': 0,\n",
      "                                                         'MovieMean': -1.8152497147529003,\n",
      "                                                         'SVD': 0.0}})}),\n",
      " 'ml-20m': defaultdict(<function <lambda> at 0x00000187406E0488>,\n",
      "                       {'SVD': defaultdict(<class 'dict'>,\n",
      "                                           {'hits': {'1M_SVD': 0,\n",
      "                                                     'GlobalMean': 0,\n",
      "                                                     'GuessThree': 0,\n",
      "                                                     'KNNBaseline_item_msd': 0,\n",
      "                                                     'KNNBasic_item_msd': 0,\n",
      "                                                     'KNNBasic_user_msd': 0,\n",
      "                                                     'MovieMean': 0,\n",
      "                                                     'SVD': 0},\n",
      "                                            'ndcg10': {'1M_SVD': -2.390511659583795,\n",
      "                                                       'GlobalMean': -24.636094062128187,\n",
      "                                                       'GuessThree': -24.636094062128187,\n",
      "                                                       'KNNBaseline_item_msd': -2.545825243372394,\n",
      "                                                       'KNNBasic_item_msd': -2.2383269117241746,\n",
      "                                                       'KNNBasic_user_msd': 0,\n",
      "                                                       'MovieMean': -5.647772312509133,\n",
      "                                                       'SVD': 0.0},\n",
      "                                            'normhits': {'1M_SVD': 0,\n",
      "                                                         'GlobalMean': 0,\n",
      "                                                         'GuessThree': 0,\n",
      "                                                         'KNNBaseline_item_msd': 0,\n",
      "                                                         'KNNBasic_item_msd': 0,\n",
      "                                                         'KNNBasic_user_msd': 0,\n",
      "                                                         'MovieMean': 0,\n",
      "                                                         'SVD': 0},\n",
      "                                            'prec10t4': {'1M_SVD': 5.359496492186202,\n",
      "                                                         'GlobalMean': -26.02609136733745,\n",
      "                                                         'GuessThree': -26.02609136733745,\n",
      "                                                         'KNNBaseline_item_msd': -2.6578245579146857,\n",
      "                                                         'KNNBasic_item_msd': -1.8343231995464522,\n",
      "                                                         'KNNBasic_user_msd': 0,\n",
      "                                                         'MovieMean': -5.237033945496111,\n",
      "                                                         'SVD': 0.0},\n",
      "                                            'rmse': {'1M_SVD': 11.107660569181594,\n",
      "                                                     'GlobalMean': 33.82198224383994,\n",
      "                                                     'GuessThree': 49.59102014901265,\n",
      "                                                     'KNNBaseline_item_msd': 4.991087869128467,\n",
      "                                                     'KNNBasic_item_msd': 8.197945180278845,\n",
      "                                                     'KNNBasic_user_msd': 0,\n",
      "                                                     'MovieMean': 19.759535282577247,\n",
      "                                                     'SVD': 0.0},\n",
      "                                            'totalhits': {'1M_SVD': 0,\n",
      "                                                          'GlobalMean': 0,\n",
      "                                                          'GuessThree': 0,\n",
      "                                                          'KNNBaseline_item_msd': 0,\n",
      "                                                          'KNNBasic_item_msd': 0,\n",
      "                                                          'KNNBasic_user_msd': 0,\n",
      "                                                          'MovieMean': 0,\n",
      "                                                          'SVD': 0}})})}\n"
     ]
    }
   ],
   "source": [
    "dataset_to_algo_to_metric_to_altalgo = {}\n",
    "ds2standards = {}\n",
    "\n",
    "one_mill_svd = {}\n",
    "for dataset in [\n",
    "    'ml-1m',\n",
    "    'ml-20m',\n",
    "]:\n",
    "    standard_results = {}\n",
    "    algo2metric2altalgo = defaultdict(lambda: defaultdict(dict))\n",
    "\n",
    "    for algo_name in standard_algo_names:\n",
    "        try:\n",
    "            filename_ratingcv_standards = 'standard_results/{}_ratingcv_standards_for_{}.json'.format(\n",
    "                dataset, algo_name)\n",
    "            with open(filename_ratingcv_standards, 'r') as f:\n",
    "                standard_results[algo_name] = json.load(f)\n",
    "                if algo_name == 'SVD' and dataset == 'ml-1m':\n",
    "                    one_mill_svd = standard_results[algo_name]\n",
    "        except FileNotFoundError:\n",
    "            print('File not found: {}'.format(filename_ratingcv_standards))\n",
    "    for main_algo_name in algo_names:\n",
    "        for metric in metrics:\n",
    "            goodval = standard_results[main_algo_name].get(metric, 0)\n",
    "            for st_algo_name in standard_algo_names:\n",
    "                val = standard_results.get(st_algo_name, {}).get(metric)\n",
    "                if val:\n",
    "                    algo2metric2altalgo[main_algo_name][metric][st_algo_name] = (val - goodval) / goodval * 100 if goodval else 0\n",
    "                else:\n",
    "                    algo2metric2altalgo[main_algo_name][metric][st_algo_name] = 0\n",
    "            if dataset == 'ml-20m':\n",
    "                val = one_mill_svd.get(metric)\n",
    "                if val:\n",
    "                    algo2metric2altalgo[main_algo_name][metric]['1M_SVD'] = (val - goodval) / goodval * 100 if goodval else 0\n",
    "                else:\n",
    "                    algo2metric2altalgo[main_algo_name][metric]['1M_SVD'] = 0\n",
    "            \n",
    "    dataset_to_algo_to_metric_to_altalgo[dataset] = algo2metric2altalgo\n",
    "    ds2standards[dataset] = standard_results\n",
    "pprint(dataset_to_algo_to_metric_to_altalgo)"
   ]
  },
  {
   "cell_type": "markdown",
   "metadata": {},
   "source": [
    "# Estimate change in \"hits\" based on precision or ndcg\n",
    "\n",
    "For a given list of k-items, we assume users will click the items in that list that are \"good\" (rating over 4).\n",
    "\n",
    "\n",
    "One way to do this is to follow this linear model:\n",
    "\n",
    "* a user who gets a list with \"full precision\" (i.e. SVD w/ full data) provides 5 hits\n",
    "* a user who gets a list with \"un-personalized precision\" (i.e. MovieMean) provides 5/ratio hits!\n",
    "* note that in this case even users w/ bad lists still provide hits\n",
    "\n",
    "Using these two points, we fit a line:\n",
    "\n",
    "\n",
    "When ratio=1, recommender adds NO VALUE and therefore strikes do NO DAMAGE!\n",
    "\n",
    "Anchor:hits"
   ]
  },
  {
   "cell_type": "code",
   "execution_count": 42,
   "metadata": {
    "collapsed": true
   },
   "outputs": [],
   "source": [
    "normalize_hits = False\n",
    "\n",
    "for df, dataset in [\n",
    "    (df_1m, 'ml-1m',),\n",
    "    #(df_20m, 'ml-20m',),\n",
    "]:\n",
    "    metric2altalgo = dataset_to_algo_to_metric_to_altalgo[dataset]['SVD']\n",
    "    # will only work for SVD as its written right now.\n",
    "    \n",
    "    #personalization_boost_coefficient\n",
    "    for pbc in [\n",
    "        1.1, 1.02, 2, 4, 8,\n",
    "    ]:\n",
    "        for old_metric, k in [\n",
    "            ('prec10t4', 10),\n",
    "            #('ndcg10', 10),\n",
    "            # the actual count of 4 star ratings in the whole ds\n",
    "            ('hits', 1),\n",
    "            ('totalhits', 1),\n",
    "        ]:\n",
    "            for group in ['non-boycott', 'all']:\n",
    "                # name the new dataframe column\n",
    "                new_metric = '{}boosthits-{}'.format(pbc, old_metric)\n",
    "                total_possible_hits = num_users[dataset] * k\n",
    "                if old_metric == 'totalhits':\n",
    "                    total_possible_hits = ds2standards[dataset]['SVD'][old_metric]\n",
    "                elif old_metric == 'hits':\n",
    "                    total_possible_hits = ds2standards[dataset]['SVD'][old_metric] * num_users[dataset]\n",
    "                \n",
    "                # boycotting users provide 0 hits. \n",
    "                # so with a full boycott, damage = total possible hits\n",
    "                comparison = -1 * total_possible_hits\n",
    "                #comparison = -1 * ds2standards[dataset]['SVD'][old_metric] * total_possible_hits\n",
    "\n",
    "                key_template = 'percent_increase_{}_{}'\n",
    "                new_key = key_template.format(new_metric, group)\n",
    "\n",
    "   \n",
    "                # no missing users in a strike (\"All Users\" perspective)\n",
    "                if group == 'all':\n",
    "                    frac_miss_arr = [0] * len(df.index)\n",
    "                # there are missing users in a data boycott!\n",
    "                else:\n",
    "                    frac_miss_arr = list(df['num_users_boycotting'])\n",
    "\n",
    "                labor_metric = 'labor-' + new_metric\n",
    "                consumer_metric = 'consumer-' + new_metric\n",
    "\n",
    "                # get the predicted diff if we switched to MovieMean\n",
    "                pred_diff = metric2altalgo[old_metric]['MovieMean']\n",
    "                # should get more negative as prec_val gets more negative\n",
    "                coefficients = np.polyfit(\n",
    "                    [pred_diff, 0], # x values\n",
    "                    [total_possible_hits/pbc - total_possible_hits, 0],# y values\n",
    "                    1, # polynomial order, i.e. this is a line\n",
    "                )\n",
    "\n",
    "                df[key_template.format(labor_metric, group)] = [\n",
    "                    ( coefficients[1] + coefficients[0] * prec_val  * (1 - frac_miss)) for (\n",
    "                        prec_val, frac_miss\n",
    "                    ) in zip(df[key_template.format(old_metric, group)], frac_miss_arr)\n",
    "                ]\n",
    "                df[key_template.format(consumer_metric, group)] = [\n",
    "                    (comparison * frac_miss) for frac_miss in frac_miss_arr\n",
    "                ]\n",
    "\n",
    "                df[new_key] = [\n",
    "                    (labor_power + consumer_power) for (\n",
    "                        labor_power, consumer_power\n",
    "                    ) in zip(\n",
    "                        df[key_template.format('labor-' + new_metric, group)],\n",
    "                        df[key_template.format('consumer-' + new_metric, group)],\n",
    "                    )\n",
    "                ]\n",
    "                df[new_key.replace('percent_increase_', '')] = [\n",
    "                    (labor_power + consumer_power + ds2standards[dataset]['SVD']['totalhits']) for (\n",
    "                        labor_power, consumer_power\n",
    "                    ) in zip(\n",
    "                        df[key_template.format('labor-' + new_metric, group)],\n",
    "                        df[key_template.format('consumer-' + new_metric, group)],\n",
    "                    )\n",
    "                ]\n",
    "\n",
    "                if normalize_hits:\n",
    "                    print('Normalizing. Will divide hit values by total possible hits.')\n",
    "                    df[new_key] /= total_possible_hits\n",
    "                    df[key_template.format(labor_metric, group)] /= total_possible_hits\n",
    "                    df[key_template.format(consumer_metric, group)] /= total_possible_hits\n",
    "\n",
    "                for st_al_nm in standard_algo_names:\n",
    "                    old_val = metric2altalgo[old_metric][st_al_nm]\n",
    "                    # convert from percent to raw precision change\n",
    "                    old_val *= ds2standards[dataset]['SVD'][old_metric] / 100\n",
    "                    # multiply by k and the probability of clicks b/c we want to get from prec@5 to hits\n",
    "                    if not normalize_hits:\n",
    "                        old_val *= total_possible_hits\n",
    "                    metric2altalgo[new_metric][st_al_nm] = old_val\n",
    "                    metric2altalgo[labor_metric][st_al_nm] = old_val\n",
    "                    metric2altalgo[consumer_metric][st_al_nm] = old_val\n",
    "            df['increase_hit-ratio@{}_non-boycott'.format(k)] = [\n",
    "                boycott_val / strike_val for (boycott_val, strike_val) in zip(\n",
    "                    df[key_template.format(new_metric, 'non-boycott')], df[key_template.format(new_metric, 'all')])\n",
    "            ]\n",
    "            df['increase_hit-ratio@{}_all'.format(k)] = [\n",
    "                boycott_val / strike_val for (boycott_val, strike_val) in zip(\n",
    "                    df[key_template.format(new_metric, 'non-boycott')], df[key_template.format(new_metric, 'all')])\n",
    "            ]\n",
    "            #print(df[['num_users_boycotting', 'increase_hits-prec5t4_non-boycott', 'increase_hits-prec5t4_all', 'increase_hit-ratio@5_non-boycott']])\n"
   ]
  },
  {
   "cell_type": "markdown",
   "metadata": {
    "collapsed": true
   },
   "source": [
    "# Compare Precision-Estimated Hits to Actual Hits\n"
   ]
  },
  {
   "cell_type": "code",
   "execution_count": 43,
   "metadata": {},
   "outputs": [
    {
     "name": "stdout",
     "output_type": "stream",
     "text": [
      "   num_users_boycotting       variable    value\n",
      "0                   0.2  totalhits_all  88565.0\n",
      "1                   0.2  totalhits_all  88483.2\n",
      "2                   0.2  totalhits_all  88479.2\n",
      "3                   0.2  totalhits_all  88500.2\n",
      "4                   0.2  totalhits_all  88444.2\n"
     ]
    },
    {
     "name": "stderr",
     "output_type": "stream",
     "text": [
      "C:\\Users\\Nick\\Anaconda3\\lib\\site-packages\\scipy\\stats\\stats.py:1713: FutureWarning: Using a non-tuple sequence for multidimensional indexing is deprecated; use `arr[tuple(seq)]` instead of `arr[seq]`. In the future this will be interpreted as an array index, `arr[np.array(seq)]`, which will result either in an error or a different result.\n",
      "  return np.add.reduce(sorted[indexer] * weights, axis=axis) / sumval\n"
     ]
    },
    {
     "data": {
      "image/png": "[encoded data removed]",
      "text/plain": [
       "<Figure size 550.1x360 with 1 Axes>"
      ]
     },
     "metadata": {},
     "output_type": "display_data"
    }
   ],
   "source": [
    "hits_df = df_1m.copy()\n",
    "hits_df = hits_df[~hits_df.hits_all.isna()]\n",
    "#hits_df = hits_df[hits_df.num_users_boycotting >= 0.5]\n",
    "#print(len(hits_df.index))\n",
    "hits_metric = 'totalhits'\n",
    "metric2 = '1.02boosthits-hits'\n",
    "include = [\n",
    "    'num_users_boycotting', \n",
    "]\n",
    "hits_cols = [\n",
    "    '{}_all'.format(hits_metric), \n",
    "    '{}_non-boycott'.format(hits_metric),\n",
    "    #'{}_boycott'.format(hits_metric),\n",
    "]\n",
    "# for col in hits_cols:\n",
    "#     hits_df[col] *= 0.76 / 14.75#num_users['ml-1m']\n",
    "\n",
    "plot_metric2 = True\n",
    "include += hits_cols\n",
    "if plot_metric2:\n",
    "    cols = [\n",
    "        '{}_all'.format(metric2), \n",
    "        '{}_non-boycott'.format(metric2),\n",
    "    ]\n",
    "\n",
    "    include += cols\n",
    "    \n",
    "hits_df = hits_df[include].melt(id_vars='num_users_boycotting')\n",
    "print(hits_df.head())\n",
    "\n",
    "# for k in hits_df.num_users_boycotting:\n",
    "#     print(k)\n",
    "#     matches_from_hits = hits_df[hits_df.num_users_boycotting == k]\n",
    "#     matches_from_orig = samples_df_1m[hits_df.num_users_boycotting == k]\n",
    "\n",
    "sns.lmplot(\n",
    "        x=\"num_users_boycotting\", y=\"value\", hue='variable', data=hits_df,\n",
    "        fit_reg=False,\n",
    "        x_estimator=np.mean, ci=99, \n",
    "    )\n",
    "plt.show()"
   ]
  },
  {
   "cell_type": "code",
   "execution_count": 44,
   "metadata": {},
   "outputs": [
    {
     "name": "stdout",
     "output_type": "stream",
     "text": [
      "defaultdict(<class 'list'>, {'1.02boosthits-hits_all': [89010.32817456515, 89004.04829943783, 88998.13148837839, 88989.47705321583, 88969.73196717988, 88853.22310874017, 88711.6816758859, 88428.9907881005, 88149.78722677733, 87890.60906810928, 87626.09490838627, 87379.21612591486, 87122.86657317795, 86812.59473415981, 86202.19494087649, 81495.41370314205], '1.02boosthits-hits_non-boycott': [88995.9649823939, 88960.59551037157, 88911.43744187671, 88555.95571485315, 88102.97050501879, 84490.79807405177, 79985.82032896325, 70981.99608654354, 61982.77811623009, 53008.60234330837, 44037.644754712426, 35100.882540983956, 26192.639294777957, 17320.55190112009, 8510.550969116042, 709.32265341556], 'totalhits_all': [89028.57199999993, 89030.20640000005, 89025.85759999994, 89011.60400000002, 88994.00719999995, 88885.64800000003, 88753.03999999998, 88491.65680000003, 88233.49919999996, 87992.08239999998, 87749.31760000002, 87520.84080000006, 87283.22239999994, 86996.22639999997, 86431.27680000005, 82078.73279999995], 'totalhits_non-boycott': [89013.94559999993, 88987.66159999996, 88940.28400000003, 88582.15600000003, 88133.42320000006, 84528.56559999994, 80003.5384, 71045.80640000004, 62034.81679999997, 53102.21760000001, 44131.23679999999, 35250.055199999995, 26300.707200000015, 17456.018399999994, 8615.588799999994, 799.4791999999997]})\n"
     ]
    }
   ],
   "source": [
    "from collections import defaultdict\n",
    "name2vals = defaultdict(list)\n",
    "\n",
    "for name, group in hits_df.groupby('num_users_boycotting'):\n",
    "    #print(name)\n",
    "    for subname, subgroup in group.groupby('variable'):\n",
    "        #print(subname, subgroup['value'].mean())\n",
    "        name2vals[subname].append(subgroup['value'].mean())\n",
    "        \n",
    "print(name2vals)"
   ]
  },
  {
   "cell_type": "code",
   "execution_count": 45,
   "metadata": {},
   "outputs": [
    {
     "name": "stdout",
     "output_type": "stream",
     "text": [
      "totalhits_all 1.02boosthits-hits_all\n",
      "(0.9999990067520436, 2.5570542292580477e-41)\n",
      "totalhits_non-boycott 1.02boosthits-hits_non-boycott\n",
      "(0.9999997568040916, 1.3490588029402773e-45)\n"
     ]
    },
    {
     "data": {
      "image/png": "[encoded data removed]",
      "text/plain": [
       "<Figure size 432x288 with 1 Axes>"
      ]
     },
     "metadata": {},
     "output_type": "display_data"
    }
   ],
   "source": [
    "from scipy.stats import pearsonr\n",
    "\n",
    "try:\n",
    "    for group in [\n",
    "        'all', 'non-boycott',\n",
    "    ]:\n",
    "        x = '{}_{}'.format(hits_metric,group)\n",
    "        y = '{}_{}'.format(metric2, group)\n",
    "        print(x, y)\n",
    "        print(pearsonr(name2vals[x], name2vals[y]))\n",
    "        plt.plot(name2vals[x], name2vals[y])\n",
    "    plt.show()\n",
    "except Exception as err:\n",
    "    print(err)\n",
    "    pass"
   ]
  },
  {
   "cell_type": "markdown",
   "metadata": {},
   "source": [
    "## Seperate out our data\n",
    "We want to separate the simuated boycotts into homogenous vs. heterogenous boycotts."
   ]
  },
  {
   "cell_type": "code",
   "execution_count": 46,
   "metadata": {},
   "outputs": [
    {
     "name": "stdout",
     "output_type": "stream",
     "text": [
      "\n",
      "===Heterogenous 20M Boycotts===\n",
      "\n",
      "41548 user sample     60\n",
      "13849 user sample     60\n",
      "83096 user sample     60\n",
      "110794 user sample    60\n",
      "1385 user sample      60\n",
      "55397 user sample     60\n",
      "124644 user sample    60\n",
      "69246 user sample     60\n",
      "96945 user sample     60\n",
      "27699 user sample     60\n",
      "69 user sample        50\n",
      "6925 user sample      50\n",
      "692 user sample       50\n",
      "14 user sample        50\n",
      "138 user sample       50\n",
      "137108 user sample    50\n",
      "Name: name, dtype: int64\n",
      "\n",
      "===Heterogenous Boycotts===\n",
      "\n",
      "302 user sample     250\n",
      "1208 user sample    250\n",
      "1 user sample       250\n",
      "5980 user sample    250\n",
      "6 user sample       250\n",
      "3624 user sample    250\n",
      "60 user sample      250\n",
      "604 user sample     250\n",
      "30 user sample      250\n",
      "1812 user sample    250\n",
      "3 user sample       250\n",
      "4832 user sample    250\n",
      "4228 user sample    250\n",
      "3020 user sample    250\n",
      "2416 user sample    250\n",
      "5436 user sample    250\n",
      "Name: name, dtype: int64\n",
      "\n",
      "===Homogenous Boycotts===\n",
      "\n",
      "Series([], Name: name, dtype: int64)\n"
     ]
    }
   ],
   "source": [
    "samples_df_20m = df_20m[df_20m['type'] == 'sample_users']\n",
    "print('\\n===Heterogenous 20M Boycotts===\\n')\n",
    "print(samples_df_20m.name.value_counts())\n",
    "samples_df_1m = df_1m[df_1m['type'] == 'sample_users']\n",
    "print('\\n===Heterogenous Boycotts===\\n')\n",
    "print(samples_df_1m.name.value_counts())\n",
    "org_df = df_1m[df_1m['type'].isin(organized_experiments)]\n",
    "print('\\n===Homogenous Boycotts===\\n')\n",
    "print(org_df.name.value_counts())"
   ]
  },
  {
   "cell_type": "code",
   "execution_count": 47,
   "metadata": {},
   "outputs": [
    {
     "name": "stdout",
     "output_type": "stream",
     "text": [
      "1...\n",
      "0.9095622293161252\n",
      "nan\n",
      "0.9095622293161252\n",
      "0.7237297362890908\n",
      "3...\n",
      "0.909551760224755\n",
      "nan\n",
      "0.909551760224755\n",
      "0.7236776682622104\n",
      "6\n",
      "0.9095192504703674\n",
      "nan\n",
      "0.9095192504703674\n",
      "0.7238630618431171\n",
      "30\n",
      "0.9094827010205664\n",
      "nan\n",
      "0.9094827010205664\n",
      "0.7245554937388897\n"
     ]
    }
   ],
   "source": [
    "# bonus\n",
    "metric = 'ndcgfull_non-boycott'\n",
    "print('1...')\n",
    "name = '1 user sample'\n",
    "print(samples_df_1m[(samples_df_1m.indices == '1-to-250') & (samples_df_1m.name == name)][metric].mean())\n",
    "print(samples_df_1m[(samples_df_1m.indices == '251-to-500') & (samples_df_1m.name == name)][metric].mean())\n",
    "print(samples_df_1m[(samples_df_1m.name == name)][metric].mean())\n",
    "print(samples_df_1m[(samples_df_1m.name == name)]['ndcg10_frac_non-boycott'].mean())\n",
    "\n",
    "print('3...')\n",
    "name = '3 user sample'\n",
    "print(samples_df_1m[(samples_df_1m.indices == '1-to-250') & (samples_df_1m.name == name)][metric].mean())\n",
    "print(samples_df_1m[(samples_df_1m.indices == '251-to-500') & (samples_df_1m.name == name)][metric].mean())\n",
    "print(samples_df_1m[(samples_df_1m.name == name)][metric].mean())\n",
    "print(samples_df_1m[(samples_df_1m.name == name)]['ndcg10_frac_non-boycott'].mean())\n",
    "\n",
    "print('6')\n",
    "name = '6 user sample'\n",
    "print(samples_df_1m[(samples_df_1m.indices == '1-to-250') & (samples_df_1m.name == name)][metric].mean())\n",
    "print(samples_df_1m[(samples_df_1m.indices == '251-to-500') & (samples_df_1m.name == name)][metric].mean())\n",
    "print(samples_df_1m[(samples_df_1m.name == name)][metric].mean())\n",
    "print(samples_df_1m[(samples_df_1m.name == name)]['ndcg10_frac_non-boycott'].mean())\n",
    "\n",
    "print('30')\n",
    "name = '30 user sample'\n",
    "print(samples_df_1m[(samples_df_1m.indices == '1-to-250') & (samples_df_1m.name == name)][metric].mean())\n",
    "print(samples_df_1m[(samples_df_1m.indices == '251-to-500') & (samples_df_1m.name == name)][metric].mean())\n",
    "print(samples_df_1m[(samples_df_1m.name == name)][metric].mean())\n",
    "print(samples_df_1m[(samples_df_1m.name == name)]['ndcg10_frac_non-boycott'].mean())"
   ]
  },
  {
   "cell_type": "markdown",
   "metadata": {},
   "source": [
    "## Clean up the homogenous boycott \"name\" columns\n",
    "This is helpful because our homogenous boycott plots are going to very cluttered. We want to remove as much text as possible without making the plots too confusing."
   ]
  },
  {
   "cell_type": "code",
   "execution_count": 48,
   "metadata": {
    "collapsed": true
   },
   "outputs": [],
   "source": [
    "org_df.name = [\n",
    "    x.replace('excluded', '')\n",
    "    .replace('users from', '')\n",
    "    .replace('using threshold 4', '')\n",
    "    .replace('Top 10% contributors', 'power users')\n",
    "    .strip()\n",
    "    .lower()\n",
    "    for x in list(org_df.name)\n",
    "]\n",
    "# can ignore the below warning, the code in this cell works"
   ]
  },
  {
   "cell_type": "markdown",
   "metadata": {},
   "source": [
    "## Data Manipulating Helpers\n",
    "In the following two cells, we define two functions (`select_cols` and `fill_in_longform`) that will help with general purpose manipulating of our result data."
   ]
  },
  {
   "cell_type": "code",
   "execution_count": 49,
   "metadata": {
    "collapsed": true
   },
   "outputs": [],
   "source": [
    "def select_cols(cols, metrics, groups, increase=False, percents=False):\n",
    "    \"\"\"\n",
    "    take a list of cols and filter based on metrics/groups/percents\n",
    "    \n",
    "    The returned columns must match all the metrics and groups passed\n",
    "    if percents is True, return columns with \"percent\" in the name\n",
    "    if percents is False return only columns without \"percent\" in the name\n",
    "    \n",
    "    returns a list of cols\n",
    "    \"\"\"\n",
    "    if percents is True and increase is False:\n",
    "        raise ValueError('Set increase=True to get percent increase')\n",
    "    ret = []\n",
    "    for col in cols:\n",
    "        x = col.split('_')\n",
    "        \n",
    "        if percents:\n",
    "            if 'percent' not in col:\n",
    "                continue\n",
    "        else:\n",
    "            if 'percent' in col:\n",
    "                continue\n",
    "        if increase:\n",
    "            if 'increase' not in col:\n",
    "                continue\n",
    "        else:\n",
    "            if 'increase' in col:\n",
    "                continue\n",
    "        for group in groups:\n",
    "            if 'standards' in group:\n",
    "                if 'standards' not in col:\n",
    "                    continue\n",
    "                #print(group, x)\n",
    "                group = group.replace('standards_', '')\n",
    "            else:\n",
    "                if 'standards' in col:\n",
    "                    continue\n",
    "            if group == x[-1]:\n",
    "                for metric in metrics:\n",
    "                    if metric == x[-2]:\n",
    "                        ret.append(col)\n",
    "\n",
    "    return ret"
   ]
  },
  {
   "cell_type": "code",
   "execution_count": 50,
   "metadata": {
    "collapsed": true
   },
   "outputs": [],
   "source": [
    "def fill_in_longform(df):\n",
    "    \"\"\"\n",
    "    Fill in a longform dataframe with metric, group, and name information\n",
    "    \"\"\"\n",
    "    df = df.assign(\n",
    "        metric=[x.split('_')[-2] for x in df.increase_type]\n",
    "    )\n",
    "    df = df.assign(\n",
    "        group=['standards_' + x.split('_')[-1] if 'standards' in x else x.split('_')[-1] for x in df.increase_type]\n",
    "    )\n",
    "    return df\n",
    "    "
   ]
  },
  {
   "cell_type": "code",
   "execution_count": 51,
   "metadata": {
    "collapsed": true
   },
   "outputs": [],
   "source": [
    "metric2title = {\n",
    "    'ndcg10': 'NDCG@10',\n",
    "    '2hits-prec5t4': 'Loss in Precision@5-estimated hits, pb=2',\n",
    "    '4hits-prec5t4': 'Loss in Precision@5-estimated hits, pb=4',\n",
    "    '2hits-ndcg10': 'Loss in ndcg@10-estimated hits, pb=2',\n",
    "    'labor-hits-prec5t4': 'Loss in hits from data labor power',\n",
    "    'consumer-hits-prec5t4': 'Loss in hits from consumer power',\n",
    "    'rmse': 'RMSE',\n",
    "    'prec10t4': 'Precision',\n",
    "    'totalhits': 'Total Hits',\n",
    "    'loghits': 'Log-Transformed Hits',\n",
    "    'normhits': 'Frac of Ideal Hits across Users',\n",
    "    'frachits': 'Frac of Ideal Hits Total'\n",
    "}"
   ]
  },
  {
   "cell_type": "code",
   "execution_count": 70,
   "metadata": {
    "collapsed": true
   },
   "outputs": [],
   "source": [
    "def p_b_curve(\n",
    "        df, dataset, metrics, groups,\n",
    "        increase=False, percents=False, normalize=True,\n",
    "        reg_plot=False, hue='group', row='metric', col='algo_name',\n",
    "        show_interp=False, legend=True,\n",
    "        ylabel=\"\", plot_horiz_lines=True, height=5,\n",
    "        title_template='Recommender {} vs. Size of Boycott for {}',\n",
    "        aspect=1, palette={'all': 'b', 'non-boycott': 'g', 'standards_non-boycott': 'y'},\n",
    "        label_map = {\n",
    "            'all': 'Data Strike',\n",
    "            'non-boycott': 'Data Boycott (Trad. Boycott + Data Strike)',\n",
    "            'standards_non-boycott': 'Trad. Boycott'\n",
    "        },\n",
    "        line_names=['all'],\n",
    "    ):\n",
    "    \"\"\"\n",
    "    Plots a performance vs. boycott size (P v B) curve\n",
    "    \n",
    "    Args:\n",
    "        df - the dataframe to use for plotting the pb curve\n",
    "        metrics - which metrics to plot the curve for.\n",
    "        groups - which groups to include.\n",
    "          for each metric, \n",
    "        percents - show the Y-axis in percent change or raw change. Set this True for percent change.\n",
    "        normalize - should we normalize the y-axis relative to MovieMean (no personalization)\n",
    "        reg_plot - ?\n",
    "        hue - which facet to use to determine hue. default is group\n",
    "          (each group will appear as a separate (distinctly colored) trajectory on each plot)\n",
    "        row - which facet to use to split plots into different rows. default is metric.\n",
    "        save - should we save a PNG file?\n",
    "        show_interp - include the interpolated function on this plot?\n",
    "        \n",
    "    Returns:\n",
    "        ?\n",
    "    \"\"\"\n",
    "    algo2metric2altalgo = dataset_to_algo_to_metric_to_altalgo[dataset]\n",
    "    \n",
    "    algo_names = list(set(df.algo_name))\n",
    "    df = df.copy()\n",
    "    algo2metric2group2 = defaultdict(lambda: defaultdict(lambda: defaultdict(dict)))\n",
    "\n",
    "    increase_cols = select_cols(list(df.columns.values), metrics, groups, increase=increase, percents=percents)\n",
    "    #print('increase_cols', increase_cols)\n",
    "    if normalize:\n",
    "        for metric in metrics:\n",
    "            for algo_name in algo_names:\n",
    "                movie_val = abs(algo2metric2altalgo[algo_name][\n",
    "                    metric.replace('coverage-weighted-', '')\n",
    "                ]['MovieMean'])           \n",
    "                for increase_col in increase_cols:\n",
    "                    if increase_col.split('_')[-2] == metric:\n",
    "                        df.loc[df.algo_name == algo_name, increase_col] /= movie_val\n",
    "    longform = df[increase_cols + id_vars].melt(\n",
    "        id_vars = id_vars,\n",
    "        var_name='increase_type'\n",
    "    )\n",
    "    longform = fill_in_longform(longform)\n",
    "\n",
    "    print('metrics', metrics)\n",
    "    print(row)\n",
    "    grid = sns.lmplot(\n",
    "        x=\"num_users_boycotting\", y=\"value\", hue=hue, data=longform,\n",
    "        sharey='row', sharex='col',\n",
    "        height=height, \n",
    "        aspect=aspect,\n",
    "        row=row, col=col,\n",
    "        fit_reg=False,\n",
    "        x_estimator=np.mean, ci=99, \n",
    "        palette=palette,\n",
    "        legend=legend,\n",
    "        legend_out=True\n",
    "    )\n",
    "\n",
    "    algo_to_size_to_decreases = defaultdict(lambda: defaultdict(list))\n",
    "    \n",
    "    for metric in metrics:\n",
    "        for algo_name in algo_names:\n",
    "            filt = df[df.algo_name == algo_name]\n",
    "            for group in groups:\n",
    "                key = '{}_{}'.format(metric, group)\n",
    "                if increase:\n",
    "                    key = 'increase_' + key\n",
    "                if percents:\n",
    "                    key = 'percent_' + key\n",
    "                # funky code to handle the fact that we want to treat \"standards\" as being a unique group\n",
    "                if 'standards' in key:\n",
    "                    key = 'standards_' + key.replace('standards_', '')\n",
    "                x = filt.num_users_boycotting\n",
    "                user_nums = sorted(list(set(filt.num_users_boycotting)))\n",
    "                nrm_rounded = sorted(list(set(filt.nrm_rounded)))\n",
    "                y = filt[key]\n",
    "\n",
    "                num2mean = OrderedDict()\n",
    "                roundnum2mean = OrderedDict()\n",
    "                for num_users_boycotting in user_nums:\n",
    "                    filt_by_name = filt[filt.num_users_boycotting == num_users_boycotting]\n",
    "                    num2mean[num_users_boycotting] = np.mean(filt_by_name[key])\n",
    "                    roundnum2mean[round(num_users_boycotting, 2)] = np.mean(filt_by_name[key])\n",
    "                nrm_rounded_to_mean = OrderedDict()\n",
    "                for num in nrm_rounded:\n",
    "                    filt_by_nrm = filt[filt.nrm_rounded == num]\n",
    "                    nrm_rounded_to_mean[num] = np.mean(filt_by_nrm[key])\n",
    "\n",
    "                # for printing out values at various intervals\n",
    "                if group == 'non-boycott':\n",
    "                    for num in [\n",
    "                        0.1, 0.2, 0.3,\n",
    "                    ]:\n",
    "                        val_nb = roundnum2mean.get(num)\n",
    "                        if val_nb is None:\n",
    "                            continue\n",
    "                        val_all = np.mean(filt[filt.num_users_boycotting == num][key.replace('non-boycott', 'all')])\n",
    "                        print(\n",
    "                            'Algo:{}  |  Metric:{}  |  #users:{}'.format(\n",
    "                                algo_name, metric, num, \n",
    "                            )\n",
    "                        )\n",
    "                        print('NB Val:{}  |  ALL val:{}'.format(\n",
    "                            val_nb,\n",
    "                            val_all\n",
    "                        ))\n",
    "                        if percents is False:\n",
    "                            try:\n",
    "                                ratio_nb = val_nb / algo2metric2altalgo[algo_name][metric]['MovieMean']\n",
    "                                ratio_all = val_all / algo2metric2altalgo[algo_name][metric]['MovieMean']\n",
    "\n",
    "                                print('ratio_nb: {}  |  ratio_all:{}'.format(\n",
    "                                    ratio_nb,\n",
    "                                    ratio_all,\n",
    "                                ))\n",
    "                            except KeyError:\n",
    "                                print('Metric {} has no MovieMean comparison.'.format(metric))\n",
    "                        algo_to_size_to_decreases[algo_name][num].append(val_nb)\n",
    "                meany = np.array(list(num2mean.values()))\n",
    "                meany_ratings = np.array(list(nrm_rounded_to_mean.values()))\n",
    "\n",
    "                print('Saving user_nums...', algo_name, metric, group)\n",
    "                algo2metric2group2[algo_name][metric][group]['x'] = user_nums\n",
    "                algo2metric2group2[algo_name][metric][group]['y'] = meany\n",
    "\n",
    "                smoothf_ratings = interp1d(nrm_rounded, meany_ratings, kind='quadratic', bounds_error=False, fill_value='extrapolate')\n",
    "                algo2metric2group2[algo_name][metric][group]['interp_ratings'] = smoothf_ratings\n",
    "                algo2metric2group2[algo_name][metric][group]['max_user_units'] = max(user_nums)\n",
    "                algo2metric2group2[algo_name][metric][group]['xnew_ratings'] = np.linspace(\n",
    "                    min(filt.num_ratings_missing), max(filt.num_ratings_missing), num=1000)\n",
    "\n",
    "    if plot_horiz_lines:        \n",
    "        for x in grid.facet_data():\n",
    "            i_row, i_col, i_hue = x[0]\n",
    "            \n",
    "            # this is bad hard-coding. Fix after deadline?\n",
    "            if row == 'metric' and col == 'algo_name' and hue == 'group':\n",
    "                metric = grid.row_names[i_row]\n",
    "                algo_name = grid.col_names[i_col]\n",
    "                group = grid.hue_names[i_hue]\n",
    "            else:\n",
    "                _ = grid.col_names[i_col]\n",
    "                group = grid.row_names[i_row]\n",
    "                metric = grid.hue_names[i_hue]\n",
    "\n",
    "            lines_caption = \"\"\n",
    "\n",
    "            # we should store all the horiztonal lines in one data structure\n",
    "            lines = {}\n",
    "\n",
    "            metric_key = metric.replace('coverage-weighted-', '')\n",
    "            # needs to handle the coverage-weighted mtrics\n",
    "            comparisons = algo2metric2altalgo[algo_name][metric_key]\n",
    "            print(comparisons)\n",
    "            if increase is False:\n",
    "                comparisons = ds2standards[dataset]\n",
    "                comparisons = {\n",
    "                    key: comparisons[key].get(metric_key, 0) for key in comparisons.keys()\n",
    "                }\n",
    "                print('comparisons raw values!')\n",
    "                print(comparisons)\n",
    "                \n",
    "            if 'all' in line_names or 'MovieMean' in line_names:\n",
    "                lines['MovieMean'] = {\n",
    "                    'value': comparisons['MovieMean'],\n",
    "                    'color': 'r',\n",
    "                    'name': 'MovieMean',\n",
    "                    'linestyle': '-'\n",
    "                }\n",
    "            if 'all' in line_names or 'Zero' in line_names:\n",
    "                lines['Zero'] = {\n",
    "                    'value': 0,\n",
    "                    'color': '0.3',\n",
    "                    'name': 'Zero',\n",
    "                    'linestyle': '-'\n",
    "                }\n",
    "            if 'all' in line_names or 'MaxDamage' in line_names:\n",
    "                lines['Zero'] = {\n",
    "                    'value': -114000,\n",
    "                    'color': '0.3',\n",
    "                    'name': 'MaxDamage',\n",
    "                    'linestyle': '-'\n",
    "                }\n",
    "                \n",
    "            if 'GlobalMean' in line_names:\n",
    "                lines['GlobalMean'] = {\n",
    "                    'value': comparisons['GlobalMean'],\n",
    "                    'color': '0.3',\n",
    "                    'name': 'GlobalMean',\n",
    "                    'linestyle': '-'\n",
    "                }\n",
    "            if 'SVD' in line_names:\n",
    "                lines['SVD'] = {\n",
    "                    'value': comparisons['SVD'],\n",
    "                    'color': '0.3',\n",
    "                    'name': 'SVD',\n",
    "                    'linestyle': '-'\n",
    "                }\n",
    "            if 'KNNBasic_item_msd' in line_names:\n",
    "                lines['KNNBasic_item_msd'] = {\n",
    "                    'value': comparisons['KNNBasic_item_msd'],\n",
    "                    'color': 'r',\n",
    "                    'name': 'Item KNN (1999)',\n",
    "                    'linestyle': ':'\n",
    "                }\n",
    "            if 'KNNBaseline_item_msd' in line_names:\n",
    "                lines['KNNBaseline_item_msd'] = {\n",
    "                    'value': comparisons['KNNBaseline_item_msd'],\n",
    "                    'color': 'y',\n",
    "                    'name': 'Item KNN + Baselines: 2010',\n",
    "                    'linestyle': ':',\n",
    "                }\n",
    "            if 'KNNBasic_user_msd' in line_names:\n",
    "                lines['KNNBasic_user_msd'] = {\n",
    "                    'value': comparisons['KNNBasic_user_msd'],\n",
    "                    'color': 'c',\n",
    "                    'name': 'User KNN (1994)',\n",
    "                    'linestyle': ':'\n",
    "                }\n",
    "            if '1M_SVD' in line_names:\n",
    "                lines['1M_SVD'] = {\n",
    "                    'value': comparisons['1M_SVD'],\n",
    "                    'color': '0.3',\n",
    "                    'name': 'ml-1m SVD',\n",
    "                    'linestyle': ':'\n",
    "                }\n",
    "            print('lines', lines)\n",
    "\n",
    "            if normalize:\n",
    "                norm_val = abs(comparisons['MovieMean'])\n",
    "                for key in lines.keys():\n",
    "                    lines[key]['value'] /= norm_val\n",
    "\n",
    "            ax = grid.axes[i_row, i_col]\n",
    "\n",
    "            if normalize and metric == 'ndcg10':\n",
    "                if dataset == 'ml-1m':\n",
    "                    ax.set(ylim=(-1.6, 0.1))\n",
    "                elif dataset == 'ml-20m':\n",
    "                    ax.set(ylim=(-1.2, 0.1))\n",
    "\n",
    "            linestyle = '-' if group != 'all' else '--'\n",
    "            ax.plot(\n",
    "                algo2metric2group2[algo_name][metric][group]['x'],\n",
    "                algo2metric2group2[algo_name][metric][group]['y'],\n",
    "                linestyle=linestyle, color=grid._colors[i_hue]\n",
    "            )\n",
    "            if show_interp:\n",
    "                xnew_ratings = algo2metric2group2[algo_name][metric][group]['xnew_ratings']\n",
    "                ynew_ratings = algo2metric2group2[algo_name][metric][group]['interp_ratings'](xnew_ratings)\n",
    "                ax.plot(\n",
    "                    xnew_ratings * algo2metric2group2[algo_name][metric][group]['max_user_units'] / num_ratings[dataset],\n",
    "                    ynew_ratings, '-')\n",
    "\n",
    "            plt.setp(ax.get_xticklabels(), visible=True, rotation=45)\n",
    "            \n",
    "            try:\n",
    "                metric4title = metric2title[metric]\n",
    "                ax.set_title(\n",
    "                    title_template.format(\n",
    "                        metric4title, dataset.upper())\n",
    "                )\n",
    "            except:\n",
    "                pass\n",
    "            for line in lines.values():\n",
    "                ax.axhline(line['value'], color=line['color'], linestyle=line['linestyle'])\n",
    "                #ax.text(0.7, line['value'] + 0.05, line['name'])\n",
    "                lines_caption += \"{} colored line (value of {}) shows comparison with {}\\n\".format(\n",
    "                    line['color'], line['value'], line['name']\n",
    "                )\n",
    "\n",
    "    plt.subplots_adjust(hspace=0.2)\n",
    "    algo_to_size_to_mean_dec = defaultdict(dict)\n",
    "    for algo_name, size2dec in algo_to_size_to_decreases.items():\n",
    "        for size, decs in size2dec.items():\n",
    "            algo_to_size_to_mean_dec[algo_name][size] = np.mean(decs)\n",
    "    print('=====\\nSize to Mean Decrease')\n",
    "    pprint(algo_to_size_to_mean_dec)\n",
    "                   \n",
    "    grid.set_xlabels('Fraction of users boycotting')\n",
    "    grid.set_ylabels(ylabel)\n",
    "    if label_map:\n",
    "        if grid._legend:\n",
    "            for t in grid._legend.texts:\n",
    "                t.set_text(label_map[t.get_text()])\n",
    "            grid._legend.set_title('')\n",
    "    return algo2metric2group2"
   ]
  },
  {
   "cell_type": "markdown",
   "metadata": {},
   "source": [
    "# Plot hits here"
   ]
  },
  {
   "cell_type": "markdown",
   "metadata": {},
   "source": [
    "### Look at totalhits"
   ]
  },
  {
   "cell_type": "code",
   "execution_count": 53,
   "metadata": {},
   "outputs": [
    {
     "name": "stdout",
     "output_type": "stream",
     "text": [
      "increase_cols ['standards_totalhits_non-boycott', 'totalhits_all', 'totalhits_non-boycott']\n",
      "metrics ['totalhits']\n",
      "metric\n"
     ]
    },
    {
     "name": "stderr",
     "output_type": "stream",
     "text": [
      "C:\\Users\\Nick\\Anaconda3\\lib\\site-packages\\scipy\\stats\\stats.py:1713: FutureWarning: Using a non-tuple sequence for multidimensional indexing is deprecated; use `arr[tuple(seq)]` instead of `arr[seq]`. In the future this will be interpreted as an array index, `arr[np.array(seq)]`, which will result either in an error or a different result.\n",
      "  return np.add.reduce(sorted[indexer] * weights, axis=axis) / sumval\n"
     ]
    },
    {
     "name": "stdout",
     "output_type": "stream",
     "text": [
      "Algo:SVD  |  Metric:totalhits  |  #users:0.1\n",
      "NB Val:80003.5384  |  ALL val:88753.03999999998\n",
      "ratio_nb: -44073.02078044421  |  ratio_all:-48893.01966483516\n",
      "Algo:SVD  |  Metric:totalhits  |  #users:0.2\n",
      "NB Val:71045.80640000004  |  ALL val:88491.65680000003\n",
      "ratio_nb: -39138.31018542323  |  ratio_all:-48749.02669357857\n",
      "Algo:SVD  |  Metric:totalhits  |  #users:0.3\n",
      "NB Val:62034.81679999997  |  ALL val:88233.49919999996\n",
      "ratio_nb: -34174.26059667191  |  ratio_all:-48606.81066792548\n",
      "comparisons raw values!\n",
      "{'SVD': 89045.6, 'GlobalMean': 73157.6, 'GuessThree': 0, 'MovieMean': 87429.2, 'KNNBaseline_item_msd': 0, 'KNNBasic_user_msd': 0, 'KNNBasic_item_msd': 0}\n",
      "{'MovieMean': {'value': 87429.2, 'color': 'r', 'name': 'MovieMean', 'linestyle': '-'}, 'GlobalMean': {'value': 73157.6, 'color': '0.3', 'name': 'GlobalMean', 'linestyle': '-'}, 'SVD': {'value': 89045.6, 'color': '0.3', 'name': 'SVD', 'linestyle': '-'}}\n",
      "comparisons raw values!\n",
      "{'SVD': 89045.6, 'GlobalMean': 73157.6, 'GuessThree': 0, 'MovieMean': 87429.2, 'KNNBaseline_item_msd': 0, 'KNNBasic_user_msd': 0, 'KNNBasic_item_msd': 0}\n",
      "{'MovieMean': {'value': 87429.2, 'color': 'r', 'name': 'MovieMean', 'linestyle': '-'}, 'GlobalMean': {'value': 73157.6, 'color': '0.3', 'name': 'GlobalMean', 'linestyle': '-'}, 'SVD': {'value': 89045.6, 'color': '0.3', 'name': 'SVD', 'linestyle': '-'}}\n",
      "comparisons raw values!\n",
      "{'SVD': 89045.6, 'GlobalMean': 73157.6, 'GuessThree': 0, 'MovieMean': 87429.2, 'KNNBaseline_item_msd': 0, 'KNNBasic_user_msd': 0, 'KNNBasic_item_msd': 0}\n",
      "{'MovieMean': {'value': 87429.2, 'color': 'r', 'name': 'MovieMean', 'linestyle': '-'}, 'GlobalMean': {'value': 73157.6, 'color': '0.3', 'name': 'GlobalMean', 'linestyle': '-'}, 'SVD': {'value': 89045.6, 'color': '0.3', 'name': 'SVD', 'linestyle': '-'}}\n",
      "=====\n",
      "Size to Mean Decrease\n",
      "defaultdict(<class 'dict'>,\n",
      "            {'SVD': {0.1: 80003.5384,\n",
      "                     0.2: 71045.80640000004,\n",
      "                     0.3: 62034.81679999997}})\n"
     ]
    },
    {
     "data": {
      "image/png": "[encoded data removed]",
      "text/plain": [
       "<Figure size 727.85x288 with 1 Axes>"
      ]
     },
     "metadata": {},
     "output_type": "display_data"
    }
   ],
   "source": [
    "_ = p_b_curve(\n",
    "    samples_df_1m[samples_df_1m.algo_name == 'SVD'], 'ml-1m',\n",
    "    show_interp=False,\n",
    "    increase=False, percents=False, normalize=False,\n",
    "    metrics=[\n",
    "        'totalhits',\n",
    "    ],\n",
    "    groups=[\n",
    "        'all', 'non-boycott', \n",
    "        'standards_non-boycott'\n",
    "    ],\n",
    "    legend=True, \n",
    "    ylabel='Lost Hits',\n",
    "    title_template='{} vs. Boycott Size for {}',\n",
    "    height=4, aspect=2,\n",
    "    line_names=['SVD', 'MovieMean', 'GlobalMean'],\n",
    ")\n",
    "plt.show()"
   ]
  },
  {
   "cell_type": "code",
   "execution_count": 54,
   "metadata": {},
   "outputs": [
    {
     "name": "stdout",
     "output_type": "stream",
     "text": [
      "increase_cols ['normhits_all', 'normhits_non-boycott', 'frachits_all', 'frachits_non-boycott']\n",
      "metrics ['frachits', 'normhits']\n",
      "metric\n"
     ]
    },
    {
     "name": "stderr",
     "output_type": "stream",
     "text": [
      "C:\\Users\\Nick\\Anaconda3\\lib\\site-packages\\scipy\\stats\\stats.py:1713: FutureWarning: Using a non-tuple sequence for multidimensional indexing is deprecated; use `arr[tuple(seq)]` instead of `arr[seq]`. In the future this will be interpreted as an array index, `arr[np.array(seq)]`, which will result either in an error or a different result.\n",
      "  return np.add.reduce(sorted[indexer] * weights, axis=axis) / sumval\n"
     ]
    },
    {
     "name": "stdout",
     "output_type": "stream",
     "text": [
      "Algo:SVD  |  Metric:frachits  |  #users:0.1\n",
      "NB Val:0.7017854245614034  |  ALL val:0.7785354385964919\n",
      "Metric frachits has no MovieMean comparison.\n",
      "Algo:SVD  |  Metric:frachits  |  #users:0.2\n",
      "NB Val:0.6232088280701761  |  ALL val:0.7762426035087726\n",
      "Metric frachits has no MovieMean comparison.\n",
      "Algo:SVD  |  Metric:frachits  |  #users:0.3\n",
      "NB Val:0.5441650596491223  |  ALL val:0.7739780631578947\n",
      "Metric frachits has no MovieMean comparison.\n",
      "Algo:SVD  |  Metric:normhits  |  #users:0.1\n",
      "NB Val:0.7576695101335572  |  ALL val:0.7565830980270858\n",
      "ratio_nb: -0.4795948157845416  |  ratio_all:-0.47890713123725476\n",
      "Algo:SVD  |  Metric:normhits  |  #users:0.2\n",
      "NB Val:0.7568156968777902  |  ALL val:0.7547139516992252\n",
      "ratio_nb: -0.4790543632446977  |  ratio_all:-0.47772398624224677\n",
      "Algo:SVD  |  Metric:normhits  |  #users:0.3\n",
      "NB Val:0.7555350933826405  |  ALL val:0.7527810822611931\n",
      "ratio_nb: -0.4782437581073191  |  ratio_all:-0.4765005053582065\n",
      "comparisons raw values!\n",
      "{'SVD': 0.7593777813214053, 'GlobalMean': 0.6280904067161793, 'GuessThree': 0.6280904067161793, 'MovieMean': 0.747381042144004, 'KNNBaseline_item_msd': 0, 'KNNBasic_user_msd': 0, 'KNNBasic_item_msd': 0}\n",
      "{'MovieMean': {'value': 0.747381042144004, 'color': 'r', 'name': 'MovieMean', 'linestyle': '-'}, 'SVD': {'value': 0.7593777813214053, 'color': '0.3', 'name': 'SVD', 'linestyle': '-'}}\n",
      "comparisons raw values!\n",
      "{'SVD': 0.7593777813214053, 'GlobalMean': 0.6280904067161793, 'GuessThree': 0.6280904067161793, 'MovieMean': 0.747381042144004, 'KNNBaseline_item_msd': 0, 'KNNBasic_user_msd': 0, 'KNNBasic_item_msd': 0}\n",
      "{'MovieMean': {'value': 0.747381042144004, 'color': 'r', 'name': 'MovieMean', 'linestyle': '-'}, 'SVD': {'value': 0.7593777813214053, 'color': '0.3', 'name': 'SVD', 'linestyle': '-'}}\n",
      "comparisons raw values!\n",
      "{'SVD': 0, 'GlobalMean': 0, 'GuessThree': 0, 'MovieMean': 0, 'KNNBaseline_item_msd': 0, 'KNNBasic_user_msd': 0, 'KNNBasic_item_msd': 0}\n",
      "{'MovieMean': {'value': 0, 'color': 'r', 'name': 'MovieMean', 'linestyle': '-'}, 'SVD': {'value': 0, 'color': '0.3', 'name': 'SVD', 'linestyle': '-'}}\n",
      "comparisons raw values!\n",
      "{'SVD': 0, 'GlobalMean': 0, 'GuessThree': 0, 'MovieMean': 0, 'KNNBaseline_item_msd': 0, 'KNNBasic_user_msd': 0, 'KNNBasic_item_msd': 0}\n",
      "{'MovieMean': {'value': 0, 'color': 'r', 'name': 'MovieMean', 'linestyle': '-'}, 'SVD': {'value': 0, 'color': '0.3', 'name': 'SVD', 'linestyle': '-'}}\n",
      "=====\n",
      "Size to Mean Decrease\n",
      "defaultdict(<class 'dict'>,\n",
      "            {'SVD': {0.1: 0.7297274673474803,\n",
      "                     0.2: 0.6900122624739831,\n",
      "                     0.3: 0.6498500765158814}})\n"
     ]
    },
    {
     "data": {
      "image/png": "[encoded data removed]",
      "text/plain": [
       "<Figure size 673.475x576 with 2 Axes>"
      ]
     },
     "metadata": {},
     "output_type": "display_data"
    }
   ],
   "source": [
    "_ = p_b_curve(\n",
    "    samples_df_1m[samples_df_1m.algo_name == 'SVD'], 'ml-1m',\n",
    "    show_interp=False,\n",
    "    increase=False, percents=False, normalize=False,\n",
    "    metrics=[\n",
    "        'frachits',\n",
    "        'normhits',\n",
    "    ],\n",
    "    groups=[\n",
    "        'all', 'non-boycott', \n",
    "    ],\n",
    "    legend=True, \n",
    "    ylabel='Fraction of Hits',\n",
    "    #title_template='{} vs. Boycott Size for {}',\n",
    "    height=4, aspect=2,\n",
    "    line_names=['SVD', 'MovieMean',],\n",
    ")\n",
    "plt.show()"
   ]
  },
  {
   "cell_type": "code",
   "execution_count": 55,
   "metadata": {},
   "outputs": [
    {
     "name": "stdout",
     "output_type": "stream",
     "text": [
      "increase_cols ['increase_totalhits_all', 'increase_totalhits_non-boycott']\n",
      "metrics ['totalhits']\n",
      "metric\n"
     ]
    },
    {
     "name": "stderr",
     "output_type": "stream",
     "text": [
      "C:\\Users\\Nick\\Anaconda3\\lib\\site-packages\\scipy\\stats\\stats.py:1713: FutureWarning: Using a non-tuple sequence for multidimensional indexing is deprecated; use `arr[tuple(seq)]` instead of `arr[seq]`. In the future this will be interpreted as an array index, `arr[np.array(seq)]`, which will result either in an error or a different result.\n",
      "  return np.add.reduce(sorted[indexer] * weights, axis=axis) / sumval\n"
     ]
    },
    {
     "name": "stdout",
     "output_type": "stream",
     "text": [
      "Algo:SVD  |  Metric:totalhits  |  #users:0.1\n",
      "NB Val:-119.97360000000097  |  ALL val:-292.5600000000058\n",
      "ratio_nb: 66.09206382182646  |  ratio_all:161.16790853749305\n",
      "Algo:SVD  |  Metric:totalhits  |  #users:0.2\n",
      "NB Val:-207.2416000000001  |  ALL val:-553.9432000000055\n",
      "ratio_nb: 114.16699218609199  |  ratio_all:305.1608797941118\n",
      "Algo:SVD  |  Metric:totalhits  |  #users:0.3\n",
      "NB Val:-287.24240000000003  |  ALL val:-812.1008000000063\n",
      "ratio_nb: 158.23850441375814  |  ratio_all:447.37690544716764\n",
      "{'MovieMean': {'value': -1.8152497147529003, 'color': 'r', 'name': 'MovieMean', 'linestyle': '-'}, 'GlobalMean': {'value': -17.842543595640883, 'color': '0.3', 'name': 'GlobalMean', 'linestyle': '-'}, 'SVD': {'value': 0.0, 'color': '0.3', 'name': 'SVD', 'linestyle': '-'}}\n",
      "{'MovieMean': {'value': -1.8152497147529003, 'color': 'r', 'name': 'MovieMean', 'linestyle': '-'}, 'GlobalMean': {'value': -17.842543595640883, 'color': '0.3', 'name': 'GlobalMean', 'linestyle': '-'}, 'SVD': {'value': 0.0, 'color': '0.3', 'name': 'SVD', 'linestyle': '-'}}\n",
      "=====\n",
      "Size to Mean Decrease\n",
      "defaultdict(<class 'dict'>,\n",
      "            {'SVD': {0.1: -119.97360000000097,\n",
      "                     0.2: -207.2416000000001,\n",
      "                     0.3: -287.24240000000003}})\n"
     ]
    },
    {
     "data": {
      "image/png": "[encoded data removed]",
      "text/plain": [
       "<Figure size 673.475x288 with 1 Axes>"
      ]
     },
     "metadata": {},
     "output_type": "display_data"
    }
   ],
   "source": [
    "_ = p_b_curve(\n",
    "    samples_df_1m[samples_df_1m.algo_name == 'SVD'], 'ml-1m',\n",
    "    show_interp=False,\n",
    "    increase=True, percents=False, normalize=False,\n",
    "    metrics=[\n",
    "        'totalhits',\n",
    "    ],\n",
    "    groups=[\n",
    "        'all', 'non-boycott',\n",
    "    ],\n",
    "    legend=True, \n",
    "    ylabel='Lost Hits',\n",
    "    title_template='{} vs. Boycott Size for {}',\n",
    "    height=4, aspect=2,\n",
    "    line_names=['SVD', 'MovieMean', 'GlobalMean'],\n",
    ")\n",
    "plt.show()"
   ]
  },
  {
   "cell_type": "code",
   "execution_count": 56,
   "metadata": {},
   "outputs": [
    {
     "name": "stdout",
     "output_type": "stream",
     "text": [
      "increase_cols ['percent_increase_labor-4boosthits-prec10t4_non-boycott', 'percent_increase_consumer-4boosthits-prec10t4_non-boycott', 'percent_increase_4boosthits-prec10t4_non-boycott', 'percent_increase_labor-4boosthits-prec10t4_all', 'percent_increase_consumer-4boosthits-prec10t4_all', 'percent_increase_4boosthits-prec10t4_all', 'percent_increase_labor-4boosthits-hits_non-boycott', 'percent_increase_consumer-4boosthits-hits_non-boycott', 'percent_increase_4boosthits-hits_non-boycott', 'percent_increase_labor-4boosthits-hits_all', 'percent_increase_consumer-4boosthits-hits_all', 'percent_increase_4boosthits-hits_all']\n",
      "metrics ['4boosthits-hits', 'labor-4boosthits-hits', 'consumer-4boosthits-hits', '4boosthits-prec10t4', 'labor-4boosthits-prec10t4', 'consumer-4boosthits-prec10t4']\n",
      "algo_name\n"
     ]
    },
    {
     "name": "stderr",
     "output_type": "stream",
     "text": [
      "C:\\Users\\Nick\\Anaconda3\\lib\\site-packages\\scipy\\stats\\stats.py:1713: FutureWarning: Using a non-tuple sequence for multidimensional indexing is deprecated; use `arr[tuple(seq)]` instead of `arr[seq]`. In the future this will be interpreted as an array index, `arr[np.array(seq)]`, which will result either in an error or a different result.\n",
      "  return np.add.reduce(sorted[indexer] * weights, axis=axis) / sumval\n"
     ]
    },
    {
     "name": "stdout",
     "output_type": "stream",
     "text": [
      "Algo:SVD  |  Metric:4boosthits-hits  |  #users:0.1\n",
      "NB Val:-14534.033883723578  |  ALL val:-12772.37589736535\n",
      "Algo:SVD  |  Metric:4boosthits-hits  |  #users:0.2\n",
      "NB Val:-26927.77262284819  |  ALL val:-23585.302355155218\n",
      "Algo:SVD  |  Metric:4boosthits-hits  |  #users:0.3\n",
      "NB Val:-39145.32145390891  |  ALL val:-34264.83857577088\n",
      "Algo:SVD  |  Metric:labor-4boosthits-hits  |  #users:0.1\n",
      "NB Val:-5621.214057322764  |  ALL val:-12772.37589736535\n",
      "Algo:SVD  |  Metric:labor-4boosthits-hits  |  #users:0.2\n",
      "NB Val:-9102.13297004657  |  ALL val:-23585.302355155218\n",
      "Algo:SVD  |  Metric:labor-4boosthits-hits  |  #users:0.3\n",
      "NB Val:-12406.861974706462  |  ALL val:-34264.83857577088\n",
      "Algo:SVD  |  Metric:consumer-4boosthits-hits  |  #users:0.1\n",
      "NB Val:-8912.819826400835  |  ALL val:0.0\n",
      "Algo:SVD  |  Metric:consumer-4boosthits-hits  |  #users:0.2\n",
      "NB Val:-17825.63965280167  |  ALL val:0.0\n",
      "Algo:SVD  |  Metric:consumer-4boosthits-hits  |  #users:0.3\n",
      "NB Val:-26738.459479202502  |  ALL val:0.0\n",
      "Algo:SVD  |  Metric:4boosthits-prec10t4  |  #users:0.1\n",
      "NB Val:-10561.977979386822  |  ALL val:-9071.00738870526\n",
      "Algo:SVD  |  Metric:4boosthits-prec10t4  |  #users:0.2\n",
      "NB Val:-18296.68772549368  |  ALL val:-15605.650549969632\n",
      "Algo:SVD  |  Metric:4boosthits-prec10t4  |  #users:0.3\n",
      "NB Val:-26331.991196832227  |  ALL val:-22306.624984723763\n",
      "Algo:SVD  |  Metric:labor-4boosthits-prec10t4  |  #users:0.1\n",
      "NB Val:-4521.9779793868065  |  ALL val:-9071.00738870526\n",
      "Algo:SVD  |  Metric:labor-4boosthits-prec10t4  |  #users:0.2\n",
      "NB Val:-6216.687725493674  |  ALL val:-15605.650549969632\n",
      "Algo:SVD  |  Metric:labor-4boosthits-prec10t4  |  #users:0.3\n",
      "NB Val:-8211.991196832232  |  ALL val:-22306.624984723763\n",
      "Algo:SVD  |  Metric:consumer-4boosthits-prec10t4  |  #users:0.1\n",
      "NB Val:-6040.0  |  ALL val:0.0\n",
      "Algo:SVD  |  Metric:consumer-4boosthits-prec10t4  |  #users:0.2\n",
      "NB Val:-12080.0  |  ALL val:0.0\n",
      "Algo:SVD  |  Metric:consumer-4boosthits-prec10t4  |  #users:0.3\n",
      "NB Val:-18120.0  |  ALL val:0.0\n",
      "=====\n",
      "Size to Mean Decrease\n",
      "defaultdict(<class 'dict'>,\n",
      "            {'SVD': {0.1: -8365.337287703469,\n",
      "                     0.2: -15074.820116113964,\n",
      "                     0.3: -21825.77088358039}})\n"
     ]
    },
    {
     "data": {
      "image/png": "[encoded data removed]",
      "text/plain": [
       "<Figure size 1484.97x216 with 2 Axes>"
      ]
     },
     "metadata": {},
     "output_type": "display_data"
    }
   ],
   "source": [
    "# Compare Hits and PRec10t4 Hits\n",
    "\n",
    "_ = p_b_curve(\n",
    "    samples_df_1m[samples_df_1m.algo_name == 'SVD'], 'ml-1m',\n",
    "    show_interp=False,\n",
    "    increase=True, percents=True, normalize=False,\n",
    "    metrics=[\n",
    "        '4boosthits-hits',\n",
    "        'labor-4boosthits-hits',\n",
    "        'consumer-4boosthits-hits',\n",
    "        '4boosthits-prec10t4',\n",
    "        'labor-4boosthits-prec10t4',\n",
    "        'consumer-4boosthits-prec10t4',\n",
    "    ],\n",
    "    groups=['all', 'non-boycott'],\n",
    "    hue='metric', col='group', row='algo_name',\n",
    "    legend=True, \n",
    "    ylabel='Change in Hits',\n",
    "    title_template='{} vs. Boycott Size for {}',\n",
    "    height=3, aspect=3,\n",
    "    label_map=None, palette=None, plot_horiz_lines=False,\n",
    ")\n",
    "plt.savefig('ml-1m_hits.svg', bbox_inches='tight', dpi=300)\n",
    "plt.show()"
   ]
  },
  {
   "cell_type": "markdown",
   "metadata": {},
   "source": [
    "### compare different estimated hits"
   ]
  },
  {
   "cell_type": "code",
   "execution_count": 71,
   "metadata": {},
   "outputs": [
    {
     "name": "stdout",
     "output_type": "stream",
     "text": [
      "metrics ['labor-4boosthits-totalhits', 'labor-8boosthits-totalhits', 'labor-2boosthits-totalhits', 'labor-1.1boosthits-totalhits', 'consumer-1.1boosthits-totalhits']\n",
      "group\n"
     ]
    },
    {
     "name": "stderr",
     "output_type": "stream",
     "text": [
      "C:\\Users\\Nick\\Anaconda3\\lib\\site-packages\\scipy\\stats\\stats.py:1713: FutureWarning: Using a non-tuple sequence for multidimensional indexing is deprecated; use `arr[tuple(seq)]` instead of `arr[seq]`. In the future this will be interpreted as an array index, `arr[np.array(seq)]`, which will result either in an error or a different result.\n",
      "  return np.add.reduce(sorted[indexer] * weights, axis=axis) / sumval\n"
     ]
    },
    {
     "name": "stdout",
     "output_type": "stream",
     "text": [
      "Saving user_nums... SVD labor-4boosthits-totalhits all\n",
      "Algo:SVD  |  Metric:labor-4boosthits-totalhits  |  #users:0.1\n",
      "NB Val:-4959.311968657555  |  ALL val:-12087.593140311985\n",
      "Algo:SVD  |  Metric:labor-4boosthits-totalhits  |  #users:0.2\n",
      "NB Val:-8563.535156056183  |  ALL val:-22887.065984558398\n",
      "Algo:SVD  |  Metric:labor-4boosthits-totalhits  |  #users:0.3\n",
      "NB Val:-11873.641453977574  |  ALL val:-33553.26790853758\n",
      "Saving user_nums... SVD labor-4boosthits-totalhits non-boycott\n",
      "Saving user_nums... SVD labor-8boosthits-totalhits all\n",
      "Algo:SVD  |  Metric:labor-8boosthits-totalhits  |  #users:0.1\n",
      "NB Val:-5785.863963433812  |  ALL val:-14102.191997030644\n",
      "Algo:SVD  |  Metric:labor-8boosthits-totalhits  |  #users:0.2\n",
      "NB Val:-9990.791015398867  |  ALL val:-26701.576981984796\n",
      "Algo:SVD  |  Metric:labor-8boosthits-totalhits  |  #users:0.3\n",
      "NB Val:-13852.581696307161  |  ALL val:-39145.47922662713\n",
      "Saving user_nums... SVD labor-8boosthits-totalhits non-boycott\n",
      "Saving user_nums... SVD labor-2boosthits-totalhits all\n",
      "Algo:SVD  |  Metric:labor-2boosthits-totalhits  |  #users:0.1\n",
      "NB Val:-3306.2079791050355  |  ALL val:-8058.3954268746475\n",
      "Algo:SVD  |  Metric:labor-2boosthits-totalhits  |  #users:0.2\n",
      "NB Val:-5709.023437370783  |  ALL val:-15258.043989705578\n",
      "Algo:SVD  |  Metric:labor-2boosthits-totalhits  |  #users:0.3\n",
      "NB Val:-7915.760969318383  |  ALL val:-22368.845272358376\n",
      "Saving user_nums... SVD labor-2boosthits-totalhits non-boycott\n",
      "Saving user_nums... SVD labor-1.1boosthits-totalhits all\n",
      "Algo:SVD  |  Metric:labor-1.1boosthits-totalhits  |  #users:0.1\n",
      "NB Val:-601.1287234736435  |  ALL val:-1465.162804886302\n",
      "Algo:SVD  |  Metric:labor-1.1boosthits-totalhits  |  #users:0.2\n",
      "NB Val:-1038.0042613401433  |  ALL val:-2774.189816310109\n",
      "Algo:SVD  |  Metric:labor-1.1boosthits-totalhits  |  #users:0.3\n",
      "NB Val:-1439.2292671487983  |  ALL val:-4067.0627767924307\n",
      "Saving user_nums... SVD labor-1.1boosthits-totalhits non-boycott\n",
      "Saving user_nums... SVD consumer-1.1boosthits-totalhits all\n",
      "Algo:SVD  |  Metric:consumer-1.1boosthits-totalhits  |  #users:0.1\n",
      "NB Val:-8904.560000000041  |  ALL val:0.0\n",
      "Algo:SVD  |  Metric:consumer-1.1boosthits-totalhits  |  #users:0.2\n",
      "NB Val:-17809.120000000083  |  ALL val:0.0\n",
      "Algo:SVD  |  Metric:consumer-1.1boosthits-totalhits  |  #users:0.3\n",
      "NB Val:-26713.67999999994  |  ALL val:0.0\n",
      "Saving user_nums... SVD consumer-1.1boosthits-totalhits non-boycott\n",
      "{'SVD': 0.0, 'GlobalMean': -1414756492.8, 'GuessThree': 0.0, 'MovieMean': -143933307.84000078, 'KNNBaseline_item_msd': 0.0, 'KNNBasic_user_msd': 0.0, 'KNNBasic_item_msd': 0.0}\n",
      "lines {'Zero': {'value': -114000, 'color': '0.3', 'name': 'MaxDamage', 'linestyle': '-'}}\n",
      "{'SVD': 0.0, 'GlobalMean': -1414756492.8, 'GuessThree': 0.0, 'MovieMean': -143933307.84000078, 'KNNBaseline_item_msd': 0.0, 'KNNBasic_user_msd': 0.0, 'KNNBasic_item_msd': 0.0}\n",
      "lines {'Zero': {'value': -114000, 'color': '0.3', 'name': 'MaxDamage', 'linestyle': '-'}}\n",
      "{'SVD': 0.0, 'GlobalMean': -1414756492.8, 'GuessThree': 0.0, 'MovieMean': -143933307.84000078, 'KNNBaseline_item_msd': 0.0, 'KNNBasic_user_msd': 0.0, 'KNNBasic_item_msd': 0.0}\n",
      "lines {'Zero': {'value': -114000, 'color': '0.3', 'name': 'MaxDamage', 'linestyle': '-'}}\n",
      "{'SVD': 0.0, 'GlobalMean': -1414756492.8, 'GuessThree': 0.0, 'MovieMean': -143933307.84000078, 'KNNBaseline_item_msd': 0.0, 'KNNBasic_user_msd': 0.0, 'KNNBasic_item_msd': 0.0}\n",
      "lines {'Zero': {'value': -114000, 'color': '0.3', 'name': 'MaxDamage', 'linestyle': '-'}}\n",
      "{'SVD': 0.0, 'GlobalMean': -1414756492.8, 'GuessThree': 0.0, 'MovieMean': -143933307.84000078, 'KNNBaseline_item_msd': 0.0, 'KNNBasic_user_msd': 0.0, 'KNNBasic_item_msd': 0.0}\n",
      "lines {'Zero': {'value': -114000, 'color': '0.3', 'name': 'MaxDamage', 'linestyle': '-'}}\n",
      "{'SVD': 0.0, 'GlobalMean': -1414756492.8, 'GuessThree': 0.0, 'MovieMean': -143933307.84000078, 'KNNBaseline_item_msd': 0.0, 'KNNBasic_user_msd': 0.0, 'KNNBasic_item_msd': 0.0}\n",
      "lines {'Zero': {'value': -114000, 'color': '0.3', 'name': 'MaxDamage', 'linestyle': '-'}}\n",
      "{'SVD': 0.0, 'GlobalMean': -1414756492.8, 'GuessThree': 0.0, 'MovieMean': -143933307.84000078, 'KNNBaseline_item_msd': 0.0, 'KNNBasic_user_msd': 0.0, 'KNNBasic_item_msd': 0.0}\n",
      "lines {'Zero': {'value': -114000, 'color': '0.3', 'name': 'MaxDamage', 'linestyle': '-'}}\n",
      "{'SVD': 0.0, 'GlobalMean': -1414756492.8, 'GuessThree': 0.0, 'MovieMean': -143933307.84000078, 'KNNBaseline_item_msd': 0.0, 'KNNBasic_user_msd': 0.0, 'KNNBasic_item_msd': 0.0}\n",
      "lines {'Zero': {'value': -114000, 'color': '0.3', 'name': 'MaxDamage', 'linestyle': '-'}}\n",
      "{'SVD': 0.0, 'GlobalMean': -1414756492.8, 'GuessThree': 0.0, 'MovieMean': -143933307.84000078, 'KNNBaseline_item_msd': 0.0, 'KNNBasic_user_msd': 0.0, 'KNNBasic_item_msd': 0.0}\n",
      "lines {'Zero': {'value': -114000, 'color': '0.3', 'name': 'MaxDamage', 'linestyle': '-'}}\n",
      "{'SVD': 0.0, 'GlobalMean': -1414756492.8, 'GuessThree': 0.0, 'MovieMean': -143933307.84000078, 'KNNBaseline_item_msd': 0.0, 'KNNBasic_user_msd': 0.0, 'KNNBasic_item_msd': 0.0}\n",
      "lines {'Zero': {'value': -114000, 'color': '0.3', 'name': 'MaxDamage', 'linestyle': '-'}}\n",
      "=====\n",
      "Size to Mean Decrease\n",
      "defaultdict(<class 'dict'>,\n",
      "            {'SVD': {0.1: -4711.414526934017,\n",
      "                     0.2: -8622.09477403321,\n",
      "                     0.3: -12358.97867735037}})\n"
     ]
    },
    {
     "data": {
      "image/png": "[encoded data removed]",
      "text/plain": [
       "<Figure size 841.1x432 with 2 Axes>"
      ]
     },
     "metadata": {},
     "output_type": "display_data"
    }
   ],
   "source": [
    "_ = p_b_curve(\n",
    "    samples_df_1m[samples_df_1m.algo_name == 'SVD'], 'ml-1m',\n",
    "    show_interp=False,\n",
    "    increase=True, percents=True, normalize=False,\n",
    "    metrics=[\n",
    "        #'1.02boosthits-totalhits',\n",
    "        'labor-4boosthits-totalhits',\n",
    "        'labor-8boosthits-totalhits',\n",
    "        #'consumer-4boosthits-totalhits',  \n",
    "        'labor-2boosthits-totalhits',\n",
    "        #'consumer-2boosthits-totalhits', \n",
    "        'labor-1.1boosthits-totalhits',\n",
    "        'consumer-1.1boosthits-totalhits',  \n",
    "    ],\n",
    "    groups=['all', 'non-boycott'],\n",
    "    #hue='metric', col='group', row='algo_name',\n",
    "    hue='metric', row='group',\n",
    "    \n",
    "    legend=True, \n",
    "    ylabel='Change in Hits',\n",
    "    title_template='{} vs. Boycott Size for {}',\n",
    "    height=3, aspect=3,\n",
    "    label_map=None, \n",
    "    palette={\n",
    "        'labor-1.1boosthits-totalhits': '#ec407a', \n",
    "        'labor-2boosthits-totalhits': '#d81b60', \n",
    "        'labor-4boosthits-totalhits': '#ad1457',\n",
    "        'labor-8boosthits-totalhits': '#880e4f',\n",
    "        'consumer-1.1boosthits-totalhits': 'k',\n",
    "    },\n",
    "    plot_horiz_lines=True,\n",
    "    line_names=['MaxDamage']\n",
    ")\n",
    "#plt.ylim(-89000, 100)\n",
    "#plt.savefig('ml-1m_hits.svg', bbox_inches='tight', dpi=300)\n",
    "plt.show()"
   ]
  },
  {
   "cell_type": "code",
   "execution_count": null,
   "metadata": {
    "scrolled": false
   },
   "outputs": [],
   "source": [
    "_ = p_b_curve(\n",
    "    samples_df_1m[samples_df_1m.algo_name == 'SVD'], 'ml-1m',\n",
    "    show_interp=False,\n",
    "    percents=True, normalize=True,\n",
    "    metrics=['ndcg10',],\n",
    "    groups=['non-boycott', 'all', ],\n",
    "    legend=False,\n",
    "    ylabel='nDCG@10 personalization factor',\n",
    "    height=4,\n",
    ")\n",
    "plt.ylim(-1.2, 0.05)\n",
    "plt.savefig('ml-1m_pb_curve.svg', bbox_inches='tight', dpi=300)\n",
    "plt.show()"
   ]
  },
  {
   "cell_type": "code",
   "execution_count": null,
   "metadata": {
    "collapsed": true
   },
   "outputs": [],
   "source": [
    "twenty_algo_to_metric_to_group_to = p_b_curve(\n",
    "    samples_df_20m, 'ml-20m',\n",
    "    show_interp=False,\n",
    "    percents=True, normalize=True,\n",
    "    metrics=['ndcg10'],\n",
    "    groups=['non-boycott', 'all', ], \n",
    "    height=4,\n",
    ")\n",
    "plt.ylim(-1.2, 0.05)\n",
    "plt.savefig('ml-20_pb_curve.svg', bbox_inches='tight', dpi=300)\n",
    "plt.show()"
   ]
  },
  {
   "cell_type": "markdown",
   "metadata": {},
   "source": [
    "# NDCG for all Groups, don't save"
   ]
  },
  {
   "cell_type": "code",
   "execution_count": 240,
   "metadata": {},
   "outputs": [
    {
     "name": "stdout",
     "output_type": "stream",
     "text": [
      "['percent_increase_ndcg10_all', 'percent_increase_ndcg10_boycott', 'percent_increase_ndcg10_non-boycott', 'percent_increase_prec10t4_all', 'percent_increase_prec10t4_boycott', 'percent_increase_prec10t4_non-boycott', 'percent_increase_rmse_all', 'percent_increase_rmse_boycott', 'percent_increase_rmse_non-boycott']\n"
     ]
    },
    {
     "name": "stderr",
     "output_type": "stream",
     "text": [
      "C:\\Users\\Nick\\Anaconda3\\lib\\site-packages\\scipy\\stats\\stats.py:1713: FutureWarning: Using a non-tuple sequence for multidimensional indexing is deprecated; use `arr[tuple(seq)]` instead of `arr[seq]`. In the future this will be interpreted as an array index, `arr[np.array(seq)]`, which will result either in an error or a different result.\n",
      "  return np.add.reduce(sorted[indexer] * weights, axis=axis) / sumval\n"
     ]
    },
    {
     "name": "stdout",
     "output_type": "stream",
     "text": [
      "metrics ['ndcg10', 'prec10t4', 'rmse']\n",
      "Algo:SVD  |  Metric:ndcg10  |  #users:0.1\n",
      "NB Val:-0.07085964863871262  |  ALL val:-0.17130077661705964\n",
      "Algo:SVD  |  Metric:ndcg10  |  #users:0.2\n",
      "NB Val:-0.1449045497293481  |  ALL val:-0.331758996325422\n",
      "Algo:SVD  |  Metric:ndcg10  |  #users:0.3\n",
      "NB Val:-0.22944106247949025  |  ALL val:-0.4855720701239015\n",
      "Algo:SVD  |  Metric:prec10t4  |  #users:0.1\n",
      "NB Val:-0.1109143482802749  |  ALL val:-0.20024298871314042\n",
      "Algo:SVD  |  Metric:prec10t4  |  #users:0.2\n",
      "NB Val:-0.1715421557807308  |  ALL val:-0.3444955971295722\n",
      "Algo:SVD  |  Metric:prec10t4  |  #users:0.3\n",
      "NB Val:-0.2589716555292411  |  ALL val:-0.4924199775877206\n",
      "Algo:SVD  |  Metric:rmse  |  #users:0.1\n",
      "NB Val:0.02458575394385233  |  ALL val:0.1302116988192838\n",
      "Algo:SVD  |  Metric:rmse  |  #users:0.2\n",
      "NB Val:0.04972223302564479  |  ALL val:0.25543713244451477\n",
      "Algo:SVD  |  Metric:rmse  |  #users:0.3\n",
      "NB Val:0.07799221430277228  |  ALL val:0.3799621282084871\n",
      "{'MovieMean': {'value': -2.594307467586317, 'color': '0.3', 'name': 'MovieMean', 'linestyle': '-'}, 'Zero': {'value': 0, 'color': '0.3', 'name': 'Zero', 'linestyle': '-'}}\n",
      "{'MovieMean': {'value': -2.594307467586317, 'color': '0.3', 'name': 'MovieMean', 'linestyle': '-'}, 'Zero': {'value': 0, 'color': '0.3', 'name': 'Zero', 'linestyle': '-'}}\n",
      "{'MovieMean': {'value': -2.594307467586317, 'color': '0.3', 'name': 'MovieMean', 'linestyle': '-'}, 'Zero': {'value': 0, 'color': '0.3', 'name': 'Zero', 'linestyle': '-'}}\n",
      "{'MovieMean': {'value': -2.3220059942464455, 'color': '0.3', 'name': 'MovieMean', 'linestyle': '-'}, 'Zero': {'value': 0, 'color': '0.3', 'name': 'Zero', 'linestyle': '-'}}\n",
      "{'MovieMean': {'value': -2.3220059942464455, 'color': '0.3', 'name': 'MovieMean', 'linestyle': '-'}, 'Zero': {'value': 0, 'color': '0.3', 'name': 'Zero', 'linestyle': '-'}}\n",
      "{'MovieMean': {'value': -2.3220059942464455, 'color': '0.3', 'name': 'MovieMean', 'linestyle': '-'}, 'Zero': {'value': 0, 'color': '0.3', 'name': 'Zero', 'linestyle': '-'}}\n",
      "{'MovieMean': {'value': 12.143262185169235, 'color': '0.3', 'name': 'MovieMean', 'linestyle': '-'}, 'Zero': {'value': 0, 'color': '0.3', 'name': 'Zero', 'linestyle': '-'}}\n",
      "{'MovieMean': {'value': 12.143262185169235, 'color': '0.3', 'name': 'MovieMean', 'linestyle': '-'}, 'Zero': {'value': 0, 'color': '0.3', 'name': 'Zero', 'linestyle': '-'}}\n",
      "{'MovieMean': {'value': 12.143262185169235, 'color': '0.3', 'name': 'MovieMean', 'linestyle': '-'}, 'Zero': {'value': 0, 'color': '0.3', 'name': 'Zero', 'linestyle': '-'}}\n",
      "=====\n",
      "Size to Mean Decrease\n",
      "defaultdict(<class 'dict'>,\n",
      "            {'SVD': {0.1: -0.052396080991711724,\n",
      "                     0.2: -0.08890815749481139,\n",
      "                     0.3: -0.13680683456865303}})\n"
     ]
    },
    {
     "data": {
      "image/png": "[encoded data removed]",
      "text/plain": [
       "<Figure size 288x864 with 3 Axes>"
      ]
     },
     "metadata": {},
     "output_type": "display_data"
    }
   ],
   "source": [
    "_ = p_b_curve(\n",
    "    samples_df_1m[samples_df_1m.algo_name == 'SVD'], 'ml-1m',\n",
    "    show_interp=False,\n",
    "    percents=True, normalize=True,\n",
    "    metrics=['ndcg10', 'prec10t4', 'rmse'],\n",
    "    groups=['non-boycott', 'all', 'boycott'],\n",
    "    legend=False,\n",
    "    ylabel='nDCG@10 personalization factor',\n",
    "    height=4,\n",
    "    palette=None,\n",
    ")\n",
    "#plt.ylim(-1.2, 0.05)\n",
    "plt.show()"
   ]
  },
  {
   "cell_type": "code",
   "execution_count": null,
   "metadata": {
    "collapsed": true
   },
   "outputs": [],
   "source": [
    "algo_to_metric_to_group_to = p_b_curve(\n",
    "    samples_df_1m, 'ml-1m',\n",
    "    metrics=metrics,\n",
    "    percents=True, normalize=True, show_interp=True,\n",
    "    groups=['non-boycott', 'all', ],\n",
    ")\n",
    "plt.show()"
   ]
  },
  {
   "cell_type": "markdown",
   "metadata": {},
   "source": [
    "## Find intersection of the non-boycott curve with horizontal lines"
   ]
  },
  {
   "cell_type": "code",
   "execution_count": null,
   "metadata": {
    "collapsed": true
   },
   "outputs": [],
   "source": [
    "movie_val = -1 * dataset_to_algo_to_metric_to_altalgo['ml-1m']['SVD']['ndcg10']['MovieMean']\n",
    "for group in ['all', 'non-boycott']:\n",
    "    found_item, found_user = False, False\n",
    "    found_itembasic = False\n",
    "    for x in range(0, num_ratings['ml-1m'], int(num_ratings['ml-1m'] / 10000)):\n",
    "        y = algo_to_metric_to_group_to['SVD']['ndcg10'][group]['interp_ratings'](x)\n",
    "        #print(x, y)\n",
    "        if not found_item:\n",
    "            if y <= dataset_to_algo_to_metric_to_altalgo['ml-1m']['SVD']['ndcg10']['KNNBaseline_item_msd']/movie_val:\n",
    "                print(group + ' found item:')\n",
    "                print(x / num_ratings['ml-1m'])\n",
    "                found_item = True\n",
    "        if not found_user:\n",
    "            if y <= dataset_to_algo_to_metric_to_altalgo['ml-1m']['SVD']['ndcg10']['KNNBasic_user_msd'] / movie_val:\n",
    "                print(group + ' found user')\n",
    "                print(x / num_ratings['ml-1m'])\n",
    "                found_user = True\n",
    "        if not found_itembasic:\n",
    "            if y <= dataset_to_algo_to_metric_to_altalgo['ml-1m']['SVD']['ndcg10']['KNNBasic_item_msd'] / movie_val:\n",
    "                print(group + ' found knnbasicitem')\n",
    "                print(x / num_ratings['ml-1m'])\n",
    "                found_itembasic = True"
   ]
  },
  {
   "cell_type": "code",
   "execution_count": null,
   "metadata": {
    "collapsed": true
   },
   "outputs": [],
   "source": [
    "d = {}\n",
    "group = 'non-boycott'\n",
    "print(group)\n",
    "d['30_1m'] = algo_to_metric_to_group_to['SVD']['ndcg10'][group]['interp_ratings'](0.3 * num_ratings['ml-1m']) * 100\n",
    "d['30_20m'] = twenty_algo_to_metric_to_group_to['SVD']['ndcg10'][group]['interp_ratings'](0.3 * num_ratings['ml-20m']) * 100\n",
    "print(d)\n",
    "\n",
    "group = 'all'\n",
    "print(group)\n",
    "d['30_1m'] = algo_to_metric_to_group_to['SVD']['ndcg10'][group]['interp_ratings'](0.3 * num_ratings['ml-1m']) * 100\n",
    "d['30_20m'] = twenty_algo_to_metric_to_group_to['SVD']['ndcg10'][group]['interp_ratings'](0.3 * num_ratings['ml-20m']) * 100\n",
    "print(d)"
   ]
  },
  {
   "cell_type": "code",
   "execution_count": null,
   "metadata": {
    "collapsed": true
   },
   "outputs": [],
   "source": [
    "d = {}\n",
    "d[19] = twenty_algo_to_metric_to_group_to['SVD']['ndcg10'][group]['interp_ratings'](0.19 * num_ratings['ml-20m']) * 100\n",
    "d[44] = twenty_algo_to_metric_to_group_to['SVD']['ndcg10'][group]['interp_ratings'](0.44 * num_ratings['ml-20m']) * 100\n",
    "print(d)"
   ]
  },
  {
   "cell_type": "code",
   "execution_count": null,
   "metadata": {
    "collapsed": true
   },
   "outputs": [],
   "source": [
    "def half_users(df):\n",
    "    return df[(\n",
    "        (df.userfrac == 0.5) & (df.ratingfrac == 1.0) \n",
    "        #& (df.algo_name == 'SVD')\n",
    "    )]"
   ]
  },
  {
   "cell_type": "code",
   "execution_count": null,
   "metadata": {
    "collapsed": true
   },
   "outputs": [],
   "source": [
    "def half_ratings(df):\n",
    "    return df[(\n",
    "        (df.userfrac == 1.0) & (df.ratingfrac == 0.5)\n",
    "    )]"
   ]
  },
  {
   "cell_type": "code",
   "execution_count": null,
   "metadata": {
    "collapsed": true
   },
   "outputs": [],
   "source": [
    "def all_users_all_ratings(df):\n",
    "    return df[(\n",
    "        (df.userfrac == 1.0) & (df.ratingfrac == 1.0)\n",
    "    )]"
   ]
  },
  {
   "cell_type": "code",
   "execution_count": null,
   "metadata": {
    "collapsed": true
   },
   "outputs": [],
   "source": [
    "NORMALIZE = True\n",
    "\n",
    "#metrics += ['hits-prec5t4', 'labor-hits-prec5t4', 'consumer-hits-prec5t4']\n",
    "\n",
    "normed_org_df = org_df.copy()\n",
    "for metric in metrics:\n",
    "    for algo_name in algo_names:\n",
    "        movie_val = abs(dataset_to_algo_to_metric_to_altalgo['ml-1m']['SVD'][metric]['MovieMean'])\n",
    "        for group in ['non-boycott', 'like-boycott']:\n",
    "            col = 'percent_increase_{}_{}'.format(metric, group)\n",
    "            if NORMALIZE:\n",
    "                normed_org_df.loc[\n",
    "                    normed_org_df.algo_name == algo_name, col\n",
    "                ] = org_df.loc[org_df.algo_name == algo_name, col] / movie_val\n",
    "                \n",
    "for metric in metrics:\n",
    "    expec = []\n",
    "    col = 'percent_increase_{}_expected'.format(metric)\n",
    "    for i, row in normed_org_df.iterrows():\n",
    "        x = row.num_ratings_missing\n",
    "        expec.append(float(algo_to_metric_to_group_to[row.algo_name][metric]['non-boycott']['interp_ratings'](x)))\n",
    "    kwargs = {col: expec}\n",
    "    normed_org_df = normed_org_df.assign(**kwargs)"
   ]
  },
  {
   "cell_type": "markdown",
   "metadata": {},
   "source": [
    "## LB = like-boycott\n",
    "### So lbless is the number cases where the like boycott performance change was less than expected"
   ]
  },
  {
   "cell_type": "code",
   "execution_count": null,
   "metadata": {
    "collapsed": true
   },
   "outputs": [],
   "source": [
    "def plot2(\n",
    "        df, metrics, groups,\n",
    "        percents=False, kind='bar', height=4, flip=False, filename='tmp.svg', save=False,\n",
    "        palette=None, aspect=1\n",
    "    ):\n",
    "    \"\"\"\n",
    "    Plots the results of homogenous boycotts\n",
    "    e.g. 50% of Comedy fans boycott together\n",
    "    \"\"\"\n",
    "    print('len of df (number of experiments included)', len(df.index))\n",
    "    for name in list(set(df.name)):\n",
    "#        tmp = df[df.name == name].num_ratings_missing.mean()\n",
    "        tmp = df[df.name == name].num_users_boycotting.mean()\n",
    "        print('Num users boycottng: {}. As a percent: {}'.format(tmp, tmp*100))\n",
    "#         print('name', name)\n",
    "#         print('mean number of ratings missing', tmp)\n",
    "#         print(algo_to_metric_to_group_to['SVD']['ndcg10']['non-boycott']['interp_ratings'](tmp))\n",
    "    increase_cols = select_cols(list(df.columns.values), metrics, groups, percents)\n",
    "    increase_cols = [x for x in increase_cols if 'vanilla' not in x]\n",
    "    longform = df[increase_cols + id_vars].melt(\n",
    "        id_vars = id_vars,\n",
    "        var_name='increase_type'\n",
    "    )\n",
    "    longform = fill_in_longform(longform)\n",
    "    if flip:\n",
    "        x = \"name\"\n",
    "        y = \"value\"\n",
    "    else:\n",
    "        x = \"value\"\n",
    "        y = \"name\"\n",
    "    if '?' in filename:\n",
    "        legend = False\n",
    "    else:\n",
    "        legend = True\n",
    "    grid = sns.factorplot(\n",
    "        x=x, y=y, hue=\"group\", data=longform,\n",
    "        height=height, kind=kind, col='algo_name', row='metric',\n",
    "        sharex=False,\n",
    "        row_order=metrics,\n",
    "        legend=legend,\n",
    "        legend_out=True,\n",
    "        palette=palette,\n",
    "        aspect=aspect\n",
    "    )\n",
    "    a = grid.axes\n",
    "    \n",
    "#     for metric in metrics:\n",
    "#         for col in increase_cols:\n",
    "#             if metric in col and 'expected' in col:\n",
    "#                 expec = col\n",
    "    \n",
    "    name_to_ratios = defaultdict(list)\n",
    "    diffs = defaultdict(dict)\n",
    "    ratios = defaultdict(dict)\n",
    "    name_to_counts = defaultdict(lambda: defaultdict(int))\n",
    "    \n",
    "    for x in grid.facet_data():\n",
    "        i_row, i_col, i_hue = x[0]\n",
    "        metric = grid.row_names[i_row]\n",
    "        algo_name = grid.col_names[i_col]\n",
    "        if grid.hue_names:\n",
    "            group = grid.hue_names[i_hue]        \n",
    "        \n",
    "        if NORMALIZE:\n",
    "            val = -1\n",
    "        else:\n",
    "            val = abs(dataset_to_algo_to_metric_to_altalgo['ml-1m']['SVD'][metric]['MovieMean'])\n",
    "        \n",
    "        if flip:\n",
    "            grid.axes[i_row, i_col].axhline(0, color='0.7', linestyle='-')\n",
    "        else:\n",
    "            grid.axes[i_row, i_col].axvline(0, color='0.7', linestyle='-')\n",
    "            grid.axes[i_row, i_col].axvline(val, color='0.7', linestyle='-')\n",
    "        \n",
    "        for col in increase_cols:\n",
    "            if metric == col.split('_')[-2]:\n",
    "                if 'expected' in col:\n",
    "                    expec = col\n",
    "                elif 'non-boycott' in col:\n",
    "                    nb = col\n",
    "                elif 'like-boycott' in col:\n",
    "                    lb = col\n",
    "        for name in list(set(longform.name)):\n",
    "            mask = (\n",
    "                (longform.metric == metric) &\n",
    "                (longform.algo_name == algo_name) &\n",
    "                (longform.name == name)\n",
    "            )\n",
    "            \n",
    "            masked = longform[mask]\n",
    "            try:\n",
    "                expec_arr = np.array(masked[masked.increase_type == expec].value)\n",
    "                nb_arr = np.array(masked[masked.increase_type == nb].value)\n",
    "                lb_arr = np.array(masked[masked.increase_type == lb].value)\n",
    "                \n",
    "                expec_mean = np.mean(expec_arr)\n",
    "                nb_mean = np.mean(nb_arr)\n",
    "                lb_mean = np.nanmean(lb_arr)\n",
    "                \n",
    "                ratio = nb_mean / expec_mean\n",
    "                diff = nb_mean - expec_mean\n",
    "                lb_diff = lb_mean - nb_mean\n",
    "                lb_ratio = lb_mean / expec_mean\n",
    "\n",
    "                pval = stats.ttest_ind(expec_arr, nb_arr, equal_var=False).pvalue                \n",
    "                name_to_counts[name]['total'] += 1\n",
    "                \n",
    "                print('{} {} {}, {}, {}'.format(metric, algo_name, name, expec, nb))\n",
    "                print('Ratio: {}, pval: {}'.format(ratio, pval))\n",
    "                print('LB to NB: {}'.format(lb_diff / diff))\n",
    "                name_to_ratios[name].append(ratio)\n",
    "                diffs['nb'][name] = diff\n",
    "                diffs['lb'][name] = lb_diff\n",
    "                \n",
    "                ratios['nb'][name] = ratio\n",
    "                ratios['lb'][name] = lb_ratio\n",
    "                \n",
    "                if pval < 0.5:\n",
    "                    name_to_counts[name]['total_sig'] += 1\n",
    "\n",
    "                if diff > 0:\n",
    "                    name_to_counts[name]['total_less'] += 1\n",
    "                else:\n",
    "                    name_to_counts[name]['total_more'] += 1\n",
    "                #print('lb info', lb_diff, lb_mean, nb_mean)\n",
    "                if lb_diff < 0:\n",
    "                    name_to_counts[name]['total_lbless'] += 1\n",
    "            except Exception as err:\n",
    "                print(err)\n",
    "                print(algo_name, metric)\n",
    "    total = 0\n",
    "    total_sig = 0\n",
    "    total_less = 0\n",
    "    total_more = 0\n",
    "    total_lbless = 0\n",
    "    \n",
    "    for name, counts in name_to_counts.items():\n",
    "        total += counts['total']\n",
    "        total_sig += counts['total_sig']\n",
    "        total_less += counts['total_less']\n",
    "        total_more += counts['total_more']\n",
    "        total_lbless += counts['total_lbless']\n",
    "\n",
    "    print('Totals:')\n",
    "    print('{} lbless, {} sig, {} less, and {} more out of {} total'.format(\n",
    "            total_lbless, total_sig, total_less,\n",
    "            total_more, total)\n",
    "        )\n",
    "    if save:\n",
    "        new_labels = ['Similar Users', 'Not Participating\\n Users', 'Expected']\n",
    "        for t, l in zip(grid._legend.texts, new_labels): t.set_text(l)\n",
    "        if 'h2' in filename:\n",
    "            grid.set_ylabels(\"\")\n",
    "        else:\n",
    "            grid.set_ylabels(YLABEL)\n",
    "        grid.set_xlabels(\"\")\n",
    "        grid.set_titles(\"\")\n",
    "        plt.savefig(filename, size=(3, 3), bbox_inches='tight', dpi=300)\n",
    "    return grid, (total, total_sig, total_less, total_more, total_lbless), (diffs, ratios)\n"
   ]
  },
  {
   "cell_type": "code",
   "execution_count": null,
   "metadata": {
    "collapsed": true
   },
   "outputs": [],
   "source": [
    "normed_org_df = normed_org_df[normed_org_df.algo_name == 'SVD']"
   ]
  },
  {
   "cell_type": "code",
   "execution_count": null,
   "metadata": {
    "collapsed": true
   },
   "outputs": [],
   "source": [
    "gender_boycotts = normed_org_df[normed_org_df['type'] == 'gender']\n",
    "age_boycotts = normed_org_df[normed_org_df['type'] == 'age']\n",
    "occupation_boycotts = normed_org_df[normed_org_df['type'] == 'occupation']\n",
    "power_boycotts = normed_org_df[normed_org_df['type'] == 'power']\n",
    "genre_boycotts = normed_org_df[normed_org_df['type'] == 'genre']\n",
    "state_boycotts = org_df[org_df['type'] == 'state']\n",
    "\n",
    "# removing these from contention\n",
    "# genre_strict_boycotts = org_df[org_df['type'] == 'genre_strict']"
   ]
  },
  {
   "cell_type": "markdown",
   "metadata": {},
   "source": [
    "# Control which metrics we do comparisons for here.."
   ]
  },
  {
   "cell_type": "code",
   "execution_count": null,
   "metadata": {
    "collapsed": true
   },
   "outputs": [],
   "source": [
    "metrics=['ndcg10']"
   ]
  },
  {
   "cell_type": "code",
   "execution_count": null,
   "metadata": {
    "collapsed": true
   },
   "outputs": [],
   "source": [
    "palette={'all': 'b', 'non-boycott': 'g', 'expected': 'y', 'like-boycott': 'c'}\n",
    "\n",
    "def plot_all_three_scenarios(df, height=6):\n",
    "#     all_df = all_users_all_ratings(df)\n",
    "#     if not all_df.empty:\n",
    "#         grid, (total, total_sig, total_less, total_more, total_lbless), diffs, ratios = plot2(\n",
    "#             all_users_all_ratings(df),\n",
    "#             metrics=metrics,\n",
    "#             percents=True,\n",
    "#             groups=['all', 'non-boycott', 'expected'],\n",
    "#             height=height,\n",
    "#             palette=palette\n",
    "#         )\n",
    "#         grid.fig.suptitle('All Users, All Ratings')\n",
    "#         print('total1', total)\n",
    "\n",
    "    total, total_sig, total_less, total_more, total_lbless = 0, 0, 0, 0, 0\n",
    "    \n",
    "    half_users_df = half_users(df)\n",
    "    if not half_users_df.empty:\n",
    "        grid, (total2, total_sig2, total_less2, total_more2, total_lbless2), (diffs, ratios) = plot2(\n",
    "            half_users_df,\n",
    "            metrics=metrics,\n",
    "            percents=True,\n",
    "            groups=['non-boycott', 'like-boycott', 'expected'],\n",
    "            height=height,\n",
    "            kind='bar',\n",
    "            palette=palette\n",
    "        )\n",
    "        grid.fig.suptitle('Half Users')\n",
    "        total += total2\n",
    "        total_sig += total_sig2\n",
    "        total_less += total_less2\n",
    "        total_more += total_more2\n",
    "        total_lbless += total_lbless2\n",
    "        print('total2', total2, total)\n",
    "        \n",
    "#     half_ratings_df = half_ratings(df)\n",
    "#     if not half_ratings_df.empty:\n",
    "#         plot2(\n",
    "#             half_ratings_df,\n",
    "#             metrics=metrics,\n",
    "#             percents=True,\n",
    "#             groups=['non-boycott', 'boycott', 'like-boycott', 'expected'],\n",
    "#             height=height,\n",
    "#         ).fig.suptitle('Half Ratings')\n",
    "#     plt.show()\n",
    "    \n",
    "    return (total, total_sig, total_less, total_more, total_lbless), (diffs, ratios)"
   ]
  },
  {
   "cell_type": "code",
   "execution_count": null,
   "metadata": {
    "collapsed": true
   },
   "outputs": [],
   "source": [
    "running_totals = {\n",
    "    'total': 0,\n",
    "    'total_sig': 0,\n",
    "    'total_less': 0,\n",
    "    'total_more': 0,\n",
    "    'total_lbless': 0\n",
    "}\n",
    "all_diffs = {\n",
    "    'lb': {},\n",
    "    'nb': {}\n",
    "}\n",
    "all_ratios = {\n",
    "    'lb': {},\n",
    "    'nb': {}\n",
    "}"
   ]
  },
  {
   "cell_type": "markdown",
   "metadata": {},
   "source": [
    "# Make plots for paper here."
   ]
  },
  {
   "cell_type": "code",
   "execution_count": null,
   "metadata": {
    "collapsed": true,
    "scrolled": false
   },
   "outputs": [],
   "source": [
    "df1 = half_users(gender_boycotts)\n",
    "df2 = half_users(genre_boycotts)\n",
    "df3 = half_users(power_boycotts)\n",
    "\n",
    "grid, (total, total_sig, total_less, total_more, total_lbless), (diffs, ratios) = plot2(\n",
    "    pd.concat([df1[\n",
    "        #(df1.name.str.contains('female')) & \n",
    "        (df1.algo_name == 'SVD')],\n",
    "        df2[(df2.name.str.contains('film-noir')) & (df2.algo_name == 'SVD')],\n",
    "        df3[(df3.name.str.contains('power')) & (df3.algo_name == 'SVD')]\n",
    "    \n",
    "    ]),\n",
    "    metrics=['ndcg10'],\n",
    "    percents=True,\n",
    "    groups=['non-boycott', 'like-boycott', 'expected'],\n",
    "    height=3.5,\n",
    "    kind='bar',\n",
    "    flip=True,\n",
    "    filename='h1.svg', save=True,\n",
    "    palette=palette,\n",
    "    aspect=1.5\n",
    ")\n",
    "\n",
    "# grid, (total, total_sig, total_less, total_more) = plot2(\n",
    "#     df2[(df2.name.str.contains('Film-Noir')) & (df2.algo_name == 'SVD')],\n",
    "#     metrics=['ndcg10'],\n",
    "#     percents=True,\n",
    "#     groups=['non-boycott', 'expected', 'like-boycott',],\n",
    "#     height=2.5,\n",
    "#     kind='bar',\n",
    "#     flip=True,\n",
    "#     filename='h2.svg', save=True,\n",
    "#     palette=palette\n",
    "# )\n",
    "\n",
    "# grid, (total, total_sig, total_less, total_more) = plot2(\n",
    "#     df3[(df3.name.str.contains('power')) & (df3.algo_name == 'SVD')],\n",
    "#     metrics=['ndcg10'],\n",
    "#     percents=True,\n",
    "#     groups=['non-boycott', 'expected', 'like-boycott',],\n",
    "#     size=2.5,\n",
    "#     kind='bar',\n",
    "#     flip=True,\n",
    "#     filename='h3.svg', save=True,\n",
    "#     palette=palette\n",
    "# )\n",
    "\n",
    "plt.show()"
   ]
  },
  {
   "cell_type": "code",
   "execution_count": null,
   "metadata": {
    "collapsed": true
   },
   "outputs": [],
   "source": [
    "df1 = half_users(gender_boycotts)\n",
    "df2 = half_users(genre_boycotts)\n",
    "df3 = half_users(power_boycotts)\n",
    "\n",
    "grid, (total, total_sig, total_less, total_more, total_lbless), (diffs, ratios) = plot2(\n",
    "    pd.concat([df1[\n",
    "        #(df1.name.str.contains('female')) & \n",
    "        (df1.algo_name == 'SVD')],\n",
    "        df2[(df2.name.str.contains('film-noir')) & (df2.algo_name == 'SVD')],\n",
    "        df3[(df3.name.str.contains('power')) & (df3.algo_name == 'SVD')]\n",
    "    \n",
    "    ]),\n",
    "    metrics=['hits-prec5t4'],\n",
    "    percents=False,\n",
    "    groups=['non-boycott', 'all',],\n",
    "    height=3.5,\n",
    "    kind='bar',\n",
    "    flip=True,\n",
    "    filename='h1.svg', save=False,\n",
    "    palette=palette,\n",
    "    aspect=1.5\n",
    ")\n",
    "\n",
    "plt.show()"
   ]
  },
  {
   "cell_type": "markdown",
   "metadata": {},
   "source": [
    "## Male User and Female User Boycotts"
   ]
  },
  {
   "cell_type": "code",
   "execution_count": null,
   "metadata": {
    "collapsed": true,
    "scrolled": false
   },
   "outputs": [],
   "source": [
    "(total, total_sig, total_less, total_more, total_lbless), (diffs, ratios) = plot_all_three_scenarios(gender_boycotts)\n",
    "running_totals['total'] += total\n",
    "running_totals['total_sig'] += total_sig\n",
    "running_totals['total_less'] += total_less\n",
    "running_totals['total_more'] += total_more\n",
    "running_totals['total_lbless'] += total_lbless\n",
    "for key in all_diffs.keys():\n",
    "    all_diffs[key].update(diffs[key])\n",
    "    all_ratios[key].update(ratios[key])\n",
    "\n",
    "plt.show()"
   ]
  },
  {
   "cell_type": "markdown",
   "metadata": {},
   "source": [
    "# Power Boycotts\n",
    "\n",
    "Below, the power boycotts show a very weird results. Warrants double checks."
   ]
  },
  {
   "cell_type": "code",
   "execution_count": null,
   "metadata": {
    "collapsed": true,
    "scrolled": false
   },
   "outputs": [],
   "source": [
    "(total, total_sig, total_less, total_more, total_lbless), (diffs, ratios) = plot_all_three_scenarios(power_boycotts)\n",
    "running_totals['total'] += total\n",
    "running_totals['total_sig'] += total_sig\n",
    "running_totals['total_less'] += total_less\n",
    "running_totals['total_more'] += total_more\n",
    "running_totals['total_lbless'] += total_lbless\n",
    "\n",
    "for key in all_diffs.keys():\n",
    "    all_diffs[key].update(diffs[key])\n",
    "    all_ratios[key].update(ratios[key])\n",
    "\n",
    "\n",
    "plt.show()"
   ]
  },
  {
   "cell_type": "markdown",
   "metadata": {},
   "source": [
    "# Age Boycotts"
   ]
  },
  {
   "cell_type": "code",
   "execution_count": null,
   "metadata": {
    "collapsed": true,
    "scrolled": false
   },
   "outputs": [],
   "source": [
    "(total, total_sig, total_less, total_more, total_lbless), (diffs, ratios) = plot_all_three_scenarios(age_boycotts)\n",
    "running_totals['total'] += total\n",
    "running_totals['total_sig'] += total_sig\n",
    "running_totals['total_less'] += total_less\n",
    "running_totals['total_more'] += total_more\n",
    "running_totals['total_lbless'] += total_lbless\n",
    "\n",
    "for key in all_diffs.keys():\n",
    "    all_diffs[key].update(diffs[key])\n",
    "    all_ratios[key].update(ratios[key])\n",
    "\n",
    "plt.show()\n"
   ]
  },
  {
   "cell_type": "markdown",
   "metadata": {},
   "source": [
    "# Occupation Boycotts"
   ]
  },
  {
   "cell_type": "code",
   "execution_count": null,
   "metadata": {
    "collapsed": true,
    "scrolled": false
   },
   "outputs": [],
   "source": [
    "(total, total_sig, total_less, total_more, total_lbless), (diffs, ratios) = plot_all_three_scenarios(occupation_boycotts)\n",
    "running_totals['total'] += total\n",
    "running_totals['total_sig'] += total_sig\n",
    "running_totals['total_less'] += total_less\n",
    "running_totals['total_more'] += total_more\n",
    "running_totals['total_lbless'] += total_lbless\n",
    "\n",
    "for key in all_diffs.keys():\n",
    "    all_diffs[key].update(diffs[key])\n",
    "    all_ratios[key].update(ratios[key])\n",
    "plt.show()"
   ]
  },
  {
   "cell_type": "markdown",
   "metadata": {},
   "source": [
    "# Genre Boycotts"
   ]
  },
  {
   "cell_type": "code",
   "execution_count": null,
   "metadata": {
    "collapsed": true,
    "scrolled": false
   },
   "outputs": [],
   "source": [
    "(total, total_sig, total_less, total_more, total_lbless), (diffs, ratios) = plot_all_three_scenarios(genre_boycotts)\n",
    "running_totals['total'] += total\n",
    "running_totals['total_sig'] += total_sig\n",
    "running_totals['total_less'] += total_less\n",
    "running_totals['total_more'] += total_more\n",
    "running_totals['total_lbless'] += total_lbless\n",
    "\n",
    "for key in all_diffs.keys():\n",
    "    all_diffs[key].update(diffs[key])\n",
    "    all_ratios[key].update(ratios[key])\n",
    "\n",
    "plt.show()"
   ]
  },
  {
   "cell_type": "code",
   "execution_count": null,
   "metadata": {
    "collapsed": true
   },
   "outputs": [],
   "source": [
    "running_totals"
   ]
  },
  {
   "cell_type": "code",
   "execution_count": null,
   "metadata": {
    "collapsed": true
   },
   "outputs": [],
   "source": [
    "from pprint import pprint\n",
    "pprint(all_diffs)\n",
    "pprint(all_ratios)"
   ]
  },
  {
   "cell_type": "code",
   "execution_count": null,
   "metadata": {
    "collapsed": true
   },
   "outputs": [],
   "source": [
    "with open('all_ratios.json', 'w') as f:\n",
    "    json.dump(all_ratios, f)\n",
    "with open('all_diffs.json', 'w') as f:\n",
    "    json.dump(all_diffs, f)"
   ]
  },
  {
   "cell_type": "markdown",
   "metadata": {
    "collapsed": true
   },
   "source": [
    "# Back of the napkin"
   ]
  },
  {
   "cell_type": "code",
   "execution_count": null,
   "metadata": {
    "collapsed": true
   },
   "outputs": [],
   "source": [
    "\n",
    "# non-boycott\n",
    "# {'30_1m': -23.058666562695052, '30_20m': -2.8121875718078724}\n",
    "# all\n",
    "# {'30_1m': -49.3478951742734, '30_20m': -34.76984903171993}\n",
    "boycott_size =0.3\n",
    "\n",
    "strike_effects = {\n",
    "    '1m': 0.493,\n",
    "    '20m': 0.348,\n",
    "}\n",
    "\n",
    "boycott_effects = {\n",
    "    '1m': 0.23,\n",
    "    '20m': 0.028,\n",
    "}\n",
    "views_from_rec = 0.3\n",
    "\n",
    "total_effects = {\n",
    "    'strike': {},\n",
    "    'boycott': {},\n",
    "    'ratio': {},\n",
    "}\n",
    "\n",
    "# ds for dataset!\n",
    "for ds in ['1m', '20m']:\n",
    "    total_effects['boycott'][ds] = (1 - boycott_size) * boycott_effects[ds] * views_from_rec + boycott_size\n",
    "    total_effects['strike'][ds] = 1 * strike_effects[ds] * views_from_rec\n",
    "    total_effects['ratio'][ds] = total_effects['boycott'][ds] / total_effects['strike'][ds]\n",
    "\n",
    "\n",
    "from pprint import pprint\n",
    "pprint(total_effects)"
   ]
  },
  {
   "cell_type": "code",
   "execution_count": null,
   "metadata": {
    "collapsed": true
   },
   "outputs": [],
   "source": []
  }
 ],
 "metadata": {
  "celltoolbar": "Edit Metadata",
  "kernelspec": {
   "display_name": "Python 3",
   "language": "python",
   "name": "python3"
  },
  "language_info": {
   "codemirror_mode": {
    "name": "ipython",
    "version": 3
   },
   "file_extension": ".py",
   "mimetype": "text/x-python",
   "name": "python",
   "nbconvert_exporter": "python",
   "pygments_lexer": "ipython3",
   "version": "3.6.6"
  }
 },
 "nbformat": 4,
 "nbformat_minor": 2
}
