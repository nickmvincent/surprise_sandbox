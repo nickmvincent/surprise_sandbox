{
 "cells": [
  {
   "cell_type": "markdown",
   "metadata": {},
   "source": [
    "# Data Boycott and Data Strikes: Simulated Campaign Results\n",
    "\n",
    "## Goals of this notebook\n",
    "This notebook includes code for exploring the results of simulated boycotts. It also generates plots (for papers/presentations). This notebook covers 3 broad categories of experiments\n",
    "\n",
    "1. MovieLens 1M random boycotts\n",
    "2. MovieLens 1M homogeneous boycotts (e.g. fans of Comedy movies boycott together, people of a single age group boycott together)\n",
    "3. MovieLens 20M random boycotts\n",
    "\n"
   ]
  },
  {
   "cell_type": "code",
   "execution_count": 253,
   "metadata": {},
   "outputs": [
    {
     "name": "stdout",
     "output_type": "stream",
     "text": [
      "ml-20m 144.4135299257002\n",
      "ml-1m 165.5975165562914\n"
     ]
    }
   ],
   "source": [
    "from collections import defaultdict, OrderedDict\n",
    "import json\n",
    "from pprint import pprint\n",
    "\n",
    "import pandas as pd\n",
    "import numpy as np\n",
    "import seaborn as sns\n",
    "import matplotlib.pyplot as plt\n",
    "sns.set(style=\"darkgrid\")\n",
    "sns.set_color_codes(\"dark\")\n",
    "\n",
    "from scipy import stats\n",
    "from scipy.interpolate import interp1d\n",
    "\n",
    "# http://files.grouplens.org/datasets/movielens/ml-20m-README.txt\n",
    "\n",
    "num_users = {\n",
    "    'ml-20m': 138493,\n",
    "    'ml-1m': 6040\n",
    "}\n",
    "num_ratings = {\n",
    "    'ml-20m': 20000263,\n",
    "    'ml-1m': 1000209\n",
    "}\n",
    "for dataset in ['ml-20m', 'ml-1m']:\n",
    "    ratio = num_ratings[dataset] / num_users[dataset]\n",
    "    print(dataset, ratio)"
   ]
  },
  {
   "cell_type": "markdown",
   "metadata": {},
   "source": [
    "First things first: let's load our master data files. Each is a single csv that was created by the `process_all.py` script."
   ]
  },
  {
   "cell_type": "code",
   "execution_count": 254,
   "metadata": {
    "collapsed": true
   },
   "outputs": [],
   "source": [
    "df_1m = pd.read_csv('ml-1m_collected_10_28/all_results.csv', dtype={'indices': str})\n",
    "df_1m = df_1m[df_1m.ratingfrac.notna()]\n",
    "df_1m['dataset'] = 'ml-1m'"
   ]
  },
  {
   "cell_type": "code",
   "execution_count": 255,
   "metadata": {
    "collapsed": true
   },
   "outputs": [],
   "source": [
    "df_20m = pd.read_csv('ml-20m_collected/all_results.csv', dtype={'indices': str})\n",
    "df_20m = df_20m[df_20m.ratingfrac.notna()]\n",
    "df_20m['dataset'] = 'ml-20m'"
   ]
  },
  {
   "cell_type": "markdown",
   "metadata": {},
   "source": [
    "Now we apply transformation that will affect the entire dataframe.\n",
    "1. Calculate the number of users included in each experiment.\n",
    "2. Calculate the number of ratings missing per experiment (so we can estimate how much we'd \"expect\" performance to decrease)\n",
    "3. Calculate the number of ratings missing per experiment, rounded to the nearest 10^5"
   ]
  },
  {
   "cell_type": "code",
   "execution_count": 256,
   "metadata": {
    "collapsed": true
   },
   "outputs": [],
   "source": [
    "for df, dataset in [\n",
    "    (df_1m, 'ml-1m',),\n",
    "    (df_20m, 'ml-20m',),\n",
    "]:\n",
    "    # Whoops! Assign doesn't work in a for loop.\n",
    "#     df = df.assign(num_users_boycotting = [(NUM_USERS - int(x))/NUM_USERS for x in df.num_users])\n",
    "#     df = df.assign(num_ratings_missing = [NUM_RATINGS - int(x) for x in df.num_ratings])\n",
    "#     df = df.assign(nrm_rounded = [round(x, -5) for x in df.num_ratings_missing])\n",
    "    df['num_users_boycotting'] = [(num_users[dataset] - int(x)) / num_users[dataset] for x in df.num_users]\n",
    "    df['num_ratings_missing'] = [num_ratings[dataset] - int(x) for x in df.num_ratings]\n",
    "    df['nrm_rounded'] = [round(x, -5) for x in df.num_ratings_missing]\n",
    "    \n",
    "\n",
    "    # drop columns we're not going to use.\n",
    "    drops = [\n",
    "        #'tail',\n",
    "        # 'vanilla',\n",
    "    ]\n",
    "    for column in df.columns.values:\n",
    "        for drop in drops:\n",
    "            if drop in column:\n",
    "                df = df.drop(column, axis=1)"
   ]
  },
  {
   "cell_type": "markdown",
   "metadata": {},
   "source": [
    "# EDIT ME\n",
    "Define all the lists that can be used throughout. By editing this cell we can easily modify the full notebook."
   ]
  },
  {
   "cell_type": "code",
   "execution_count": 257,
   "metadata": {
    "collapsed": true
   },
   "outputs": [],
   "source": [
    "id_vars = ['name','algo_name', 'indices', 'ratingfrac', 'userfrac', 'num_ratings', 'num_users', 'num_users_boycotting']\n",
    "#id_vars = [x for x in id_vars if x in list(df.columns.values)]\n",
    "metrics = [\n",
    "    'rmse',\n",
    "    'ndcg10',\n",
    "    #'tailndcg10',\n",
    "    #'ndcg5',\n",
    "    #'tailndcg5',\n",
    "    'ndcgfull',\n",
    "    #'tailndcgfull',\n",
    "    #'ndcgfull',\n",
    "    'prec10t4',\n",
    "    #'tailprec10t4',\n",
    "    #'prec5t4',\n",
    "    #'tailprec5t4',\n",
    "]\n",
    "\n",
    "organized_experiments = [\n",
    "    'gender', 'state', 'power', 'genre', 'occupation', 'age'\n",
    "]\n",
    "algo_names = [\n",
    "    #'KNNBaseline_item_msd',\n",
    "    'SVD'\n",
    "]\n",
    "standard_algo_names = [\n",
    "    'SVD', \n",
    "    #'GlobalMean', \n",
    "    'GuessThree',\n",
    "    'MovieMean', \n",
    "    'KNNBaseline_item_msd',\n",
    "    'KNNBasic_user_msd',\n",
    "    'KNNBasic_item_msd',\n",
    "]"
   ]
  },
  {
   "cell_type": "markdown",
   "metadata": {},
   "source": [
    "# Flags\n",
    "A variety of flags to turn various analyses on or off. Turning more flags off will make the notebook run faster."
   ]
  },
  {
   "cell_type": "code",
   "execution_count": 258,
   "metadata": {
    "collapsed": true
   },
   "outputs": [],
   "source": [
    "flags = {\n",
    "    'coverage-weighted': False,\n",
    "}"
   ]
  },
  {
   "cell_type": "markdown",
   "metadata": {},
   "source": [
    "## Load and Organize Standard Results\n",
    "For any of our visualizations to be meaningful, we need standard results to compare the boycott results to. These standards let us evaluate \"what is the effect of the boycott compared to other algorithms\".\n",
    "\n",
    "In particular, we compare the boycott performance to performance when using very non-personalized algorithms (MovieMean) and simpler personalized algorithms (user-based KNN, item-based KNN).\n",
    "\n",
    "Below, we load these results from json files into Python data structures so we can use below when generating plots."
   ]
  },
  {
   "cell_type": "code",
   "execution_count": 259,
   "metadata": {},
   "outputs": [
    {
     "name": "stdout",
     "output_type": "stream",
     "text": [
      "File not found: standard_results/ml-20m_ratingcv_standards_for_KNNBasic_user_msd.json\n",
      "{'ml-1m': defaultdict(<function <lambda> at 0x000002876BC97730>,\n",
      "                      {'SVD': defaultdict(<class 'dict'>,\n",
      "                                          {'ndcg10': {'GuessThree': -25.634463062731534,\n",
      "                                                      'KNNBaseline_item_msd': -0.21579272303199185,\n",
      "                                                      'KNNBasic_item_msd': -0.783459813821296,\n",
      "                                                      'KNNBasic_user_msd': -1.774069901999796,\n",
      "                                                      'MovieMean': -2.588805715233404,\n",
      "                                                      'SVD': 0.0},\n",
      "                                           'ndcgfull': {'GuessThree': -8.983542186355729,\n",
      "                                                        'KNNBaseline_item_msd': -0.0905410327791266,\n",
      "                                                        'KNNBasic_item_msd': -0.40237398343369124,\n",
      "                                                        'KNNBasic_user_msd': -0.5895955516780071,\n",
      "                                                        'MovieMean': -0.7051232113092429,\n",
      "                                                        'SVD': 0.0},\n",
      "                                           'prec10t4': {'GuessThree': -21.952045727812123,\n",
      "                                                        'KNNBaseline_item_msd': -0.4900856728399296,\n",
      "                                                        'KNNBasic_item_msd': -0.6642378050124103,\n",
      "                                                        'KNNBasic_user_msd': -1.4050848226425996,\n",
      "                                                        'MovieMean': -2.2167764653951636,\n",
      "                                                        'SVD': 0.0},\n",
      "                                           'rmse': {'GuessThree': 44.11534484294577,\n",
      "                                                    'KNNBaseline_item_msd': 1.326125568048003,\n",
      "                                                    'KNNBasic_item_msd': 4.626236780474338,\n",
      "                                                    'KNNBasic_user_msd': 5.627334338473019,\n",
      "                                                    'MovieMean': 12.083652564504607,\n",
      "                                                    'SVD': 0.0}})}),\n",
      " 'ml-20m': defaultdict(<function <lambda> at 0x0000028701504BF8>,\n",
      "                       {'SVD': defaultdict(<class 'dict'>,\n",
      "                                           {'ndcg10': {'1M_SVD': -2.3961525421001535,\n",
      "                                                       'GuessThree': -24.636094062128187,\n",
      "                                                       'KNNBaseline_item_msd': -2.545825243372394,\n",
      "                                                       'KNNBasic_item_msd': -2.2383269117241746,\n",
      "                                                       'KNNBasic_user_msd': 0,\n",
      "                                                       'MovieMean': -5.647772312509133,\n",
      "                                                       'SVD': 0.0},\n",
      "                                            'ndcgfull': {'1M_SVD': -0.7133333011328016,\n",
      "                                                         'GuessThree': -9.07579666714012,\n",
      "                                                         'KNNBaseline_item_msd': -1.0290332470376093,\n",
      "                                                         'KNNBasic_item_msd': -0.7282384443630873,\n",
      "                                                         'KNNBasic_user_msd': 0,\n",
      "                                                         'MovieMean': -1.8522828895482364,\n",
      "                                                         'SVD': 0.0},\n",
      "                                            'prec10t4': {'1M_SVD': 5.247904559267778,\n",
      "                                                         'GuessThree': -26.02609136733745,\n",
      "                                                         'KNNBaseline_item_msd': -2.6578245579146857,\n",
      "                                                         'KNNBasic_item_msd': -1.8343231995464522,\n",
      "                                                         'KNNBasic_user_msd': 0,\n",
      "                                                         'MovieMean': -5.237033945496111,\n",
      "                                                         'SVD': 0.0},\n",
      "                                            'rmse': {'1M_SVD': 11.166751126528048,\n",
      "                                                     'GuessThree': 49.59102014901265,\n",
      "                                                     'KNNBaseline_item_msd': 4.991087869128467,\n",
      "                                                     'KNNBasic_item_msd': 8.197945180278845,\n",
      "                                                     'KNNBasic_user_msd': 0,\n",
      "                                                     'MovieMean': 19.759535282577247,\n",
      "                                                     'SVD': 0.0}})})}\n"
     ]
    }
   ],
   "source": [
    "dataset_to_algo_to_metric_to_altalgo = {}\n",
    "ds2standards = {}\n",
    "\n",
    "one_mill_svd = {}\n",
    "for dataset in [\n",
    "    'ml-1m',\n",
    "    'ml-20m',\n",
    "]:\n",
    "    standard_results = {}\n",
    "    algo_to_metric_to_altalgo = defaultdict(lambda: defaultdict(dict))\n",
    "\n",
    "    for algo_name in standard_algo_names:\n",
    "        try:\n",
    "            filename_ratingcv_standards = 'standard_results/{}_ratingcv_standards_for_{}.json'.format(\n",
    "                dataset, algo_name)\n",
    "            with open(filename_ratingcv_standards, 'r') as f:\n",
    "                standard_results[algo_name] = json.load(f)\n",
    "                if algo_name == 'SVD' and dataset == 'ml-1m':\n",
    "                    one_mill_svd = standard_results[algo_name]\n",
    "        except FileNotFoundError:\n",
    "            print('File not found: {}'.format(filename_ratingcv_standards))\n",
    "    for main_algo_name in algo_names:\n",
    "        for metric in metrics:\n",
    "            goodval = standard_results[main_algo_name].get(metric, 0)\n",
    "            for st_algo_name in standard_algo_names:\n",
    "                val = standard_results.get(st_algo_name, {}).get(metric)\n",
    "                if val:\n",
    "                    algo_to_metric_to_altalgo[main_algo_name][metric][st_algo_name] = (val - goodval) / goodval * 100 if goodval else 0\n",
    "                else:\n",
    "                    algo_to_metric_to_altalgo[main_algo_name][metric][st_algo_name] = 0\n",
    "            if dataset == 'ml-20m':\n",
    "                val = one_mill_svd.get(metric)\n",
    "                if val:\n",
    "                    algo_to_metric_to_altalgo[main_algo_name][metric]['1M_SVD'] = (val - goodval) / goodval * 100 if goodval else 0\n",
    "                else:\n",
    "                    algo_to_metric_to_altalgo[main_algo_name][metric]['1M_SVD'] = 0\n",
    "            \n",
    "    dataset_to_algo_to_metric_to_altalgo[dataset] = algo_to_metric_to_altalgo\n",
    "    ds2standards[dataset] = standard_results\n",
    "pprint(dataset_to_algo_to_metric_to_altalgo)"
   ]
  },
  {
   "cell_type": "markdown",
   "metadata": {},
   "source": [
    "# Compute a \"coverage-weighted\" metric\n",
    "One way to compare boycott v. strike is to weight metrics based on coverage. E.g. when less users are covered, ndcg (or another metric) gets adjusted accordingly."
   ]
  },
  {
   "cell_type": "code",
   "execution_count": 260,
   "metadata": {},
   "outputs": [],
   "source": [
    "if flags['coverage-weighted']:\n",
    "    for df, dataset in [\n",
    "        (df_1m, 'ml-1m',),\n",
    "        (df_20m, 'ml-20m',),\n",
    "    ]:\n",
    "        # will only work for SVD as its written right now.\n",
    "        for group in ['non-boycott', 'all']:\n",
    "\n",
    "            new_metric = 'coverage-weighted-ndcg10'\n",
    "            comparison = dataset_to_algo_to_metric_to_altalgo[dataset]['SVD']['ndcg10']['GuessThree']\n",
    "\n",
    "            new_key = '{}_{}_{}'.format('percent_increase', new_metric, group)\n",
    "            print(new_key)\n",
    "            if group == 'all':\n",
    "                frac_miss_arr = [0] * len(df.index)\n",
    "            else:\n",
    "                frac_miss_arr = list(df['num_users_boycotting'])\n",
    "            df[new_key] = [\n",
    "                ndcg_val * (1 - frac_miss) + comparison * frac_miss for (\n",
    "                    ndcg_val, frac_miss\n",
    "                ) in zip(df['percent_increase_ndcg10_{}'.format(group)], frac_miss_arr)\n",
    "            ]"
   ]
  },
  {
   "cell_type": "markdown",
   "metadata": {},
   "source": [
    "# Estimate change in \"hits\" based on precision\n",
    "\n",
    "For a given list of k-items, we assume users will click the items in that list that are \"good\" (rating over 4).\n",
    "\n",
    "\n",
    "One way to do this is to follow this linear model:\n",
    "\n",
    "* a user who gets a list with \"full precision\" (i.e. SVD w/ full data) provides 5 hits\n",
    "* a user who gets a list with \"un-personalized precision\" (i.e. MovieMean) provides 5/ratio hits!\n",
    "* note that in this case even users w/ bad lists still provide hits\n",
    "\n",
    "Using these two points, we fit a line:\n",
    "\n",
    "\n",
    "When ratio=1, recommender adds NO VALUE and therefore strikes do NO DAMAGE!\n",
    "\n",
    "Anchor:hits"
   ]
  },
  {
   "cell_type": "code",
   "execution_count": 261,
   "metadata": {},
   "outputs": [
    {
     "name": "stdout",
     "output_type": "stream",
     "text": [
      "new_key percent_increase_1.1hits-prec10t4_non-boycott\n",
      "[-2.2167764653951636, 0]\n",
      "[-5490.9090909090955, 0]\n",
      "c [ 2.47697915e+03 -3.94010106e-13]\n",
      "tph 60400\n",
      "Normalizing. Will divide hit values by total possible hits.\n",
      "new_key percent_increase_1.1hits-prec10t4_all\n",
      "[-2.2167764653951636, 0]\n",
      "[-5490.9090909090955, 0]\n",
      "c [ 2.47697915e+03 -3.94010106e-13]\n",
      "tph 60400\n",
      "Normalizing. Will divide hit values by total possible hits.\n",
      "new_key percent_increase_1.1hits-ndcg10_non-boycott\n",
      "[-2.588805715233404, 0]\n",
      "[-5490.9090909090955, 0]\n",
      "c [ 2.12102015e+03 -3.94010106e-13]\n",
      "tph 60400\n",
      "Normalizing. Will divide hit values by total possible hits.\n",
      "new_key percent_increase_1.1hits-ndcg10_all\n",
      "[-2.588805715233404, 0]\n",
      "[-5490.9090909090955, 0]\n",
      "c [ 2.12102015e+03 -3.94010106e-13]\n",
      "tph 60400\n",
      "Normalizing. Will divide hit values by total possible hits.\n",
      "new_key percent_increase_2hits-prec10t4_non-boycott\n",
      "[-2.2167764653951636, 0]\n",
      "[-30200.0, 0]\n",
      "c [ 1.36233853e+04 -8.78004128e-14]\n",
      "tph 60400\n",
      "Normalizing. Will divide hit values by total possible hits.\n",
      "new_key percent_increase_2hits-prec10t4_all\n",
      "[-2.2167764653951636, 0]\n",
      "[-30200.0, 0]\n",
      "c [ 1.36233853e+04 -8.78004128e-14]\n",
      "tph 60400\n",
      "Normalizing. Will divide hit values by total possible hits.\n",
      "new_key percent_increase_2hits-ndcg10_non-boycott\n",
      "[-2.588805715233404, 0]\n",
      "[-30200.0, 0]\n",
      "c [ 1.16656108e+04 -8.78004128e-14]\n",
      "tph 60400\n",
      "Normalizing. Will divide hit values by total possible hits.\n",
      "new_key percent_increase_2hits-ndcg10_all\n",
      "[-2.588805715233404, 0]\n",
      "[-30200.0, 0]\n",
      "c [ 1.16656108e+04 -8.78004128e-14]\n",
      "tph 60400\n",
      "Normalizing. Will divide hit values by total possible hits.\n",
      "new_key percent_increase_4hits-prec10t4_non-boycott\n",
      "[-2.2167764653951636, 0]\n",
      "[-45300.0, 0]\n",
      "c [2.04350780e+04 1.15451912e-12]\n",
      "tph 60400\n",
      "Normalizing. Will divide hit values by total possible hits.\n",
      "new_key percent_increase_4hits-prec10t4_all\n",
      "[-2.2167764653951636, 0]\n",
      "[-45300.0, 0]\n",
      "c [2.04350780e+04 1.15451912e-12]\n",
      "tph 60400\n",
      "Normalizing. Will divide hit values by total possible hits.\n",
      "new_key percent_increase_4hits-ndcg10_non-boycott\n",
      "[-2.588805715233404, 0]\n",
      "[-45300.0, 0]\n",
      "c [1.74984163e+04 1.15451912e-12]\n",
      "tph 60400\n",
      "Normalizing. Will divide hit values by total possible hits.\n",
      "new_key percent_increase_4hits-ndcg10_all\n",
      "[-2.588805715233404, 0]\n",
      "[-45300.0, 0]\n",
      "c [1.74984163e+04 1.15451912e-12]\n",
      "tph 60400\n",
      "Normalizing. Will divide hit values by total possible hits.\n",
      "new_key percent_increase_1.1hits-prec10t4_non-boycott\n",
      "[-5.237033945496111, 0]\n",
      "[-125902.7272727273, 0]\n",
      "c [ 2.40408461e+04 -2.01466814e-12]\n",
      "tph 1384930\n",
      "Normalizing. Will divide hit values by total possible hits.\n",
      "new_key percent_increase_1.1hits-prec10t4_all\n",
      "[-5.237033945496111, 0]\n",
      "[-125902.7272727273, 0]\n",
      "c [ 2.40408461e+04 -2.01466814e-12]\n",
      "tph 1384930\n",
      "Normalizing. Will divide hit values by total possible hits.\n",
      "new_key percent_increase_1.1hits-ndcg10_non-boycott\n",
      "[-5.647772312509133, 0]\n",
      "[-125902.7272727273, 0]\n",
      "c [ 2.22924580e+04 -2.01466814e-12]\n",
      "tph 1384930\n",
      "Normalizing. Will divide hit values by total possible hits.\n",
      "new_key percent_increase_1.1hits-ndcg10_all\n",
      "[-5.647772312509133, 0]\n",
      "[-125902.7272727273, 0]\n",
      "c [ 2.22924580e+04 -2.01466814e-12]\n",
      "tph 1384930\n",
      "Normalizing. Will divide hit values by total possible hits.\n",
      "new_key percent_increase_2hits-prec10t4_non-boycott\n",
      "[-5.237033945496111, 0]\n",
      "[-692465.0, 0]\n",
      "c [1.32224654e+05 9.68165875e-12]\n",
      "tph 1384930\n",
      "Normalizing. Will divide hit values by total possible hits.\n",
      "new_key percent_increase_2hits-prec10t4_all\n",
      "[-5.237033945496111, 0]\n",
      "[-692465.0, 0]\n",
      "c [1.32224654e+05 9.68165875e-12]\n",
      "tph 1384930\n",
      "Normalizing. Will divide hit values by total possible hits.\n",
      "new_key percent_increase_2hits-ndcg10_non-boycott\n",
      "[-5.647772312509133, 0]\n",
      "[-692465.0, 0]\n",
      "c [1.22608519e+05 9.68165875e-12]\n",
      "tph 1384930\n",
      "Normalizing. Will divide hit values by total possible hits.\n",
      "new_key percent_increase_2hits-ndcg10_all\n",
      "[-5.647772312509133, 0]\n",
      "[-692465.0, 0]\n",
      "c [1.22608519e+05 9.68165875e-12]\n",
      "tph 1384930\n",
      "Normalizing. Will divide hit values by total possible hits.\n",
      "new_key percent_increase_4hits-prec10t4_non-boycott\n",
      "[-5.237033945496111, 0]\n",
      "[-1038697.5, 0]\n",
      "c [ 1.98336981e+05 -6.05702774e-12]\n",
      "tph 1384930\n",
      "Normalizing. Will divide hit values by total possible hits.\n",
      "new_key percent_increase_4hits-prec10t4_all\n",
      "[-5.237033945496111, 0]\n",
      "[-1038697.5, 0]\n",
      "c [ 1.98336981e+05 -6.05702774e-12]\n",
      "tph 1384930\n",
      "Normalizing. Will divide hit values by total possible hits.\n",
      "new_key percent_increase_4hits-ndcg10_non-boycott\n",
      "[-5.647772312509133, 0]\n",
      "[-1038697.5, 0]\n",
      "c [ 1.83912779e+05 -6.05702774e-12]\n",
      "tph 1384930\n",
      "Normalizing. Will divide hit values by total possible hits.\n",
      "new_key percent_increase_4hits-ndcg10_all\n",
      "[-5.647772312509133, 0]\n",
      "[-1038697.5, 0]\n",
      "c [ 1.83912779e+05 -6.05702774e-12]\n",
      "tph 1384930\n",
      "Normalizing. Will divide hit values by total possible hits.\n"
     ]
    }
   ],
   "source": [
    "normalize_hits = True\n",
    "\n",
    "for df, dataset in [\n",
    "    (df_1m, 'ml-1m',),\n",
    "    (df_20m, 'ml-20m',),\n",
    "]:\n",
    "    metric2altalgo = dataset_to_algo_to_metric_to_altalgo[dataset]['SVD']\n",
    "    # will only work for SVD as its written right now.\n",
    "    \n",
    "    #personalization_boost_coefficient\n",
    "    for pbc in [\n",
    "        1.1, 2, 4, \n",
    "    ]:\n",
    "        for old_metric, k in [\n",
    "            #('prec5t4', 5),\n",
    "            ('prec10t4', 10),\n",
    "            ('ndcg10', 10),\n",
    "        ]:\n",
    "            for group in ['non-boycott', 'all']:\n",
    "                # name the new dataframe column\n",
    "                new_metric = '{}hits-{}'.format(pbc, old_metric)\n",
    "                total_possible_hits = num_users[dataset] * k\n",
    "                # boycotting users provide 0 hits. \n",
    "                # so with a full boycott, damage = total possible hits\n",
    "                comparison = -1 * total_possible_hits\n",
    "                #comparison = -1 * ds2standards[dataset]['SVD'][old_metric] * total_possible_hits\n",
    "\n",
    "                key_template = 'percent_increase_{}_{}'\n",
    "                new_key = key_template.format(new_metric, group)\n",
    "                print('new_key', new_key)\n",
    "\n",
    "                # no missing users in a strike (\"All Users\" perspective)\n",
    "                if group == 'all':\n",
    "                    frac_miss_arr = [0] * len(df.index)\n",
    "                # there are missing users in a data boycott!\n",
    "                else:\n",
    "                    frac_miss_arr = list(df['num_users_boycotting'])\n",
    "\n",
    "\n",
    "                labor_metric = 'labor-' + new_metric\n",
    "                consumer_metric = 'consumer-' + new_metric\n",
    "\n",
    "                pred_diff = metric2altalgo[old_metric]['MovieMean']\n",
    "                # should get more negative as prec_val gets more negative\n",
    "\n",
    "                coefficients = np.polyfit(\n",
    "                    [pred_diff, 0], # x values\n",
    "                    [total_possible_hits/pbc - total_possible_hits, 0],# y values\n",
    "                    1, # polynomial ordenr, e.g. this is a line\n",
    "                )\n",
    "                print([pred_diff, 0])\n",
    "                print([total_possible_hits/pbc - total_possible_hits, 0])\n",
    "                print('c', coefficients)\n",
    "                print('tph', total_possible_hits)\n",
    "\n",
    "                df[key_template.format(labor_metric, group)] = [\n",
    "                    ( coefficients[1] + coefficients[0] * prec_val  * (1 - frac_miss)) for (\n",
    "                        prec_val, frac_miss\n",
    "                    ) in zip(df[key_template.format(old_metric, group)], frac_miss_arr)\n",
    "                ]\n",
    "                df[key_template.format(consumer_metric, group)] = [\n",
    "                    (comparison * frac_miss) for frac_miss in frac_miss_arr\n",
    "                ]\n",
    "\n",
    "                df[new_key] = [\n",
    "                    (labor_power + consumer_power) for (\n",
    "                        labor_power, consumer_power\n",
    "                    ) in zip(\n",
    "                        df[key_template.format('labor-' + new_metric, group)],\n",
    "                        df[key_template.format('consumer-' + new_metric, group)],\n",
    "                    )\n",
    "                ]\n",
    "\n",
    "                if normalize_hits:\n",
    "                    print('Normalizing. Will divide hit values by total possible hits.')\n",
    "                    df[new_key] /= total_possible_hits\n",
    "                    df[key_template.format(labor_metric, group)] /= total_possible_hits\n",
    "                    df[key_template.format(consumer_metric, group)] /= total_possible_hits\n",
    "\n",
    "                for st_al_nm in standard_algo_names:\n",
    "                    old_val = metric2altalgo[old_metric][st_al_nm]\n",
    "                    # convert from percent to raw precision change\n",
    "                    old_val *= ds2standards[dataset]['SVD'][old_metric] / 100\n",
    "                    # multiply by k and the probability of clicks b/c we want to get from prec@5 to hits\n",
    "                    old_val *= k\n",
    "                    old_val *= num_users[dataset]\n",
    "                    if normalize_hits:\n",
    "                        old_val /= total_possible_hits\n",
    "                    metric2altalgo[new_metric][st_al_nm] = old_val\n",
    "                    metric2altalgo[labor_metric][st_al_nm] = old_val\n",
    "                    metric2altalgo[consumer_metric][st_al_nm] = old_val\n",
    "            df['increase_hit-ratio@{}_non-boycott'.format(k)] = [\n",
    "                boycott_val / strike_val for (boycott_val, strike_val) in zip(\n",
    "                    df[key_template.format(new_metric, 'non-boycott')], df[key_template.format(new_metric, 'all')])\n",
    "            ]\n",
    "            df['increase_hit-ratio@{}_all'.format(k)] = [\n",
    "                boycott_val / strike_val for (boycott_val, strike_val) in zip(\n",
    "                    df[key_template.format(new_metric, 'non-boycott')], df[key_template.format(new_metric, 'all')])\n",
    "            ]\n",
    "            #print(df[['num_users_boycotting', 'increase_hits-prec5t4_non-boycott', 'increase_hits-prec5t4_all', 'increase_hit-ratio@5_non-boycott']])\n"
   ]
  },
  {
   "cell_type": "markdown",
   "metadata": {
    "collapsed": true
   },
   "source": [
    "# Compare Precision-Estimated Hits to Actual Hits\n"
   ]
  },
  {
   "cell_type": "code",
   "execution_count": 262,
   "metadata": {
    "collapsed": true
   },
   "outputs": [],
   "source": [
    "\n",
    "# hits_df['increase_normhits_all'] *= num_users['ml-1m']\n",
    "# # hits_df['increase_normhits_non-boycott'] *= num_users['ml-1m']\n",
    "# print(hits_df['increase_' + hits_metric + '_all'].mean())\n",
    "# print(hits_df['percent_increase_1.1hits-prec10t4_all'].mean())"
   ]
  },
  {
   "cell_type": "code",
   "execution_count": 279,
   "metadata": {},
   "outputs": [
    {
     "name": "stdout",
     "output_type": "stream",
     "text": [
      "Max possible hits: 433200.0\n",
      "   num_users_boycotting              variable     value\n",
      "0                   0.5  normhits_non-boycott  0.753865\n",
      "1                   0.5  normhits_non-boycott  0.751763\n",
      "2                   0.5  normhits_non-boycott  0.754511\n",
      "3                   0.5  normhits_non-boycott  0.751006\n",
      "4                   0.5  normhits_non-boycott  0.755741\n"
     ]
    },
    {
     "name": "stderr",
     "output_type": "stream",
     "text": [
      "C:\\Users\\Nick\\Anaconda3\\lib\\site-packages\\scipy\\stats\\stats.py:1713: FutureWarning: Using a non-tuple sequence for multidimensional indexing is deprecated; use `arr[tuple(seq)]` instead of `arr[seq]`. In the future this will be interpreted as an array index, `arr[np.array(seq)]`, which will result either in an error or a different result.\n",
      "  return np.add.reduce(sorted[indexer] * weights, axis=axis) / sumval\n"
     ]
    },
    {
     "data": {
      "image/png": "[encoded data removed]",
      "text/plain": [
       "<Figure size 505.975x360 with 1 Axes>"
      ]
     },
     "metadata": {},
     "output_type": "display_data"
    }
   ],
   "source": [
    "hits_df = df_1m.copy()\n",
    "hits_df = hits_df[~hits_df.hits_all.isna()]\n",
    "hits_df = hits_df[hits_df.num_users_boycotting >= 0.5]\n",
    "#print(len(hits_df.index))\n",
    "hits_metric = 'normhits'\n",
    "metric2 = 'normhits'\n",
    "include = [\n",
    "    'num_users_boycotting', \n",
    "]\n",
    "hits_cols = [\n",
    "    #'increase_{}_all'.format(hits_metric), \n",
    "    '{}_non-boycott'.format(hits_metric),\n",
    "    #'{}_boycott'.format(hits_metric),\n",
    "]\n",
    "# for col in hits_cols:\n",
    "#     hits_df[col] *= 0.76 / 14.75#num_users['ml-1m']\n",
    "print('Max possible hits: {}'.format(1e6 * 0.57 * 0.76))\n",
    "\n",
    "plot_metric2 = False\n",
    "include += hits_cols\n",
    "if plot_metric2:\n",
    "    cols = [\n",
    "        #'increase_{}_all'.format(metric2), \n",
    "        '{}_non-boycott'.format(metric2),\n",
    "    ]\n",
    "\n",
    "    include += cols\n",
    "    \n",
    "hits_df = hits_df[include].melt(id_vars='num_users_boycotting')\n",
    "print(hits_df.head())\n",
    "\n",
    "# for k in hits_df.num_users_boycotting:\n",
    "#     print(k)\n",
    "#     matches_from_hits = hits_df[hits_df.num_users_boycotting == k]\n",
    "#     matches_from_orig = samples_df_1m[hits_df.num_users_boycotting == k]\n",
    "\n",
    "sns.lmplot(\n",
    "        x=\"num_users_boycotting\", y=\"value\", hue='variable', data=hits_df,\n",
    "        fit_reg=False,\n",
    "        x_estimator=np.mean, ci=99, \n",
    "    )\n",
    "plt.show()"
   ]
  },
  {
   "cell_type": "code",
   "execution_count": 196,
   "metadata": {},
   "outputs": [
    {
     "name": "stdout",
     "output_type": "stream",
     "text": [
      "0.00016556291390728477\n",
      "hits_all 14.750918535600654\n",
      "hits_non-boycott 14.750938333417619\n",
      "rec5t4_all 0.4415992626830811\n",
      "rec5t4_boycott 0.41747170541627493\n",
      "rec5t4_non-boycott 0.4416015648582976\n",
      "0.0004966887417218543\n",
      "hits_all 14.749955604039508\n",
      "hits_non-boycott 14.750234765740963\n",
      "rec5t4_all 0.44163792681057124\n",
      "rec5t4_boycott 0.4374639627916338\n",
      "rec5t4_non-boycott 0.4416401155739704\n",
      "0.0009933774834437086\n",
      "hits_all 14.749048055347483\n",
      "hits_non-boycott 14.749524867806272\n",
      "rec5t4_all 0.4416583200285246\n",
      "rec5t4_boycott 0.43371488567390226\n",
      "rec5t4_non-boycott 0.44166590712691317\n",
      "0.004966887417218543\n",
      "hits_all 14.74772249396996\n",
      "hits_non-boycott 14.749861855563244\n",
      "rec5t4_all 0.4415215818126192\n",
      "rec5t4_boycott 0.4381659567419388\n",
      "rec5t4_non-boycott 0.44153786981601173\n",
      "0.009933774834437087\n",
      "hits_all 14.744695712381958\n",
      "hits_non-boycott 14.748633729361563\n",
      "rec5t4_all 0.4414955147552229\n",
      "rec5t4_boycott 0.43685664387940715\n",
      "rec5t4_non-boycott 0.44154234269617165\n",
      "0.05\n",
      "hits_all 14.726838871919432\n",
      "hits_non-boycott 14.74205766357361\n",
      "rec5t4_all 0.4410523848921697\n",
      "rec5t4_boycott 0.4348710368919794\n",
      "rec5t4_non-boycott 0.4413771404911166\n",
      "0.1\n",
      "hits_all 14.705144026559555\n",
      "hits_non-boycott 14.728143062125863\n",
      "rec5t4_all 0.44057760476987656\n",
      "rec5t4_boycott 0.43482627340408486\n",
      "rec5t4_non-boycott 0.4412163508642742\n",
      "0.2\n",
      "hits_all 14.661814283766407\n",
      "hits_non-boycott 14.714223419451276\n",
      "rec5t4_all 0.4395465139451593\n",
      "rec5t4_boycott 0.4350187914074316\n",
      "rec5t4_non-boycott 0.44067906089889036\n",
      "0.3\n",
      "hits_all 14.619019318150103\n",
      "hits_non-boycott 14.683080147895536\n",
      "rec5t4_all 0.438547377397051\n",
      "rec5t4_boycott 0.43477507060433845\n",
      "rec5t4_non-boycott 0.44016467699643075\n",
      "0.4\n",
      "hits_all 14.57929515814542\n",
      "hits_non-boycott 14.664336046806616\n",
      "rec5t4_all 0.4376381329616587\n",
      "rec5t4_boycott 0.4351592648377434\n",
      "rec5t4_non-boycott 0.43929132461066994\n",
      "0.5\n",
      "hits_all 14.538750484921513\n",
      "hits_non-boycott 14.623859764306443\n",
      "rec5t4_all 0.4366872330310788\n",
      "rec5t4_boycott 0.4351266361356936\n",
      "rec5t4_non-boycott 0.43824621827530086\n",
      "0.6\n",
      "hits_all 14.500912809894666\n",
      "hits_non-boycott 14.600586627644542\n",
      "rec5t4_all 0.4358382178625053\n",
      "rec5t4_boycott 0.43502572958436425\n",
      "rec5t4_non-boycott 0.43705600687790336\n",
      "0.7\n",
      "hits_all 14.461621536719129\n",
      "hits_non-boycott 14.526090429186631\n",
      "rec5t4_all 0.43503712097209113\n",
      "rec5t4_boycott 0.43464521155226044\n",
      "rec5t4_non-boycott 0.4359527660816997\n",
      "0.8\n",
      "hits_all 14.414065312358524\n",
      "hits_non-boycott 14.460501341959642\n",
      "rec5t4_all 0.43400888735786436\n",
      "rec5t4_boycott 0.4341181224268399\n",
      "rec5t4_non-boycott 0.43357302258369596\n",
      "0.9\n",
      "hits_all 14.320507644956546\n",
      "hits_non-boycott 14.275840549625478\n",
      "rec5t4_all 0.4323257305431527\n",
      "rec5t4_boycott 0.43247261845113066\n",
      "rec5t4_non-boycott 0.4310026961146025\n",
      "0.9900662251655629\n",
      "hits_all 13.599086244721397\n",
      "hits_non-boycott 13.334152994350282\n",
      "rec5t4_all 0.4194176602354863\n",
      "rec5t4_boycott 0.4194875162737405\n",
      "rec5t4_non-boycott 0.41244822502676576\n",
      "defaultdict(<class 'list'>, {'hits_all': [14.750918535600654, 14.749955604039508, 14.749048055347483, 14.74772249396996, 14.744695712381958, 14.726838871919432, 14.705144026559555, 14.661814283766407, 14.619019318150103, 14.57929515814542, 14.538750484921513, 14.500912809894666, 14.461621536719129, 14.414065312358524, 14.320507644956546, 13.599086244721397], 'hits_non-boycott': [14.750938333417619, 14.750234765740963, 14.749524867806272, 14.749861855563244, 14.748633729361563, 14.74205766357361, 14.728143062125863, 14.714223419451276, 14.683080147895536, 14.664336046806616, 14.623859764306443, 14.600586627644542, 14.526090429186631, 14.460501341959642, 14.275840549625478, 13.334152994350282], 'rec5t4_all': [0.4415992626830811, 0.44163792681057124, 0.4416583200285246, 0.4415215818126192, 0.4414955147552229, 0.4410523848921697, 0.44057760476987656, 0.4395465139451593, 0.438547377397051, 0.4376381329616587, 0.4366872330310788, 0.4358382178625053, 0.43503712097209113, 0.43400888735786436, 0.4323257305431527, 0.4194176602354863], 'rec5t4_boycott': [0.41747170541627493, 0.4374639627916338, 0.43371488567390226, 0.4381659567419388, 0.43685664387940715, 0.4348710368919794, 0.43482627340408486, 0.4350187914074316, 0.43477507060433845, 0.4351592648377434, 0.4351266361356936, 0.43502572958436425, 0.43464521155226044, 0.4341181224268399, 0.43247261845113066, 0.4194875162737405], 'rec5t4_non-boycott': [0.4416015648582976, 0.4416401155739704, 0.44166590712691317, 0.44153786981601173, 0.44154234269617165, 0.4413771404911166, 0.4412163508642742, 0.44067906089889036, 0.44016467699643075, 0.43929132461066994, 0.43824621827530086, 0.43705600687790336, 0.4359527660816997, 0.43357302258369596, 0.4310026961146025, 0.41244822502676576]})\n"
     ]
    }
   ],
   "source": [
    "from collections import defaultdict\n",
    "name2vals = defaultdict(list)\n",
    "# hits_df = df_1m.copy()\n",
    "# hits_df = hits_df[~hits_df.hits_all.isna()].melt(id_vars='num_users_boycotting')\n",
    "for name, group in hits_df.groupby('num_users_boycotting'):\n",
    "    print(name)\n",
    "    for subname, subgroup in group.groupby('variable'):\n",
    "        print(subname, subgroup['value'].mean())\n",
    "        name2vals[subname].append(subgroup['value'].mean())\n",
    "        \n",
    "print(name2vals)"
   ]
  },
  {
   "cell_type": "code",
   "execution_count": 197,
   "metadata": {},
   "outputs": [
    {
     "name": "stdout",
     "output_type": "stream",
     "text": [
      "hits_all rec5t4_all\n",
      "(0.9970634565796186, 5.0100560999542666e-17)\n",
      "hits_non-boycott rec5t4_non-boycott\n",
      "(0.996309587186715, 2.475435819949853e-16)\n"
     ]
    },
    {
     "data": {
      "image/png": "[encoded data removed]",
      "text/plain": [
       "<Figure size 432x288 with 1 Axes>"
      ]
     },
     "metadata": {},
     "output_type": "display_data"
    }
   ],
   "source": [
    "from scipy.stats import pearsonr\n",
    "\n",
    "\n",
    "for group in [\n",
    "    'all', 'non-boycott',\n",
    "]:\n",
    "    x = '{}_{}'.format(hits_metric,group)\n",
    "    y = '{}_{}'.format(metric2, group)\n",
    "    print(x, y)\n",
    "    print(pearsonr(name2vals[x], name2vals[y]))\n",
    "    plt.plot(name2vals[x], name2vals[y])\n",
    "plt.show()"
   ]
  },
  {
   "cell_type": "markdown",
   "metadata": {},
   "source": [
    "## Seperate out our data\n",
    "We want to separate the simuated boycotts into homogenous vs. heterogenous boycotts."
   ]
  },
  {
   "cell_type": "code",
   "execution_count": 136,
   "metadata": {},
   "outputs": [
    {
     "name": "stdout",
     "output_type": "stream",
     "text": [
      "\n",
      "===Heterogenous 20M Boycotts===\n",
      "\n",
      "83096 user sample     60\n",
      "55397 user sample     60\n",
      "69246 user sample     60\n",
      "96945 user sample     60\n",
      "124644 user sample    60\n",
      "110794 user sample    60\n",
      "41548 user sample     60\n",
      "13849 user sample     60\n",
      "27699 user sample     60\n",
      "1385 user sample      60\n",
      "6925 user sample      50\n",
      "69 user sample        50\n",
      "137108 user sample    50\n",
      "14 user sample        50\n",
      "692 user sample       50\n",
      "138 user sample       50\n",
      "Name: name, dtype: int64\n",
      "\n",
      "===Heterogenous Boycotts===\n",
      "\n",
      "5436 user sample    250\n",
      "4228 user sample    250\n",
      "4832 user sample    250\n",
      "5980 user sample    250\n",
      "3 user sample       250\n",
      "1208 user sample    250\n",
      "1812 user sample    250\n",
      "60 user sample      250\n",
      "3624 user sample    250\n",
      "302 user sample     250\n",
      "2416 user sample    250\n",
      "1 user sample       250\n",
      "6 user sample       250\n",
      "604 user sample     250\n",
      "30 user sample      250\n",
      "3020 user sample    250\n",
      "Name: name, dtype: int64\n",
      "\n",
      "===Homogenous Boycotts===\n",
      "\n",
      "Series([], Name: name, dtype: int64)\n"
     ]
    }
   ],
   "source": [
    "samples_df_20m = df_20m[df_20m['type'] == 'sample_users']\n",
    "print('\\n===Heterogenous 20M Boycotts===\\n')\n",
    "print(samples_df_20m.name.value_counts())\n",
    "samples_df_1m = df_1m[df_1m['type'] == 'sample_users']\n",
    "print('\\n===Heterogenous Boycotts===\\n')\n",
    "print(samples_df_1m.name.value_counts())\n",
    "org_df = df_1m[df_1m['type'].isin(organized_experiments)]\n",
    "print('\\n===Homogenous Boycotts===\\n')\n",
    "print(org_df.name.value_counts())"
   ]
  },
  {
   "cell_type": "code",
   "execution_count": 137,
   "metadata": {},
   "outputs": [
    {
     "name": "stdout",
     "output_type": "stream",
     "text": [
      "1...\n",
      "0.9095580711427642\n",
      "nan\n",
      "0.9095580711427642\n"
     ]
    },
    {
     "ename": "KeyError",
     "evalue": "'ndcg10_frac_non-boycott'",
     "output_type": "error",
     "traceback": [
      "\u001b[1;31m---------------------------------------------------------------------------\u001b[0m",
      "\u001b[1;31mKeyError\u001b[0m                                  Traceback (most recent call last)",
      "\u001b[1;32mC:\\Users\\Nick\\Anaconda3\\lib\\site-packages\\pandas\\core\\indexes\\base.py\u001b[0m in \u001b[0;36mget_loc\u001b[1;34m(self, key, method, tolerance)\u001b[0m\n\u001b[0;32m   3077\u001b[0m             \u001b[1;32mtry\u001b[0m\u001b[1;33m:\u001b[0m\u001b[1;33m\u001b[0m\u001b[0m\n\u001b[1;32m-> 3078\u001b[1;33m                 \u001b[1;32mreturn\u001b[0m \u001b[0mself\u001b[0m\u001b[1;33m.\u001b[0m\u001b[0m_engine\u001b[0m\u001b[1;33m.\u001b[0m\u001b[0mget_loc\u001b[0m\u001b[1;33m(\u001b[0m\u001b[0mkey\u001b[0m\u001b[1;33m)\u001b[0m\u001b[1;33m\u001b[0m\u001b[0m\n\u001b[0m\u001b[0;32m   3079\u001b[0m             \u001b[1;32mexcept\u001b[0m \u001b[0mKeyError\u001b[0m\u001b[1;33m:\u001b[0m\u001b[1;33m\u001b[0m\u001b[0m\n",
      "\u001b[1;32mpandas/_libs/index.pyx\u001b[0m in \u001b[0;36mpandas._libs.index.IndexEngine.get_loc\u001b[1;34m()\u001b[0m\n",
      "\u001b[1;32mpandas/_libs/index.pyx\u001b[0m in \u001b[0;36mpandas._libs.index.IndexEngine.get_loc\u001b[1;34m()\u001b[0m\n",
      "\u001b[1;32mpandas/_libs/hashtable_class_helper.pxi\u001b[0m in \u001b[0;36mpandas._libs.hashtable.PyObjectHashTable.get_item\u001b[1;34m()\u001b[0m\n",
      "\u001b[1;32mpandas/_libs/hashtable_class_helper.pxi\u001b[0m in \u001b[0;36mpandas._libs.hashtable.PyObjectHashTable.get_item\u001b[1;34m()\u001b[0m\n",
      "\u001b[1;31mKeyError\u001b[0m: 'ndcg10_frac_non-boycott'",
      "\nDuring handling of the above exception, another exception occurred:\n",
      "\u001b[1;31mKeyError\u001b[0m                                  Traceback (most recent call last)",
      "\u001b[1;32m<ipython-input-137-36179ecb6588>\u001b[0m in \u001b[0;36m<module>\u001b[1;34m()\u001b[0m\n\u001b[0;32m      6\u001b[0m \u001b[0mprint\u001b[0m\u001b[1;33m(\u001b[0m\u001b[0msamples_df_1m\u001b[0m\u001b[1;33m[\u001b[0m\u001b[1;33m(\u001b[0m\u001b[0msamples_df_1m\u001b[0m\u001b[1;33m.\u001b[0m\u001b[0mindices\u001b[0m \u001b[1;33m==\u001b[0m \u001b[1;34m'251-to-500'\u001b[0m\u001b[1;33m)\u001b[0m \u001b[1;33m&\u001b[0m \u001b[1;33m(\u001b[0m\u001b[0msamples_df_1m\u001b[0m\u001b[1;33m.\u001b[0m\u001b[0mname\u001b[0m \u001b[1;33m==\u001b[0m \u001b[0mname\u001b[0m\u001b[1;33m)\u001b[0m\u001b[1;33m]\u001b[0m\u001b[1;33m[\u001b[0m\u001b[0mmetric\u001b[0m\u001b[1;33m]\u001b[0m\u001b[1;33m.\u001b[0m\u001b[0mmean\u001b[0m\u001b[1;33m(\u001b[0m\u001b[1;33m)\u001b[0m\u001b[1;33m)\u001b[0m\u001b[1;33m\u001b[0m\u001b[0m\n\u001b[0;32m      7\u001b[0m \u001b[0mprint\u001b[0m\u001b[1;33m(\u001b[0m\u001b[0msamples_df_1m\u001b[0m\u001b[1;33m[\u001b[0m\u001b[1;33m(\u001b[0m\u001b[0msamples_df_1m\u001b[0m\u001b[1;33m.\u001b[0m\u001b[0mname\u001b[0m \u001b[1;33m==\u001b[0m \u001b[0mname\u001b[0m\u001b[1;33m)\u001b[0m\u001b[1;33m]\u001b[0m\u001b[1;33m[\u001b[0m\u001b[0mmetric\u001b[0m\u001b[1;33m]\u001b[0m\u001b[1;33m.\u001b[0m\u001b[0mmean\u001b[0m\u001b[1;33m(\u001b[0m\u001b[1;33m)\u001b[0m\u001b[1;33m)\u001b[0m\u001b[1;33m\u001b[0m\u001b[0m\n\u001b[1;32m----> 8\u001b[1;33m \u001b[0mprint\u001b[0m\u001b[1;33m(\u001b[0m\u001b[0msamples_df_1m\u001b[0m\u001b[1;33m[\u001b[0m\u001b[1;33m(\u001b[0m\u001b[0msamples_df_1m\u001b[0m\u001b[1;33m.\u001b[0m\u001b[0mname\u001b[0m \u001b[1;33m==\u001b[0m \u001b[0mname\u001b[0m\u001b[1;33m)\u001b[0m\u001b[1;33m]\u001b[0m\u001b[1;33m[\u001b[0m\u001b[1;34m'ndcg10_frac_non-boycott'\u001b[0m\u001b[1;33m]\u001b[0m\u001b[1;33m.\u001b[0m\u001b[0mmean\u001b[0m\u001b[1;33m(\u001b[0m\u001b[1;33m)\u001b[0m\u001b[1;33m)\u001b[0m\u001b[1;33m\u001b[0m\u001b[0m\n\u001b[0m\u001b[0;32m      9\u001b[0m \u001b[1;33m\u001b[0m\u001b[0m\n\u001b[0;32m     10\u001b[0m \u001b[0mprint\u001b[0m\u001b[1;33m(\u001b[0m\u001b[1;34m'3...'\u001b[0m\u001b[1;33m)\u001b[0m\u001b[1;33m\u001b[0m\u001b[0m\n",
      "\u001b[1;32mC:\\Users\\Nick\\Anaconda3\\lib\\site-packages\\pandas\\core\\frame.py\u001b[0m in \u001b[0;36m__getitem__\u001b[1;34m(self, key)\u001b[0m\n\u001b[0;32m   2686\u001b[0m             \u001b[1;32mreturn\u001b[0m \u001b[0mself\u001b[0m\u001b[1;33m.\u001b[0m\u001b[0m_getitem_multilevel\u001b[0m\u001b[1;33m(\u001b[0m\u001b[0mkey\u001b[0m\u001b[1;33m)\u001b[0m\u001b[1;33m\u001b[0m\u001b[0m\n\u001b[0;32m   2687\u001b[0m         \u001b[1;32melse\u001b[0m\u001b[1;33m:\u001b[0m\u001b[1;33m\u001b[0m\u001b[0m\n\u001b[1;32m-> 2688\u001b[1;33m             \u001b[1;32mreturn\u001b[0m \u001b[0mself\u001b[0m\u001b[1;33m.\u001b[0m\u001b[0m_getitem_column\u001b[0m\u001b[1;33m(\u001b[0m\u001b[0mkey\u001b[0m\u001b[1;33m)\u001b[0m\u001b[1;33m\u001b[0m\u001b[0m\n\u001b[0m\u001b[0;32m   2689\u001b[0m \u001b[1;33m\u001b[0m\u001b[0m\n\u001b[0;32m   2690\u001b[0m     \u001b[1;32mdef\u001b[0m \u001b[0m_getitem_column\u001b[0m\u001b[1;33m(\u001b[0m\u001b[0mself\u001b[0m\u001b[1;33m,\u001b[0m \u001b[0mkey\u001b[0m\u001b[1;33m)\u001b[0m\u001b[1;33m:\u001b[0m\u001b[1;33m\u001b[0m\u001b[0m\n",
      "\u001b[1;32mC:\\Users\\Nick\\Anaconda3\\lib\\site-packages\\pandas\\core\\frame.py\u001b[0m in \u001b[0;36m_getitem_column\u001b[1;34m(self, key)\u001b[0m\n\u001b[0;32m   2693\u001b[0m         \u001b[1;31m# get column\u001b[0m\u001b[1;33m\u001b[0m\u001b[1;33m\u001b[0m\u001b[0m\n\u001b[0;32m   2694\u001b[0m         \u001b[1;32mif\u001b[0m \u001b[0mself\u001b[0m\u001b[1;33m.\u001b[0m\u001b[0mcolumns\u001b[0m\u001b[1;33m.\u001b[0m\u001b[0mis_unique\u001b[0m\u001b[1;33m:\u001b[0m\u001b[1;33m\u001b[0m\u001b[0m\n\u001b[1;32m-> 2695\u001b[1;33m             \u001b[1;32mreturn\u001b[0m \u001b[0mself\u001b[0m\u001b[1;33m.\u001b[0m\u001b[0m_get_item_cache\u001b[0m\u001b[1;33m(\u001b[0m\u001b[0mkey\u001b[0m\u001b[1;33m)\u001b[0m\u001b[1;33m\u001b[0m\u001b[0m\n\u001b[0m\u001b[0;32m   2696\u001b[0m \u001b[1;33m\u001b[0m\u001b[0m\n\u001b[0;32m   2697\u001b[0m         \u001b[1;31m# duplicate columns & possible reduce dimensionality\u001b[0m\u001b[1;33m\u001b[0m\u001b[1;33m\u001b[0m\u001b[0m\n",
      "\u001b[1;32mC:\\Users\\Nick\\Anaconda3\\lib\\site-packages\\pandas\\core\\generic.py\u001b[0m in \u001b[0;36m_get_item_cache\u001b[1;34m(self, item)\u001b[0m\n\u001b[0;32m   2487\u001b[0m         \u001b[0mres\u001b[0m \u001b[1;33m=\u001b[0m \u001b[0mcache\u001b[0m\u001b[1;33m.\u001b[0m\u001b[0mget\u001b[0m\u001b[1;33m(\u001b[0m\u001b[0mitem\u001b[0m\u001b[1;33m)\u001b[0m\u001b[1;33m\u001b[0m\u001b[0m\n\u001b[0;32m   2488\u001b[0m         \u001b[1;32mif\u001b[0m \u001b[0mres\u001b[0m \u001b[1;32mis\u001b[0m \u001b[1;32mNone\u001b[0m\u001b[1;33m:\u001b[0m\u001b[1;33m\u001b[0m\u001b[0m\n\u001b[1;32m-> 2489\u001b[1;33m             \u001b[0mvalues\u001b[0m \u001b[1;33m=\u001b[0m \u001b[0mself\u001b[0m\u001b[1;33m.\u001b[0m\u001b[0m_data\u001b[0m\u001b[1;33m.\u001b[0m\u001b[0mget\u001b[0m\u001b[1;33m(\u001b[0m\u001b[0mitem\u001b[0m\u001b[1;33m)\u001b[0m\u001b[1;33m\u001b[0m\u001b[0m\n\u001b[0m\u001b[0;32m   2490\u001b[0m             \u001b[0mres\u001b[0m \u001b[1;33m=\u001b[0m \u001b[0mself\u001b[0m\u001b[1;33m.\u001b[0m\u001b[0m_box_item_values\u001b[0m\u001b[1;33m(\u001b[0m\u001b[0mitem\u001b[0m\u001b[1;33m,\u001b[0m \u001b[0mvalues\u001b[0m\u001b[1;33m)\u001b[0m\u001b[1;33m\u001b[0m\u001b[0m\n\u001b[0;32m   2491\u001b[0m             \u001b[0mcache\u001b[0m\u001b[1;33m[\u001b[0m\u001b[0mitem\u001b[0m\u001b[1;33m]\u001b[0m \u001b[1;33m=\u001b[0m \u001b[0mres\u001b[0m\u001b[1;33m\u001b[0m\u001b[0m\n",
      "\u001b[1;32mC:\\Users\\Nick\\Anaconda3\\lib\\site-packages\\pandas\\core\\internals.py\u001b[0m in \u001b[0;36mget\u001b[1;34m(self, item, fastpath)\u001b[0m\n\u001b[0;32m   4113\u001b[0m \u001b[1;33m\u001b[0m\u001b[0m\n\u001b[0;32m   4114\u001b[0m             \u001b[1;32mif\u001b[0m \u001b[1;32mnot\u001b[0m \u001b[0misna\u001b[0m\u001b[1;33m(\u001b[0m\u001b[0mitem\u001b[0m\u001b[1;33m)\u001b[0m\u001b[1;33m:\u001b[0m\u001b[1;33m\u001b[0m\u001b[0m\n\u001b[1;32m-> 4115\u001b[1;33m                 \u001b[0mloc\u001b[0m \u001b[1;33m=\u001b[0m \u001b[0mself\u001b[0m\u001b[1;33m.\u001b[0m\u001b[0mitems\u001b[0m\u001b[1;33m.\u001b[0m\u001b[0mget_loc\u001b[0m\u001b[1;33m(\u001b[0m\u001b[0mitem\u001b[0m\u001b[1;33m)\u001b[0m\u001b[1;33m\u001b[0m\u001b[0m\n\u001b[0m\u001b[0;32m   4116\u001b[0m             \u001b[1;32melse\u001b[0m\u001b[1;33m:\u001b[0m\u001b[1;33m\u001b[0m\u001b[0m\n\u001b[0;32m   4117\u001b[0m                 \u001b[0mindexer\u001b[0m \u001b[1;33m=\u001b[0m \u001b[0mnp\u001b[0m\u001b[1;33m.\u001b[0m\u001b[0marange\u001b[0m\u001b[1;33m(\u001b[0m\u001b[0mlen\u001b[0m\u001b[1;33m(\u001b[0m\u001b[0mself\u001b[0m\u001b[1;33m.\u001b[0m\u001b[0mitems\u001b[0m\u001b[1;33m)\u001b[0m\u001b[1;33m)\u001b[0m\u001b[1;33m[\u001b[0m\u001b[0misna\u001b[0m\u001b[1;33m(\u001b[0m\u001b[0mself\u001b[0m\u001b[1;33m.\u001b[0m\u001b[0mitems\u001b[0m\u001b[1;33m)\u001b[0m\u001b[1;33m]\u001b[0m\u001b[1;33m\u001b[0m\u001b[0m\n",
      "\u001b[1;32mC:\\Users\\Nick\\Anaconda3\\lib\\site-packages\\pandas\\core\\indexes\\base.py\u001b[0m in \u001b[0;36mget_loc\u001b[1;34m(self, key, method, tolerance)\u001b[0m\n\u001b[0;32m   3078\u001b[0m                 \u001b[1;32mreturn\u001b[0m \u001b[0mself\u001b[0m\u001b[1;33m.\u001b[0m\u001b[0m_engine\u001b[0m\u001b[1;33m.\u001b[0m\u001b[0mget_loc\u001b[0m\u001b[1;33m(\u001b[0m\u001b[0mkey\u001b[0m\u001b[1;33m)\u001b[0m\u001b[1;33m\u001b[0m\u001b[0m\n\u001b[0;32m   3079\u001b[0m             \u001b[1;32mexcept\u001b[0m \u001b[0mKeyError\u001b[0m\u001b[1;33m:\u001b[0m\u001b[1;33m\u001b[0m\u001b[0m\n\u001b[1;32m-> 3080\u001b[1;33m                 \u001b[1;32mreturn\u001b[0m \u001b[0mself\u001b[0m\u001b[1;33m.\u001b[0m\u001b[0m_engine\u001b[0m\u001b[1;33m.\u001b[0m\u001b[0mget_loc\u001b[0m\u001b[1;33m(\u001b[0m\u001b[0mself\u001b[0m\u001b[1;33m.\u001b[0m\u001b[0m_maybe_cast_indexer\u001b[0m\u001b[1;33m(\u001b[0m\u001b[0mkey\u001b[0m\u001b[1;33m)\u001b[0m\u001b[1;33m)\u001b[0m\u001b[1;33m\u001b[0m\u001b[0m\n\u001b[0m\u001b[0;32m   3081\u001b[0m \u001b[1;33m\u001b[0m\u001b[0m\n\u001b[0;32m   3082\u001b[0m         \u001b[0mindexer\u001b[0m \u001b[1;33m=\u001b[0m \u001b[0mself\u001b[0m\u001b[1;33m.\u001b[0m\u001b[0mget_indexer\u001b[0m\u001b[1;33m(\u001b[0m\u001b[1;33m[\u001b[0m\u001b[0mkey\u001b[0m\u001b[1;33m]\u001b[0m\u001b[1;33m,\u001b[0m \u001b[0mmethod\u001b[0m\u001b[1;33m=\u001b[0m\u001b[0mmethod\u001b[0m\u001b[1;33m,\u001b[0m \u001b[0mtolerance\u001b[0m\u001b[1;33m=\u001b[0m\u001b[0mtolerance\u001b[0m\u001b[1;33m)\u001b[0m\u001b[1;33m\u001b[0m\u001b[0m\n",
      "\u001b[1;32mpandas/_libs/index.pyx\u001b[0m in \u001b[0;36mpandas._libs.index.IndexEngine.get_loc\u001b[1;34m()\u001b[0m\n",
      "\u001b[1;32mpandas/_libs/index.pyx\u001b[0m in \u001b[0;36mpandas._libs.index.IndexEngine.get_loc\u001b[1;34m()\u001b[0m\n",
      "\u001b[1;32mpandas/_libs/hashtable_class_helper.pxi\u001b[0m in \u001b[0;36mpandas._libs.hashtable.PyObjectHashTable.get_item\u001b[1;34m()\u001b[0m\n",
      "\u001b[1;32mpandas/_libs/hashtable_class_helper.pxi\u001b[0m in \u001b[0;36mpandas._libs.hashtable.PyObjectHashTable.get_item\u001b[1;34m()\u001b[0m\n",
      "\u001b[1;31mKeyError\u001b[0m: 'ndcg10_frac_non-boycott'"
     ]
    }
   ],
   "source": [
    "# bonus\n",
    "metric = 'ndcgfull_non-boycott'\n",
    "print('1...')\n",
    "name = '1 user sample'\n",
    "print(samples_df_1m[(samples_df_1m.indices == '1-to-250') & (samples_df_1m.name == name)][metric].mean())\n",
    "print(samples_df_1m[(samples_df_1m.indices == '251-to-500') & (samples_df_1m.name == name)][metric].mean())\n",
    "print(samples_df_1m[(samples_df_1m.name == name)][metric].mean())\n",
    "print(samples_df_1m[(samples_df_1m.name == name)]['ndcg10_frac_non-boycott'].mean())\n",
    "\n",
    "print('3...')\n",
    "name = '3 user sample'\n",
    "print(samples_df_1m[(samples_df_1m.indices == '1-to-250') & (samples_df_1m.name == name)][metric].mean())\n",
    "print(samples_df_1m[(samples_df_1m.indices == '251-to-500') & (samples_df_1m.name == name)][metric].mean())\n",
    "print(samples_df_1m[(samples_df_1m.name == name)][metric].mean())\n",
    "print(samples_df_1m[(samples_df_1m.name == name)]['ndcg10_frac_non-boycott'].mean())\n",
    "\n",
    "print('6')\n",
    "name = '6 user sample'\n",
    "print(samples_df_1m[(samples_df_1m.indices == '1-to-250') & (samples_df_1m.name == name)][metric].mean())\n",
    "print(samples_df_1m[(samples_df_1m.indices == '251-to-500') & (samples_df_1m.name == name)][metric].mean())\n",
    "print(samples_df_1m[(samples_df_1m.name == name)][metric].mean())\n",
    "print(samples_df_1m[(samples_df_1m.name == name)]['ndcg10_frac_non-boycott'].mean())\n",
    "\n",
    "print('30')\n",
    "name = '30 user sample'\n",
    "print(samples_df_1m[(samples_df_1m.indices == '1-to-250') & (samples_df_1m.name == name)][metric].mean())\n",
    "print(samples_df_1m[(samples_df_1m.indices == '251-to-500') & (samples_df_1m.name == name)][metric].mean())\n",
    "print(samples_df_1m[(samples_df_1m.name == name)][metric].mean())\n",
    "print(samples_df_1m[(samples_df_1m.name == name)]['ndcg10_frac_non-boycott'].mean())"
   ]
  },
  {
   "cell_type": "markdown",
   "metadata": {},
   "source": [
    "## Clean up the homogenous boycott \"name\" columns\n",
    "This is helpful because our homogenous boycott plots are going to very cluttered. We want to remove as much text as possible without making the plots too confusing."
   ]
  },
  {
   "cell_type": "code",
   "execution_count": 138,
   "metadata": {},
   "outputs": [],
   "source": [
    "org_df.name = [\n",
    "    x.replace('excluded', '')\n",
    "    .replace('users from', '')\n",
    "    .replace('using threshold 4', '')\n",
    "    .replace('Top 10% contributors', 'power users')\n",
    "    .strip()\n",
    "    .lower()\n",
    "    for x in list(org_df.name)\n",
    "]\n",
    "# can ignore the below warning, the code in this cell works"
   ]
  },
  {
   "cell_type": "markdown",
   "metadata": {},
   "source": [
    "## Data Manipulating Helpers\n",
    "In the following two cells, we define two functions (`select_cols` and `fill_in_longform`) that will help with general purpose manipulating of our result data."
   ]
  },
  {
   "cell_type": "code",
   "execution_count": 139,
   "metadata": {
    "collapsed": true
   },
   "outputs": [],
   "source": [
    "def select_cols(cols, metrics, groups, percents):\n",
    "    \"\"\"\n",
    "    take a list of cols and filter based on metrics/groups/percents\n",
    "    \n",
    "    The returned columns must match all the metrics and groups passed\n",
    "    if percents is True, return columns with \"percent\" in the name\n",
    "    if percents is False return only columns without \"percent\" in the name\n",
    "    \n",
    "    returns a list of cols\n",
    "    \"\"\"\n",
    "    increase_cols = [\n",
    "        x for x in cols if 'increase' in x and (any(metric == x.split('_')[-2] for metric in metrics))\n",
    "    ]\n",
    "    \n",
    "    increase_cols = [\n",
    "        x for x in increase_cols if any(group == x.split('_')[-1] for group in groups)\n",
    "    ]\n",
    "    if percents:\n",
    "        increase_cols = [x for x in increase_cols if 'percent' in x]\n",
    "    else:\n",
    "        increase_cols = [x for x in increase_cols if 'percent' not in x]\n",
    "    return increase_cols"
   ]
  },
  {
   "cell_type": "code",
   "execution_count": 140,
   "metadata": {
    "collapsed": true
   },
   "outputs": [],
   "source": [
    "def fill_in_longform(df):\n",
    "    \"\"\"\n",
    "    Fill in a longform dataframe with metric, group, and name information\n",
    "    \"\"\"\n",
    "    df = df.assign(\n",
    "        metric=[x.split('_')[-2] for x in df.increase_type]\n",
    "    )\n",
    "    df = df.assign(\n",
    "        group=[x.split('_')[-1] for x in df.increase_type]\n",
    "    )\n",
    "    return df\n",
    "    "
   ]
  },
  {
   "cell_type": "code",
   "execution_count": 141,
   "metadata": {
    "collapsed": true
   },
   "outputs": [],
   "source": [
    "metric2title = {\n",
    "    'ndcg10': 'NDCG@10',\n",
    "    '2hits-prec5t4': 'Loss in Precision@5-estimated hits, pb=2',\n",
    "    '4hits-prec5t4': 'Loss in Precision@5-estimated hits, pb=4',\n",
    "    '2hits-ndcg10': 'Loss in ndcg@10-estimated hits, pb=2',\n",
    "    'labor-hits-prec5t4': 'Loss in hits from data labor power',\n",
    "    'consumer-hits-prec5t4': 'Loss in hits from consumer power',\n",
    "    'rmse': 'RMSE',\n",
    "    'prec10t4': 'Precision'\n",
    "}"
   ]
  },
  {
   "cell_type": "code",
   "execution_count": 142,
   "metadata": {
    "collapsed": true
   },
   "outputs": [],
   "source": [
    "def p_b_curve(\n",
    "        df, dataset, metrics, groups,\n",
    "        percents=False, normalize=True,\n",
    "        reg_plot=False, hue='group', row='metric', col='algo_name',\n",
    "        show_interp=False, legend=True,\n",
    "        ylabel=\"\", plot_horiz_lines=True, height=5,\n",
    "        title_template='Recommender {} vs. Size of Boycott for {}',\n",
    "        aspect=1, palette={'all': 'b', 'non-boycott': 'g'},\n",
    "        label_map = {\n",
    "            'all': 'Strike',\n",
    "            'non-boycott': 'Boycott',\n",
    "        }\n",
    "    ):\n",
    "    \"\"\"\n",
    "    Plots a performance vs. boycott size (P v B) curve\n",
    "    \n",
    "    Args:\n",
    "        df - the dataframe to use for plotting the pb curve\n",
    "        metrics - which metrics to plot the curve for.\n",
    "        groups - which groups to include.\n",
    "          for each metric, \n",
    "        percents - show the Y-axis in percent change or raw change. Set this True for percent change.\n",
    "        normalize - should we normalize the y-axis relative to MovieMean (no personalization)\n",
    "        reg_plot - ?\n",
    "        hue - which facet to use to determine hue. default is group\n",
    "          (each group will appear as a separate (distinctly colored) trajectory on each plot)\n",
    "        row - which facet to use to split plots into different rows. default is metric.\n",
    "        save - should we save a PNG file?\n",
    "        show_interp - include the interpolated function on this plot?\n",
    "        \n",
    "    Returns:\n",
    "        ?\n",
    "    \"\"\"\n",
    "    algo_to_metric_to_altalgo = dataset_to_algo_to_metric_to_altalgo[dataset]\n",
    "    \n",
    "    algo_names = list(set(df.algo_name))\n",
    "    df = df.copy()\n",
    "    algo_to_metric_to_group_to = defaultdict(lambda: defaultdict(lambda: defaultdict(dict)))\n",
    "\n",
    "    increase_cols = select_cols(list(df.columns.values), metrics, groups, percents)\n",
    "    #increase_cols = [x for x in increase_cols if 'vanilla' not in x]\n",
    "    print(increase_cols)\n",
    "    if normalize:\n",
    "        for metric in metrics:\n",
    "            for algo_name in algo_names:\n",
    "                movie_val = abs(algo_to_metric_to_altalgo[algo_name][\n",
    "                    metric.replace('coverage-weighted-', '')\n",
    "                ]['MovieMean'])           \n",
    "                for increase_col in increase_cols:\n",
    "                    if increase_col.split('_')[-2] == metric:\n",
    "                        df.loc[df.algo_name == algo_name, increase_col] /= movie_val\n",
    "    \n",
    "    longform = df[increase_cols + id_vars].melt(\n",
    "        id_vars = id_vars,\n",
    "        var_name='increase_type'\n",
    "    )\n",
    "    longform = fill_in_longform(longform)\n",
    "\n",
    "    grid = sns.lmplot(\n",
    "        x=\"num_users_boycotting\", y=\"value\", hue=hue, data=longform,\n",
    "        sharey='row', sharex='col',\n",
    "        height=height, \n",
    "        aspect=aspect,\n",
    "        row=row, col=col,\n",
    "        fit_reg=False,\n",
    "        x_estimator=np.mean, ci=99, \n",
    "        palette=palette,\n",
    "        legend=legend,\n",
    "        legend_out=True\n",
    "    )\n",
    "\n",
    "    algo_to_size_to_decreases = defaultdict(lambda: defaultdict(list))\n",
    "    for metric in metrics:\n",
    "        for algo_name in algo_names:\n",
    "            filt = df[df.algo_name == algo_name]\n",
    "            for group in groups:\n",
    "                key = 'increase_{}_{}'.format(metric, group)\n",
    "                if percents:\n",
    "                    key = 'percent_' + key\n",
    "                x = filt.num_users_boycotting\n",
    "                user_nums = sorted(list(set(filt.num_users_boycotting)))\n",
    "                nrm_rounded = sorted(list(set(filt.nrm_rounded)))\n",
    "                y = filt[key]\n",
    "\n",
    "                num_to_mean = OrderedDict()\n",
    "                rounded_num_to_mean = OrderedDict()\n",
    "                for num_users_boycotting in user_nums:\n",
    "                    filt_by_name = filt[filt.num_users_boycotting == num_users_boycotting]\n",
    "                    num_to_mean[num_users_boycotting] = np.mean(filt_by_name[key])\n",
    "                    rounded_num_to_mean[round(num_users_boycotting, 2)] = np.mean(filt_by_name[key])\n",
    "                nrm_rounded_to_mean = OrderedDict()\n",
    "                for num in nrm_rounded:\n",
    "                    filt_by_nrm = filt[filt.nrm_rounded == num]\n",
    "                    nrm_rounded_to_mean[num] = np.mean(filt_by_nrm[key])\n",
    "\n",
    "                if group == 'non-boycott':\n",
    "                    for num in [\n",
    "                        0.1, 0.2, 0.3,\n",
    "                    ]:\n",
    "                        \n",
    "                        val_nb = rounded_num_to_mean.get(num)\n",
    "                        if val_nb is None:\n",
    "                            continue\n",
    "                        val_all = np.mean(filt[filt.num_users_boycotting == num][key.replace('non-boycott', 'all')])\n",
    "                        print(\n",
    "                            'Algo:{}  |  Metric:{}  |  #users:{}'.format(\n",
    "                                algo_name, metric, num, \n",
    "                            )\n",
    "                        )\n",
    "                        print('NB Val:{}  |  ALL val:{}'.format(\n",
    "                            val_nb,\n",
    "                            val_all\n",
    "                        ))\n",
    "                        if percents is False:\n",
    "                            try:\n",
    "                                ratio_nb = val_nb / algo_to_metric_to_altalgo[algo_name][metric]['MovieMean']\n",
    "                                ratio_all = val_all / algo_to_metric_to_altalgo[algo_name][metric]['MovieMean']\n",
    "\n",
    "                                print('ratio_nb: {}  |  ratio_all:{}'.format(\n",
    "                                    ratio_nb,\n",
    "                                    ratio_all,\n",
    "                                ))\n",
    "                            except KeyError:\n",
    "                                print('Metric {} has no MovieMean comparison.'.format(metric))\n",
    "                        algo_to_size_to_decreases[algo_name][num].append(val_nb)\n",
    "                meany = np.array(list(num_to_mean.values()))\n",
    "                meany_ratings = np.array(list(nrm_rounded_to_mean.values()))\n",
    "\n",
    "                algo_to_metric_to_group_to[algo_name][metric][group]['x'] = user_nums\n",
    "                algo_to_metric_to_group_to[algo_name][metric][group]['y'] = meany\n",
    "\n",
    "                smoothf_ratings = interp1d(nrm_rounded, meany_ratings, kind='quadratic', bounds_error=False, fill_value='extrapolate')\n",
    "                algo_to_metric_to_group_to[algo_name][metric][group]['interp_ratings'] = smoothf_ratings\n",
    "                algo_to_metric_to_group_to[algo_name][metric][group]['max_user_units'] = max(user_nums)\n",
    "                algo_to_metric_to_group_to[algo_name][metric][group]['xnew_ratings'] = np.linspace(\n",
    "                    min(filt.num_ratings_missing), max(filt.num_ratings_missing), num=1000)\n",
    "\n",
    "    if plot_horiz_lines:        \n",
    "        for x in grid.facet_data():\n",
    "            i_row, i_col, i_hue = x[0]\n",
    "            metric = grid.row_names[i_row]\n",
    "            algo_name = grid.col_names[i_col]\n",
    "            group = grid.hue_names[i_hue]\n",
    "\n",
    "            lines_caption = \"\"\n",
    "\n",
    "            lines = {}\n",
    "\n",
    "            metric_key = metric.replace('coverage-weighted-', '')\n",
    "            lines['MovieMean'] = {\n",
    "                # needs to handle the coverage-weighted mtrics\n",
    "                'value': algo_to_metric_to_altalgo[algo_name][metric_key]['MovieMean'],\n",
    "                'color': '0.3',\n",
    "                'name': 'MovieMean',\n",
    "                'linestyle': '-'\n",
    "            }\n",
    "            lines['Zero'] = {\n",
    "                'value': 0,\n",
    "                'color': '0.3',\n",
    "                'name': 'Zero',\n",
    "                'linestyle': '-'\n",
    "            }\n",
    "\n",
    "            lines['KNNBasic_item_msd'] = {\n",
    "                'value': algo_to_metric_to_altalgo[algo_name][metric_key]['KNNBasic_item_msd'],\n",
    "                'color': 'r',\n",
    "                'name': 'Item KNN (1999)',\n",
    "                'linestyle': ':'\n",
    "            }\n",
    "            lines['KNNBaseline_item_msd'] = {\n",
    "                'value': algo_to_metric_to_altalgo[algo_name][metric_key]['KNNBaseline_item_msd'],\n",
    "                'color': 'y',\n",
    "                'name': 'Item KNN + Baselines: 2010',\n",
    "                'linestyle': ':',\n",
    "            }\n",
    "            if dataset == 'ml-1m':\n",
    "                lines['KNNBasic_user_msd'] = {\n",
    "                    'value': algo_to_metric_to_altalgo[algo_name][metric_key]['KNNBasic_user_msd'],\n",
    "                    'color': 'c',\n",
    "                    'name': 'User KNN (1994)',\n",
    "                    'linestyle': ':'\n",
    "                }\n",
    "            elif dataset == 'ml-20m':\n",
    "                try:\n",
    "                    lines['1M_SVD'] = {\n",
    "                        'value': algo_to_metric_to_altalgo[algo_name][metric_key]['1M_SVD'],\n",
    "                        'color': '0.3',\n",
    "                        'name': 'ml-1m SVD',\n",
    "                        'linestyle': ':'\n",
    "                    }\n",
    "                except:\n",
    "                    pass\n",
    "\n",
    "            if normalize:\n",
    "                norm_val = abs(algo_to_metric_to_altalgo[algo_name][metric_key]['MovieMean'])\n",
    "                for key in lines.keys():\n",
    "                    lines[key]['value'] /= norm_val\n",
    "\n",
    "            ax = grid.axes[i_row, i_col]\n",
    "\n",
    "            if normalize and metric == 'ndcg10':\n",
    "                if dataset == 'ml-1m':\n",
    "                    ax.set(ylim=(-1.6, 0.1))\n",
    "                elif dataset == 'ml-20m':\n",
    "                    ax.set(ylim=(-1.2, 0.1))\n",
    "\n",
    "            linestyle = '-' if group  != 'all' else '--'\n",
    "\n",
    "            ax.plot(\n",
    "                algo_to_metric_to_group_to[algo_name][metric][group]['x'],\n",
    "                algo_to_metric_to_group_to[algo_name][metric][group]['y'],\n",
    "                linestyle=linestyle, color=grid._colors[i_hue]\n",
    "            )\n",
    "            if show_interp:\n",
    "                xnew_ratings = algo_to_metric_to_group_to[algo_name][metric][group]['xnew_ratings']\n",
    "                ynew_ratings = algo_to_metric_to_group_to[algo_name][metric][group]['interp_ratings'](xnew_ratings)\n",
    "                ax.plot(\n",
    "                    xnew_ratings * algo_to_metric_to_group_to[algo_name][metric][group]['max_user_units'] / num_ratings[dataset],\n",
    "                    ynew_ratings, '-')\n",
    "\n",
    "            plt.setp(ax.get_xticklabels(), visible=True, rotation=45)\n",
    "            \n",
    "            # add conditional here, don't alway make a title\n",
    "            metric4title = metric2title[metric]\n",
    "            ax.set_title(\n",
    "                title_template.format(\n",
    "                    metric4title, dataset.upper())\n",
    "            )\n",
    "            if percents:\n",
    "                for line in lines.values():\n",
    "                    ax.axhline(line['value'], color=line['color'], linestyle=line['linestyle'])\n",
    "                    #ax.text(0.7, line['value'] + 0.05, line['name'])\n",
    "                    lines_caption += \"{} colored line (value of {}) shows comparison with {}\\n\".format(\n",
    "                        line['color'], line['value'], line['name']\n",
    "                    )\n",
    "\n",
    "    plt.subplots_adjust(hspace=0.2)\n",
    "    algo_to_size_to_mean_dec = defaultdict(dict)\n",
    "    for algo_name, size2dec in algo_to_size_to_decreases.items():\n",
    "        for size, decs in size2dec.items():\n",
    "            algo_to_size_to_mean_dec[algo_name][size] = np.mean(decs)\n",
    "    print('=====\\nSize to Mean Decrease')\n",
    "    pprint(algo_to_size_to_mean_dec)\n",
    "                   \n",
    "    grid.set_xlabels('Fraction of users boycotting')\n",
    "    grid.set_ylabels(ylabel)\n",
    "    if label_map:\n",
    "        if grid._legend:\n",
    "            for t in grid._legend.texts:\n",
    "                t.set_text(label_map[t.get_text()])\n",
    "            grid._legend.set_title('')\n",
    "    return algo_to_metric_to_group_to"
   ]
  },
  {
   "cell_type": "markdown",
   "metadata": {},
   "source": [
    "# Plot hits here"
   ]
  },
  {
   "cell_type": "code",
   "execution_count": 143,
   "metadata": {},
   "outputs": [
    {
     "name": "stdout",
     "output_type": "stream",
     "text": [
      "['percent_increase_2hits-prec5t4_non-boycott', 'percent_increase_2hits-prec5t4_all', 'percent_increase_4hits-prec5t4_non-boycott', 'percent_increase_4hits-prec5t4_all']\n"
     ]
    },
    {
     "name": "stderr",
     "output_type": "stream",
     "text": [
      "C:\\Users\\Nick\\Anaconda3\\lib\\site-packages\\scipy\\stats\\stats.py:1713: FutureWarning: Using a non-tuple sequence for multidimensional indexing is deprecated; use `arr[tuple(seq)]` instead of `arr[seq]`. In the future this will be interpreted as an array index, `arr[np.array(seq)]`, which will result either in an error or a different result.\n",
      "  return np.add.reduce(sorted[indexer] * weights, axis=axis) / sumval\n"
     ]
    },
    {
     "name": "stdout",
     "output_type": "stream",
     "text": [
      "Algo:SVD  |  Metric:2hits-prec5t4  |  #users:0.1\n",
      "NB Val:-0.16141580423809926  |  ALL val:-0.11454821212796516\n",
      "Algo:SVD  |  Metric:2hits-prec5t4  |  #users:0.2\n",
      "NB Val:-0.2794295054898711  |  ALL val:-0.18844153763007218\n",
      "Algo:SVD  |  Metric:2hits-prec5t4  |  #users:0.3\n",
      "NB Val:-0.398688639789073  |  ALL val:-0.2620818064564752\n",
      "Algo:SVD  |  Metric:4hits-prec5t4  |  #users:0.1\n",
      "NB Val:-0.19212370635714904  |  ALL val:-0.1718223181919479\n",
      "Algo:SVD  |  Metric:4hits-prec5t4  |  #users:0.2\n",
      "NB Val:-0.319144258234807  |  ALL val:-0.28266230644510837\n",
      "Algo:SVD  |  Metric:4hits-prec5t4  |  #users:0.3\n",
      "NB Val:-0.4480329596836093  |  ALL val:-0.39312270968471263\n",
      "=====\n",
      "Size to Mean Decrease\n",
      "defaultdict(<class 'dict'>,\n",
      "            {'SVD': {0.1: -0.17676975529762415,\n",
      "                     0.2: -0.2992868818623391,\n",
      "                     0.3: -0.4233607997363411}})\n"
     ]
    },
    {
     "data": {
      "image/png": "[encoded data removed]",
      "text/plain": [
       "<Figure size 1399.6x216 with 2 Axes>"
      ]
     },
     "metadata": {},
     "output_type": "display_data"
    }
   ],
   "source": [
    "_ = p_b_curve(\n",
    "    samples_df_1m[samples_df_1m.algo_name == 'SVD'], 'ml-1m',\n",
    "    show_interp=False,\n",
    "    percents=True, normalize=False,\n",
    "    metrics=[\n",
    "        '2hits-prec5t4',\n",
    "        #'2hits-ndcg10',\n",
    "        '4hits-prec5t4',\n",
    "#         'labor-hits-prec5t4',\n",
    "#         'consumer-hits-prec5t4',\n",
    "        \n",
    "    ],\n",
    "    groups=['all', 'non-boycott'],\n",
    "    hue='metric', col='group', row='algo_name',\n",
    "    legend=True, \n",
    "    ylabel='Change in Hits',\n",
    "    title_template='{} vs. Boycott Size for {}',\n",
    "    height=3, aspect=3,\n",
    "    label_map=None, palette=None, plot_horiz_lines=False,\n",
    ")\n",
    "plt.savefig('ml-1m_hits.svg', bbox_inches='tight', dpi=300)\n",
    "plt.show()"
   ]
  },
  {
   "cell_type": "code",
   "execution_count": 144,
   "metadata": {},
   "outputs": [
    {
     "name": "stdout",
     "output_type": "stream",
     "text": [
      "['percent_increase_labor-2hits-prec5t4_non-boycott', 'percent_increase_consumer-2hits-prec5t4_non-boycott', 'percent_increase_2hits-prec5t4_non-boycott', 'percent_increase_labor-2hits-prec5t4_all', 'percent_increase_consumer-2hits-prec5t4_all', 'percent_increase_2hits-prec5t4_all']\n"
     ]
    },
    {
     "name": "stderr",
     "output_type": "stream",
     "text": [
      "C:\\Users\\Nick\\Anaconda3\\lib\\site-packages\\scipy\\stats\\stats.py:1713: FutureWarning: Using a non-tuple sequence for multidimensional indexing is deprecated; use `arr[tuple(seq)]` instead of `arr[seq]`. In the future this will be interpreted as an array index, `arr[np.array(seq)]`, which will result either in an error or a different result.\n",
      "  return np.add.reduce(sorted[indexer] * weights, axis=axis) / sumval\n"
     ]
    },
    {
     "name": "stdout",
     "output_type": "stream",
     "text": [
      "Algo:SVD  |  Metric:2hits-prec5t4  |  #users:0.1\n",
      "NB Val:-0.16141580423809926  |  ALL val:-0.11454821212796516\n",
      "Algo:SVD  |  Metric:2hits-prec5t4  |  #users:0.2\n",
      "NB Val:-0.2794295054898711  |  ALL val:-0.18844153763007218\n",
      "Algo:SVD  |  Metric:2hits-prec5t4  |  #users:0.3\n",
      "NB Val:-0.398688639789073  |  ALL val:-0.2620818064564752\n",
      "Algo:SVD  |  Metric:labor-2hits-prec5t4  |  #users:0.1\n",
      "NB Val:-0.06141580423809932  |  ALL val:-0.11454821212796516\n",
      "Algo:SVD  |  Metric:labor-2hits-prec5t4  |  #users:0.2\n",
      "NB Val:-0.07942950548987128  |  ALL val:-0.18844153763007218\n",
      "Algo:SVD  |  Metric:labor-2hits-prec5t4  |  #users:0.3\n",
      "NB Val:-0.09868863978907297  |  ALL val:-0.2620818064564752\n",
      "Algo:SVD  |  Metric:consumer-2hits-prec5t4  |  #users:0.1\n",
      "NB Val:-0.10000000000000034  |  ALL val:0.0\n",
      "Algo:SVD  |  Metric:consumer-2hits-prec5t4  |  #users:0.2\n",
      "NB Val:-0.20000000000000068  |  ALL val:0.0\n",
      "Algo:SVD  |  Metric:consumer-2hits-prec5t4  |  #users:0.3\n",
      "NB Val:-0.2999999999999986  |  ALL val:0.0\n"
     ]
    },
    {
     "ename": "KeyError",
     "evalue": "'MovieMean'",
     "output_type": "error",
     "traceback": [
      "\u001b[1;31m---------------------------------------------------------------------------\u001b[0m",
      "\u001b[1;31mKeyError\u001b[0m                                  Traceback (most recent call last)",
      "\u001b[1;32m<ipython-input-144-6fd196e8d0c8>\u001b[0m in \u001b[0;36m<module>\u001b[1;34m()\u001b[0m\n\u001b[0;32m     12\u001b[0m     \u001b[0mylabel\u001b[0m\u001b[1;33m=\u001b[0m\u001b[1;34m'Lost Hits'\u001b[0m\u001b[1;33m,\u001b[0m\u001b[1;33m\u001b[0m\u001b[0m\n\u001b[0;32m     13\u001b[0m     \u001b[0mtitle_template\u001b[0m\u001b[1;33m=\u001b[0m\u001b[1;34m'{} vs. Boycott Size for {}'\u001b[0m\u001b[1;33m,\u001b[0m\u001b[1;33m\u001b[0m\u001b[0m\n\u001b[1;32m---> 14\u001b[1;33m     \u001b[0mheight\u001b[0m\u001b[1;33m=\u001b[0m\u001b[1;36m3\u001b[0m\u001b[1;33m,\u001b[0m \u001b[0maspect\u001b[0m\u001b[1;33m=\u001b[0m\u001b[1;36m3\u001b[0m\u001b[1;33m,\u001b[0m\u001b[1;33m\u001b[0m\u001b[0m\n\u001b[0m\u001b[0;32m     15\u001b[0m )\n\u001b[0;32m     16\u001b[0m \u001b[0mplt\u001b[0m\u001b[1;33m.\u001b[0m\u001b[0msavefig\u001b[0m\u001b[1;33m(\u001b[0m\u001b[1;34m'ml-20m_hits.svg'\u001b[0m\u001b[1;33m,\u001b[0m \u001b[0mbbox_inches\u001b[0m\u001b[1;33m=\u001b[0m\u001b[1;34m'tight'\u001b[0m\u001b[1;33m,\u001b[0m \u001b[0mdpi\u001b[0m\u001b[1;33m=\u001b[0m\u001b[1;36m300\u001b[0m\u001b[1;33m)\u001b[0m\u001b[1;33m\u001b[0m\u001b[0m\n",
      "\u001b[1;32m<ipython-input-142-2dc5a54dde87>\u001b[0m in \u001b[0;36mp_b_curve\u001b[1;34m(df, dataset, metrics, groups, percents, normalize, reg_plot, hue, row, col, show_interp, legend, ylabel, plot_horiz_lines, height, title_template, aspect, palette, label_map)\u001b[0m\n\u001b[0;32m    150\u001b[0m             lines['MovieMean'] = {\n\u001b[0;32m    151\u001b[0m                 \u001b[1;31m# needs to handle the coverage-weighted mtrics\u001b[0m\u001b[1;33m\u001b[0m\u001b[1;33m\u001b[0m\u001b[0m\n\u001b[1;32m--> 152\u001b[1;33m                 \u001b[1;34m'value'\u001b[0m\u001b[1;33m:\u001b[0m \u001b[0malgo_to_metric_to_altalgo\u001b[0m\u001b[1;33m[\u001b[0m\u001b[0malgo_name\u001b[0m\u001b[1;33m]\u001b[0m\u001b[1;33m[\u001b[0m\u001b[0mmetric_key\u001b[0m\u001b[1;33m]\u001b[0m\u001b[1;33m[\u001b[0m\u001b[1;34m'MovieMean'\u001b[0m\u001b[1;33m]\u001b[0m\u001b[1;33m,\u001b[0m\u001b[1;33m\u001b[0m\u001b[0m\n\u001b[0m\u001b[0;32m    153\u001b[0m                 \u001b[1;34m'color'\u001b[0m\u001b[1;33m:\u001b[0m \u001b[1;34m'0.3'\u001b[0m\u001b[1;33m,\u001b[0m\u001b[1;33m\u001b[0m\u001b[0m\n\u001b[0;32m    154\u001b[0m                 \u001b[1;34m'name'\u001b[0m\u001b[1;33m:\u001b[0m \u001b[1;34m'MovieMean'\u001b[0m\u001b[1;33m,\u001b[0m\u001b[1;33m\u001b[0m\u001b[0m\n",
      "\u001b[1;31mKeyError\u001b[0m: 'MovieMean'"
     ]
    }
   ],
   "source": [
    "_ = p_b_curve(\n",
    "    samples_df_1m[samples_df_1m.algo_name == 'SVD'], 'ml-1m',\n",
    "    show_interp=False,\n",
    "    percents=True, normalize=False,\n",
    "    metrics=[\n",
    "        '2hits-prec5t4',\n",
    "        'labor-2hits-prec5t4',\n",
    "        'consumer-2hits-prec5t4',\n",
    "    ],\n",
    "    groups=['all', 'non-boycott',],\n",
    "    legend=True, \n",
    "    ylabel='Lost Hits',\n",
    "    title_template='{} vs. Boycott Size for {}',\n",
    "    height=3, aspect=3,\n",
    ")\n",
    "plt.savefig('ml-20m_hits.svg', bbox_inches='tight', dpi=300)\n",
    "plt.show()"
   ]
  },
  {
   "cell_type": "code",
   "execution_count": 145,
   "metadata": {},
   "outputs": [
    {
     "name": "stdout",
     "output_type": "stream",
     "text": [
      "['increase_hit-ratio@5_non-boycott', 'increase_hit-ratio@10_non-boycott']\n"
     ]
    },
    {
     "name": "stderr",
     "output_type": "stream",
     "text": [
      "C:\\Users\\Nick\\Anaconda3\\lib\\site-packages\\scipy\\stats\\stats.py:1713: FutureWarning: Using a non-tuple sequence for multidimensional indexing is deprecated; use `arr[tuple(seq)]` instead of `arr[seq]`. In the future this will be interpreted as an array index, `arr[np.array(seq)]`, which will result either in an error or a different result.\n",
      "  return np.add.reduce(sorted[indexer] * weights, axis=axis) / sumval\n"
     ]
    },
    {
     "name": "stdout",
     "output_type": "stream",
     "text": [
      "Algo:SVD  |  Metric:hit-ratio@5  |  #users:0.1\n",
      "NB Val:1.1274883918872498  |  ALL val:1.1274883918872498\n",
      "Metric hit-ratio@5 has no MovieMean comparison.\n",
      "Algo:SVD  |  Metric:hit-ratio@5  |  #users:0.2\n",
      "NB Val:1.134761305306046  |  ALL val:1.134761305306046\n",
      "Metric hit-ratio@5 has no MovieMean comparison.\n",
      "Algo:SVD  |  Metric:hit-ratio@5  |  #users:0.3\n",
      "NB Val:1.1425888778791837  |  ALL val:1.1425888778791837\n",
      "Metric hit-ratio@5 has no MovieMean comparison.\n",
      "Algo:SVD  |  Metric:hit-ratio@10  |  #users:0.1\n",
      "NB Val:1.1637287473956675  |  ALL val:1.1637287473956675\n",
      "Metric hit-ratio@10 has no MovieMean comparison.\n",
      "Algo:SVD  |  Metric:hit-ratio@10  |  #users:0.2\n",
      "NB Val:1.1601927042329125  |  ALL val:1.1601927042329125\n",
      "Metric hit-ratio@10 has no MovieMean comparison.\n",
      "Algo:SVD  |  Metric:hit-ratio@10  |  #users:0.3\n",
      "NB Val:1.1589375636481711  |  ALL val:1.1589375636481711\n",
      "Metric hit-ratio@10 has no MovieMean comparison.\n",
      "=====\n",
      "Size to Mean Decrease\n",
      "defaultdict(<class 'dict'>,\n",
      "            {'SVD': {0.1: 1.1456085696414586,\n",
      "                     0.2: 1.1474770047694793,\n",
      "                     0.3: 1.1507632207636775}})\n"
     ]
    },
    {
     "data": {
      "image/png": "[encoded data removed]",
      "text/plain": [
       "<Figure size 745.475x648 with 3 Axes>"
      ]
     },
     "metadata": {},
     "output_type": "display_data"
    },
    {
     "data": {
      "image/png": "[encoded data removed]",
      "text/plain": [
       "<Figure size 360x720 with 2 Axes>"
      ]
     },
     "metadata": {},
     "output_type": "display_data"
    }
   ],
   "source": [
    "_ = p_b_curve(\n",
    "    samples_df_1m[samples_df_1m.algo_name == 'SVD'], 'ml-1m',\n",
    "    show_interp=False,\n",
    "    percents=False, normalize=False,\n",
    "    metrics=[\n",
    "        'hit-ratio@5',\n",
    "        'hit-ratio@10',\n",
    "    ],\n",
    "    groups=['non-boycott', ],\n",
    "    legend=False, \n",
    "    ylabel='Hit Ratio',\n",
    "    plot_horiz_lines=False,\n",
    ")\n",
    "plt.show()"
   ]
  },
  {
   "cell_type": "code",
   "execution_count": 146,
   "metadata": {
    "scrolled": false
   },
   "outputs": [
    {
     "name": "stdout",
     "output_type": "stream",
     "text": [
      "['percent_increase_ndcg10_all', 'percent_increase_ndcg10_non-boycott']\n"
     ]
    },
    {
     "name": "stderr",
     "output_type": "stream",
     "text": [
      "C:\\Users\\Nick\\Anaconda3\\lib\\site-packages\\scipy\\stats\\stats.py:1713: FutureWarning: Using a non-tuple sequence for multidimensional indexing is deprecated; use `arr[tuple(seq)]` instead of `arr[seq]`. In the future this will be interpreted as an array index, `arr[np.array(seq)]`, which will result either in an error or a different result.\n",
      "  return np.add.reduce(sorted[indexer] * weights, axis=axis) / sumval\n"
     ]
    },
    {
     "name": "stdout",
     "output_type": "stream",
     "text": [
      "Algo:SVD  |  Metric:ndcg10  |  #users:0.1\n",
      "NB Val:-0.06715836075837697  |  ALL val:-0.1679986108768674\n",
      "Algo:SVD  |  Metric:ndcg10  |  #users:0.2\n",
      "NB Val:-0.1410510810314825  |  ALL val:-0.32875074446584746\n",
      "Algo:SVD  |  Metric:ndcg10  |  #users:0.3\n",
      "NB Val:-0.22619239135445532  |  ALL val:-0.4829716400549758\n",
      "=====\n",
      "Size to Mean Decrease\n",
      "defaultdict(<class 'dict'>,\n",
      "            {'SVD': {0.1: -0.06715836075837697,\n",
      "                     0.2: -0.1410510810314825,\n",
      "                     0.3: -0.22619239135445532}})\n"
     ]
    },
    {
     "data": {
      "image/png": "[encoded data removed]",
      "text/plain": [
       "<Figure size 288x288 with 1 Axes>"
      ]
     },
     "metadata": {},
     "output_type": "display_data"
    }
   ],
   "source": [
    "_ = p_b_curve(\n",
    "    samples_df_1m[samples_df_1m.algo_name == 'SVD'], 'ml-1m',\n",
    "    show_interp=False,\n",
    "    percents=True, normalize=True,\n",
    "    metrics=['ndcg10',],\n",
    "    groups=['non-boycott', 'all', ],\n",
    "    legend=False,\n",
    "    ylabel='nDCG@10 personalization factor',\n",
    "    height=4,\n",
    ")\n",
    "plt.ylim(-1.2, 0.05)\n",
    "plt.savefig('ml-1m_pb_curve.svg', bbox_inches='tight', dpi=300)\n",
    "plt.show()"
   ]
  },
  {
   "cell_type": "code",
   "execution_count": 147,
   "metadata": {},
   "outputs": [
    {
     "name": "stdout",
     "output_type": "stream",
     "text": [
      "['percent_increase_ndcg10_all', 'percent_increase_ndcg10_non-boycott']\n"
     ]
    },
    {
     "name": "stderr",
     "output_type": "stream",
     "text": [
      "C:\\Users\\Nick\\Anaconda3\\lib\\site-packages\\scipy\\stats\\stats.py:1713: FutureWarning: Using a non-tuple sequence for multidimensional indexing is deprecated; use `arr[tuple(seq)]` instead of `arr[seq]`. In the future this will be interpreted as an array index, `arr[np.array(seq)]`, which will result either in an error or a different result.\n",
      "  return np.add.reduce(sorted[indexer] * weights, axis=axis) / sumval\n"
     ]
    },
    {
     "name": "stdout",
     "output_type": "stream",
     "text": [
      "Algo:SVD  |  Metric:ndcg10  |  #users:0.1\n",
      "NB Val:-0.007938064094051593  |  ALL val:nan\n",
      "Algo:SVD  |  Metric:ndcg10  |  #users:0.2\n",
      "NB Val:-0.016021821080019573  |  ALL val:nan\n",
      "Algo:SVD  |  Metric:ndcg10  |  #users:0.3\n",
      "NB Val:-0.027734520551757215  |  ALL val:nan\n",
      "=====\n",
      "Size to Mean Decrease\n",
      "defaultdict(<class 'dict'>,\n",
      "            {'SVD': {0.1: -0.007938064094051593,\n",
      "                     0.2: -0.016021821080019573,\n",
      "                     0.3: -0.027734520551757215}})\n"
     ]
    },
    {
     "data": {
      "image/png": "[encoded data removed]",
      "text/plain": [
       "<Figure size 385.475x288 with 1 Axes>"
      ]
     },
     "metadata": {},
     "output_type": "display_data"
    }
   ],
   "source": [
    "twenty_algo_to_metric_to_group_to = p_b_curve(\n",
    "    samples_df_20m, 'ml-20m',\n",
    "    show_interp=False,\n",
    "    percents=True, normalize=True,\n",
    "    metrics=['ndcg10'],\n",
    "    groups=['non-boycott', 'all', ], \n",
    "    height=4,\n",
    ")\n",
    "plt.ylim(-1.2, 0.05)\n",
    "plt.savefig('ml-20_pb_curve.svg', bbox_inches='tight', dpi=300)\n",
    "plt.show()"
   ]
  },
  {
   "cell_type": "markdown",
   "metadata": {},
   "source": [
    "# NDCG for all Groups, don't save"
   ]
  },
  {
   "cell_type": "code",
   "execution_count": 148,
   "metadata": {},
   "outputs": [
    {
     "name": "stdout",
     "output_type": "stream",
     "text": [
      "['percent_increase_ndcg10_all', 'percent_increase_ndcg10_boycott', 'percent_increase_ndcg10_non-boycott', 'percent_increase_prec10t4_all', 'percent_increase_prec10t4_boycott', 'percent_increase_prec10t4_non-boycott', 'percent_increase_rmse_all', 'percent_increase_rmse_boycott', 'percent_increase_rmse_non-boycott']\n"
     ]
    },
    {
     "name": "stderr",
     "output_type": "stream",
     "text": [
      "C:\\Users\\Nick\\Anaconda3\\lib\\site-packages\\scipy\\stats\\stats.py:1713: FutureWarning: Using a non-tuple sequence for multidimensional indexing is deprecated; use `arr[tuple(seq)]` instead of `arr[seq]`. In the future this will be interpreted as an array index, `arr[np.array(seq)]`, which will result either in an error or a different result.\n",
      "  return np.add.reduce(sorted[indexer] * weights, axis=axis) / sumval\n"
     ]
    },
    {
     "name": "stdout",
     "output_type": "stream",
     "text": [
      "Algo:SVD  |  Metric:ndcg10  |  #users:0.1\n",
      "NB Val:-0.06715836075837697  |  ALL val:-0.1679986108768674\n",
      "Algo:SVD  |  Metric:ndcg10  |  #users:0.2\n",
      "NB Val:-0.1410510810314825  |  ALL val:-0.32875074446584746\n",
      "Algo:SVD  |  Metric:ndcg10  |  #users:0.3\n",
      "NB Val:-0.22619239135445532  |  ALL val:-0.4829716400549758\n",
      "Algo:SVD  |  Metric:prec10t4  |  #users:0.1\n",
      "NB Val:-0.11603857076960987  |  ALL val:-0.20963843379173358\n",
      "Algo:SVD  |  Metric:prec10t4  |  #users:0.2\n",
      "NB Val:-0.1794947134243475  |  ALL val:-0.3606982686209158\n",
      "Algo:SVD  |  Metric:prec10t4  |  #users:0.3\n",
      "NB Val:-0.27103215168254785  |  ALL val:-0.5156639413001408\n",
      "Algo:SVD  |  Metric:rmse  |  #users:0.1\n",
      "NB Val:0.024707037426518134  |  ALL val:0.13085404350200946\n",
      "Algo:SVD  |  Metric:rmse  |  #users:0.2\n",
      "NB Val:0.0499675167619517  |  ALL val:0.25669722416656626\n",
      "Algo:SVD  |  Metric:rmse  |  #users:0.3\n",
      "NB Val:0.07837695610865963  |  ALL val:0.3818365116540988\n",
      "=====\n",
      "Size to Mean Decrease\n",
      "defaultdict(<class 'dict'>,\n",
      "            {'SVD': {0.1: -0.05282996470048956,\n",
      "                     0.2: -0.09019275923129276,\n",
      "                     0.3: -0.13961586230944784}})\n"
     ]
    },
    {
     "data": {
      "image/png": "[encoded data removed]",
      "text/plain": [
       "<Figure size 288x864 with 3 Axes>"
      ]
     },
     "metadata": {},
     "output_type": "display_data"
    }
   ],
   "source": [
    "_ = p_b_curve(\n",
    "    samples_df_1m[samples_df_1m.algo_name == 'SVD'], 'ml-1m',\n",
    "    show_interp=False,\n",
    "    percents=True, normalize=True,\n",
    "    metrics=['ndcg10', 'prec10t4', 'rmse'],\n",
    "    groups=['non-boycott', 'all', 'boycott'],\n",
    "    legend=False,\n",
    "    ylabel='nDCG@10 personalization factor',\n",
    "    height=4,\n",
    "    palette=None,\n",
    ")\n",
    "#plt.ylim(-1.2, 0.05)\n",
    "plt.show()"
   ]
  },
  {
   "cell_type": "code",
   "execution_count": 149,
   "metadata": {},
   "outputs": [
    {
     "name": "stdout",
     "output_type": "stream",
     "text": [
      "['percent_increase_ndcg10_all', 'percent_increase_ndcg10_non-boycott', 'percent_increase_prec10t4_all', 'percent_increase_prec10t4_non-boycott', 'percent_increase_rmse_all', 'percent_increase_rmse_non-boycott']\n"
     ]
    },
    {
     "name": "stderr",
     "output_type": "stream",
     "text": [
      "C:\\Users\\Nick\\Anaconda3\\lib\\site-packages\\scipy\\stats\\stats.py:1713: FutureWarning: Using a non-tuple sequence for multidimensional indexing is deprecated; use `arr[tuple(seq)]` instead of `arr[seq]`. In the future this will be interpreted as an array index, `arr[np.array(seq)]`, which will result either in an error or a different result.\n",
      "  return np.add.reduce(sorted[indexer] * weights, axis=axis) / sumval\n"
     ]
    },
    {
     "name": "stdout",
     "output_type": "stream",
     "text": [
      "Algo:SVD  |  Metric:rmse  |  #users:0.1\n",
      "NB Val:0.024707037426518134  |  ALL val:0.13085404350200946\n",
      "Algo:SVD  |  Metric:rmse  |  #users:0.2\n",
      "NB Val:0.0499675167619517  |  ALL val:0.25669722416656626\n",
      "Algo:SVD  |  Metric:rmse  |  #users:0.3\n",
      "NB Val:0.07837695610865963  |  ALL val:0.3818365116540988\n",
      "Algo:SVD  |  Metric:ndcg10  |  #users:0.1\n",
      "NB Val:-0.06715836075837697  |  ALL val:-0.1679986108768674\n",
      "Algo:SVD  |  Metric:ndcg10  |  #users:0.2\n",
      "NB Val:-0.1410510810314825  |  ALL val:-0.32875074446584746\n",
      "Algo:SVD  |  Metric:ndcg10  |  #users:0.3\n",
      "NB Val:-0.22619239135445532  |  ALL val:-0.4829716400549758\n",
      "Algo:SVD  |  Metric:prec10t4  |  #users:0.1\n",
      "NB Val:-0.11603857076960987  |  ALL val:-0.20963843379173358\n",
      "Algo:SVD  |  Metric:prec10t4  |  #users:0.2\n",
      "NB Val:-0.1794947134243475  |  ALL val:-0.3606982686209158\n",
      "Algo:SVD  |  Metric:prec10t4  |  #users:0.3\n",
      "NB Val:-0.27103215168254785  |  ALL val:-0.5156639413001408\n",
      "=====\n",
      "Size to Mean Decrease\n",
      "defaultdict(<class 'dict'>,\n",
      "            {'SVD': {0.1: -0.05282996470048957,\n",
      "                     0.2: -0.09019275923129277,\n",
      "                     0.3: -0.13961586230944786}})\n"
     ]
    },
    {
     "data": {
      "image/png": "[encoded data removed]",
      "text/plain": [
       "<Figure size 457.475x1080 with 3 Axes>"
      ]
     },
     "metadata": {},
     "output_type": "display_data"
    }
   ],
   "source": [
    "algo_to_metric_to_group_to = p_b_curve(\n",
    "    samples_df_1m, 'ml-1m',\n",
    "    metrics=metrics,\n",
    "    percents=True, normalize=True, show_interp=True,\n",
    "    groups=['non-boycott', 'all', ],\n",
    ")\n",
    "plt.show()"
   ]
  },
  {
   "cell_type": "markdown",
   "metadata": {},
   "source": [
    "## Find intersection of the non-boycott curve with horizontal lines"
   ]
  },
  {
   "cell_type": "code",
   "execution_count": 150,
   "metadata": {},
   "outputs": [
    {
     "name": "stdout",
     "output_type": "stream",
     "text": [
      "all found item:\n",
      "0.06178708649892173\n",
      "all found knnbasicitem\n",
      "0.18556121770549955\n",
      "all found user\n",
      "0.43970810100688956\n",
      "non-boycott found item:\n",
      "0.13507177000006998\n",
      "non-boycott found knnbasicitem\n",
      "0.37862086823853813\n",
      "non-boycott found user\n",
      "0.650863969430389\n"
     ]
    }
   ],
   "source": [
    "movie_val = -1 * dataset_to_algo_to_metric_to_altalgo['ml-1m']['SVD']['ndcg10']['MovieMean']\n",
    "for group in ['all', 'non-boycott']:\n",
    "    found_item, found_user = False, False\n",
    "    found_itembasic = False\n",
    "    for x in range(0, num_ratings['ml-1m'], int(num_ratings['ml-1m'] / 10000)):\n",
    "        y = algo_to_metric_to_group_to['SVD']['ndcg10'][group]['interp_ratings'](x)\n",
    "        #print(x, y)\n",
    "        if not found_item:\n",
    "            if y <= dataset_to_algo_to_metric_to_altalgo['ml-1m']['SVD']['ndcg10']['KNNBaseline_item_msd']/movie_val:\n",
    "                print(group + ' found item:')\n",
    "                print(x / num_ratings['ml-1m'])\n",
    "                found_item = True\n",
    "        if not found_user:\n",
    "            if y <= dataset_to_algo_to_metric_to_altalgo['ml-1m']['SVD']['ndcg10']['KNNBasic_user_msd'] / movie_val:\n",
    "                print(group + ' found user')\n",
    "                print(x / num_ratings['ml-1m'])\n",
    "                found_user = True\n",
    "        if not found_itembasic:\n",
    "            if y <= dataset_to_algo_to_metric_to_altalgo['ml-1m']['SVD']['ndcg10']['KNNBasic_item_msd'] / movie_val:\n",
    "                print(group + ' found knnbasicitem')\n",
    "                print(x / num_ratings['ml-1m'])\n",
    "                found_itembasic = True"
   ]
  },
  {
   "cell_type": "code",
   "execution_count": null,
   "metadata": {
    "collapsed": true
   },
   "outputs": [],
   "source": [
    "d = {}\n",
    "group = 'non-boycott'\n",
    "print(group)\n",
    "d['30_1m'] = algo_to_metric_to_group_to['SVD']['ndcg10'][group]['interp_ratings'](0.3 * num_ratings['ml-1m']) * 100\n",
    "d['30_20m'] = twenty_algo_to_metric_to_group_to['SVD']['ndcg10'][group]['interp_ratings'](0.3 * num_ratings['ml-20m']) * 100\n",
    "print(d)\n",
    "\n",
    "group = 'all'\n",
    "print(group)\n",
    "d['30_1m'] = algo_to_metric_to_group_to['SVD']['ndcg10'][group]['interp_ratings'](0.3 * num_ratings['ml-1m']) * 100\n",
    "d['30_20m'] = twenty_algo_to_metric_to_group_to['SVD']['ndcg10'][group]['interp_ratings'](0.3 * num_ratings['ml-20m']) * 100\n",
    "print(d)"
   ]
  },
  {
   "cell_type": "code",
   "execution_count": null,
   "metadata": {
    "collapsed": true
   },
   "outputs": [],
   "source": [
    "d = {}\n",
    "d[19] = twenty_algo_to_metric_to_group_to['SVD']['ndcg10'][group]['interp_ratings'](0.19 * num_ratings['ml-20m']) * 100\n",
    "d[44] = twenty_algo_to_metric_to_group_to['SVD']['ndcg10'][group]['interp_ratings'](0.44 * num_ratings['ml-20m']) * 100\n",
    "print(d)"
   ]
  },
  {
   "cell_type": "code",
   "execution_count": null,
   "metadata": {
    "collapsed": true
   },
   "outputs": [],
   "source": [
    "def half_users(df):\n",
    "    return df[(\n",
    "        (df.userfrac == 0.5) & (df.ratingfrac == 1.0) \n",
    "        #& (df.algo_name == 'SVD')\n",
    "    )]"
   ]
  },
  {
   "cell_type": "code",
   "execution_count": null,
   "metadata": {
    "collapsed": true
   },
   "outputs": [],
   "source": [
    "def half_ratings(df):\n",
    "    return df[(\n",
    "        (df.userfrac == 1.0) & (df.ratingfrac == 0.5)\n",
    "    )]"
   ]
  },
  {
   "cell_type": "code",
   "execution_count": null,
   "metadata": {
    "collapsed": true
   },
   "outputs": [],
   "source": [
    "def all_users_all_ratings(df):\n",
    "    return df[(\n",
    "        (df.userfrac == 1.0) & (df.ratingfrac == 1.0)\n",
    "    )]"
   ]
  },
  {
   "cell_type": "code",
   "execution_count": null,
   "metadata": {
    "collapsed": true
   },
   "outputs": [],
   "source": [
    "NORMALIZE = True\n",
    "\n",
    "#metrics += ['hits-prec5t4', 'labor-hits-prec5t4', 'consumer-hits-prec5t4']\n",
    "\n",
    "normed_org_df = org_df.copy()\n",
    "for metric in metrics:\n",
    "    for algo_name in algo_names:\n",
    "        movie_val = abs(dataset_to_algo_to_metric_to_altalgo['ml-1m']['SVD'][metric]['MovieMean'])\n",
    "        for group in ['non-boycott', 'like-boycott']:\n",
    "            col = 'percent_increase_{}_{}'.format(metric, group)\n",
    "            if NORMALIZE:\n",
    "                normed_org_df.loc[\n",
    "                    normed_org_df.algo_name == algo_name, col\n",
    "                ] = org_df.loc[org_df.algo_name == algo_name, col] / movie_val\n",
    "                \n",
    "for metric in metrics:\n",
    "    expec = []\n",
    "    col = 'percent_increase_{}_expected'.format(metric)\n",
    "    for i, row in normed_org_df.iterrows():\n",
    "        x = row.num_ratings_missing\n",
    "        expec.append(float(algo_to_metric_to_group_to[row.algo_name][metric]['non-boycott']['interp_ratings'](x)))\n",
    "    kwargs = {col: expec}\n",
    "    normed_org_df = normed_org_df.assign(**kwargs)"
   ]
  },
  {
   "cell_type": "markdown",
   "metadata": {},
   "source": [
    "## LB = like-boycott\n",
    "### So lbless is the number cases where the like boycott performance change was less than expected"
   ]
  },
  {
   "cell_type": "code",
   "execution_count": null,
   "metadata": {
    "collapsed": true
   },
   "outputs": [],
   "source": [
    "def plot2(\n",
    "        df, metrics, groups,\n",
    "        percents=False, kind='bar', height=4, flip=False, filename='tmp.svg', save=False,\n",
    "        palette=None, aspect=1\n",
    "    ):\n",
    "    \"\"\"\n",
    "    Plots the results of homogenous boycotts\n",
    "    e.g. 50% of Comedy fans boycott together\n",
    "    \"\"\"\n",
    "    print('len of df (number of experiments included)', len(df.index))\n",
    "    for name in list(set(df.name)):\n",
    "#        tmp = df[df.name == name].num_ratings_missing.mean()\n",
    "        tmp = df[df.name == name].num_users_boycotting.mean()\n",
    "        print('Num users boycottng: {}. As a percent: {}'.format(tmp, tmp*100))\n",
    "#         print('name', name)\n",
    "#         print('mean number of ratings missing', tmp)\n",
    "#         print(algo_to_metric_to_group_to['SVD']['ndcg10']['non-boycott']['interp_ratings'](tmp))\n",
    "    increase_cols = select_cols(list(df.columns.values), metrics, groups, percents)\n",
    "    increase_cols = [x for x in increase_cols if 'vanilla' not in x]\n",
    "    longform = df[increase_cols + id_vars].melt(\n",
    "        id_vars = id_vars,\n",
    "        var_name='increase_type'\n",
    "    )\n",
    "    longform = fill_in_longform(longform)\n",
    "    if flip:\n",
    "        x = \"name\"\n",
    "        y = \"value\"\n",
    "    else:\n",
    "        x = \"value\"\n",
    "        y = \"name\"\n",
    "    if '?' in filename:\n",
    "        legend = False\n",
    "    else:\n",
    "        legend = True\n",
    "    grid = sns.factorplot(\n",
    "        x=x, y=y, hue=\"group\", data=longform,\n",
    "        height=height, kind=kind, col='algo_name', row='metric',\n",
    "        sharex=False,\n",
    "        row_order=metrics,\n",
    "        legend=legend,\n",
    "        legend_out=True,\n",
    "        palette=palette,\n",
    "        aspect=aspect\n",
    "    )\n",
    "    a = grid.axes\n",
    "    \n",
    "#     for metric in metrics:\n",
    "#         for col in increase_cols:\n",
    "#             if metric in col and 'expected' in col:\n",
    "#                 expec = col\n",
    "    \n",
    "    name_to_ratios = defaultdict(list)\n",
    "    diffs = defaultdict(dict)\n",
    "    ratios = defaultdict(dict)\n",
    "    name_to_counts = defaultdict(lambda: defaultdict(int))\n",
    "    \n",
    "    for x in grid.facet_data():\n",
    "        i_row, i_col, i_hue = x[0]\n",
    "        metric = grid.row_names[i_row]\n",
    "        algo_name = grid.col_names[i_col]\n",
    "        if grid.hue_names:\n",
    "            group = grid.hue_names[i_hue]        \n",
    "        \n",
    "        if NORMALIZE:\n",
    "            val = -1\n",
    "        else:\n",
    "            val = abs(dataset_to_algo_to_metric_to_altalgo['ml-1m']['SVD'][metric]['MovieMean'])\n",
    "        \n",
    "        if flip:\n",
    "            grid.axes[i_row, i_col].axhline(0, color='0.7', linestyle='-')\n",
    "        else:\n",
    "            grid.axes[i_row, i_col].axvline(0, color='0.7', linestyle='-')\n",
    "            grid.axes[i_row, i_col].axvline(val, color='0.7', linestyle='-')\n",
    "        \n",
    "        for col in increase_cols:\n",
    "            if metric == col.split('_')[-2]:\n",
    "                if 'expected' in col:\n",
    "                    expec = col\n",
    "                elif 'non-boycott' in col:\n",
    "                    nb = col\n",
    "                elif 'like-boycott' in col:\n",
    "                    lb = col\n",
    "        for name in list(set(longform.name)):\n",
    "            mask = (\n",
    "                (longform.metric == metric) &\n",
    "                (longform.algo_name == algo_name) &\n",
    "                (longform.name == name)\n",
    "            )\n",
    "            \n",
    "            masked = longform[mask]\n",
    "            try:\n",
    "                expec_arr = np.array(masked[masked.increase_type == expec].value)\n",
    "                nb_arr = np.array(masked[masked.increase_type == nb].value)\n",
    "                lb_arr = np.array(masked[masked.increase_type == lb].value)\n",
    "                \n",
    "                expec_mean = np.mean(expec_arr)\n",
    "                nb_mean = np.mean(nb_arr)\n",
    "                lb_mean = np.nanmean(lb_arr)\n",
    "                \n",
    "                ratio = nb_mean / expec_mean\n",
    "                diff = nb_mean - expec_mean\n",
    "                lb_diff = lb_mean - nb_mean\n",
    "                lb_ratio = lb_mean / expec_mean\n",
    "\n",
    "                pval = stats.ttest_ind(expec_arr, nb_arr, equal_var=False).pvalue                \n",
    "                name_to_counts[name]['total'] += 1\n",
    "                \n",
    "                print('{} {} {}, {}, {}'.format(metric, algo_name, name, expec, nb))\n",
    "                print('Ratio: {}, pval: {}'.format(ratio, pval))\n",
    "                print('LB to NB: {}'.format(lb_diff / diff))\n",
    "                name_to_ratios[name].append(ratio)\n",
    "                diffs['nb'][name] = diff\n",
    "                diffs['lb'][name] = lb_diff\n",
    "                \n",
    "                ratios['nb'][name] = ratio\n",
    "                ratios['lb'][name] = lb_ratio\n",
    "                \n",
    "                if pval < 0.5:\n",
    "                    name_to_counts[name]['total_sig'] += 1\n",
    "\n",
    "                if diff > 0:\n",
    "                    name_to_counts[name]['total_less'] += 1\n",
    "                else:\n",
    "                    name_to_counts[name]['total_more'] += 1\n",
    "                #print('lb info', lb_diff, lb_mean, nb_mean)\n",
    "                if lb_diff < 0:\n",
    "                    name_to_counts[name]['total_lbless'] += 1\n",
    "            except Exception as err:\n",
    "                print(err)\n",
    "                print(algo_name, metric)\n",
    "    total = 0\n",
    "    total_sig = 0\n",
    "    total_less = 0\n",
    "    total_more = 0\n",
    "    total_lbless = 0\n",
    "    \n",
    "    for name, counts in name_to_counts.items():\n",
    "        total += counts['total']\n",
    "        total_sig += counts['total_sig']\n",
    "        total_less += counts['total_less']\n",
    "        total_more += counts['total_more']\n",
    "        total_lbless += counts['total_lbless']\n",
    "\n",
    "    print('Totals:')\n",
    "    print('{} lbless, {} sig, {} less, and {} more out of {} total'.format(\n",
    "            total_lbless, total_sig, total_less,\n",
    "            total_more, total)\n",
    "        )\n",
    "    if save:\n",
    "        new_labels = ['Similar Users', 'Not Participating\\n Users', 'Expected']\n",
    "        for t, l in zip(grid._legend.texts, new_labels): t.set_text(l)\n",
    "        if 'h2' in filename:\n",
    "            grid.set_ylabels(\"\")\n",
    "        else:\n",
    "            grid.set_ylabels(YLABEL)\n",
    "        grid.set_xlabels(\"\")\n",
    "        grid.set_titles(\"\")\n",
    "        plt.savefig(filename, size=(3, 3), bbox_inches='tight', dpi=300)\n",
    "    return grid, (total, total_sig, total_less, total_more, total_lbless), (diffs, ratios)\n"
   ]
  },
  {
   "cell_type": "code",
   "execution_count": null,
   "metadata": {
    "collapsed": true
   },
   "outputs": [],
   "source": [
    "normed_org_df = normed_org_df[normed_org_df.algo_name == 'SVD']"
   ]
  },
  {
   "cell_type": "code",
   "execution_count": null,
   "metadata": {
    "collapsed": true
   },
   "outputs": [],
   "source": [
    "gender_boycotts = normed_org_df[normed_org_df['type'] == 'gender']\n",
    "age_boycotts = normed_org_df[normed_org_df['type'] == 'age']\n",
    "occupation_boycotts = normed_org_df[normed_org_df['type'] == 'occupation']\n",
    "power_boycotts = normed_org_df[normed_org_df['type'] == 'power']\n",
    "genre_boycotts = normed_org_df[normed_org_df['type'] == 'genre']\n",
    "state_boycotts = org_df[org_df['type'] == 'state']\n",
    "\n",
    "# removing these from contention\n",
    "# genre_strict_boycotts = org_df[org_df['type'] == 'genre_strict']"
   ]
  },
  {
   "cell_type": "markdown",
   "metadata": {},
   "source": [
    "# Control which metrics we do comparisons for here.."
   ]
  },
  {
   "cell_type": "code",
   "execution_count": null,
   "metadata": {
    "collapsed": true
   },
   "outputs": [],
   "source": [
    "metrics=['ndcg10']"
   ]
  },
  {
   "cell_type": "code",
   "execution_count": null,
   "metadata": {
    "collapsed": true
   },
   "outputs": [],
   "source": [
    "palette={'all': 'b', 'non-boycott': 'g', 'expected': 'y', 'like-boycott': 'c'}\n",
    "\n",
    "def plot_all_three_scenarios(df, height=6):\n",
    "#     all_df = all_users_all_ratings(df)\n",
    "#     if not all_df.empty:\n",
    "#         grid, (total, total_sig, total_less, total_more, total_lbless), diffs, ratios = plot2(\n",
    "#             all_users_all_ratings(df),\n",
    "#             metrics=metrics,\n",
    "#             percents=True,\n",
    "#             groups=['all', 'non-boycott', 'expected'],\n",
    "#             height=height,\n",
    "#             palette=palette\n",
    "#         )\n",
    "#         grid.fig.suptitle('All Users, All Ratings')\n",
    "#         print('total1', total)\n",
    "\n",
    "    total, total_sig, total_less, total_more, total_lbless = 0, 0, 0, 0, 0\n",
    "    \n",
    "    half_users_df = half_users(df)\n",
    "    if not half_users_df.empty:\n",
    "        grid, (total2, total_sig2, total_less2, total_more2, total_lbless2), (diffs, ratios) = plot2(\n",
    "            half_users_df,\n",
    "            metrics=metrics,\n",
    "            percents=True,\n",
    "            groups=['non-boycott', 'like-boycott', 'expected'],\n",
    "            height=height,\n",
    "            kind='bar',\n",
    "            palette=palette\n",
    "        )\n",
    "        grid.fig.suptitle('Half Users')\n",
    "        total += total2\n",
    "        total_sig += total_sig2\n",
    "        total_less += total_less2\n",
    "        total_more += total_more2\n",
    "        total_lbless += total_lbless2\n",
    "        print('total2', total2, total)\n",
    "        \n",
    "#     half_ratings_df = half_ratings(df)\n",
    "#     if not half_ratings_df.empty:\n",
    "#         plot2(\n",
    "#             half_ratings_df,\n",
    "#             metrics=metrics,\n",
    "#             percents=True,\n",
    "#             groups=['non-boycott', 'boycott', 'like-boycott', 'expected'],\n",
    "#             height=height,\n",
    "#         ).fig.suptitle('Half Ratings')\n",
    "#     plt.show()\n",
    "    \n",
    "    return (total, total_sig, total_less, total_more, total_lbless), (diffs, ratios)"
   ]
  },
  {
   "cell_type": "code",
   "execution_count": null,
   "metadata": {
    "collapsed": true
   },
   "outputs": [],
   "source": [
    "running_totals = {\n",
    "    'total': 0,\n",
    "    'total_sig': 0,\n",
    "    'total_less': 0,\n",
    "    'total_more': 0,\n",
    "    'total_lbless': 0\n",
    "}\n",
    "all_diffs = {\n",
    "    'lb': {},\n",
    "    'nb': {}\n",
    "}\n",
    "all_ratios = {\n",
    "    'lb': {},\n",
    "    'nb': {}\n",
    "}"
   ]
  },
  {
   "cell_type": "markdown",
   "metadata": {},
   "source": [
    "# Make plots for paper here."
   ]
  },
  {
   "cell_type": "code",
   "execution_count": null,
   "metadata": {
    "collapsed": true,
    "scrolled": false
   },
   "outputs": [],
   "source": [
    "df1 = half_users(gender_boycotts)\n",
    "df2 = half_users(genre_boycotts)\n",
    "df3 = half_users(power_boycotts)\n",
    "\n",
    "grid, (total, total_sig, total_less, total_more, total_lbless), (diffs, ratios) = plot2(\n",
    "    pd.concat([df1[\n",
    "        #(df1.name.str.contains('female')) & \n",
    "        (df1.algo_name == 'SVD')],\n",
    "        df2[(df2.name.str.contains('film-noir')) & (df2.algo_name == 'SVD')],\n",
    "        df3[(df3.name.str.contains('power')) & (df3.algo_name == 'SVD')]\n",
    "    \n",
    "    ]),\n",
    "    metrics=['ndcg10'],\n",
    "    percents=True,\n",
    "    groups=['non-boycott', 'like-boycott', 'expected'],\n",
    "    height=3.5,\n",
    "    kind='bar',\n",
    "    flip=True,\n",
    "    filename='h1.svg', save=True,\n",
    "    palette=palette,\n",
    "    aspect=1.5\n",
    ")\n",
    "\n",
    "# grid, (total, total_sig, total_less, total_more) = plot2(\n",
    "#     df2[(df2.name.str.contains('Film-Noir')) & (df2.algo_name == 'SVD')],\n",
    "#     metrics=['ndcg10'],\n",
    "#     percents=True,\n",
    "#     groups=['non-boycott', 'expected', 'like-boycott',],\n",
    "#     height=2.5,\n",
    "#     kind='bar',\n",
    "#     flip=True,\n",
    "#     filename='h2.svg', save=True,\n",
    "#     palette=palette\n",
    "# )\n",
    "\n",
    "# grid, (total, total_sig, total_less, total_more) = plot2(\n",
    "#     df3[(df3.name.str.contains('power')) & (df3.algo_name == 'SVD')],\n",
    "#     metrics=['ndcg10'],\n",
    "#     percents=True,\n",
    "#     groups=['non-boycott', 'expected', 'like-boycott',],\n",
    "#     size=2.5,\n",
    "#     kind='bar',\n",
    "#     flip=True,\n",
    "#     filename='h3.svg', save=True,\n",
    "#     palette=palette\n",
    "# )\n",
    "\n",
    "plt.show()"
   ]
  },
  {
   "cell_type": "code",
   "execution_count": null,
   "metadata": {
    "collapsed": true
   },
   "outputs": [],
   "source": [
    "df1 = half_users(gender_boycotts)\n",
    "df2 = half_users(genre_boycotts)\n",
    "df3 = half_users(power_boycotts)\n",
    "\n",
    "grid, (total, total_sig, total_less, total_more, total_lbless), (diffs, ratios) = plot2(\n",
    "    pd.concat([df1[\n",
    "        #(df1.name.str.contains('female')) & \n",
    "        (df1.algo_name == 'SVD')],\n",
    "        df2[(df2.name.str.contains('film-noir')) & (df2.algo_name == 'SVD')],\n",
    "        df3[(df3.name.str.contains('power')) & (df3.algo_name == 'SVD')]\n",
    "    \n",
    "    ]),\n",
    "    metrics=['hits-prec5t4'],\n",
    "    percents=False,\n",
    "    groups=['non-boycott', 'all',],\n",
    "    height=3.5,\n",
    "    kind='bar',\n",
    "    flip=True,\n",
    "    filename='h1.svg', save=False,\n",
    "    palette=palette,\n",
    "    aspect=1.5\n",
    ")\n",
    "\n",
    "plt.show()"
   ]
  },
  {
   "cell_type": "markdown",
   "metadata": {},
   "source": [
    "## Male User and Female User Boycotts"
   ]
  },
  {
   "cell_type": "code",
   "execution_count": null,
   "metadata": {
    "collapsed": true,
    "scrolled": false
   },
   "outputs": [],
   "source": [
    "(total, total_sig, total_less, total_more, total_lbless), (diffs, ratios) = plot_all_three_scenarios(gender_boycotts)\n",
    "running_totals['total'] += total\n",
    "running_totals['total_sig'] += total_sig\n",
    "running_totals['total_less'] += total_less\n",
    "running_totals['total_more'] += total_more\n",
    "running_totals['total_lbless'] += total_lbless\n",
    "for key in all_diffs.keys():\n",
    "    all_diffs[key].update(diffs[key])\n",
    "    all_ratios[key].update(ratios[key])\n",
    "\n",
    "plt.show()"
   ]
  },
  {
   "cell_type": "markdown",
   "metadata": {},
   "source": [
    "# Power Boycotts\n",
    "\n",
    "Below, the power boycotts show a very weird results. Warrants double checks."
   ]
  },
  {
   "cell_type": "code",
   "execution_count": null,
   "metadata": {
    "collapsed": true,
    "scrolled": false
   },
   "outputs": [],
   "source": [
    "(total, total_sig, total_less, total_more, total_lbless), (diffs, ratios) = plot_all_three_scenarios(power_boycotts)\n",
    "running_totals['total'] += total\n",
    "running_totals['total_sig'] += total_sig\n",
    "running_totals['total_less'] += total_less\n",
    "running_totals['total_more'] += total_more\n",
    "running_totals['total_lbless'] += total_lbless\n",
    "\n",
    "for key in all_diffs.keys():\n",
    "    all_diffs[key].update(diffs[key])\n",
    "    all_ratios[key].update(ratios[key])\n",
    "\n",
    "\n",
    "plt.show()"
   ]
  },
  {
   "cell_type": "markdown",
   "metadata": {},
   "source": [
    "# Age Boycotts"
   ]
  },
  {
   "cell_type": "code",
   "execution_count": null,
   "metadata": {
    "collapsed": true,
    "scrolled": false
   },
   "outputs": [],
   "source": [
    "(total, total_sig, total_less, total_more, total_lbless), (diffs, ratios) = plot_all_three_scenarios(age_boycotts)\n",
    "running_totals['total'] += total\n",
    "running_totals['total_sig'] += total_sig\n",
    "running_totals['total_less'] += total_less\n",
    "running_totals['total_more'] += total_more\n",
    "running_totals['total_lbless'] += total_lbless\n",
    "\n",
    "for key in all_diffs.keys():\n",
    "    all_diffs[key].update(diffs[key])\n",
    "    all_ratios[key].update(ratios[key])\n",
    "\n",
    "plt.show()\n"
   ]
  },
  {
   "cell_type": "markdown",
   "metadata": {},
   "source": [
    "# Occupation Boycotts"
   ]
  },
  {
   "cell_type": "code",
   "execution_count": null,
   "metadata": {
    "collapsed": true,
    "scrolled": false
   },
   "outputs": [],
   "source": [
    "(total, total_sig, total_less, total_more, total_lbless), (diffs, ratios) = plot_all_three_scenarios(occupation_boycotts)\n",
    "running_totals['total'] += total\n",
    "running_totals['total_sig'] += total_sig\n",
    "running_totals['total_less'] += total_less\n",
    "running_totals['total_more'] += total_more\n",
    "running_totals['total_lbless'] += total_lbless\n",
    "\n",
    "for key in all_diffs.keys():\n",
    "    all_diffs[key].update(diffs[key])\n",
    "    all_ratios[key].update(ratios[key])\n",
    "plt.show()"
   ]
  },
  {
   "cell_type": "markdown",
   "metadata": {},
   "source": [
    "# Genre Boycotts"
   ]
  },
  {
   "cell_type": "code",
   "execution_count": null,
   "metadata": {
    "collapsed": true,
    "scrolled": false
   },
   "outputs": [],
   "source": [
    "(total, total_sig, total_less, total_more, total_lbless), (diffs, ratios) = plot_all_three_scenarios(genre_boycotts)\n",
    "running_totals['total'] += total\n",
    "running_totals['total_sig'] += total_sig\n",
    "running_totals['total_less'] += total_less\n",
    "running_totals['total_more'] += total_more\n",
    "running_totals['total_lbless'] += total_lbless\n",
    "\n",
    "for key in all_diffs.keys():\n",
    "    all_diffs[key].update(diffs[key])\n",
    "    all_ratios[key].update(ratios[key])\n",
    "\n",
    "plt.show()"
   ]
  },
  {
   "cell_type": "code",
   "execution_count": null,
   "metadata": {
    "collapsed": true
   },
   "outputs": [],
   "source": [
    "running_totals"
   ]
  },
  {
   "cell_type": "code",
   "execution_count": null,
   "metadata": {
    "collapsed": true
   },
   "outputs": [],
   "source": [
    "from pprint import pprint\n",
    "pprint(all_diffs)\n",
    "pprint(all_ratios)"
   ]
  },
  {
   "cell_type": "code",
   "execution_count": null,
   "metadata": {
    "collapsed": true
   },
   "outputs": [],
   "source": [
    "with open('all_ratios.json', 'w') as f:\n",
    "    json.dump(all_ratios, f)\n",
    "with open('all_diffs.json', 'w') as f:\n",
    "    json.dump(all_diffs, f)"
   ]
  },
  {
   "cell_type": "markdown",
   "metadata": {
    "collapsed": true
   },
   "source": [
    "# Back of the napkin"
   ]
  },
  {
   "cell_type": "code",
   "execution_count": null,
   "metadata": {
    "collapsed": true
   },
   "outputs": [],
   "source": [
    "\n",
    "# non-boycott\n",
    "# {'30_1m': -23.058666562695052, '30_20m': -2.8121875718078724}\n",
    "# all\n",
    "# {'30_1m': -49.3478951742734, '30_20m': -34.76984903171993}\n",
    "boycott_size =0.3\n",
    "\n",
    "strike_effects = {\n",
    "    '1m': 0.493,\n",
    "    '20m': 0.348,\n",
    "}\n",
    "\n",
    "boycott_effects = {\n",
    "    '1m': 0.23,\n",
    "    '20m': 0.028,\n",
    "}\n",
    "views_from_rec = 0.3\n",
    "\n",
    "total_effects = {\n",
    "    'strike': {},\n",
    "    'boycott': {},\n",
    "    'ratio': {},\n",
    "}\n",
    "\n",
    "# ds for dataset!\n",
    "for ds in ['1m', '20m']:\n",
    "    total_effects['boycott'][ds] = (1 - boycott_size) * boycott_effects[ds] * views_from_rec + boycott_size\n",
    "    total_effects['strike'][ds] = 1 * strike_effects[ds] * views_from_rec\n",
    "    total_effects['ratio'][ds] = total_effects['boycott'][ds] / total_effects['strike'][ds]\n",
    "\n",
    "\n",
    "from pprint import pprint\n",
    "pprint(total_effects)"
   ]
  },
  {
   "cell_type": "code",
   "execution_count": null,
   "metadata": {
    "collapsed": true
   },
   "outputs": [],
   "source": []
  }
 ],
 "metadata": {
  "celltoolbar": "Edit Metadata",
  "kernelspec": {
   "display_name": "Python 3",
   "language": "python",
   "name": "python3"
  },
  "language_info": {
   "codemirror_mode": {
    "name": "ipython",
    "version": 3
   },
   "file_extension": ".py",
   "mimetype": "text/x-python",
   "name": "python",
   "nbconvert_exporter": "python",
   "pygments_lexer": "ipython3",
   "version": "3.6.6"
  }
 },
 "nbformat": 4,
 "nbformat_minor": 2
}
