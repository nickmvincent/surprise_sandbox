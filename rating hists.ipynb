{
 "cells": [
  {
   "cell_type": "code",
   "execution_count": 3,
   "metadata": {},
   "outputs": [
    {
     "name": "stdout",
     "output_type": "stream",
     "text": [
      "Path to ratings file is: C:\\Users\\Nick/.surprise_data/ml-1m/ml-1m/ratings.dat\n",
      "   user_id gender  age  occupation zip_code\n",
      "0        1      F    1          10    48067\n",
      "1        2      M   56          16    70072\n",
      "2        3      M   25          15    55117\n",
      "3        4      M   45           7    02460\n",
      "4        5      M   25          20    55455\n",
      "   user_id  movie_id  rating  unix_timestamp\n",
      "0        1      1193       5       978300760\n",
      "1        1       661       3       978302109\n",
      "2        1       914       3       978301968\n",
      "3        1      3408       4       978300275\n",
      "4        1      2355       5       978824291\n"
     ]
    }
   ],
   "source": [
    "import pandas as pd\n",
    "import numpy as np\n",
    "from pprint import pprint\n",
    "\n",
    "from utils import get_dfs, concat_output_filename, load_head_items\n",
    "from prep_organized_boycotts import (\n",
    "    group_by_age, group_by_gender, group_by_genre,\n",
    "    group_by_occupation, group_by_power, group_by_state, group_by_genre_strict\n",
    ")\n",
    "dfs = get_dfs('ml-1m')\n",
    "users_df = dfs['users']\n",
    "ratings_df = dfs['ratings']\n",
    "print(users_df.head())\n",
    "print(ratings_df.head())"
   ]
  },
  {
   "cell_type": "code",
   "execution_count": 4,
   "metadata": {},
   "outputs": [
    {
     "name": "stdout",
     "output_type": "stream",
     "text": [
      "Mean\n",
      "rating    3.581564\n",
      "dtype: float64\n",
      "Mean Along Users\n",
      "3.7027048669997265\n",
      "3706\n"
     ]
    },
    {
     "data": {
      "image/png": "[encoded data removed]",
      "text/plain": [
       "<Figure size 432x288 with 1 Axes>"
      ]
     },
     "metadata": {},
     "output_type": "display_data"
    }
   ],
   "source": [
    "import matplotlib.pyplot as plt\n",
    "ratings_df[['rating']].hist()\n",
    "print('Mean')\n",
    "print(ratings_df[['rating']].mean())\n",
    "print('Mean Along Users')\n",
    "user_to_mean = ratings_df.groupby(['user_id']).mean()[['rating']]\n",
    "print(np.mean(user_to_mean.rating))\n",
    "\n",
    "print(len(ratings_df.groupby(['movie_id'])))\n",
    "\n",
    "plt.show()"
   ]
  },
  {
   "cell_type": "code",
   "execution_count": 5,
   "metadata": {},
   "outputs": [
    {
     "name": "stdout",
     "output_type": "stream",
     "text": [
      "1000209.0\n",
      "Counts\n",
      "269.88909875876953 95.27674726730706\n",
      "53.977819751753906 19.05534945346141\n"
     ]
    }
   ],
   "source": [
    "print(ratings_df[['rating']].count().mean())\n",
    "print('Counts')\n",
    "count_ratings = ratings_df.groupby(['movie_id']).count().rating.mean()\n",
    "count_hits = ratings_df[ratings_df.rating>=4].groupby(['user_id']).count().rating.mean()\n",
    "print(count_ratings, count_hits)\n",
    "print(count_ratings/5, count_hits/5)"
   ]
  },
  {
   "cell_type": "code",
   "execution_count": 6,
   "metadata": {},
   "outputs": [
    {
     "name": "stderr",
     "output_type": "stream",
     "text": [
      "C:\\Users\\Nick\\Anaconda3\\lib\\site-packages\\ipykernel_launcher.py:1: DeprecationWarning: object of type <class 'float'> cannot be safely interpreted as an integer.\n",
      "  \"\"\"Entry point for launching an IPython kernel.\n"
     ]
    },
    {
     "data": {
      "image/png": "[encoded data removed]",
      "text/plain": [
       "<Figure size 432x288 with 1 Axes>"
      ]
     },
     "metadata": {},
     "output_type": "display_data"
    }
   ],
   "source": [
    "ratings_df[['user_id', 'rating']].groupby(['user_id']).count().hist(bins=np.linspace(0, 5000, 5000/20))\n",
    "plt.show()"
   ]
  },
  {
   "cell_type": "code",
   "execution_count": 7,
   "metadata": {},
   "outputs": [
    {
     "name": "stdout",
     "output_type": "stream",
     "text": [
      "709900\n",
      "48579\n"
     ]
    }
   ],
   "source": [
    "tmp = ratings_df[['user_id', 'rating']].groupby(['user_id']).count()\n",
    "tmp2 = tmp[(tmp.rating >= 20) & (tmp.rating < 500)]\n",
    "tmp3 = tmp[(tmp.rating >= 1000) & (tmp.rating < 2000)]\n",
    "print(sum(tmp2.rating))\n",
    "print(sum(tmp3.rating))"
   ]
  },
  {
   "cell_type": "code",
   "execution_count": 8,
   "metadata": {},
   "outputs": [
    {
     "name": "stdout",
     "output_type": "stream",
     "text": [
      "575281\n",
      "0.6228466508116265\n"
     ]
    }
   ],
   "source": [
    "count = len(ratings_df[ratings_df.rating >=4])\n",
    "print(count)\n",
    "counts = []\n",
    "for name, group in ratings_df.groupby(['user_id']):\n",
    "    count = len(group[group.rating >= 4].index) / len(group.index)\n",
    "    #print(count)\n",
    "    counts.append(count)\n",
    "print(np.mean(counts))"
   ]
  },
  {
   "cell_type": "code",
   "execution_count": 9,
   "metadata": {},
   "outputs": [
    {
     "name": "stdout",
     "output_type": "stream",
     "text": [
      "Mean\n",
      "3.5814928270549755\n",
      "Mean Along Movies\n",
      "3.2224749317404155\n",
      "Mean Along Users\n",
      "3.7005455281904336\n"
     ]
    }
   ],
   "source": [
    "uids = list(set(ratings_df.user_id))\n",
    "uids_to_drop = np.random.choice(uids, int(len(uids) * 7/10))\n",
    "\n",
    "mask = ratings_df.user_id.isin(uids_to_drop)\n",
    "post_drop = ratings_df[~mask]\n",
    "dropped = ratings_df[mask]\n",
    "\n",
    "print('Mean')\n",
    "print(np.mean(post_drop.rating))\n",
    "\n",
    "movie_to_mean = post_drop.groupby(['movie_id']).mean()[['rating']]\n",
    "#print(movie_to_mean)\n",
    "print('Mean Along Movies')\n",
    "print(np.mean(movie_to_mean.rating))\n",
    "\n",
    "user_to_mean = post_drop.groupby(['user_id']).mean()[['rating']]\n",
    "print('Mean Along Users')\n",
    "print(np.mean(user_to_mean.rating))\n",
    "\n",
    "# for i, ratingrow in dropped.iterrows():\n",
    "        \n",
    "#     #dropped.hist()\n",
    "#     #print(dropped.mean())\n",
    "#     vals.append(post_drop.mean())\n",
    "#dropped.hist()\n",
    "plt.show()"
   ]
  },
  {
   "cell_type": "code",
   "execution_count": null,
   "metadata": {
    "collapsed": true
   },
   "outputs": [],
   "source": []
  }
 ],
 "metadata": {
  "kernelspec": {
   "display_name": "Python 3",
   "language": "python",
   "name": "python3"
  },
  "language_info": {
   "codemirror_mode": {
    "name": "ipython",
    "version": 3
   },
   "file_extension": ".py",
   "mimetype": "text/x-python",
   "name": "python",
   "nbconvert_exporter": "python",
   "pygments_lexer": "ipython3",
   "version": "3.6.6"
  }
 },
 "nbformat": 4,
 "nbformat_minor": 2
}
