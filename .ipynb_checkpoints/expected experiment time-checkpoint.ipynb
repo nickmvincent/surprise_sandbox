{
 "cells": [
  {
   "cell_type": "markdown",
   "metadata": {},
   "source": [
    "# Napkin Notebook: How long should RecSys experiments take based on our results so far?\n",
    "\n",
    "## Background\n",
    "We've run quite a few experiments on MovieLens 1M. This dataset is described below in a dictionary of relevant descriptive stats."
   ]
  },
  {
   "cell_type": "code",
   "execution_count": 1,
   "metadata": {
    "collapsed": true
   },
   "outputs": [],
   "source": [
    "movielens_1m = {\n",
    "    'num_users': 6040,\n",
    "    'num_movies': 3900,\n",
    "    'num_ratings': 1000209,\n",
    "}"
   ]
  },
  {
   "cell_type": "markdown",
   "metadata": {},
   "source": [
    "On average our movielens 1m experiments were relatively quick.\n",
    "\n",
    "SVD = about 100 + 150 seconds PER fold.\n",
    "KNN = anywhere between 130 (for heavy boycott) to 500 (for light boycott) seconds per fold.\n",
    "\n",
    "For now, let's focus on SVD, assuming KNN will be very difficult to scale to big datasets without some major modifications (esp. considering the cost can't be \"pre-paid\", you have to run expensive computations when producing predictions).\n",
    "\n",
    "We'll assume an average about about 250 seconds per fold, or 1250 seconds per experiment."
   ]
  },
  {
   "cell_type": "code",
   "execution_count": 7,
   "metadata": {},
   "outputs": [
    {
     "name": "stdout",
     "output_type": "stream",
     "text": [
      "20.833333333333332\n"
     ]
    }
   ],
   "source": [
    "seconds_per_experiment = 1250\n",
    "\n",
    "minutes_per_experiment = seconds_per_experiment / 60\n",
    "print(minutes_per_experiment)"
   ]
  },
  {
   "cell_type": "markdown",
   "metadata": {},
   "source": [
    "Useful resources:\n",
    "\n",
    "http://acsweb.ucsd.edu/~dklim/mf_presentation.pdf\n",
    "\n",
    "https://web.stanford.edu/~lmackey/papers/cf_slides-pml09.pdf\n",
    "We see here that solving SVD with missing values through Stochastic Gradient Descent (i.e. our implementation) should have time complexity of O(NK) per epoch.\n",
    "\n",
    "U users, M items. We have a U x M matrix R. \n",
    "\n",
    "R = A X B^T\n",
    "A is U x K (user factor), B is M x K (item factor)\n",
    "\n",
    "N is the total number of observed ratings, (user, item, rating).\n",
    "\n",
    "For more detail: http://www.cs.utexas.edu/~inderjit/public_papers/kais-pmf.pdf\n",
    "\n",
    "\n",
    "Movielens 20M looks like this:"
   ]
  },
  {
   "cell_type": "code",
   "execution_count": 3,
   "metadata": {
    "collapsed": true
   },
   "outputs": [],
   "source": [
    "movielens_20m = {\n",
    "    'num_users': 138493,\n",
    "    'num_movies': 27278,\n",
    "    'num_ratings': 20000263,\n",
    "}"
   ]
  },
  {
   "cell_type": "markdown",
   "metadata": {},
   "source": [
    "So let's see what the ratios look like:"
   ]
  },
  {
   "cell_type": "code",
   "execution_count": 5,
   "metadata": {},
   "outputs": [
    {
     "name": "stdout",
     "output_type": "stream",
     "text": [
      "{'num_users': 22.92930463576159, 'num_movies': 6.994358974358974, 'num_ratings': 19.99608381848194}\n"
     ]
    }
   ],
   "source": [
    "ratios = {key: movielens_20m[key]/movielens_1m[key] for key in movielens_20m.keys()}\n",
    "print(ratios)"
   ]
  },
  {
   "cell_type": "markdown",
   "metadata": {},
   "source": [
    "For SVD, our matrix is going to consist of m rows for m users and n columns for n items.\n",
    "\n",
    "Therefore, when going from Movielens 1M to MovieLens 20M we'd expect to see an increase consistent with the increases in number of users and movies."
   ]
  },
  {
   "cell_type": "code",
   "execution_count": 13,
   "metadata": {},
   "outputs": [
    {
     "name": "stdout",
     "output_type": "stream",
     "text": [
      "6.943084659195118 0.28929519413312993\n"
     ]
    }
   ],
   "source": [
    "increase = ratios['num_ratings']\n",
    "\n",
    "new_minutes_per_experiment = minutes_per_experiment * increase\n",
    "new_hours_per_experiment = new_minutes_per_experiment / 60\n",
    "new_days_per_experiment = new_hours_per_experiment / 24\n",
    "print(new_hours_per_experiment, new_days_per_experiment)"
   ]
  },
  {
   "cell_type": "code",
   "execution_count": null,
   "metadata": {
    "collapsed": true
   },
   "outputs": [],
   "source": []
  }
 ],
 "metadata": {
  "kernelspec": {
   "display_name": "Python 3",
   "language": "python",
   "name": "python3"
  },
  "language_info": {
   "codemirror_mode": {
    "name": "ipython",
    "version": 3
   },
   "file_extension": ".py",
   "mimetype": "text/x-python",
   "name": "python",
   "nbconvert_exporter": "python",
   "pygments_lexer": "ipython3",
   "version": "3.6.1"
  }
 },
 "nbformat": 4,
 "nbformat_minor": 2
}
