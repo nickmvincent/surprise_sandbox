{
 "cells": [
  {
   "cell_type": "code",
   "execution_count": 1,
   "metadata": {
    "collapsed": true
   },
   "outputs": [],
   "source": [
    "import pandas as pd\n",
    "import numpy as np\n",
    "from pprint import pprint\n",
    "\n",
    "from utils import get_dfs, concat_output_filename, load_head_items\n",
    "from prep_organized_boycotts import (\n",
    "    group_by_age, group_by_gender, group_by_genre,\n",
    "    group_by_occupation, group_by_power, group_by_state, group_by_genre_strict\n",
    ")"
   ]
  },
  {
   "cell_type": "code",
   "execution_count": 2,
   "metadata": {},
   "outputs": [
    {
     "name": "stdout",
     "output_type": "stream",
     "text": [
      "Path to ratings file is: C:\\Users\\Nick/.surprise_data/ml-1m/ml-1m/ratings.dat\n"
     ]
    }
   ],
   "source": [
    "dfs = get_dfs('ml-1m')"
   ]
  },
  {
   "cell_type": "code",
   "execution_count": null,
   "metadata": {},
   "outputs": [],
   "source": [
    "users_df = dfs['users']\n",
    "ratings_df = dfs['ratings']\n",
    "print(users_df.head())\n",
    "print(ratings_df.head())"
   ]
  },
  {
   "cell_type": "code",
   "execution_count": null,
   "metadata": {},
   "outputs": [],
   "source": [
    "from collections import defaultdict\n",
    "from scipy.spatial.distance import cosine\n",
    "\n",
    "#groups = group_by_gender(users_df) + group_by_genre(users_df, ratings_df, dfs['movies'], 'ml-1m') + group_by_age(users_df)\n",
    "groups = group_by_gender(users_df)\n",
    "groups += [{'name': 'all', 'df': users_df}]\n",
    "movie_set = sorted(list(set(ratings_df.movie_id)))\n",
    "\n",
    "user_to_vec = {}\n",
    "group_to_implicit_vecs = defaultdict(list)\n",
    "group_to_explicit_vecs = defaultdict(list)\n",
    "\n",
    "# we're gonna do a bunch of stuff at once\n",
    "for group in groups:\n",
    "    print(group['name'])\n",
    "    \n",
    "    # Get all the user ids in this boycott group (e.g. all Comedy fans or all users of a certain age range)\n",
    "    group_uid_set = set(list(group['df'].user_id)[:10])\n",
    "    \n",
    "    for user_id in group_uid_set:\n",
    "        # get all the ratings for this user\n",
    "        user_ratings = ratings_df[ratings_df.user_id == user_id]\n",
    "        user_movie_set = list(set(user_ratings.movie_id))\n",
    "        \n",
    "        implicit_vec = []\n",
    "        explicit_vec = []\n",
    "        for movie_id in movie_set:\n",
    "            if movie_id in user_movie_set:\n",
    "                implicit_vec.append(1)\n",
    "                explicit_vec.append(user_ratings[user_ratings.movie_id == movie_id].rating)\n",
    "            else:\n",
    "                implicit_vec.append(0)\n",
    "                explicit_vec.append(3)\n",
    "        implicit_vec = np.array(implicit_vec)\n",
    "        explicit_vec = np.array(explicit_vec)\n",
    "\n",
    "        group_to_implicit_vecs[group['name']].append(implicit_vec)\n",
    "        group_to_explicit_vecs[group['name']].append(explicit_vec)\n",
    "\n",
    "group_to_type_to_centroid = {}\n",
    "for group_to_vecs, type_ in [\n",
    "    (group_to_implicit_vecs, 'implicit',),\n",
    "    (group_to_explicit_vecs, 'explicit',),\n",
    "]:\n",
    "    for group, vecs in group_to_vecs.items():\n",
    "        group_to_type_to_centroid[type_][group] = np.mean(vecs, axis=0)\n",
    "\n",
    "group_to_group_to_vectype_to_distancetype_to_ = defaultdict(\n",
    "    lambda: defaultdict(\n",
    "        lambda: defaultdict(dict)\n",
    "    )\n",
    ")\n",
    "\"\"\"\n",
    "{\n",
    "    comedy:\n",
    "        western:\n",
    "            explicit:\n",
    "                cosine\n",
    "                    0.5\n",
    "                euclidean\n",
    "                    0.4\n",
    "            implicit\n",
    "                cosine\n",
    "                    0.3\n",
    "                euclidean\n",
    "                    0.2\n",
    "        drama\n",
    "        ...\n",
    "        ...\n",
    "    western:\n",
    "        ...\n",
    "        ...\n",
    "}\n",
    "\"\"\"\n",
    "for group, type_to_centroid in group_to_type_to_centroid.items():\n",
    "    for type_, centroid in type_to_centroid.items():\n",
    "        for group2, type_to_centroid2 in group_to_type_to_centroid.items():\n",
    "            if group == group2:\n",
    "                continue\n",
    "            for type_2, centroid2 in type_to_centroid2.items():\n",
    "                if type_2 != type_:\n",
    "                    continue\n",
    "                group_to_group_to_vectype_to_distancetype_to_[\n",
    "                    group][group2][type_]['euclidean'] = np.linalg.norm(centroid - centroid2)\n",
    "                group_to_group_to_vectype_to_distancetype_to_[\n",
    "                    group][group2][type_]['cosine'] = cosine(centroid, centroid2)\n",
    "                \n",
    "    for group2, centroid2 in group_to_centroid.items():\n",
    "        if group == group2:\n",
    "            continue\n",
    "        group_to_group_to_dist[group][group2] = np.linalg.norm(centroid - centroid2)\n",
    "\n",
    "import json\n",
    "with open('some_distances.json', 'w') as f:\n",
    "    json.dump(group_to_group_to_dist, f)\n",
    "#print(group_to_group_to_dist)"
   ]
  },
  {
   "cell_type": "code",
   "execution_count": null,
   "metadata": {},
   "outputs": [],
   "source": [
    "total = len(users_df.index)\n",
    "print('total users', total)\n",
    "for group in group_by_genre(users_df, ratings_df, dfs['movies'], 'ml-1m'):\n",
    "    df = group['df']\n",
    "    users = sorted(list(set(df.user_id)))\n",
    "    print(group['name'], len(users))\n",
    "    print(users)"
   ]
  },
  {
   "cell_type": "code",
   "execution_count": null,
   "metadata": {
    "collapsed": true
   },
   "outputs": [],
   "source": []
  }
 ],
 "metadata": {
  "kernelspec": {
   "display_name": "Python 3",
   "language": "python",
   "name": "python3"
  },
  "language_info": {
   "codemirror_mode": {
    "name": "ipython",
    "version": 3
   },
   "file_extension": ".py",
   "mimetype": "text/x-python",
   "name": "python",
   "nbconvert_exporter": "python",
   "pygments_lexer": "ipython3",
   "version": "3.6.6"
  }
 },
 "nbformat": 4,
 "nbformat_minor": 2
}
