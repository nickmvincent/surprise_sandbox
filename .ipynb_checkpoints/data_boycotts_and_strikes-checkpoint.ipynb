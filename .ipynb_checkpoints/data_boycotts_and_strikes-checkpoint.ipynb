{
 "cells": [
  {
   "cell_type": "markdown",
   "metadata": {},
   "source": [
    "# Data Boycott and Data Strikes: Simulated Campaign Results\n",
    "\n",
    "## Goals of this notebook\n",
    "This notebook includes code for exploring the results of simulated boycotts. It also generates plots (for papers/presentations). This notebook covers 3 broad categories of experiments\n",
    "\n",
    "1. MovieLens 1M random boycotts\n",
    "2. MovieLens 1M homogeneous boycotts (e.g. fans of Comedy movies boycott together, people of a single age group boycott together)\n",
    "3. MovieLens 20M random boycotts\n",
    "\n"
   ]
  },
  {
   "cell_type": "code",
   "execution_count": 1,
   "metadata": {},
   "outputs": [
    {
     "name": "stdout",
     "output_type": "stream",
     "text": [
      "ml-20m 144.4135299257002\n",
      "ml-1m 165.5975165562914\n"
     ]
    }
   ],
   "source": [
    "from collections import defaultdict, OrderedDict\n",
    "import json\n",
    "from pprint import pprint\n",
    "\n",
    "import pandas as pd\n",
    "import numpy as np\n",
    "import seaborn as sns\n",
    "import matplotlib.pyplot as plt\n",
    "sns.set(style=\"darkgrid\")\n",
    "sns.set_color_codes(\"dark\")\n",
    "\n",
    "from scipy import stats\n",
    "from scipy.interpolate import interp1d\n",
    "\n",
    "# http://files.grouplens.org/datasets/movielens/ml-20m-README.txt\n",
    "\n",
    "num_users = {\n",
    "    'ml-20m': 138493,\n",
    "    'ml-1m': 6040\n",
    "}\n",
    "num_ratings = {\n",
    "    'ml-20m': 20000263,\n",
    "    'ml-1m': 1000209\n",
    "}\n",
    "for dataset in ['ml-20m', 'ml-1m']:\n",
    "    ratio = num_ratings[dataset] / num_users[dataset]\n",
    "    print(dataset, ratio)"
   ]
  },
  {
   "cell_type": "markdown",
   "metadata": {},
   "source": [
    "First things first: let's load our master data files. Each is a single csv that was created by the `process_all.py` script."
   ]
  },
  {
   "cell_type": "code",
   "execution_count": 2,
   "metadata": {
    "collapsed": true
   },
   "outputs": [],
   "source": [
    "df_1m = pd.read_csv('ml-1m_collected/all_results.csv', dtype={'indices': str})\n",
    "df_1m = df_1m[df_1m.ratingfrac.notna()]\n",
    "df_1m['dataset'] = 'ml-1m'"
   ]
  },
  {
   "cell_type": "code",
   "execution_count": 3,
   "metadata": {
    "collapsed": true
   },
   "outputs": [],
   "source": [
    "df_20m = pd.read_csv('ml-20m_collected/all_results.csv', dtype={'indices': str})\n",
    "df_20m = df_20m[df_20m.ratingfrac.notna()]\n",
    "df_20m['dataset'] = 'ml-20m'"
   ]
  },
  {
   "cell_type": "markdown",
   "metadata": {},
   "source": [
    "Now we apply transformation that will affect the entire dataframe.\n",
    "1. Calculate the number of users included in each experiment.\n",
    "2. Calculate the number of ratings missing per experiment (so we can estimate how much we'd \"expect\" performance to decrease)\n",
    "3. Calculate the number of ratings missing per experiment, rounded to the nearest 10^5"
   ]
  },
  {
   "cell_type": "code",
   "execution_count": 4,
   "metadata": {
    "collapsed": true
   },
   "outputs": [],
   "source": [
    "for df, dataset in [\n",
    "    (df_1m, 'ml-1m',),\n",
    "    (df_20m, 'ml-20m',),\n",
    "]:\n",
    "    # Whoops! Assign doesn't work in a for loop.\n",
    "#     df = df.assign(num_users_boycotting = [(NUM_USERS - int(x))/NUM_USERS for x in df.num_users])\n",
    "#     df = df.assign(num_ratings_missing = [NUM_RATINGS - int(x) for x in df.num_ratings])\n",
    "#     df = df.assign(nrm_rounded = [round(x, -5) for x in df.num_ratings_missing])\n",
    "    df['num_users_boycotting'] = [(num_users[dataset] - int(x)) / num_users[dataset] for x in df.num_users]\n",
    "    df['num_ratings_missing'] = [num_ratings[dataset] - int(x) for x in df.num_ratings]\n",
    "    df['nrm_rounded'] = [round(x, -5) for x in df.num_ratings_missing]\n",
    "    \n",
    "\n",
    "    # drop columns we're not going to use.\n",
    "    drops = [\n",
    "        #'tail',\n",
    "        # 'vanilla',\n",
    "    ]\n",
    "    for column in df.columns.values:\n",
    "        for drop in drops:\n",
    "            if drop in column:\n",
    "                df = df.drop(column, axis=1)"
   ]
  },
  {
   "cell_type": "markdown",
   "metadata": {},
   "source": [
    "# EDIT ME\n",
    "Define all the lists that can be used throughout. By editing this cell we can easily modify the full notebook."
   ]
  },
  {
   "cell_type": "code",
   "execution_count": 5,
   "metadata": {
    "collapsed": true
   },
   "outputs": [],
   "source": [
    "id_vars = ['name','algo_name', 'indices', 'ratingfrac', 'userfrac', 'num_ratings', 'num_users', 'num_users_boycotting']\n",
    "#id_vars = [x for x in id_vars if x in list(df.columns.values)]\n",
    "metrics = [\n",
    "    'rmse',\n",
    "    'ndcg10',\n",
    "    #'tailndcg10',\n",
    "    #'ndcg5',\n",
    "    #'tailndcg5',\n",
    "    #'ndcgfull',\n",
    "    #'tailndcgfull',\n",
    "    #'ndcgfull',\n",
    "    'prec10t4',\n",
    "    #'tailprec10t4',\n",
    "    'prec5t4',\n",
    "    #'tailprec5t4',\n",
    "]\n",
    "\n",
    "organized_experiments = [\n",
    "    'gender', 'state', 'power', 'genre', 'occupation', 'age'\n",
    "]\n",
    "algo_names = [\n",
    "    #'KNNBaseline_item_msd',\n",
    "    'SVD'\n",
    "]\n",
    "standard_algo_names = [\n",
    "    'SVD', \n",
    "    #'GlobalMean', \n",
    "    'GuessThree',\n",
    "    'MovieMean', \n",
    "    'KNNBaseline_item_msd',\n",
    "    'KNNBasic_user_msd',\n",
    "    'KNNBasic_item_msd',\n",
    "]"
   ]
  },
  {
   "cell_type": "markdown",
   "metadata": {},
   "source": [
    "## Load and Organize Standard Results\n",
    "For any of our visualizations to be meaningful, we need standard results to compare the boycott results to. These standards let us evaluate \"what is the effect of the boycott compared to other algorithms\".\n",
    "\n",
    "In particular, we compare the boycott performance to performance when using very non-personalized algorithms (MovieMean) and simpler personalized algorithms (user-based KNN, item-based KNN).\n",
    "\n",
    "Below, we load these results from json files into Python data structures so we can use below when generating plots."
   ]
  },
  {
   "cell_type": "code",
   "execution_count": 6,
   "metadata": {},
   "outputs": [
    {
     "name": "stdout",
     "output_type": "stream",
     "text": [
      "File not found: standard_results/ml-20m_ratingcv_standards_for_KNNBasic_user_msd.json\n",
      "{'ml-1m': defaultdict(<function <lambda> at 0x000001CC9DCB0EA0>,\n",
      "                      {'SVD': defaultdict(<class 'dict'>,\n",
      "                                          {'ndcg10': {'GuessThree': -25.461650332747237,\n",
      "                                                      'KNNBaseline_item_msd': -0.21579272303199185,\n",
      "                                                      'KNNBasic_item_msd': -0.783459813821296,\n",
      "                                                      'KNNBasic_user_msd': -1.774069901999796,\n",
      "                                                      'MovieMean': -2.527446665665193,\n",
      "                                                      'SVD': 0.0},\n",
      "                                           'prec10t4': {'GuessThree': -21.617622807843677,\n",
      "                                                        'KNNBaseline_item_msd': -0.4900856728399296,\n",
      "                                                        'KNNBasic_item_msd': -0.6642378050124103,\n",
      "                                                        'KNNBasic_user_msd': -1.4050848226425996,\n",
      "                                                        'MovieMean': -2.258534297970622,\n",
      "                                                        'SVD': 0.0},\n",
      "                                           'prec5t4': {'GuessThree': -24.30659486465142,\n",
      "                                                       'KNNBaseline_item_msd': -0.529378637041282,\n",
      "                                                       'KNNBasic_item_msd': -0.6748624446002379,\n",
      "                                                       'KNNBasic_user_msd': -1.6776604738791798,\n",
      "                                                       'MovieMean': -2.484068935939652,\n",
      "                                                       'SVD': 0.0},\n",
      "                                           'rmse': {'GuessThree': 44.11556565683586,\n",
      "                                                    'KNNBaseline_item_msd': 1.326125568048003,\n",
      "                                                    'KNNBasic_item_msd': 4.626236780474338,\n",
      "                                                    'KNNBasic_user_msd': 5.627334338473019,\n",
      "                                                    'MovieMean': 12.072697294556987,\n",
      "                                                    'SVD': 0.0}})}),\n",
      " 'ml-20m': defaultdict(<function <lambda> at 0x000001CC9DCC67B8>,\n",
      "                       {'SVD': defaultdict(<class 'dict'>,\n",
      "                                           {'ndcg10': {'1M_SVD': -2.3961525421001535,\n",
      "                                                       'GuessThree': -24.636094062128187,\n",
      "                                                       'KNNBaseline_item_msd': -2.545825243372394,\n",
      "                                                       'KNNBasic_item_msd': -2.2383269117241746,\n",
      "                                                       'KNNBasic_user_msd': 0,\n",
      "                                                       'MovieMean': -5.647772312509133,\n",
      "                                                       'SVD': 0.0},\n",
      "                                            'prec10t4': {'1M_SVD': 5.247904559267778,\n",
      "                                                         'GuessThree': -26.02609136733745,\n",
      "                                                         'KNNBaseline_item_msd': -2.6578245579146857,\n",
      "                                                         'KNNBasic_item_msd': -1.8343231995464522,\n",
      "                                                         'KNNBasic_user_msd': 0,\n",
      "                                                         'MovieMean': -5.237033945496111,\n",
      "                                                         'SVD': 0.0},\n",
      "                                            'prec5t4': {'1M_SVD': 5.15464053916981,\n",
      "                                                        'GuessThree': -28.466730868340402,\n",
      "                                                        'KNNBaseline_item_msd': -2.984744226034955,\n",
      "                                                        'KNNBasic_item_msd': -2.0766417666276387,\n",
      "                                                        'KNNBasic_user_msd': 0,\n",
      "                                                        'MovieMean': -5.9464068072065395,\n",
      "                                                        'SVD': 0.0},\n",
      "                                            'rmse': {'1M_SVD': 11.166751126528048,\n",
      "                                                     'GuessThree': 49.59102014901265,\n",
      "                                                     'KNNBaseline_item_msd': 4.991087869128467,\n",
      "                                                     'KNNBasic_item_msd': 8.197945180278845,\n",
      "                                                     'KNNBasic_user_msd': 0,\n",
      "                                                     'MovieMean': 19.759535282577247,\n",
      "                                                     'SVD': 0.0}})})}\n"
     ]
    }
   ],
   "source": [
    "dataset_to_algo_to_metric_to_altalgo = {}\n",
    "ds2standards = {}\n",
    "\n",
    "one_mill_svd = {}\n",
    "for dataset in [\n",
    "    'ml-1m',\n",
    "    'ml-20m',\n",
    "]:\n",
    "    standard_results = {}\n",
    "    algo_to_metric_to_altalgo = defaultdict(lambda: defaultdict(dict))\n",
    "\n",
    "    for algo_name in standard_algo_names:\n",
    "        try:\n",
    "            filename_ratingcv_standards = 'standard_results/{}_ratingcv_standards_for_{}.json'.format(\n",
    "                dataset, algo_name)\n",
    "            with open(filename_ratingcv_standards, 'r') as f:\n",
    "                standard_results[algo_name] = json.load(f)\n",
    "                if algo_name == 'SVD' and dataset == 'ml-1m':\n",
    "                    one_mill_svd = standard_results[algo_name]\n",
    "        except FileNotFoundError:\n",
    "            print('File not found: {}'.format(filename_ratingcv_standards))\n",
    "    for main_algo_name in algo_names:\n",
    "        for metric in metrics:\n",
    "            goodval = standard_results[main_algo_name].get(metric, 0)\n",
    "            for st_algo_name in standard_algo_names:\n",
    "                val = standard_results.get(st_algo_name, {}).get(metric)\n",
    "                if val:\n",
    "                    algo_to_metric_to_altalgo[main_algo_name][metric][st_algo_name] = (val - goodval) / goodval * 100 if goodval else 0\n",
    "                else:\n",
    "                    algo_to_metric_to_altalgo[main_algo_name][metric][st_algo_name] = 0\n",
    "            if dataset == 'ml-20m':\n",
    "                val = one_mill_svd.get(metric)\n",
    "                if val:\n",
    "                    algo_to_metric_to_altalgo[main_algo_name][metric]['1M_SVD'] = (val - goodval) / goodval * 100 if goodval else 0\n",
    "                else:\n",
    "                    algo_to_metric_to_altalgo[main_algo_name][metric]['1M_SVD'] = 0\n",
    "            \n",
    "    dataset_to_algo_to_metric_to_altalgo[dataset] = algo_to_metric_to_altalgo\n",
    "    ds2standards[dataset] = standard_results\n",
    "pprint(dataset_to_algo_to_metric_to_altalgo)"
   ]
  },
  {
   "cell_type": "markdown",
   "metadata": {},
   "source": [
    "# Compute a \"coverage-weighted\" metric"
   ]
  },
  {
   "cell_type": "code",
   "execution_count": 7,
   "metadata": {},
   "outputs": [
    {
     "name": "stdout",
     "output_type": "stream",
     "text": [
      "percent_increase_coverage-weighted-ndcg10_non-boycott\n",
      "percent_increase_coverage-weighted-ndcg10_all\n",
      "percent_increase_coverage-weighted-ndcg10_non-boycott\n",
      "percent_increase_coverage-weighted-ndcg10_all\n"
     ]
    }
   ],
   "source": [
    "for df, dataset in [\n",
    "    (df_1m, 'ml-1m',),\n",
    "    (df_20m, 'ml-20m',),\n",
    "]:\n",
    "    # will only work for SVD as its written right now.\n",
    "    for group in ['non-boycott', 'all']:\n",
    "        \n",
    "        new_metric = 'coverage-weighted-ndcg10'\n",
    "        comparison = dataset_to_algo_to_metric_to_altalgo[dataset]['SVD']['ndcg10']['GuessThree']\n",
    "\n",
    "        new_key = '{}_{}_{}'.format('percent_increase', new_metric, group)\n",
    "        print(new_key)\n",
    "        if group == 'all':\n",
    "            frac_miss_arr = [0] * len(df.index)\n",
    "        else:\n",
    "            frac_miss_arr = list(df['num_users_boycotting'])\n",
    "        df[new_key] = [\n",
    "            ndcg_val * (1 - frac_miss) + comparison * frac_miss for (\n",
    "                ndcg_val, frac_miss\n",
    "            ) in zip(df['percent_increase_ndcg10_{}'.format(group)], frac_miss_arr)\n",
    "        ]"
   ]
  },
  {
   "cell_type": "markdown",
   "metadata": {},
   "source": [
    "# Estimate change in \"hits\" based on precision\n",
    "\n",
    "For a given list of k-items, we assume users will click the items in that list that are \"good\" (rating over 4).\n",
    "\n",
    "\n",
    "One way to do this is to follow this linear model:\n",
    "\n",
    "* a user who gets a list with \"full precision\" (i.e. SVD w/ full data) provides 5 hits\n",
    "* a user who gets a list with \"un-personalized precision\" (i.e. MovieMean) provides 5/ratio hits!\n",
    "* note that in this case even users w/ bad lists still provide hits\n",
    "\n",
    "Using these two points, we fit a line:\n",
    "\n",
    "\n",
    "When ratio=1, recommender adds NO VALUE and therefore strikes do NO DAMAGE!\n",
    "\n",
    "Anchor:hits"
   ]
  },
  {
   "cell_type": "code",
   "execution_count": 8,
   "metadata": {},
   "outputs": [
    {
     "name": "stdout",
     "output_type": "stream",
     "text": [
      "new_key percent_increase_1.1hits-prec5t4_non-boycott\n",
      "[-2.484068935939652, 0]\n",
      "[-2745.4545454545478, 0]\n",
      "c [ 1.10522478e+03 -1.97005053e-13]\n",
      "tph 30200\n",
      "new_key percent_increase_1.1hits-prec5t4_all\n",
      "[-2.484068935939652, 0]\n",
      "[-2745.4545454545478, 0]\n",
      "c [ 1.10522478e+03 -1.97005053e-13]\n",
      "tph 30200\n",
      "new_key percent_increase_1.1hits-prec10t4_non-boycott\n",
      "[-2.258534297970622, 0]\n",
      "[-5490.9090909090955, 0]\n",
      "c [ 2.43118251e+03 -3.94010106e-13]\n",
      "tph 60400\n",
      "new_key percent_increase_1.1hits-prec10t4_all\n",
      "[-2.258534297970622, 0]\n",
      "[-5490.9090909090955, 0]\n",
      "c [ 2.43118251e+03 -3.94010106e-13]\n",
      "tph 60400\n",
      "new_key percent_increase_1.1hits-ndcg10_non-boycott\n",
      "[-2.527446665665193, 0]\n",
      "[-5490.9090909090955, 0]\n",
      "c [ 2.17251235e+03 -3.94010106e-13]\n",
      "tph 60400\n",
      "new_key percent_increase_1.1hits-ndcg10_all\n",
      "[-2.527446665665193, 0]\n",
      "[-5490.9090909090955, 0]\n",
      "c [ 2.17251235e+03 -3.94010106e-13]\n",
      "tph 60400\n",
      "new_key percent_increase_2hits-prec5t4_non-boycott\n",
      "[-2.484068935939652, 0]\n",
      "[-15100.0, 0]\n",
      "c [ 6.07873629e+03 -4.39002064e-14]\n",
      "tph 30200\n",
      "new_key percent_increase_2hits-prec5t4_all\n",
      "[-2.484068935939652, 0]\n",
      "[-15100.0, 0]\n",
      "c [ 6.07873629e+03 -4.39002064e-14]\n",
      "tph 30200\n",
      "new_key percent_increase_2hits-prec10t4_non-boycott\n",
      "[-2.258534297970622, 0]\n",
      "[-30200.0, 0]\n",
      "c [ 1.33715038e+04 -8.78004128e-14]\n",
      "tph 60400\n",
      "new_key percent_increase_2hits-prec10t4_all\n",
      "[-2.258534297970622, 0]\n",
      "[-30200.0, 0]\n",
      "c [ 1.33715038e+04 -8.78004128e-14]\n",
      "tph 60400\n",
      "new_key percent_increase_2hits-ndcg10_non-boycott\n",
      "[-2.527446665665193, 0]\n",
      "[-30200.0, 0]\n",
      "c [ 1.19488179e+04 -8.78004128e-14]\n",
      "tph 60400\n",
      "new_key percent_increase_2hits-ndcg10_all\n",
      "[-2.527446665665193, 0]\n",
      "[-30200.0, 0]\n",
      "c [ 1.19488179e+04 -8.78004128e-14]\n",
      "tph 60400\n",
      "new_key percent_increase_4hits-prec5t4_non-boycott\n",
      "[-2.484068935939652, 0]\n",
      "[-22650.0, 0]\n",
      "c [9.11810444e+03 5.77259562e-13]\n",
      "tph 30200\n",
      "new_key percent_increase_4hits-prec5t4_all\n",
      "[-2.484068935939652, 0]\n",
      "[-22650.0, 0]\n",
      "c [9.11810444e+03 5.77259562e-13]\n",
      "tph 30200\n",
      "new_key percent_increase_4hits-prec10t4_non-boycott\n",
      "[-2.258534297970622, 0]\n",
      "[-45300.0, 0]\n",
      "c [2.00572557e+04 1.15451912e-12]\n",
      "tph 60400\n",
      "new_key percent_increase_4hits-prec10t4_all\n",
      "[-2.258534297970622, 0]\n",
      "[-45300.0, 0]\n",
      "c [2.00572557e+04 1.15451912e-12]\n",
      "tph 60400\n",
      "new_key percent_increase_4hits-ndcg10_non-boycott\n",
      "[-2.527446665665193, 0]\n",
      "[-45300.0, 0]\n",
      "c [1.79232269e+04 1.15451912e-12]\n",
      "tph 60400\n",
      "new_key percent_increase_4hits-ndcg10_all\n",
      "[-2.527446665665193, 0]\n",
      "[-45300.0, 0]\n",
      "c [1.79232269e+04 1.15451912e-12]\n",
      "tph 60400\n",
      "new_key percent_increase_1.1hits-prec5t4_non-boycott\n",
      "[-5.9464068072065395, 0]\n",
      "[-62951.36363636365, 0]\n",
      "c [ 1.05864543e+04 -1.00733407e-12]\n",
      "tph 692465\n",
      "new_key percent_increase_1.1hits-prec5t4_all\n",
      "[-5.9464068072065395, 0]\n",
      "[-62951.36363636365, 0]\n",
      "c [ 1.05864543e+04 -1.00733407e-12]\n",
      "tph 692465\n",
      "new_key percent_increase_1.1hits-prec10t4_non-boycott\n",
      "[-5.237033945496111, 0]\n",
      "[-125902.7272727273, 0]\n",
      "c [ 2.40408461e+04 -2.01466814e-12]\n",
      "tph 1384930\n",
      "new_key percent_increase_1.1hits-prec10t4_all\n",
      "[-5.237033945496111, 0]\n",
      "[-125902.7272727273, 0]\n",
      "c [ 2.40408461e+04 -2.01466814e-12]\n",
      "tph 1384930\n",
      "new_key percent_increase_1.1hits-ndcg10_non-boycott\n",
      "[-5.647772312509133, 0]\n",
      "[-125902.7272727273, 0]\n",
      "c [ 2.22924580e+04 -2.01466814e-12]\n",
      "tph 1384930\n",
      "new_key percent_increase_1.1hits-ndcg10_all\n",
      "[-5.647772312509133, 0]\n",
      "[-125902.7272727273, 0]\n",
      "c [ 2.22924580e+04 -2.01466814e-12]\n",
      "tph 1384930\n",
      "new_key percent_increase_2hits-prec5t4_non-boycott\n",
      "[-5.9464068072065395, 0]\n",
      "[-346232.5, 0]\n",
      "c [5.82254984e+04 4.84082938e-12]\n",
      "tph 692465\n",
      "new_key percent_increase_2hits-prec5t4_all\n",
      "[-5.9464068072065395, 0]\n",
      "[-346232.5, 0]\n",
      "c [5.82254984e+04 4.84082938e-12]\n",
      "tph 692465\n",
      "new_key percent_increase_2hits-prec10t4_non-boycott\n",
      "[-5.237033945496111, 0]\n",
      "[-692465.0, 0]\n",
      "c [1.32224654e+05 9.68165875e-12]\n",
      "tph 1384930\n",
      "new_key percent_increase_2hits-prec10t4_all\n",
      "[-5.237033945496111, 0]\n",
      "[-692465.0, 0]\n",
      "c [1.32224654e+05 9.68165875e-12]\n",
      "tph 1384930\n",
      "new_key percent_increase_2hits-ndcg10_non-boycott\n",
      "[-5.647772312509133, 0]\n",
      "[-692465.0, 0]\n",
      "c [1.22608519e+05 9.68165875e-12]\n",
      "tph 1384930\n",
      "new_key percent_increase_2hits-ndcg10_all\n",
      "[-5.647772312509133, 0]\n",
      "[-692465.0, 0]\n",
      "c [1.22608519e+05 9.68165875e-12]\n",
      "tph 1384930\n",
      "new_key percent_increase_4hits-prec5t4_non-boycott\n",
      "[-5.9464068072065395, 0]\n",
      "[-519348.75, 0]\n",
      "c [ 8.73382476e+04 -3.02851387e-12]\n",
      "tph 692465\n",
      "new_key percent_increase_4hits-prec5t4_all\n",
      "[-5.9464068072065395, 0]\n",
      "[-519348.75, 0]\n",
      "c [ 8.73382476e+04 -3.02851387e-12]\n",
      "tph 692465\n",
      "new_key percent_increase_4hits-prec10t4_non-boycott\n",
      "[-5.237033945496111, 0]\n",
      "[-1038697.5, 0]\n",
      "c [ 1.98336981e+05 -6.05702774e-12]\n",
      "tph 1384930\n",
      "new_key percent_increase_4hits-prec10t4_all\n",
      "[-5.237033945496111, 0]\n",
      "[-1038697.5, 0]\n",
      "c [ 1.98336981e+05 -6.05702774e-12]\n",
      "tph 1384930\n",
      "new_key percent_increase_4hits-ndcg10_non-boycott\n",
      "[-5.647772312509133, 0]\n",
      "[-1038697.5, 0]\n",
      "c [ 1.83912779e+05 -6.05702774e-12]\n",
      "tph 1384930\n",
      "new_key percent_increase_4hits-ndcg10_all\n",
      "[-5.647772312509133, 0]\n",
      "[-1038697.5, 0]\n",
      "c [ 1.83912779e+05 -6.05702774e-12]\n",
      "tph 1384930\n"
     ]
    }
   ],
   "source": [
    "normalize_hits = False\n",
    "\n",
    "for df, dataset in [\n",
    "    (df_1m, 'ml-1m',),\n",
    "    (df_20m, 'ml-20m',),\n",
    "]:\n",
    "    metric2altalgo = dataset_to_algo_to_metric_to_altalgo[dataset]['SVD']\n",
    "    # will only work for SVD as its written right now.\n",
    "    \n",
    "    #personalization_boost_coefficient\n",
    "    for pbc in [\n",
    "        1.1, 2, 4, \n",
    "    ]:\n",
    "        for old_metric, k in [\n",
    "            ('prec5t4', 5),\n",
    "            ('prec10t4', 10),\n",
    "            ('ndcg10', 10),\n",
    "        ]:\n",
    "            for group in ['non-boycott', 'all']:\n",
    "                # name the new dataframe column\n",
    "                new_metric = '{}hits-{}'.format(pbc, old_metric)\n",
    "                total_possible_hits = num_users[dataset] * k\n",
    "                # boycotting users provide 0 hits. \n",
    "                # so with a full boycott, damage = total possible hits\n",
    "                comparison = -1 * total_possible_hits\n",
    "                #comparison = -1 * ds2standards[dataset]['SVD'][old_metric] * total_possible_hits\n",
    "\n",
    "                key_template = 'percent_increase_{}_{}'\n",
    "                new_key = key_template.format(new_metric, group)\n",
    "                print('new_key', new_key)\n",
    "\n",
    "                # no missing users in a strike (\"All Users\" perspective)\n",
    "                if group == 'all':\n",
    "                    frac_miss_arr = [0] * len(df.index)\n",
    "                # there are missing users in a data boycott!\n",
    "                else:\n",
    "                    frac_miss_arr = list(df['num_users_boycotting'])\n",
    "\n",
    "\n",
    "                labor_metric = 'labor-' + new_metric\n",
    "                consumer_metric = 'consumer-' + new_metric\n",
    "\n",
    "                pred_diff = metric2altalgo[old_metric]['MovieMean']\n",
    "                # should get more negative as prec_val gets more negative\n",
    "\n",
    "                coefficients = np.polyfit(\n",
    "                    [pred_diff, 0], # x values\n",
    "                    [total_possible_hits/pbc - total_possible_hits, 0],# y values\n",
    "                    1, # polynomial ordenr, e.g. this is a line\n",
    "                )\n",
    "                print([pred_diff, 0])\n",
    "                print([total_possible_hits/pbc - total_possible_hits, 0])\n",
    "                print('c', coefficients)\n",
    "                print('tph', total_possible_hits)\n",
    "\n",
    "                df[key_template.format(labor_metric, group)] = [\n",
    "                    ( coefficients[1] + coefficients[0] * prec_val  * (1 - frac_miss)) for (\n",
    "                        prec_val, frac_miss\n",
    "                    ) in zip(df[key_template.format(old_metric, group)], frac_miss_arr)\n",
    "                ]\n",
    "                df[key_template.format(consumer_metric, group)] = [\n",
    "                    (comparison * frac_miss) for frac_miss in frac_miss_arr\n",
    "                ]\n",
    "\n",
    "                df[new_key] = [\n",
    "                    (labor_power + consumer_power) for (\n",
    "                        labor_power, consumer_power\n",
    "                    ) in zip(\n",
    "                        df[key_template.format('labor-' + new_metric, group)],\n",
    "                        df[key_template.format('consumer-' + new_metric, group)],\n",
    "                    )\n",
    "                ]\n",
    "\n",
    "                if normalize_hits:\n",
    "                    print('Normalizing. Will divide hit values by total possible hits.')\n",
    "                    df[new_key] /= total_possible_hits\n",
    "                    df[key_template.format(labor_metric, group)] /= total_possible_hits\n",
    "                    df[key_template.format(consumer_metric, group)] /= total_possible_hits\n",
    "\n",
    "                for st_al_nm in standard_algo_names:\n",
    "                    old_val = metric2altalgo[old_metric][st_al_nm]\n",
    "                    # convert from percent to raw precision change\n",
    "                    old_val *= ds2standards[dataset]['SVD'][old_metric] / 100\n",
    "                    # multiply by k and the probability of clicks b/c we want to get from prec@5 to hits\n",
    "                    old_val *= k\n",
    "                    old_val *= num_users[dataset]\n",
    "                    if normalize_hits:\n",
    "                        old_val /= total_possible_hits\n",
    "                    metric2altalgo[new_metric][st_al_nm] = old_val\n",
    "                    metric2altalgo[labor_metric][st_al_nm] = old_val\n",
    "                    metric2altalgo[consumer_metric][st_al_nm] = old_val\n",
    "            df['increase_hit-ratio@{}_non-boycott'.format(k)] = [\n",
    "                boycott_val / strike_val for (boycott_val, strike_val) in zip(\n",
    "                    df[key_template.format(new_metric, 'non-boycott')], df[key_template.format(new_metric, 'all')])\n",
    "            ]\n",
    "            df['increase_hit-ratio@{}_all'.format(k)] = [\n",
    "                boycott_val / strike_val for (boycott_val, strike_val) in zip(\n",
    "                    df[key_template.format(new_metric, 'non-boycott')], df[key_template.format(new_metric, 'all')])\n",
    "            ]\n",
    "            #print(df[['num_users_boycotting', 'increase_hits-prec5t4_non-boycott', 'increase_hits-prec5t4_all', 'increase_hit-ratio@5_non-boycott']])\n"
   ]
  },
  {
   "cell_type": "markdown",
   "metadata": {
    "collapsed": true
   },
   "source": [
    "# Compare Precision-Estimated Hits to Actual Hits\n"
   ]
  },
  {
   "cell_type": "code",
   "execution_count": 16,
   "metadata": {},
   "outputs": [
    {
     "name": "stdout",
     "output_type": "stream",
     "text": [
      "200\n",
      "-0.004238821777195058\n",
      "-3923.338215442306\n"
     ]
    }
   ],
   "source": [
    "hits_df = df_1m.copy()\n",
    "hits_df = hits_df[~hits_df.hits_all.isna()]\n",
    "print(len(hits_df.index))\n",
    "hits_metric = 'normhits'\n",
    "# hits_df['increase_normhits_all'] *= num_users['ml-1m']\n",
    "# hits_df['increase_normhits_non-boycott'] *= num_users['ml-1m']\n",
    "print(hits_df['increase_' + hits_metric + '_all'].mean())\n",
    "print(hits_df['percent_increase_1.1hits-prec10t4_all'].mean())"
   ]
  },
  {
   "cell_type": "code",
   "execution_count": 17,
   "metadata": {},
   "outputs": [
    {
     "name": "stdout",
     "output_type": "stream",
     "text": [
      "   num_users_boycotting               variable     value\n",
      "0                   0.2  increase_normhits_all -0.007918\n",
      "1                   0.2  increase_normhits_all -0.011313\n",
      "2                   0.2  increase_normhits_all -0.012382\n",
      "3                   0.2  increase_normhits_all -0.009148\n",
      "4                   0.2  increase_normhits_all -0.012338\n"
     ]
    },
    {
     "name": "stderr",
     "output_type": "stream",
     "text": [
      "C:\\Users\\Nick\\Anaconda3\\lib\\site-packages\\scipy\\stats\\stats.py:1713: FutureWarning: Using a non-tuple sequence for multidimensional indexing is deprecated; use `arr[tuple(seq)]` instead of `arr[seq]`. In the future this will be interpreted as an array index, `arr[np.array(seq)]`, which will result either in an error or a different result.\n",
      "  return np.add.reduce(sorted[indexer] * weights, axis=axis) / sumval\n"
     ]
    },
    {
     "data": {
      "image/png": "[encoded data removed]",
      "text/plain": [
       "<Figure size 553.725x360 with 1 Axes>"
      ]
     },
     "metadata": {},
     "output_type": "display_data"
    }
   ],
   "source": [
    "hits_df = hits_df[[\n",
    "    'num_users_boycotting', \n",
    "    'increase_{}_all'.format(hits_metric), \n",
    "    #'percent_increase_1.1hits-prec10t4_all'\n",
    "    'increase_{}_non-boycott'.format(hits_metric),\n",
    "    'increase_{}_boycott'.format(hits_metric),\n",
    "    \n",
    "    'increase_{}_all'.format('hits'), \n",
    "    #'percent_increase_1.1hits-prec10t4_all'\n",
    "    'increase_{}_non-boycott'.format('hits'),\n",
    "    'increase_{}_boycott'.format('hits'),\n",
    "]].melt(id_vars='num_users_boycotting')\n",
    "print(hits_df.head())\n",
    "\n",
    "# for k in hits_df.num_users_boycotting:\n",
    "#     print(k)\n",
    "#     matches_from_hits = hits_df[hits_df.num_users_boycotting == k]\n",
    "#     matches_from_orig = samples_df_1m[hits_df.num_users_boycotting == k]\n",
    "\n",
    "sns.lmplot(\n",
    "        x=\"num_users_boycotting\", y=\"value\", hue='variable', data=hits_df,\n",
    "        fit_reg=False,\n",
    "        x_estimator=np.mean, ci=99, \n",
    "    )\n",
    "plt.show()"
   ]
  },
  {
   "cell_type": "code",
   "execution_count": 113,
   "metadata": {},
   "outputs": [
    {
     "name": "stdout",
     "output_type": "stream",
     "text": [
      "0.00016556291390728477\n",
      "increase_hits_all 51.84921678781161\n",
      "increase_hits_non-boycott 54.119218551883876\n",
      "0.0004966887417218543\n",
      "increase_hits_all 64.86187712016468\n",
      "increase_hits_non-boycott 73.86523850021682\n",
      "0.0009933774834437086\n",
      "increase_hits_all 50.12550944359289\n",
      "increase_hits_non-boycott 67.30234919407135\n",
      "0.004966887417218543\n",
      "increase_hits_all -18.590418734791538\n",
      "increase_hits_non-boycott 56.71049736891494\n",
      "0.009933774834437087\n",
      "increase_hits_all -105.63731635211013\n",
      "increase_hits_non-boycott 42.306198788853024\n",
      "0.05\n",
      "increase_hits_all -624.6393394696462\n",
      "increase_hits_non-boycott 27.63098833028173\n",
      "0.1\n",
      "increase_hits_all -1366.449344000534\n",
      "increase_hits_non-boycott -142.12731668198492\n",
      "0.2\n",
      "increase_hits_all -2672.1660288293738\n",
      "increase_hits_non-boycott -373.56014937832646\n",
      "0.3\n",
      "increase_hits_all -3642.2930231255996\n",
      "increase_hits_non-boycott -585.8415018476342\n",
      "0.4\n",
      "increase_hits_all -4292.460599666786\n",
      "increase_hits_non-boycott -906.6044539726547\n",
      "0.5\n",
      "increase_hits_all -4604.105193922756\n",
      "increase_hits_non-boycott -1324.1151917922175\n",
      "0.6\n",
      "increase_hits_all -4739.916400749757\n",
      "increase_hits_non-boycott -1837.649535888489\n",
      "0.7\n",
      "increase_hits_all -4314.809090062549\n",
      "increase_hits_non-boycott -2605.478586525868\n",
      "0.8\n",
      "increase_hits_all -3798.082349617268\n",
      "increase_hits_non-boycott -3678.488637140792\n",
      "0.9\n",
      "increase_hits_all -6123.651215714214\n",
      "increase_hits_non-boycott -6047.659880001985\n",
      "0.9900662251655629\n",
      "increase_hits_all -39042.47342847233\n",
      "increase_hits_non-boycott -17124.048361581918\n",
      "defaultdict(<class 'list'>, {'increase_hits_all': [51.84921678781161, 64.86187712016468, 50.12550944359289, -18.590418734791538, -105.63731635211013, -624.6393394696462, -1366.449344000534, -2672.1660288293738, -3642.2930231255996, -4292.460599666786, -4604.105193922756, -4739.916400749757, -4314.809090062549, -3798.082349617268, -6123.651215714214, -39042.47342847233], 'increase_hits_non-boycott': [54.119218551883876, 73.86523850021682, 67.30234919407135, 56.71049736891494, 42.306198788853024, 27.63098833028173, -142.12731668198492, -373.56014937832646, -585.8415018476342, -906.6044539726547, -1324.1151917922175, -1837.649535888489, -2605.478586525868, -3678.488637140792, -6047.659880001985, -17124.048361581918]})\n"
     ]
    },
    {
     "name": "stderr",
     "output_type": "stream",
     "text": [
      "C:\\Users\\Nick\\Anaconda3\\lib\\site-packages\\scipy\\stats\\stats.py:3006: RuntimeWarning: Mean of empty slice.\n",
      "  my = y.mean()\n",
      "C:\\Users\\Nick\\AppData\\Roaming\\Python\\Python36\\site-packages\\numpy\\core\\_methods.py:85: RuntimeWarning: invalid value encountered in double_scalars\n",
      "  ret = ret.dtype.type(ret / rcount)\n"
     ]
    },
    {
     "ename": "ValueError",
     "evalue": "operands could not be broadcast together with shapes (16,) (0,) ",
     "output_type": "error",
     "traceback": [
      "\u001b[1;31m---------------------------------------------------------------------------\u001b[0m",
      "\u001b[1;31mValueError\u001b[0m                                Traceback (most recent call last)",
      "\u001b[1;32m<ipython-input-113-544253dc5a14>\u001b[0m in \u001b[0;36m<module>\u001b[1;34m()\u001b[0m\n\u001b[0;32m     10\u001b[0m \u001b[1;32mfrom\u001b[0m \u001b[0mscipy\u001b[0m\u001b[1;33m.\u001b[0m\u001b[0mstats\u001b[0m \u001b[1;32mimport\u001b[0m \u001b[0mpearsonr\u001b[0m\u001b[1;33m\u001b[0m\u001b[0m\n\u001b[0;32m     11\u001b[0m \u001b[1;33m\u001b[0m\u001b[0m\n\u001b[1;32m---> 12\u001b[1;33m \u001b[0mprint\u001b[0m\u001b[1;33m(\u001b[0m\u001b[0mpearsonr\u001b[0m\u001b[1;33m(\u001b[0m\u001b[0mname2vals\u001b[0m\u001b[1;33m[\u001b[0m\u001b[1;34m'increase_hits_all'\u001b[0m\u001b[1;33m]\u001b[0m\u001b[1;33m,\u001b[0m \u001b[0mname2vals\u001b[0m\u001b[1;33m[\u001b[0m\u001b[1;34m'percent_increase_1.1hits-prec10t4_all'\u001b[0m\u001b[1;33m]\u001b[0m\u001b[1;33m)\u001b[0m\u001b[1;33m)\u001b[0m\u001b[1;33m\u001b[0m\u001b[0m\n\u001b[0m\u001b[0;32m     13\u001b[0m \u001b[1;33m\u001b[0m\u001b[0m\n",
      "\u001b[1;32mC:\\Users\\Nick\\Anaconda3\\lib\\site-packages\\scipy\\stats\\stats.py\u001b[0m in \u001b[0;36mpearsonr\u001b[1;34m(x, y)\u001b[0m\n\u001b[0;32m   3006\u001b[0m     \u001b[0mmy\u001b[0m \u001b[1;33m=\u001b[0m \u001b[0my\u001b[0m\u001b[1;33m.\u001b[0m\u001b[0mmean\u001b[0m\u001b[1;33m(\u001b[0m\u001b[1;33m)\u001b[0m\u001b[1;33m\u001b[0m\u001b[0m\n\u001b[0;32m   3007\u001b[0m     \u001b[0mxm\u001b[0m\u001b[1;33m,\u001b[0m \u001b[0mym\u001b[0m \u001b[1;33m=\u001b[0m \u001b[0mx\u001b[0m \u001b[1;33m-\u001b[0m \u001b[0mmx\u001b[0m\u001b[1;33m,\u001b[0m \u001b[0my\u001b[0m \u001b[1;33m-\u001b[0m \u001b[0mmy\u001b[0m\u001b[1;33m\u001b[0m\u001b[0m\n\u001b[1;32m-> 3008\u001b[1;33m     \u001b[0mr_num\u001b[0m \u001b[1;33m=\u001b[0m \u001b[0mnp\u001b[0m\u001b[1;33m.\u001b[0m\u001b[0madd\u001b[0m\u001b[1;33m.\u001b[0m\u001b[0mreduce\u001b[0m\u001b[1;33m(\u001b[0m\u001b[0mxm\u001b[0m \u001b[1;33m*\u001b[0m \u001b[0mym\u001b[0m\u001b[1;33m)\u001b[0m\u001b[1;33m\u001b[0m\u001b[0m\n\u001b[0m\u001b[0;32m   3009\u001b[0m     \u001b[0mr_den\u001b[0m \u001b[1;33m=\u001b[0m \u001b[0mnp\u001b[0m\u001b[1;33m.\u001b[0m\u001b[0msqrt\u001b[0m\u001b[1;33m(\u001b[0m\u001b[0m_sum_of_squares\u001b[0m\u001b[1;33m(\u001b[0m\u001b[0mxm\u001b[0m\u001b[1;33m)\u001b[0m \u001b[1;33m*\u001b[0m \u001b[0m_sum_of_squares\u001b[0m\u001b[1;33m(\u001b[0m\u001b[0mym\u001b[0m\u001b[1;33m)\u001b[0m\u001b[1;33m)\u001b[0m\u001b[1;33m\u001b[0m\u001b[0m\n\u001b[0;32m   3010\u001b[0m     \u001b[0mr\u001b[0m \u001b[1;33m=\u001b[0m \u001b[0mr_num\u001b[0m \u001b[1;33m/\u001b[0m \u001b[0mr_den\u001b[0m\u001b[1;33m\u001b[0m\u001b[0m\n",
      "\u001b[1;31mValueError\u001b[0m: operands could not be broadcast together with shapes (16,) (0,) "
     ]
    }
   ],
   "source": [
    "from collections import defaultdict\n",
    "name2vals = defaultdict(list)\n",
    "for name, group in hits_df.groupby('num_users_boycotting'):\n",
    "    print(name)\n",
    "    for subname, subgroup in group.groupby('variable'):\n",
    "        print(subname, subgroup['value'].mean())\n",
    "        name2vals[subname].append(subgroup['value'].mean())\n",
    "        \n",
    "print(name2vals)\n",
    "from scipy.stats import pearsonr\n",
    "\n",
    "print(pearsonr(name2vals['increase_hits_all'], name2vals['percent_increase_1.1hits-prec10t4_all']))"
   ]
  },
  {
   "cell_type": "markdown",
   "metadata": {},
   "source": [
    "## Seperate out our data\n",
    "We want to separate the simuated boycotts into homogenous vs. heterogenous boycotts."
   ]
  },
  {
   "cell_type": "code",
   "execution_count": 68,
   "metadata": {},
   "outputs": [
    {
     "name": "stdout",
     "output_type": "stream",
     "text": [
      "\n",
      "===Heterogenous 20M Boycotts===\n",
      "\n",
      "3020 user sample      250\n",
      "6 user sample         250\n",
      "604 user sample       250\n",
      "302 user sample       250\n",
      "1812 user sample      250\n",
      "5980 user sample      250\n",
      "4228 user sample      250\n",
      "1208 user sample      250\n",
      "60 user sample        250\n",
      "5436 user sample      250\n",
      "3624 user sample      250\n",
      "2416 user sample      250\n",
      "1 user sample         250\n",
      "3 user sample         250\n",
      "4832 user sample      250\n",
      "30 user sample        250\n",
      "124644 user sample     60\n",
      "83096 user sample      60\n",
      "55397 user sample      60\n",
      "1385 user sample       60\n",
      "96945 user sample      60\n",
      "27699 user sample      60\n",
      "13849 user sample      60\n",
      "69246 user sample      60\n",
      "41548 user sample      60\n",
      "110794 user sample     60\n",
      "69 user sample         50\n",
      "6925 user sample       50\n",
      "138 user sample        50\n",
      "137108 user sample     50\n",
      "14 user sample         50\n",
      "692 user sample        50\n",
      "Name: name, dtype: int64\n",
      "\n",
      "===Heterogenous Boycotts===\n",
      "\n",
      "3 user sample       510\n",
      "1 user sample       510\n",
      "6 user sample       510\n",
      "3020 user sample    260\n",
      "302 user sample     260\n",
      "4832 user sample    260\n",
      "3624 user sample    260\n",
      "4228 user sample    260\n",
      "5980 user sample    260\n",
      "1812 user sample    260\n",
      "30 user sample      260\n",
      "604 user sample     260\n",
      "1208 user sample    260\n",
      "60 user sample      260\n",
      "5436 user sample    260\n",
      "2416 user sample    260\n",
      "Name: name, dtype: int64\n",
      "\n",
      "===Homogenous Boycotts===\n",
      "\n",
      "male users excluded                               60\n",
      "female users excluded                             60\n",
      "users from state US_RI excluded                   50\n",
      "users from state US_DE excluded                   50\n",
      "K-12 student excluded                             50\n",
      "Fans of Mystery excluded using threshold 4        50\n",
      "users from state US_ND excluded                   50\n",
      "users from state US_TX excluded                   50\n",
      "users from state US_VT excluded                   50\n",
      "Fans of Sci-Fi excluded using threshold 4         50\n",
      "self-employed excluded                            50\n",
      "Fans of Romance excluded using threshold 4        50\n",
      "Fans of Adventure excluded using threshold 4      50\n",
      "users from state US_GA excluded                   50\n",
      "tradesman/craftsman excluded                      50\n",
      "farmer excluded                                   50\n",
      "homemaker excluded                                50\n",
      "scientist excluded                                50\n",
      "users from state US_WV excluded                   50\n",
      "Fans of Film-Noir excluded using threshold 4      50\n",
      "writer excluded                                   50\n",
      "users from state US_nan excluded                  50\n",
      "Bottom 10% contributors excluded                  50\n",
      "users from state US_WI excluded                   50\n",
      "users from state US_PA excluded                   50\n",
      "users from state US_UT excluded                   50\n",
      "users from state US_IL excluded                   50\n",
      "users from state US_MA excluded                   50\n",
      "Under 18 excluded                                 50\n",
      "56+ excluded                                      50\n",
      "                                                  ..\n",
      "users from state US_AK excluded                   50\n",
      "other excluded                                    50\n",
      "users from state US_DC excluded                   50\n",
      "Fans of Drama excluded using threshold 4          50\n",
      "users from state US_KY excluded                   50\n",
      "users from state US_HI excluded                   50\n",
      "users from state US_AZ excluded                   50\n",
      "executive/managerial excluded                     50\n",
      "35-44 excluded                                    50\n",
      "users from state US_OK excluded                   50\n",
      "Fans of Horror excluded using threshold 4         50\n",
      "users from state US_SD excluded                   50\n",
      "50-55 excluded                                    50\n",
      "users from state US_IN excluded                   50\n",
      "Fans of Western excluded using threshold 4        50\n",
      "Fans of Thriller excluded using threshold 4       50\n",
      "users from state US_WY excluded                   50\n",
      "users from state US_SC excluded                   50\n",
      "users from state US_WA excluded                   50\n",
      "users from state US_KS excluded                   50\n",
      "users from state US_IA excluded                   50\n",
      "retired excluded                                  50\n",
      "programmer excluded                               50\n",
      "Fans of Children's excluded using threshold 4     50\n",
      "academic/educator excluded                        50\n",
      "users from state US_MS excluded                   50\n",
      "users from state US_NM excluded                   50\n",
      "Fans of Documentary excluded using threshold 4    50\n",
      "artist excluded                                   50\n",
      "25-34 excluded                                    50\n",
      "Name: name, Length: 102, dtype: int64\n"
     ]
    }
   ],
   "source": [
    "samples_df_20m = df_20m[df_20m['type'] == 'sample_users']\n",
    "print('\\n===Heterogenous 20M Boycotts===\\n')\n",
    "print(samples_df_20m.name.value_counts())\n",
    "samples_df_1m = df_1m[df_1m['type'] == 'sample_users']\n",
    "print('\\n===Heterogenous Boycotts===\\n')\n",
    "print(samples_df_1m.name.value_counts())\n",
    "org_df = df_1m[df_1m['type'].isin(organized_experiments)]\n",
    "print('\\n===Homogenous Boycotts===\\n')\n",
    "print(org_df.name.value_counts())"
   ]
  },
  {
   "cell_type": "code",
   "execution_count": 69,
   "metadata": {},
   "outputs": [
    {
     "name": "stdout",
     "output_type": "stream",
     "text": [
      "1...\n",
      "0.9095572516420898\n",
      "0.9096433125904835\n",
      "0.9095995595127191\n",
      "0.7237181271054177\n",
      "3...\n",
      "0.909550319637464\n",
      "0.909522046412812\n",
      "0.9095362016439075\n",
      "0.7236606719643466\n",
      "6\n",
      "0.9095209687890901\n",
      "0.9095185126257369\n",
      "0.9095195455073315\n",
      "0.7237913967549953\n",
      "30\n",
      "0.9094839612305778\n",
      "nan\n",
      "0.9094884183968832\n",
      "0.7245609510688489\n"
     ]
    }
   ],
   "source": [
    "# bonus\n",
    "metric = 'ndcgfull_non-boycott'\n",
    "print('1...')\n",
    "name = '1 user sample'\n",
    "print(samples_df_1m[(samples_df_1m.indices == '1-to-250') & (samples_df_1m.name == name)][metric].mean())\n",
    "print(samples_df_1m[(samples_df_1m.indices == '251-to-500') & (samples_df_1m.name == name)][metric].mean())\n",
    "print(samples_df_1m[(samples_df_1m.name == name)][metric].mean())\n",
    "print(samples_df_1m[(samples_df_1m.name == name)]['ndcg10_frac_non-boycott'].mean())\n",
    "\n",
    "print('3...')\n",
    "name = '3 user sample'\n",
    "print(samples_df_1m[(samples_df_1m.indices == '1-to-250') & (samples_df_1m.name == name)][metric].mean())\n",
    "print(samples_df_1m[(samples_df_1m.indices == '251-to-500') & (samples_df_1m.name == name)][metric].mean())\n",
    "print(samples_df_1m[(samples_df_1m.name == name)][metric].mean())\n",
    "print(samples_df_1m[(samples_df_1m.name == name)]['ndcg10_frac_non-boycott'].mean())\n",
    "\n",
    "print('6')\n",
    "name = '6 user sample'\n",
    "print(samples_df_1m[(samples_df_1m.indices == '1-to-250') & (samples_df_1m.name == name)][metric].mean())\n",
    "print(samples_df_1m[(samples_df_1m.indices == '251-to-500') & (samples_df_1m.name == name)][metric].mean())\n",
    "print(samples_df_1m[(samples_df_1m.name == name)][metric].mean())\n",
    "print(samples_df_1m[(samples_df_1m.name == name)]['ndcg10_frac_non-boycott'].mean())\n",
    "\n",
    "print('30')\n",
    "name = '30 user sample'\n",
    "print(samples_df_1m[(samples_df_1m.indices == '1-to-250') & (samples_df_1m.name == name)][metric].mean())\n",
    "print(samples_df_1m[(samples_df_1m.indices == '251-to-500') & (samples_df_1m.name == name)][metric].mean())\n",
    "print(samples_df_1m[(samples_df_1m.name == name)][metric].mean())\n",
    "print(samples_df_1m[(samples_df_1m.name == name)]['ndcg10_frac_non-boycott'].mean())"
   ]
  },
  {
   "cell_type": "markdown",
   "metadata": {},
   "source": [
    "## Clean up the homogenous boycott \"name\" columns\n",
    "This is helpful because our homogenous boycott plots are going to very cluttered. We want to remove as much text as possible without making the plots too confusing."
   ]
  },
  {
   "cell_type": "code",
   "execution_count": 70,
   "metadata": {},
   "outputs": [
    {
     "name": "stderr",
     "output_type": "stream",
     "text": [
      "C:\\Users\\Nick\\Anaconda3\\lib\\site-packages\\pandas\\core\\generic.py:4405: SettingWithCopyWarning: \n",
      "A value is trying to be set on a copy of a slice from a DataFrame.\n",
      "Try using .loc[row_indexer,col_indexer] = value instead\n",
      "\n",
      "See the caveats in the documentation: http://pandas.pydata.org/pandas-docs/stable/indexing.html#indexing-view-versus-copy\n",
      "  self[name] = value\n"
     ]
    }
   ],
   "source": [
    "org_df.name = [\n",
    "    x.replace('excluded', '')\n",
    "    .replace('users from', '')\n",
    "    .replace('using threshold 4', '')\n",
    "    .replace('Top 10% contributors', 'power users')\n",
    "    .strip()\n",
    "    .lower()\n",
    "    for x in list(org_df.name)\n",
    "]\n",
    "# can ignore the below warning, the code in this cell works"
   ]
  },
  {
   "cell_type": "markdown",
   "metadata": {},
   "source": [
    "## Data Manipulating Helpers\n",
    "In the following two cells, we define two functions (`select_cols` and `fill_in_longform`) that will help with general purpose manipulating of our result data."
   ]
  },
  {
   "cell_type": "code",
   "execution_count": 71,
   "metadata": {
    "collapsed": true
   },
   "outputs": [],
   "source": [
    "def select_cols(cols, metrics, groups, percents):\n",
    "    \"\"\"\n",
    "    take a list of cols and filter based on metrics/groups/percents\n",
    "    \n",
    "    The returned columns must match all the metrics and groups passed\n",
    "    if percents is True, return columns with \"percent\" in the name\n",
    "    if percents is False return only columns without \"percent\" in the name\n",
    "    \n",
    "    returns a list of cols\n",
    "    \"\"\"\n",
    "    increase_cols = [\n",
    "        x for x in cols if 'increase' in x and (any(metric == x.split('_')[-2] for metric in metrics))\n",
    "    ]\n",
    "    \n",
    "    increase_cols = [\n",
    "        x for x in increase_cols if any(group == x.split('_')[-1] for group in groups)\n",
    "    ]\n",
    "    if percents:\n",
    "        increase_cols = [x for x in increase_cols if 'percent' in x]\n",
    "    else:\n",
    "        increase_cols = [x for x in increase_cols if 'percent' not in x]\n",
    "    return increase_cols"
   ]
  },
  {
   "cell_type": "code",
   "execution_count": 72,
   "metadata": {
    "collapsed": true
   },
   "outputs": [],
   "source": [
    "def fill_in_longform(df):\n",
    "    \"\"\"\n",
    "    Fill in a longform dataframe with metric, group, and name information\n",
    "    \"\"\"\n",
    "    df = df.assign(\n",
    "        metric=[x.split('_')[-2] for x in df.increase_type]\n",
    "    )\n",
    "    df = df.assign(\n",
    "        group=[x.split('_')[-1] for x in df.increase_type]\n",
    "    )\n",
    "    return df\n",
    "    "
   ]
  },
  {
   "cell_type": "code",
   "execution_count": 91,
   "metadata": {
    "collapsed": true
   },
   "outputs": [],
   "source": [
    "metric2title = {\n",
    "    'ndcg10': 'NDCG@10',\n",
    "    '2hits-prec5t4': 'Loss in Precision@5-estimated hits, pb=2',\n",
    "    '4hits-prec5t4': 'Loss in Precision@5-estimated hits, pb=4',\n",
    "    '2hits-ndcg10': 'Loss in ndcg@10-estimated hits, pb=2',\n",
    "    'labor-hits-prec5t4': 'Loss in hits from data labor power',\n",
    "    'consumer-hits-prec5t4': 'Loss in hits from consumer power',\n",
    "    'rmse': 'RMSE',\n",
    "    'prec10t4': 'Precision'\n",
    "}"
   ]
  },
  {
   "cell_type": "code",
   "execution_count": 92,
   "metadata": {
    "collapsed": true
   },
   "outputs": [],
   "source": [
    "def p_b_curve(\n",
    "        df, dataset, metrics, groups,\n",
    "        percents=False, normalize=True,\n",
    "        reg_plot=False, hue='group', row='metric', col='algo_name',\n",
    "        show_interp=False, legend=True,\n",
    "        ylabel=\"\", plot_horiz_lines=True, height=5,\n",
    "        title_template='Recommender {} vs. Size of Boycott for {}',\n",
    "        aspect=1, palette={'all': 'b', 'non-boycott': 'g'},\n",
    "        label_map = {\n",
    "            'all': 'Strike',\n",
    "            'non-boycott': 'Boycott',\n",
    "        }\n",
    "    ):\n",
    "    \"\"\"\n",
    "    Plots a performance vs. boycott size (P v B) curve\n",
    "    \n",
    "    Args:\n",
    "        df - the dataframe to use for plotting the pb curve\n",
    "        metrics - which metrics to plot the curve for.\n",
    "        groups - which groups to include.\n",
    "          for each metric, \n",
    "        percents - show the Y-axis in percent change or raw change. Set this True for percent change.\n",
    "        normalize - should we normalize the y-axis relative to MovieMean (no personalization)\n",
    "        reg_plot - ?\n",
    "        hue - which facet to use to determine hue. default is group\n",
    "          (each group will appear as a separate (distinctly colored) trajectory on each plot)\n",
    "        row - which facet to use to split plots into different rows. default is metric.\n",
    "        save - should we save a PNG file?\n",
    "        show_interp - include the interpolated function on this plot?\n",
    "        \n",
    "    Returns:\n",
    "        ?\n",
    "    \"\"\"\n",
    "    algo_to_metric_to_altalgo = dataset_to_algo_to_metric_to_altalgo[dataset]\n",
    "    \n",
    "    algo_names = list(set(df.algo_name))\n",
    "    df = df.copy()\n",
    "    algo_to_metric_to_group_to = defaultdict(lambda: defaultdict(lambda: defaultdict(dict)))\n",
    "\n",
    "    increase_cols = select_cols(list(df.columns.values), metrics, groups, percents)\n",
    "    #increase_cols = [x for x in increase_cols if 'vanilla' not in x]\n",
    "    print(increase_cols)\n",
    "    if normalize:\n",
    "        for metric in metrics:\n",
    "            for algo_name in algo_names:\n",
    "                movie_val = abs(algo_to_metric_to_altalgo[algo_name][\n",
    "                    metric.replace('coverage-weighted-', '')\n",
    "                ]['MovieMean'])           \n",
    "                for increase_col in increase_cols:\n",
    "                    if increase_col.split('_')[-2] == metric:\n",
    "                        df.loc[df.algo_name == algo_name, increase_col] /= movie_val\n",
    "    \n",
    "    longform = df[increase_cols + id_vars].melt(\n",
    "        id_vars = id_vars,\n",
    "        var_name='increase_type'\n",
    "    )\n",
    "    longform = fill_in_longform(longform)\n",
    "\n",
    "    grid = sns.lmplot(\n",
    "        x=\"num_users_boycotting\", y=\"value\", hue=hue, data=longform,\n",
    "        sharey='row', sharex='col',\n",
    "        height=height, \n",
    "        aspect=aspect,\n",
    "        row=row, col=col,\n",
    "        fit_reg=False,\n",
    "        x_estimator=np.mean, ci=99, \n",
    "        palette=palette,\n",
    "        legend=legend,\n",
    "        legend_out=True\n",
    "    )\n",
    "\n",
    "    algo_to_size_to_decreases = defaultdict(lambda: defaultdict(list))\n",
    "    for metric in metrics:\n",
    "        for algo_name in algo_names:\n",
    "            filt = df[df.algo_name == algo_name]\n",
    "            for group in groups:\n",
    "                key = 'increase_{}_{}'.format(metric, group)\n",
    "                if percents:\n",
    "                    key = 'percent_' + key\n",
    "                x = filt.num_users_boycotting\n",
    "                user_nums = sorted(list(set(filt.num_users_boycotting)))\n",
    "                nrm_rounded = sorted(list(set(filt.nrm_rounded)))\n",
    "                y = filt[key]\n",
    "\n",
    "                num_to_mean = OrderedDict()\n",
    "                rounded_num_to_mean = OrderedDict()\n",
    "                for num_users_boycotting in user_nums:\n",
    "                    filt_by_name = filt[filt.num_users_boycotting == num_users_boycotting]\n",
    "                    num_to_mean[num_users_boycotting] = np.mean(filt_by_name[key])\n",
    "                    rounded_num_to_mean[round(num_users_boycotting, 2)] = np.mean(filt_by_name[key])\n",
    "                nrm_rounded_to_mean = OrderedDict()\n",
    "                for num in nrm_rounded:\n",
    "                    filt_by_nrm = filt[filt.nrm_rounded == num]\n",
    "                    nrm_rounded_to_mean[num] = np.mean(filt_by_nrm[key])\n",
    "\n",
    "                if group == 'non-boycott':\n",
    "                    for num in [\n",
    "                        0.1, 0.2, 0.3,\n",
    "                    ]:\n",
    "                        \n",
    "                        val_nb = rounded_num_to_mean.get(num)\n",
    "                        if val_nb is None:\n",
    "                            continue\n",
    "                        val_all = np.mean(filt[filt.num_users_boycotting == num][key.replace('non-boycott', 'all')])\n",
    "                        print(\n",
    "                            'Algo:{}  |  Metric:{}  |  #users:{}'.format(\n",
    "                                algo_name, metric, num, \n",
    "                            )\n",
    "                        )\n",
    "                        print('NB Val:{}  |  ALL val:{}'.format(\n",
    "                            val_nb,\n",
    "                            val_all\n",
    "                        ))\n",
    "                        if percents is False:\n",
    "                            try:\n",
    "                                ratio_nb = val_nb / algo_to_metric_to_altalgo[algo_name][metric]['MovieMean']\n",
    "                                ratio_all = val_all / algo_to_metric_to_altalgo[algo_name][metric]['MovieMean']\n",
    "\n",
    "                                print('ratio_nb: {}  |  ratio_all:{}'.format(\n",
    "                                    ratio_nb,\n",
    "                                    ratio_all,\n",
    "                                ))\n",
    "                            except KeyError:\n",
    "                                print('Metric {} has no MovieMean comparison.'.format(metric))\n",
    "                        algo_to_size_to_decreases[algo_name][num].append(val_nb)\n",
    "                meany = np.array(list(num_to_mean.values()))\n",
    "                meany_ratings = np.array(list(nrm_rounded_to_mean.values()))\n",
    "\n",
    "                algo_to_metric_to_group_to[algo_name][metric][group]['x'] = user_nums\n",
    "                algo_to_metric_to_group_to[algo_name][metric][group]['y'] = meany\n",
    "\n",
    "                smoothf_ratings = interp1d(nrm_rounded, meany_ratings, kind='quadratic', bounds_error=False, fill_value='extrapolate')\n",
    "                algo_to_metric_to_group_to[algo_name][metric][group]['interp_ratings'] = smoothf_ratings\n",
    "                algo_to_metric_to_group_to[algo_name][metric][group]['max_user_units'] = max(user_nums)\n",
    "                algo_to_metric_to_group_to[algo_name][metric][group]['xnew_ratings'] = np.linspace(\n",
    "                    min(filt.num_ratings_missing), max(filt.num_ratings_missing), num=1000)\n",
    "\n",
    "    if plot_horiz_lines:        \n",
    "        for x in grid.facet_data():\n",
    "            i_row, i_col, i_hue = x[0]\n",
    "            metric = grid.row_names[i_row]\n",
    "            algo_name = grid.col_names[i_col]\n",
    "            group = grid.hue_names[i_hue]\n",
    "\n",
    "            lines_caption = \"\"\n",
    "\n",
    "            lines = {}\n",
    "\n",
    "            metric_key = metric.replace('coverage-weighted-', '')\n",
    "            lines['MovieMean'] = {\n",
    "                # needs to handle the coverage-weighted mtrics\n",
    "                'value': algo_to_metric_to_altalgo[algo_name][metric_key]['MovieMean'],\n",
    "                'color': '0.3',\n",
    "                'name': 'MovieMean',\n",
    "                'linestyle': '-'\n",
    "            }\n",
    "            lines['Zero'] = {\n",
    "                'value': 0,\n",
    "                'color': '0.3',\n",
    "                'name': 'Zero',\n",
    "                'linestyle': '-'\n",
    "            }\n",
    "\n",
    "            lines['KNNBasic_item_msd'] = {\n",
    "                'value': algo_to_metric_to_altalgo[algo_name][metric_key]['KNNBasic_item_msd'],\n",
    "                'color': 'r',\n",
    "                'name': 'Item KNN (1999)',\n",
    "                'linestyle': ':'\n",
    "            }\n",
    "            lines['KNNBaseline_item_msd'] = {\n",
    "                'value': algo_to_metric_to_altalgo[algo_name][metric_key]['KNNBaseline_item_msd'],\n",
    "                'color': 'y',\n",
    "                'name': 'Item KNN + Baselines: 2010',\n",
    "                'linestyle': ':',\n",
    "            }\n",
    "            if dataset == 'ml-1m':\n",
    "                lines['KNNBasic_user_msd'] = {\n",
    "                    'value': algo_to_metric_to_altalgo[algo_name][metric_key]['KNNBasic_user_msd'],\n",
    "                    'color': 'c',\n",
    "                    'name': 'User KNN (1994)',\n",
    "                    'linestyle': ':'\n",
    "                }\n",
    "            elif dataset == 'ml-20m':\n",
    "                try:\n",
    "                    lines['1M_SVD'] = {\n",
    "                        'value': algo_to_metric_to_altalgo[algo_name][metric_key]['1M_SVD'],\n",
    "                        'color': '0.3',\n",
    "                        'name': 'ml-1m SVD',\n",
    "                        'linestyle': ':'\n",
    "                    }\n",
    "                except:\n",
    "                    pass\n",
    "\n",
    "            if normalize:\n",
    "                norm_val = abs(algo_to_metric_to_altalgo[algo_name][metric_key]['MovieMean'])\n",
    "                for key in lines.keys():\n",
    "                    lines[key]['value'] /= norm_val\n",
    "\n",
    "            ax = grid.axes[i_row, i_col]\n",
    "\n",
    "            if normalize and metric == 'ndcg10':\n",
    "                if dataset == 'ml-1m':\n",
    "                    ax.set(ylim=(-1.6, 0.1))\n",
    "                elif dataset == 'ml-20m':\n",
    "                    ax.set(ylim=(-1.2, 0.1))\n",
    "\n",
    "            linestyle = '-' if group  != 'all' else '--'\n",
    "\n",
    "            ax.plot(\n",
    "                algo_to_metric_to_group_to[algo_name][metric][group]['x'],\n",
    "                algo_to_metric_to_group_to[algo_name][metric][group]['y'],\n",
    "                linestyle=linestyle, color=grid._colors[i_hue]\n",
    "            )\n",
    "            if show_interp:\n",
    "                xnew_ratings = algo_to_metric_to_group_to[algo_name][metric][group]['xnew_ratings']\n",
    "                ynew_ratings = algo_to_metric_to_group_to[algo_name][metric][group]['interp_ratings'](xnew_ratings)\n",
    "                ax.plot(\n",
    "                    xnew_ratings * algo_to_metric_to_group_to[algo_name][metric][group]['max_user_units'] / num_ratings[dataset],\n",
    "                    ynew_ratings, '-')\n",
    "\n",
    "            plt.setp(ax.get_xticklabels(), visible=True, rotation=45)\n",
    "            \n",
    "            # add conditional here, don't alway make a title\n",
    "            metric4title = metric2title[metric]\n",
    "            ax.set_title(\n",
    "                title_template.format(\n",
    "                    metric4title, dataset.upper())\n",
    "            )\n",
    "            if percents:\n",
    "                for line in lines.values():\n",
    "                    ax.axhline(line['value'], color=line['color'], linestyle=line['linestyle'])\n",
    "                    #ax.text(0.7, line['value'] + 0.05, line['name'])\n",
    "                    lines_caption += \"{} colored line (value of {}) shows comparison with {}\\n\".format(\n",
    "                        line['color'], line['value'], line['name']\n",
    "                    )\n",
    "\n",
    "    plt.subplots_adjust(hspace=0.2)\n",
    "    algo_to_size_to_mean_dec = defaultdict(dict)\n",
    "    for algo_name, size2dec in algo_to_size_to_decreases.items():\n",
    "        for size, decs in size2dec.items():\n",
    "            algo_to_size_to_mean_dec[algo_name][size] = np.mean(decs)\n",
    "    print('=====\\nSize to Mean Decrease')\n",
    "    pprint(algo_to_size_to_mean_dec)\n",
    "                   \n",
    "    grid.set_xlabels('Fraction of users boycotting')\n",
    "    grid.set_ylabels(ylabel)\n",
    "    if label_map:\n",
    "        if grid._legend:\n",
    "            for t in grid._legend.texts:\n",
    "                t.set_text(label_map[t.get_text()])\n",
    "            grid._legend.set_title('')\n",
    "    return algo_to_metric_to_group_to"
   ]
  },
  {
   "cell_type": "markdown",
   "metadata": {},
   "source": [
    "# Plot hits here"
   ]
  },
  {
   "cell_type": "code",
   "execution_count": 93,
   "metadata": {},
   "outputs": [
    {
     "name": "stdout",
     "output_type": "stream",
     "text": [
      "['percent_increase_2hits-prec5t4_non-boycott', 'percent_increase_2hits-prec5t4_all', 'percent_increase_4hits-prec5t4_non-boycott', 'percent_increase_4hits-prec5t4_all']\n"
     ]
    },
    {
     "name": "stderr",
     "output_type": "stream",
     "text": [
      "C:\\Users\\Nick\\Anaconda3\\lib\\site-packages\\scipy\\stats\\stats.py:1713: FutureWarning: Using a non-tuple sequence for multidimensional indexing is deprecated; use `arr[tuple(seq)]` instead of `arr[seq]`. In the future this will be interpreted as an array index, `arr[np.array(seq)]`, which will result either in an error or a different result.\n",
      "  return np.add.reduce(sorted[indexer] * weights, axis=axis) / sumval\n"
     ]
    },
    {
     "name": "stdout",
     "output_type": "stream",
     "text": [
      "Algo:SVD  |  Metric:2hits-prec5t4  |  #users:0.1\n",
      "NB Val:-4860.0378745252365  |  ALL val:-3424.375508972953\n",
      "Algo:SVD  |  Metric:2hits-prec5t4  |  #users:0.2\n",
      "NB Val:-8413.016857751174  |  ALL val:-5633.65363334974\n",
      "Algo:SVD  |  Metric:2hits-prec5t4  |  #users:0.3\n",
      "NB Val:-12016.31614597717  |  ALL val:-7847.414528643698\n",
      "Algo:SVD  |  Metric:4hits-prec5t4  |  #users:0.1\n",
      "NB Val:-5780.056811787849  |  ALL val:-5136.56326345943\n",
      "Algo:SVD  |  Metric:4hits-prec5t4  |  #users:0.2\n",
      "NB Val:-9599.525286626762  |  ALL val:-8450.480450024608\n",
      "Algo:SVD  |  Metric:4hits-prec5t4  |  #users:0.3\n",
      "NB Val:-13494.47421896577  |  ALL val:-11771.121792965554\n",
      "=====\n",
      "Size to Mean Decrease\n",
      "defaultdict(<class 'dict'>,\n",
      "            {'SVD': {0.1: -5320.047343156542,\n",
      "                     0.2: -9006.271072188967,\n",
      "                     0.3: -12755.395182471471}})\n"
     ]
    },
    {
     "data": {
      "image/png": "[encoded data removed]",
      "text/plain": [
       "<Figure size 288x864 with 3 Axes>"
      ]
     },
     "metadata": {},
     "output_type": "display_data"
    },
    {
     "data": {
      "image/png": "[encoded data removed]",
      "text/plain": [
       "<Figure size 1399.6x216 with 2 Axes>"
      ]
     },
     "metadata": {},
     "output_type": "display_data"
    }
   ],
   "source": [
    "_ = p_b_curve(\n",
    "    samples_df_1m[samples_df_1m.algo_name == 'SVD'], 'ml-1m',\n",
    "    show_interp=False,\n",
    "    percents=True, normalize=False,\n",
    "    metrics=[\n",
    "        '2hits-prec5t4',\n",
    "        #'2hits-ndcg10',\n",
    "        '4hits-prec5t4',\n",
    "#         'labor-hits-prec5t4',\n",
    "#         'consumer-hits-prec5t4',\n",
    "        \n",
    "    ],\n",
    "    groups=['all', 'non-boycott'],\n",
    "    hue='metric', col='group', row='algo_name',\n",
    "    legend=True, \n",
    "    ylabel='Change in Hits',\n",
    "    title_template='{} vs. Boycott Size for {}',\n",
    "    height=3, aspect=3,\n",
    "    label_map=None, palette=None, plot_horiz_lines=False,\n",
    ")\n",
    "plt.savefig('ml-1m_hits.svg', bbox_inches='tight', dpi=300)\n",
    "plt.show()"
   ]
  },
  {
   "cell_type": "code",
   "execution_count": 103,
   "metadata": {},
   "outputs": [
    {
     "name": "stdout",
     "output_type": "stream",
     "text": [
      "['percent_increase_labor-2hits-prec5t4_non-boycott', 'percent_increase_consumer-2hits-prec5t4_non-boycott', 'percent_increase_2hits-prec5t4_non-boycott', 'percent_increase_labor-2hits-prec5t4_all', 'percent_increase_consumer-2hits-prec5t4_all', 'percent_increase_2hits-prec5t4_all']\n"
     ]
    },
    {
     "name": "stderr",
     "output_type": "stream",
     "text": [
      "C:\\Users\\Nick\\Anaconda3\\lib\\site-packages\\scipy\\stats\\stats.py:1713: FutureWarning: Using a non-tuple sequence for multidimensional indexing is deprecated; use `arr[tuple(seq)]` instead of `arr[seq]`. In the future this will be interpreted as an array index, `arr[np.array(seq)]`, which will result either in an error or a different result.\n",
      "  return np.add.reduce(sorted[indexer] * weights, axis=axis) / sumval\n"
     ]
    },
    {
     "name": "stdout",
     "output_type": "stream",
     "text": [
      "Algo:SVD  |  Metric:2hits-prec5t4  |  #users:0.1\n",
      "NB Val:-4860.0378745252365  |  ALL val:-3424.375508972953\n",
      "Algo:SVD  |  Metric:2hits-prec5t4  |  #users:0.2\n",
      "NB Val:-8413.016857751174  |  ALL val:-5633.65363334974\n",
      "Algo:SVD  |  Metric:2hits-prec5t4  |  #users:0.3\n",
      "NB Val:-12016.31614597717  |  ALL val:-7847.414528643698\n",
      "Algo:SVD  |  Metric:labor-2hits-prec5t4  |  #users:0.1\n",
      "NB Val:-1840.037874525236  |  ALL val:-3424.375508972953\n",
      "Algo:SVD  |  Metric:labor-2hits-prec5t4  |  #users:0.2\n",
      "NB Val:-2373.016857751171  |  ALL val:-5633.65363334974\n",
      "Algo:SVD  |  Metric:labor-2hits-prec5t4  |  #users:0.3\n",
      "NB Val:-2956.3161459771736  |  ALL val:-7847.414528643698\n",
      "Algo:SVD  |  Metric:consumer-2hits-prec5t4  |  #users:0.1\n",
      "NB Val:-3020.0  |  ALL val:0.0\n",
      "Algo:SVD  |  Metric:consumer-2hits-prec5t4  |  #users:0.2\n",
      "NB Val:-6040.0  |  ALL val:0.0\n",
      "Algo:SVD  |  Metric:consumer-2hits-prec5t4  |  #users:0.3\n",
      "NB Val:-9060.0  |  ALL val:0.0\n"
     ]
    },
    {
     "ename": "KeyError",
     "evalue": "'labor-2hits-prec5t4'",
     "output_type": "error",
     "traceback": [
      "\u001b[1;31m---------------------------------------------------------------------------\u001b[0m",
      "\u001b[1;31mKeyError\u001b[0m                                  Traceback (most recent call last)",
      "\u001b[1;32m<ipython-input-103-6fd196e8d0c8>\u001b[0m in \u001b[0;36m<module>\u001b[1;34m()\u001b[0m\n\u001b[0;32m     12\u001b[0m     \u001b[0mylabel\u001b[0m\u001b[1;33m=\u001b[0m\u001b[1;34m'Lost Hits'\u001b[0m\u001b[1;33m,\u001b[0m\u001b[1;33m\u001b[0m\u001b[0m\n\u001b[0;32m     13\u001b[0m     \u001b[0mtitle_template\u001b[0m\u001b[1;33m=\u001b[0m\u001b[1;34m'{} vs. Boycott Size for {}'\u001b[0m\u001b[1;33m,\u001b[0m\u001b[1;33m\u001b[0m\u001b[0m\n\u001b[1;32m---> 14\u001b[1;33m     \u001b[0mheight\u001b[0m\u001b[1;33m=\u001b[0m\u001b[1;36m3\u001b[0m\u001b[1;33m,\u001b[0m \u001b[0maspect\u001b[0m\u001b[1;33m=\u001b[0m\u001b[1;36m3\u001b[0m\u001b[1;33m,\u001b[0m\u001b[1;33m\u001b[0m\u001b[0m\n\u001b[0m\u001b[0;32m     15\u001b[0m )\n\u001b[0;32m     16\u001b[0m \u001b[0mplt\u001b[0m\u001b[1;33m.\u001b[0m\u001b[0msavefig\u001b[0m\u001b[1;33m(\u001b[0m\u001b[1;34m'ml-20m_hits.svg'\u001b[0m\u001b[1;33m,\u001b[0m \u001b[0mbbox_inches\u001b[0m\u001b[1;33m=\u001b[0m\u001b[1;34m'tight'\u001b[0m\u001b[1;33m,\u001b[0m \u001b[0mdpi\u001b[0m\u001b[1;33m=\u001b[0m\u001b[1;36m300\u001b[0m\u001b[1;33m)\u001b[0m\u001b[1;33m\u001b[0m\u001b[0m\n",
      "\u001b[1;32m<ipython-input-92-2dc5a54dde87>\u001b[0m in \u001b[0;36mp_b_curve\u001b[1;34m(df, dataset, metrics, groups, percents, normalize, reg_plot, hue, row, col, show_interp, legend, ylabel, plot_horiz_lines, height, title_template, aspect, palette, label_map)\u001b[0m\n\u001b[0;32m    222\u001b[0m \u001b[1;33m\u001b[0m\u001b[0m\n\u001b[0;32m    223\u001b[0m             \u001b[1;31m# add conditional here, don't alway make a title\u001b[0m\u001b[1;33m\u001b[0m\u001b[1;33m\u001b[0m\u001b[0m\n\u001b[1;32m--> 224\u001b[1;33m             \u001b[0mmetric4title\u001b[0m \u001b[1;33m=\u001b[0m \u001b[0mmetric2title\u001b[0m\u001b[1;33m[\u001b[0m\u001b[0mmetric\u001b[0m\u001b[1;33m]\u001b[0m\u001b[1;33m\u001b[0m\u001b[0m\n\u001b[0m\u001b[0;32m    225\u001b[0m             ax.set_title(\n\u001b[0;32m    226\u001b[0m                 title_template.format(\n",
      "\u001b[1;31mKeyError\u001b[0m: 'labor-2hits-prec5t4'"
     ]
    }
   ],
   "source": [
    "_ = p_b_curve(\n",
    "    samples_df_1m[samples_df_1m.algo_name == 'SVD'], 'ml-1m',\n",
    "    show_interp=False,\n",
    "    percents=True, normalize=False,\n",
    "    metrics=[\n",
    "        '2hits-prec5t4',\n",
    "        'labor-2hits-prec5t4',\n",
    "        'consumer-2hits-prec5t4',\n",
    "    ],\n",
    "    groups=['all', 'non-boycott',],\n",
    "    legend=True, \n",
    "    ylabel='Lost Hits',\n",
    "    title_template='{} vs. Boycott Size for {}',\n",
    "    height=3, aspect=3,\n",
    ")\n",
    "plt.savefig('ml-20m_hits.svg', bbox_inches='tight', dpi=300)\n",
    "plt.show()"
   ]
  },
  {
   "cell_type": "code",
   "execution_count": 95,
   "metadata": {},
   "outputs": [
    {
     "name": "stdout",
     "output_type": "stream",
     "text": [
      "['increase_hit-ratio@5_non-boycott', 'increase_hit-ratio@10_non-boycott']\n"
     ]
    },
    {
     "name": "stderr",
     "output_type": "stream",
     "text": [
      "C:\\Users\\Nick\\Anaconda3\\lib\\site-packages\\scipy\\stats\\stats.py:1713: FutureWarning: Using a non-tuple sequence for multidimensional indexing is deprecated; use `arr[tuple(seq)]` instead of `arr[seq]`. In the future this will be interpreted as an array index, `arr[np.array(seq)]`, which will result either in an error or a different result.\n",
      "  return np.add.reduce(sorted[indexer] * weights, axis=axis) / sumval\n"
     ]
    },
    {
     "name": "stdout",
     "output_type": "stream",
     "text": [
      "Algo:SVD  |  Metric:hit-ratio@5  |  #users:0.1\n",
      "NB Val:1.1349085510324055  |  ALL val:1.1349085510324055\n",
      "Metric hit-ratio@5 has no MovieMean comparison.\n",
      "Algo:SVD  |  Metric:hit-ratio@5  |  #users:0.2\n",
      "NB Val:1.1419627958007628  |  ALL val:1.1419627958007628\n",
      "Metric hit-ratio@5 has no MovieMean comparison.\n",
      "Algo:SVD  |  Metric:hit-ratio@5  |  #users:0.3\n",
      "NB Val:1.149359411631917  |  ALL val:1.149359411631917\n",
      "Metric hit-ratio@5 has no MovieMean comparison.\n",
      "Algo:SVD  |  Metric:hit-ratio@10  |  #users:0.1\n",
      "NB Val:1.1469561397120291  |  ALL val:1.1469561397120291\n",
      "Metric hit-ratio@10 has no MovieMean comparison.\n",
      "Algo:SVD  |  Metric:hit-ratio@10  |  #users:0.2\n",
      "NB Val:1.1439048137480137  |  ALL val:1.1439048137480137\n",
      "Metric hit-ratio@10 has no MovieMean comparison.\n",
      "Algo:SVD  |  Metric:hit-ratio@10  |  #users:0.3\n",
      "NB Val:1.1403471534618985  |  ALL val:1.1403471534618985\n",
      "Metric hit-ratio@10 has no MovieMean comparison.\n",
      "=====\n",
      "Size to Mean Decrease\n",
      "defaultdict(<class 'dict'>,\n",
      "            {'SVD': {0.1: 1.1409323453722173,\n",
      "                     0.2: 1.1429338047743882,\n",
      "                     0.3: 1.1448532825469078}})\n"
     ]
    },
    {
     "data": {
      "text/plain": [
       "<Figure size 0x0 with 0 Axes>"
      ]
     },
     "metadata": {},
     "output_type": "display_data"
    },
    {
     "data": {
      "image/png": "[encoded data removed]",
      "text/plain": [
       "<Figure size 360x720 with 2 Axes>"
      ]
     },
     "metadata": {},
     "output_type": "display_data"
    }
   ],
   "source": [
    "_ = p_b_curve(\n",
    "    samples_df_1m[samples_df_1m.algo_name == 'SVD'], 'ml-1m',\n",
    "    show_interp=False,\n",
    "    percents=False, normalize=False,\n",
    "    metrics=[\n",
    "        'hit-ratio@5',\n",
    "        'hit-ratio@10',\n",
    "    ],\n",
    "    groups=['non-boycott', ],\n",
    "    legend=False, \n",
    "    ylabel='Hit Ratio',\n",
    "    plot_horiz_lines=False,\n",
    ")\n",
    "plt.show()"
   ]
  },
  {
   "cell_type": "code",
   "execution_count": 96,
   "metadata": {},
   "outputs": [
    {
     "name": "stdout",
     "output_type": "stream",
     "text": [
      "['increase_hit-ratio@5_non-boycott', 'increase_hit-ratio@10_non-boycott']\n"
     ]
    },
    {
     "name": "stderr",
     "output_type": "stream",
     "text": [
      "C:\\Users\\Nick\\Anaconda3\\lib\\site-packages\\scipy\\stats\\stats.py:1713: FutureWarning: Using a non-tuple sequence for multidimensional indexing is deprecated; use `arr[tuple(seq)]` instead of `arr[seq]`. In the future this will be interpreted as an array index, `arr[np.array(seq)]`, which will result either in an error or a different result.\n",
      "  return np.add.reduce(sorted[indexer] * weights, axis=axis) / sumval\n"
     ]
    },
    {
     "name": "stdout",
     "output_type": "stream",
     "text": [
      "Algo:SVD  |  Metric:hit-ratio@5  |  #users:0.1\n",
      "NB Val:1.2236712797196672  |  ALL val:nan\n",
      "Metric hit-ratio@5 has no MovieMean comparison.\n",
      "Algo:SVD  |  Metric:hit-ratio@5  |  #users:0.2\n",
      "NB Val:1.2396033567666735  |  ALL val:nan\n",
      "Metric hit-ratio@5 has no MovieMean comparison.\n",
      "Algo:SVD  |  Metric:hit-ratio@5  |  #users:0.3\n",
      "NB Val:1.2490522241434119  |  ALL val:nan\n",
      "Metric hit-ratio@5 has no MovieMean comparison.\n",
      "Algo:SVD  |  Metric:hit-ratio@10  |  #users:0.1\n",
      "NB Val:1.1970283193728941  |  ALL val:nan\n",
      "Metric hit-ratio@10 has no MovieMean comparison.\n",
      "Algo:SVD  |  Metric:hit-ratio@10  |  #users:0.2\n",
      "NB Val:1.2034463197912684  |  ALL val:nan\n",
      "Metric hit-ratio@10 has no MovieMean comparison.\n",
      "Algo:SVD  |  Metric:hit-ratio@10  |  #users:0.3\n",
      "NB Val:1.206888808066251  |  ALL val:nan\n",
      "Metric hit-ratio@10 has no MovieMean comparison.\n",
      "=====\n",
      "Size to Mean Decrease\n",
      "defaultdict(<class 'dict'>,\n",
      "            {'SVD': {0.1: 1.2103497995462806,\n",
      "                     0.2: 1.221524838278971,\n",
      "                     0.3: 1.2279705161048313}})\n"
     ]
    },
    {
     "data": {
      "image/png": "[encoded data removed]",
      "text/plain": [
       "<Figure size 360x720 with 2 Axes>"
      ]
     },
     "metadata": {},
     "output_type": "display_data"
    }
   ],
   "source": [
    "_ = p_b_curve(\n",
    "    samples_df_20m[samples_df_20m.algo_name == 'SVD'], 'ml-20m',\n",
    "    show_interp=False,\n",
    "    percents=False, normalize=False,\n",
    "    metrics=[\n",
    "        'hit-ratio@5',\n",
    "        'hit-ratio@10',\n",
    "    ],\n",
    "    groups=['non-boycott', ],\n",
    "    legend=False, \n",
    "    ylabel='Hit Ratio',\n",
    "    plot_horiz_lines=False,\n",
    ")\n",
    "#plt.ylim(-1.2, 0.05)\n",
    "plt.show()"
   ]
  },
  {
   "cell_type": "code",
   "execution_count": 97,
   "metadata": {
    "scrolled": false
   },
   "outputs": [
    {
     "name": "stdout",
     "output_type": "stream",
     "text": [
      "['percent_increase_ndcg10_all', 'percent_increase_ndcg10_non-boycott']\n"
     ]
    },
    {
     "name": "stderr",
     "output_type": "stream",
     "text": [
      "C:\\Users\\Nick\\Anaconda3\\lib\\site-packages\\scipy\\stats\\stats.py:1713: FutureWarning: Using a non-tuple sequence for multidimensional indexing is deprecated; use `arr[tuple(seq)]` instead of `arr[seq]`. In the future this will be interpreted as an array index, `arr[np.array(seq)]`, which will result either in an error or a different result.\n",
      "  return np.add.reduce(sorted[indexer] * weights, axis=axis) / sumval\n"
     ]
    },
    {
     "name": "stdout",
     "output_type": "stream",
     "text": [
      "Algo:SVD  |  Metric:ndcg10  |  #users:0.1\n",
      "NB Val:-0.0680540861471989  |  ALL val:-0.1711428074651899\n",
      "Algo:SVD  |  Metric:ndcg10  |  #users:0.2\n",
      "NB Val:-0.14386573883607884  |  ALL val:-0.33534199801116404\n",
      "Algo:SVD  |  Metric:ndcg10  |  #users:0.3\n",
      "NB Val:-0.23063095464202857  |  ALL val:-0.4935435674273711\n",
      "=====\n",
      "Size to Mean Decrease\n",
      "defaultdict(<class 'dict'>,\n",
      "            {'SVD': {0.1: -0.0680540861471989,\n",
      "                     0.2: -0.14386573883607884,\n",
      "                     0.3: -0.23063095464202857}})\n"
     ]
    },
    {
     "data": {
      "image/png": "[encoded data removed]",
      "text/plain": [
       "<Figure size 288x288 with 1 Axes>"
      ]
     },
     "metadata": {},
     "output_type": "display_data"
    }
   ],
   "source": [
    "_ = p_b_curve(\n",
    "    samples_df_1m[samples_df_1m.algo_name == 'SVD'], 'ml-1m',\n",
    "    show_interp=False,\n",
    "    percents=True, normalize=True,\n",
    "    metrics=['ndcg10',],\n",
    "    groups=['non-boycott', 'all', ],\n",
    "    legend=False,\n",
    "    ylabel='nDCG@10 personalization factor',\n",
    "    height=4,\n",
    ")\n",
    "plt.ylim(-1.2, 0.05)\n",
    "plt.savefig('ml-1m_pb_curve.svg', bbox_inches='tight', dpi=300)\n",
    "plt.show()"
   ]
  },
  {
   "cell_type": "code",
   "execution_count": 101,
   "metadata": {},
   "outputs": [
    {
     "name": "stdout",
     "output_type": "stream",
     "text": [
      "['percent_increase_ndcg10_all', 'percent_increase_ndcg10_non-boycott']\n"
     ]
    },
    {
     "name": "stderr",
     "output_type": "stream",
     "text": [
      "C:\\Users\\Nick\\Anaconda3\\lib\\site-packages\\scipy\\stats\\stats.py:1713: FutureWarning: Using a non-tuple sequence for multidimensional indexing is deprecated; use `arr[tuple(seq)]` instead of `arr[seq]`. In the future this will be interpreted as an array index, `arr[np.array(seq)]`, which will result either in an error or a different result.\n",
      "  return np.add.reduce(sorted[indexer] * weights, axis=axis) / sumval\n"
     ]
    },
    {
     "name": "stdout",
     "output_type": "stream",
     "text": [
      "Algo:SVD  |  Metric:ndcg10  |  #users:0.1\n",
      "NB Val:-0.007938064094051593  |  ALL val:nan\n",
      "Algo:SVD  |  Metric:ndcg10  |  #users:0.2\n",
      "NB Val:-0.016021821080019573  |  ALL val:nan\n",
      "Algo:SVD  |  Metric:ndcg10  |  #users:0.3\n",
      "NB Val:-0.027734520551757215  |  ALL val:nan\n",
      "=====\n",
      "Size to Mean Decrease\n",
      "defaultdict(<class 'dict'>,\n",
      "            {'SVD': {0.1: -0.007938064094051593,\n",
      "                     0.2: -0.016021821080019573,\n",
      "                     0.3: -0.027734520551757215}})\n"
     ]
    },
    {
     "data": {
      "image/png": "[encoded data removed]",
      "text/plain": [
       "<Figure size 385.475x288 with 1 Axes>"
      ]
     },
     "metadata": {},
     "output_type": "display_data"
    }
   ],
   "source": [
    "twenty_algo_to_metric_to_group_to = p_b_curve(\n",
    "    samples_df_20m, 'ml-20m',\n",
    "    show_interp=False,\n",
    "    percents=True, normalize=True,\n",
    "    metrics=['ndcg10'],\n",
    "    groups=['non-boycott', 'all', ], \n",
    "    height=4,\n",
    ")\n",
    "plt.ylim(-1.2, 0.05)\n",
    "plt.savefig('ml-20_pb_curve.svg', bbox_inches='tight', dpi=300)\n",
    "plt.show()"
   ]
  },
  {
   "cell_type": "markdown",
   "metadata": {},
   "source": [
    "# NDCG for all Groups, don't save"
   ]
  },
  {
   "cell_type": "code",
   "execution_count": 100,
   "metadata": {},
   "outputs": [
    {
     "name": "stdout",
     "output_type": "stream",
     "text": [
      "['percent_increase_ndcg10_all', 'percent_increase_ndcg10_boycott', 'percent_increase_ndcg10_non-boycott', 'percent_increase_prec10t4_all', 'percent_increase_prec10t4_boycott', 'percent_increase_prec10t4_non-boycott', 'percent_increase_rmse_all', 'percent_increase_rmse_boycott', 'percent_increase_rmse_non-boycott']\n"
     ]
    },
    {
     "name": "stderr",
     "output_type": "stream",
     "text": [
      "C:\\Users\\Nick\\Anaconda3\\lib\\site-packages\\scipy\\stats\\stats.py:1713: FutureWarning: Using a non-tuple sequence for multidimensional indexing is deprecated; use `arr[tuple(seq)]` instead of `arr[seq]`. In the future this will be interpreted as an array index, `arr[np.array(seq)]`, which will result either in an error or a different result.\n",
      "  return np.add.reduce(sorted[indexer] * weights, axis=axis) / sumval\n"
     ]
    },
    {
     "name": "stdout",
     "output_type": "stream",
     "text": [
      "Algo:SVD  |  Metric:ndcg10  |  #users:0.1\n",
      "NB Val:-0.0680540861471989  |  ALL val:-0.1711428074651899\n",
      "Algo:SVD  |  Metric:ndcg10  |  #users:0.2\n",
      "NB Val:-0.14386573883607884  |  ALL val:-0.33534199801116404\n",
      "Algo:SVD  |  Metric:ndcg10  |  #users:0.3\n",
      "NB Val:-0.23063095464202857  |  ALL val:-0.4935435674273711\n",
      "Algo:SVD  |  Metric:prec10t4  |  #users:0.1\n",
      "NB Val:-0.11481450204867509  |  ALL val:-0.20626513529547438\n",
      "Algo:SVD  |  Metric:prec10t4  |  #users:0.2\n",
      "NB Val:-0.17683926236013808  |  ALL val:-0.35416999648693503\n",
      "Algo:SVD  |  Metric:prec10t4  |  #users:0.3\n",
      "NB Val:-0.26651269866666905  |  ALL val:-0.5063466234699833\n",
      "Algo:SVD  |  Metric:rmse  |  #users:0.1\n",
      "NB Val:0.024695558964884318  |  ALL val:0.13074173094320546\n",
      "Algo:SVD  |  Metric:rmse  |  #users:0.2\n",
      "NB Val:0.0500561411533127  |  ALL val:0.25678102095731914\n",
      "Algo:SVD  |  Metric:rmse  |  #users:0.3\n",
      "NB Val:0.07838882870779416  |  ALL val:0.38181576336005796\n",
      "=====\n",
      "Size to Mean Decrease\n",
      "defaultdict(<class 'dict'>,\n",
      "            {'SVD': {0.1: -0.052724343076996555,\n",
      "                     0.2: -0.09021628668096808,\n",
      "                     0.3: -0.13958494153363446}})\n"
     ]
    },
    {
     "data": {
      "image/png": "[encoded data removed]",
      "text/plain": [
       "<Figure size 288x864 with 3 Axes>"
      ]
     },
     "metadata": {},
     "output_type": "display_data"
    }
   ],
   "source": [
    "_ = p_b_curve(\n",
    "    samples_df_1m[samples_df_1m.algo_name == 'SVD'], 'ml-1m',\n",
    "    show_interp=False,\n",
    "    percents=True, normalize=True,\n",
    "    metrics=['ndcg10', 'prec10t4', 'rmse'],\n",
    "    groups=['non-boycott', 'all', 'boycott'],\n",
    "    legend=False,\n",
    "    ylabel='nDCG@10 personalization factor',\n",
    "    height=4,\n",
    "    palette=None,\n",
    ")\n",
    "#plt.ylim(-1.2, 0.05)\n",
    "plt.show()"
   ]
  },
  {
   "cell_type": "code",
   "execution_count": null,
   "metadata": {
    "collapsed": true
   },
   "outputs": [],
   "source": [
    "algo_to_metric_to_group_to = p_b_curve(\n",
    "    samples_df_1m, 'ml-1m',\n",
    "    metrics=metrics,\n",
    "    percents=True, normalize=True, show_interp=True,\n",
    "    groups=['non-boycott', 'all', ],\n",
    ")\n",
    "plt.show()"
   ]
  },
  {
   "cell_type": "markdown",
   "metadata": {},
   "source": [
    "## Find intersection of the non-boycott curve with horizontal lines"
   ]
  },
  {
   "cell_type": "code",
   "execution_count": null,
   "metadata": {
    "collapsed": true
   },
   "outputs": [],
   "source": [
    "movie_val = -1 * dataset_to_algo_to_metric_to_altalgo['ml-1m']['SVD']['ndcg10']['MovieMean']\n",
    "for group in ['all', 'non-boycott']:\n",
    "    found_item, found_user = False, False\n",
    "    found_itembasic = False\n",
    "    for x in range(0, num_ratings['ml-1m'], int(num_ratings['ml-1m'] / 10000)):\n",
    "        y = algo_to_metric_to_group_to['SVD']['ndcg10'][group]['interp_ratings'](x)\n",
    "        #print(x, y)\n",
    "        if not found_item:\n",
    "            if y <= dataset_to_algo_to_metric_to_altalgo['ml-1m']['SVD']['ndcg10']['KNNBaseline_item_msd']/movie_val:\n",
    "                print(group + ' found item:')\n",
    "                print(x / num_ratings['ml-1m'])\n",
    "                found_item = True\n",
    "        if not found_user:\n",
    "            if y <= dataset_to_algo_to_metric_to_altalgo['ml-1m']['SVD']['ndcg10']['KNNBasic_user_msd'] / movie_val:\n",
    "                print(group + ' found user')\n",
    "                print(x / num_ratings['ml-1m'])\n",
    "                found_user = True\n",
    "        if not found_itembasic:\n",
    "            if y <= dataset_to_algo_to_metric_to_altalgo['ml-1m']['SVD']['ndcg10']['KNNBasic_item_msd'] / movie_val:\n",
    "                print(group + ' found knnbasicitem')\n",
    "                print(x / num_ratings['ml-1m'])\n",
    "                found_itembasic = True"
   ]
  },
  {
   "cell_type": "code",
   "execution_count": null,
   "metadata": {
    "collapsed": true
   },
   "outputs": [],
   "source": [
    "d = {}\n",
    "group = 'non-boycott'\n",
    "print(group)\n",
    "d['30_1m'] = algo_to_metric_to_group_to['SVD']['ndcg10'][group]['interp_ratings'](0.3 * num_ratings['ml-1m']) * 100\n",
    "d['30_20m'] = twenty_algo_to_metric_to_group_to['SVD']['ndcg10'][group]['interp_ratings'](0.3 * num_ratings['ml-20m']) * 100\n",
    "print(d)\n",
    "\n",
    "group = 'all'\n",
    "print(group)\n",
    "d['30_1m'] = algo_to_metric_to_group_to['SVD']['ndcg10'][group]['interp_ratings'](0.3 * num_ratings['ml-1m']) * 100\n",
    "d['30_20m'] = twenty_algo_to_metric_to_group_to['SVD']['ndcg10'][group]['interp_ratings'](0.3 * num_ratings['ml-20m']) * 100\n",
    "print(d)"
   ]
  },
  {
   "cell_type": "code",
   "execution_count": null,
   "metadata": {
    "collapsed": true
   },
   "outputs": [],
   "source": [
    "d = {}\n",
    "d[19] = twenty_algo_to_metric_to_group_to['SVD']['ndcg10'][group]['interp_ratings'](0.19 * num_ratings['ml-20m']) * 100\n",
    "d[44] = twenty_algo_to_metric_to_group_to['SVD']['ndcg10'][group]['interp_ratings'](0.44 * num_ratings['ml-20m']) * 100\n",
    "print(d)"
   ]
  },
  {
   "cell_type": "code",
   "execution_count": null,
   "metadata": {
    "collapsed": true
   },
   "outputs": [],
   "source": [
    "def half_users(df):\n",
    "    return df[(\n",
    "        (df.userfrac == 0.5) & (df.ratingfrac == 1.0) \n",
    "        #& (df.algo_name == 'SVD')\n",
    "    )]"
   ]
  },
  {
   "cell_type": "code",
   "execution_count": null,
   "metadata": {
    "collapsed": true
   },
   "outputs": [],
   "source": [
    "def half_ratings(df):\n",
    "    return df[(\n",
    "        (df.userfrac == 1.0) & (df.ratingfrac == 0.5)\n",
    "    )]"
   ]
  },
  {
   "cell_type": "code",
   "execution_count": null,
   "metadata": {
    "collapsed": true
   },
   "outputs": [],
   "source": [
    "def all_users_all_ratings(df):\n",
    "    return df[(\n",
    "        (df.userfrac == 1.0) & (df.ratingfrac == 1.0)\n",
    "    )]"
   ]
  },
  {
   "cell_type": "code",
   "execution_count": null,
   "metadata": {
    "collapsed": true
   },
   "outputs": [],
   "source": [
    "NORMALIZE = True\n",
    "\n",
    "#metrics += ['hits-prec5t4', 'labor-hits-prec5t4', 'consumer-hits-prec5t4']\n",
    "\n",
    "normed_org_df = org_df.copy()\n",
    "for metric in metrics:\n",
    "    for algo_name in algo_names:\n",
    "        movie_val = abs(dataset_to_algo_to_metric_to_altalgo['ml-1m']['SVD'][metric]['MovieMean'])\n",
    "        for group in ['non-boycott', 'like-boycott']:\n",
    "            col = 'percent_increase_{}_{}'.format(metric, group)\n",
    "            if NORMALIZE:\n",
    "                normed_org_df.loc[\n",
    "                    normed_org_df.algo_name == algo_name, col\n",
    "                ] = org_df.loc[org_df.algo_name == algo_name, col] / movie_val\n",
    "                \n",
    "for metric in metrics:\n",
    "    expec = []\n",
    "    col = 'percent_increase_{}_expected'.format(metric)\n",
    "    for i, row in normed_org_df.iterrows():\n",
    "        x = row.num_ratings_missing\n",
    "        expec.append(float(algo_to_metric_to_group_to[row.algo_name][metric]['non-boycott']['interp_ratings'](x)))\n",
    "    kwargs = {col: expec}\n",
    "    normed_org_df = normed_org_df.assign(**kwargs)"
   ]
  },
  {
   "cell_type": "markdown",
   "metadata": {},
   "source": [
    "## LB = like-boycott\n",
    "### So lbless is the number cases where the like boycott performance change was less than expected"
   ]
  },
  {
   "cell_type": "code",
   "execution_count": null,
   "metadata": {
    "collapsed": true
   },
   "outputs": [],
   "source": [
    "def plot2(\n",
    "        df, metrics, groups,\n",
    "        percents=False, kind='bar', height=4, flip=False, filename='tmp.svg', save=False,\n",
    "        palette=None, aspect=1\n",
    "    ):\n",
    "    \"\"\"\n",
    "    Plots the results of homogenous boycotts\n",
    "    e.g. 50% of Comedy fans boycott together\n",
    "    \"\"\"\n",
    "    print('len of df (number of experiments included)', len(df.index))\n",
    "    for name in list(set(df.name)):\n",
    "#        tmp = df[df.name == name].num_ratings_missing.mean()\n",
    "        tmp = df[df.name == name].num_users_boycotting.mean()\n",
    "        print('Num users boycottng: {}. As a percent: {}'.format(tmp, tmp*100))\n",
    "#         print('name', name)\n",
    "#         print('mean number of ratings missing', tmp)\n",
    "#         print(algo_to_metric_to_group_to['SVD']['ndcg10']['non-boycott']['interp_ratings'](tmp))\n",
    "    increase_cols = select_cols(list(df.columns.values), metrics, groups, percents)\n",
    "    increase_cols = [x for x in increase_cols if 'vanilla' not in x]\n",
    "    longform = df[increase_cols + id_vars].melt(\n",
    "        id_vars = id_vars,\n",
    "        var_name='increase_type'\n",
    "    )\n",
    "    longform = fill_in_longform(longform)\n",
    "    if flip:\n",
    "        x = \"name\"\n",
    "        y = \"value\"\n",
    "    else:\n",
    "        x = \"value\"\n",
    "        y = \"name\"\n",
    "    if '?' in filename:\n",
    "        legend = False\n",
    "    else:\n",
    "        legend = True\n",
    "    grid = sns.factorplot(\n",
    "        x=x, y=y, hue=\"group\", data=longform,\n",
    "        height=height, kind=kind, col='algo_name', row='metric',\n",
    "        sharex=False,\n",
    "        row_order=metrics,\n",
    "        legend=legend,\n",
    "        legend_out=True,\n",
    "        palette=palette,\n",
    "        aspect=aspect\n",
    "    )\n",
    "    a = grid.axes\n",
    "    \n",
    "#     for metric in metrics:\n",
    "#         for col in increase_cols:\n",
    "#             if metric in col and 'expected' in col:\n",
    "#                 expec = col\n",
    "    \n",
    "    name_to_ratios = defaultdict(list)\n",
    "    diffs = defaultdict(dict)\n",
    "    ratios = defaultdict(dict)\n",
    "    name_to_counts = defaultdict(lambda: defaultdict(int))\n",
    "    \n",
    "    for x in grid.facet_data():\n",
    "        i_row, i_col, i_hue = x[0]\n",
    "        metric = grid.row_names[i_row]\n",
    "        algo_name = grid.col_names[i_col]\n",
    "        if grid.hue_names:\n",
    "            group = grid.hue_names[i_hue]        \n",
    "        \n",
    "        if NORMALIZE:\n",
    "            val = -1\n",
    "        else:\n",
    "            val = abs(dataset_to_algo_to_metric_to_altalgo['ml-1m']['SVD'][metric]['MovieMean'])\n",
    "        \n",
    "        if flip:\n",
    "            grid.axes[i_row, i_col].axhline(0, color='0.7', linestyle='-')\n",
    "        else:\n",
    "            grid.axes[i_row, i_col].axvline(0, color='0.7', linestyle='-')\n",
    "            grid.axes[i_row, i_col].axvline(val, color='0.7', linestyle='-')\n",
    "        \n",
    "        for col in increase_cols:\n",
    "            if metric == col.split('_')[-2]:\n",
    "                if 'expected' in col:\n",
    "                    expec = col\n",
    "                elif 'non-boycott' in col:\n",
    "                    nb = col\n",
    "                elif 'like-boycott' in col:\n",
    "                    lb = col\n",
    "        for name in list(set(longform.name)):\n",
    "            mask = (\n",
    "                (longform.metric == metric) &\n",
    "                (longform.algo_name == algo_name) &\n",
    "                (longform.name == name)\n",
    "            )\n",
    "            \n",
    "            masked = longform[mask]\n",
    "            try:\n",
    "                expec_arr = np.array(masked[masked.increase_type == expec].value)\n",
    "                nb_arr = np.array(masked[masked.increase_type == nb].value)\n",
    "                lb_arr = np.array(masked[masked.increase_type == lb].value)\n",
    "                \n",
    "                expec_mean = np.mean(expec_arr)\n",
    "                nb_mean = np.mean(nb_arr)\n",
    "                lb_mean = np.nanmean(lb_arr)\n",
    "                \n",
    "                ratio = nb_mean / expec_mean\n",
    "                diff = nb_mean - expec_mean\n",
    "                lb_diff = lb_mean - nb_mean\n",
    "                lb_ratio = lb_mean / expec_mean\n",
    "\n",
    "                pval = stats.ttest_ind(expec_arr, nb_arr, equal_var=False).pvalue                \n",
    "                name_to_counts[name]['total'] += 1\n",
    "                \n",
    "                print('{} {} {}, {}, {}'.format(metric, algo_name, name, expec, nb))\n",
    "                print('Ratio: {}, pval: {}'.format(ratio, pval))\n",
    "                print('LB to NB: {}'.format(lb_diff / diff))\n",
    "                name_to_ratios[name].append(ratio)\n",
    "                diffs['nb'][name] = diff\n",
    "                diffs['lb'][name] = lb_diff\n",
    "                \n",
    "                ratios['nb'][name] = ratio\n",
    "                ratios['lb'][name] = lb_ratio\n",
    "                \n",
    "                if pval < 0.5:\n",
    "                    name_to_counts[name]['total_sig'] += 1\n",
    "\n",
    "                if diff > 0:\n",
    "                    name_to_counts[name]['total_less'] += 1\n",
    "                else:\n",
    "                    name_to_counts[name]['total_more'] += 1\n",
    "                #print('lb info', lb_diff, lb_mean, nb_mean)\n",
    "                if lb_diff < 0:\n",
    "                    name_to_counts[name]['total_lbless'] += 1\n",
    "            except Exception as err:\n",
    "                print(err)\n",
    "                print(algo_name, metric)\n",
    "    total = 0\n",
    "    total_sig = 0\n",
    "    total_less = 0\n",
    "    total_more = 0\n",
    "    total_lbless = 0\n",
    "    \n",
    "    for name, counts in name_to_counts.items():\n",
    "        total += counts['total']\n",
    "        total_sig += counts['total_sig']\n",
    "        total_less += counts['total_less']\n",
    "        total_more += counts['total_more']\n",
    "        total_lbless += counts['total_lbless']\n",
    "\n",
    "    print('Totals:')\n",
    "    print('{} lbless, {} sig, {} less, and {} more out of {} total'.format(\n",
    "            total_lbless, total_sig, total_less,\n",
    "            total_more, total)\n",
    "        )\n",
    "    if save:\n",
    "        new_labels = ['Similar Users', 'Not Participating\\n Users', 'Expected']\n",
    "        for t, l in zip(grid._legend.texts, new_labels): t.set_text(l)\n",
    "        if 'h2' in filename:\n",
    "            grid.set_ylabels(\"\")\n",
    "        else:\n",
    "            grid.set_ylabels(YLABEL)\n",
    "        grid.set_xlabels(\"\")\n",
    "        grid.set_titles(\"\")\n",
    "        plt.savefig(filename, size=(3, 3), bbox_inches='tight', dpi=300)\n",
    "    return grid, (total, total_sig, total_less, total_more, total_lbless), (diffs, ratios)\n"
   ]
  },
  {
   "cell_type": "code",
   "execution_count": null,
   "metadata": {
    "collapsed": true
   },
   "outputs": [],
   "source": [
    "normed_org_df = normed_org_df[normed_org_df.algo_name == 'SVD']"
   ]
  },
  {
   "cell_type": "code",
   "execution_count": null,
   "metadata": {
    "collapsed": true
   },
   "outputs": [],
   "source": [
    "gender_boycotts = normed_org_df[normed_org_df['type'] == 'gender']\n",
    "age_boycotts = normed_org_df[normed_org_df['type'] == 'age']\n",
    "occupation_boycotts = normed_org_df[normed_org_df['type'] == 'occupation']\n",
    "power_boycotts = normed_org_df[normed_org_df['type'] == 'power']\n",
    "genre_boycotts = normed_org_df[normed_org_df['type'] == 'genre']\n",
    "state_boycotts = org_df[org_df['type'] == 'state']\n",
    "\n",
    "# removing these from contention\n",
    "# genre_strict_boycotts = org_df[org_df['type'] == 'genre_strict']"
   ]
  },
  {
   "cell_type": "markdown",
   "metadata": {},
   "source": [
    "# Control which metrics we do comparisons for here.."
   ]
  },
  {
   "cell_type": "code",
   "execution_count": null,
   "metadata": {
    "collapsed": true
   },
   "outputs": [],
   "source": [
    "metrics=['ndcg10']"
   ]
  },
  {
   "cell_type": "code",
   "execution_count": null,
   "metadata": {
    "collapsed": true
   },
   "outputs": [],
   "source": [
    "palette={'all': 'b', 'non-boycott': 'g', 'expected': 'y', 'like-boycott': 'c'}\n",
    "\n",
    "def plot_all_three_scenarios(df, height=6):\n",
    "#     all_df = all_users_all_ratings(df)\n",
    "#     if not all_df.empty:\n",
    "#         grid, (total, total_sig, total_less, total_more, total_lbless), diffs, ratios = plot2(\n",
    "#             all_users_all_ratings(df),\n",
    "#             metrics=metrics,\n",
    "#             percents=True,\n",
    "#             groups=['all', 'non-boycott', 'expected'],\n",
    "#             height=height,\n",
    "#             palette=palette\n",
    "#         )\n",
    "#         grid.fig.suptitle('All Users, All Ratings')\n",
    "#         print('total1', total)\n",
    "\n",
    "    total, total_sig, total_less, total_more, total_lbless = 0, 0, 0, 0, 0\n",
    "    \n",
    "    half_users_df = half_users(df)\n",
    "    if not half_users_df.empty:\n",
    "        grid, (total2, total_sig2, total_less2, total_more2, total_lbless2), (diffs, ratios) = plot2(\n",
    "            half_users_df,\n",
    "            metrics=metrics,\n",
    "            percents=True,\n",
    "            groups=['non-boycott', 'like-boycott', 'expected'],\n",
    "            height=height,\n",
    "            kind='bar',\n",
    "            palette=palette\n",
    "        )\n",
    "        grid.fig.suptitle('Half Users')\n",
    "        total += total2\n",
    "        total_sig += total_sig2\n",
    "        total_less += total_less2\n",
    "        total_more += total_more2\n",
    "        total_lbless += total_lbless2\n",
    "        print('total2', total2, total)\n",
    "        \n",
    "#     half_ratings_df = half_ratings(df)\n",
    "#     if not half_ratings_df.empty:\n",
    "#         plot2(\n",
    "#             half_ratings_df,\n",
    "#             metrics=metrics,\n",
    "#             percents=True,\n",
    "#             groups=['non-boycott', 'boycott', 'like-boycott', 'expected'],\n",
    "#             height=height,\n",
    "#         ).fig.suptitle('Half Ratings')\n",
    "#     plt.show()\n",
    "    \n",
    "    return (total, total_sig, total_less, total_more, total_lbless), (diffs, ratios)"
   ]
  },
  {
   "cell_type": "code",
   "execution_count": null,
   "metadata": {
    "collapsed": true
   },
   "outputs": [],
   "source": [
    "running_totals = {\n",
    "    'total': 0,\n",
    "    'total_sig': 0,\n",
    "    'total_less': 0,\n",
    "    'total_more': 0,\n",
    "    'total_lbless': 0\n",
    "}\n",
    "all_diffs = {\n",
    "    'lb': {},\n",
    "    'nb': {}\n",
    "}\n",
    "all_ratios = {\n",
    "    'lb': {},\n",
    "    'nb': {}\n",
    "}"
   ]
  },
  {
   "cell_type": "markdown",
   "metadata": {},
   "source": [
    "# Make plots for paper here."
   ]
  },
  {
   "cell_type": "code",
   "execution_count": null,
   "metadata": {
    "collapsed": true,
    "scrolled": false
   },
   "outputs": [],
   "source": [
    "df1 = half_users(gender_boycotts)\n",
    "df2 = half_users(genre_boycotts)\n",
    "df3 = half_users(power_boycotts)\n",
    "\n",
    "grid, (total, total_sig, total_less, total_more, total_lbless), (diffs, ratios) = plot2(\n",
    "    pd.concat([df1[\n",
    "        #(df1.name.str.contains('female')) & \n",
    "        (df1.algo_name == 'SVD')],\n",
    "        df2[(df2.name.str.contains('film-noir')) & (df2.algo_name == 'SVD')],\n",
    "        df3[(df3.name.str.contains('power')) & (df3.algo_name == 'SVD')]\n",
    "    \n",
    "    ]),\n",
    "    metrics=['ndcg10'],\n",
    "    percents=True,\n",
    "    groups=['non-boycott', 'like-boycott', 'expected'],\n",
    "    height=3.5,\n",
    "    kind='bar',\n",
    "    flip=True,\n",
    "    filename='h1.svg', save=True,\n",
    "    palette=palette,\n",
    "    aspect=1.5\n",
    ")\n",
    "\n",
    "# grid, (total, total_sig, total_less, total_more) = plot2(\n",
    "#     df2[(df2.name.str.contains('Film-Noir')) & (df2.algo_name == 'SVD')],\n",
    "#     metrics=['ndcg10'],\n",
    "#     percents=True,\n",
    "#     groups=['non-boycott', 'expected', 'like-boycott',],\n",
    "#     height=2.5,\n",
    "#     kind='bar',\n",
    "#     flip=True,\n",
    "#     filename='h2.svg', save=True,\n",
    "#     palette=palette\n",
    "# )\n",
    "\n",
    "# grid, (total, total_sig, total_less, total_more) = plot2(\n",
    "#     df3[(df3.name.str.contains('power')) & (df3.algo_name == 'SVD')],\n",
    "#     metrics=['ndcg10'],\n",
    "#     percents=True,\n",
    "#     groups=['non-boycott', 'expected', 'like-boycott',],\n",
    "#     size=2.5,\n",
    "#     kind='bar',\n",
    "#     flip=True,\n",
    "#     filename='h3.svg', save=True,\n",
    "#     palette=palette\n",
    "# )\n",
    "\n",
    "plt.show()"
   ]
  },
  {
   "cell_type": "code",
   "execution_count": null,
   "metadata": {
    "collapsed": true
   },
   "outputs": [],
   "source": [
    "df1 = half_users(gender_boycotts)\n",
    "df2 = half_users(genre_boycotts)\n",
    "df3 = half_users(power_boycotts)\n",
    "\n",
    "grid, (total, total_sig, total_less, total_more, total_lbless), (diffs, ratios) = plot2(\n",
    "    pd.concat([df1[\n",
    "        #(df1.name.str.contains('female')) & \n",
    "        (df1.algo_name == 'SVD')],\n",
    "        df2[(df2.name.str.contains('film-noir')) & (df2.algo_name == 'SVD')],\n",
    "        df3[(df3.name.str.contains('power')) & (df3.algo_name == 'SVD')]\n",
    "    \n",
    "    ]),\n",
    "    metrics=['hits-prec5t4'],\n",
    "    percents=False,\n",
    "    groups=['non-boycott', 'all',],\n",
    "    height=3.5,\n",
    "    kind='bar',\n",
    "    flip=True,\n",
    "    filename='h1.svg', save=False,\n",
    "    palette=palette,\n",
    "    aspect=1.5\n",
    ")\n",
    "\n",
    "plt.show()"
   ]
  },
  {
   "cell_type": "markdown",
   "metadata": {},
   "source": [
    "## Male User and Female User Boycotts"
   ]
  },
  {
   "cell_type": "code",
   "execution_count": null,
   "metadata": {
    "collapsed": true,
    "scrolled": false
   },
   "outputs": [],
   "source": [
    "(total, total_sig, total_less, total_more, total_lbless), (diffs, ratios) = plot_all_three_scenarios(gender_boycotts)\n",
    "running_totals['total'] += total\n",
    "running_totals['total_sig'] += total_sig\n",
    "running_totals['total_less'] += total_less\n",
    "running_totals['total_more'] += total_more\n",
    "running_totals['total_lbless'] += total_lbless\n",
    "for key in all_diffs.keys():\n",
    "    all_diffs[key].update(diffs[key])\n",
    "    all_ratios[key].update(ratios[key])\n",
    "\n",
    "plt.show()"
   ]
  },
  {
   "cell_type": "markdown",
   "metadata": {},
   "source": [
    "# Power Boycotts\n",
    "\n",
    "Below, the power boycotts show a very weird results. Warrants double checks."
   ]
  },
  {
   "cell_type": "code",
   "execution_count": null,
   "metadata": {
    "collapsed": true,
    "scrolled": false
   },
   "outputs": [],
   "source": [
    "(total, total_sig, total_less, total_more, total_lbless), (diffs, ratios) = plot_all_three_scenarios(power_boycotts)\n",
    "running_totals['total'] += total\n",
    "running_totals['total_sig'] += total_sig\n",
    "running_totals['total_less'] += total_less\n",
    "running_totals['total_more'] += total_more\n",
    "running_totals['total_lbless'] += total_lbless\n",
    "\n",
    "for key in all_diffs.keys():\n",
    "    all_diffs[key].update(diffs[key])\n",
    "    all_ratios[key].update(ratios[key])\n",
    "\n",
    "\n",
    "plt.show()"
   ]
  },
  {
   "cell_type": "markdown",
   "metadata": {},
   "source": [
    "# Age Boycotts"
   ]
  },
  {
   "cell_type": "code",
   "execution_count": null,
   "metadata": {
    "collapsed": true,
    "scrolled": false
   },
   "outputs": [],
   "source": [
    "(total, total_sig, total_less, total_more, total_lbless), (diffs, ratios) = plot_all_three_scenarios(age_boycotts)\n",
    "running_totals['total'] += total\n",
    "running_totals['total_sig'] += total_sig\n",
    "running_totals['total_less'] += total_less\n",
    "running_totals['total_more'] += total_more\n",
    "running_totals['total_lbless'] += total_lbless\n",
    "\n",
    "for key in all_diffs.keys():\n",
    "    all_diffs[key].update(diffs[key])\n",
    "    all_ratios[key].update(ratios[key])\n",
    "\n",
    "plt.show()\n"
   ]
  },
  {
   "cell_type": "markdown",
   "metadata": {},
   "source": [
    "# Occupation Boycotts"
   ]
  },
  {
   "cell_type": "code",
   "execution_count": null,
   "metadata": {
    "collapsed": true,
    "scrolled": false
   },
   "outputs": [],
   "source": [
    "(total, total_sig, total_less, total_more, total_lbless), (diffs, ratios) = plot_all_three_scenarios(occupation_boycotts)\n",
    "running_totals['total'] += total\n",
    "running_totals['total_sig'] += total_sig\n",
    "running_totals['total_less'] += total_less\n",
    "running_totals['total_more'] += total_more\n",
    "running_totals['total_lbless'] += total_lbless\n",
    "\n",
    "for key in all_diffs.keys():\n",
    "    all_diffs[key].update(diffs[key])\n",
    "    all_ratios[key].update(ratios[key])\n",
    "plt.show()"
   ]
  },
  {
   "cell_type": "markdown",
   "metadata": {},
   "source": [
    "# Genre Boycotts"
   ]
  },
  {
   "cell_type": "code",
   "execution_count": null,
   "metadata": {
    "collapsed": true,
    "scrolled": false
   },
   "outputs": [],
   "source": [
    "(total, total_sig, total_less, total_more, total_lbless), (diffs, ratios) = plot_all_three_scenarios(genre_boycotts)\n",
    "running_totals['total'] += total\n",
    "running_totals['total_sig'] += total_sig\n",
    "running_totals['total_less'] += total_less\n",
    "running_totals['total_more'] += total_more\n",
    "running_totals['total_lbless'] += total_lbless\n",
    "\n",
    "for key in all_diffs.keys():\n",
    "    all_diffs[key].update(diffs[key])\n",
    "    all_ratios[key].update(ratios[key])\n",
    "\n",
    "plt.show()"
   ]
  },
  {
   "cell_type": "code",
   "execution_count": null,
   "metadata": {
    "collapsed": true
   },
   "outputs": [],
   "source": [
    "running_totals"
   ]
  },
  {
   "cell_type": "code",
   "execution_count": null,
   "metadata": {
    "collapsed": true
   },
   "outputs": [],
   "source": [
    "from pprint import pprint\n",
    "pprint(all_diffs)\n",
    "pprint(all_ratios)"
   ]
  },
  {
   "cell_type": "code",
   "execution_count": null,
   "metadata": {
    "collapsed": true
   },
   "outputs": [],
   "source": [
    "with open('all_ratios.json', 'w') as f:\n",
    "    json.dump(all_ratios, f)\n",
    "with open('all_diffs.json', 'w') as f:\n",
    "    json.dump(all_diffs, f)"
   ]
  },
  {
   "cell_type": "markdown",
   "metadata": {
    "collapsed": true
   },
   "source": [
    "# Back of the napkin"
   ]
  },
  {
   "cell_type": "code",
   "execution_count": null,
   "metadata": {
    "collapsed": true
   },
   "outputs": [],
   "source": [
    "\n",
    "# non-boycott\n",
    "# {'30_1m': -23.058666562695052, '30_20m': -2.8121875718078724}\n",
    "# all\n",
    "# {'30_1m': -49.3478951742734, '30_20m': -34.76984903171993}\n",
    "boycott_size =0.3\n",
    "\n",
    "strike_effects = {\n",
    "    '1m': 0.493,\n",
    "    '20m': 0.348,\n",
    "}\n",
    "\n",
    "boycott_effects = {\n",
    "    '1m': 0.23,\n",
    "    '20m': 0.028,\n",
    "}\n",
    "views_from_rec = 0.3\n",
    "\n",
    "total_effects = {\n",
    "    'strike': {},\n",
    "    'boycott': {},\n",
    "    'ratio': {},\n",
    "}\n",
    "\n",
    "# ds for dataset!\n",
    "for ds in ['1m', '20m']:\n",
    "    total_effects['boycott'][ds] = (1 - boycott_size) * boycott_effects[ds] * views_from_rec + boycott_size\n",
    "    total_effects['strike'][ds] = 1 * strike_effects[ds] * views_from_rec\n",
    "    total_effects['ratio'][ds] = total_effects['boycott'][ds] / total_effects['strike'][ds]\n",
    "\n",
    "\n",
    "from pprint import pprint\n",
    "pprint(total_effects)"
   ]
  },
  {
   "cell_type": "code",
   "execution_count": null,
   "metadata": {
    "collapsed": true
   },
   "outputs": [],
   "source": []
  }
 ],
 "metadata": {
  "celltoolbar": "Edit Metadata",
  "kernelspec": {
   "display_name": "Python 3",
   "language": "python",
   "name": "python3"
  },
  "language_info": {
   "codemirror_mode": {
    "name": "ipython",
    "version": 3
   },
   "file_extension": ".py",
   "mimetype": "text/x-python",
   "name": "python",
   "nbconvert_exporter": "python",
   "pygments_lexer": "ipython3",
   "version": "3.6.6"
  }
 },
 "nbformat": 4,
 "nbformat_minor": 2
}
