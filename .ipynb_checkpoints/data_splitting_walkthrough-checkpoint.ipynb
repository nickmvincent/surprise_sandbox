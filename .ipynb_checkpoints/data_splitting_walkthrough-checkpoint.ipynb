{
 "cells": [
  {
   "cell_type": "markdown",
   "metadata": {},
   "source": [
    "# Data Splitting\n",
    "To generate one of our custom data splits, we're going to need 4 lists:\n",
    "list of all non-boycott data, list of all boycott data, list of all users who are boycotting, list of all users who are like boycotters but not boycotting.\n",
    "\n",
    "To make it practical to follow this worked example, let's just sample 50 ratings.\n",
    "\n",
    "First we'll run some setup code: importing libraries and loading data into memory."
   ]
  },
  {
   "cell_type": "code",
   "execution_count": 27,
   "metadata": {
    "collapsed": true
   },
   "outputs": [],
   "source": [
    "import numpy as np\n",
    "import pandas as pd\n",
    "from prep_organized_boycotts import group_by_gender\n",
    "from surprise import SVD, KNNBasic, Dataset, KNNBaseline\n",
    "from surprise.reader import Reader\n",
    "from utils import get_dfs"
   ]
  },
  {
   "cell_type": "markdown",
   "metadata": {},
   "source": [
    "## Load the data\n",
    "the load_builtin function downloads ml-100k if you don't already have it\n",
    "\n",
    "the `get_dfs` function is our custom loader that loads ratings, users, and movies into their own dataframes\n",
    "\n",
    "For this example, we're going to sample 50 ratings (out of 100k) so we can follow along."
   ]
  },
  {
   "cell_type": "code",
   "execution_count": 28,
   "metadata": {},
   "outputs": [
    {
     "name": "stdout",
     "output_type": "stream",
     "text": [
      "     user_id  age gender     occupation zip_code\n",
      "345      346   34      M          other    76059\n",
      "876      877   30      M          other    77504\n",
      "558      559   69      M      executive    10022\n",
      "667      668   29      F         writer    10016\n",
      "236      237   49      M  administrator    63146\n",
      "261      262   19      F        student    78264\n",
      "651      652   35      M          other    22911\n",
      "312      313   41      M      marketing    60035\n",
      "14        15   49      F       educator    97301\n",
      "674      675   34      M          other    28814\n"
     ]
    }
   ],
   "source": [
    "_ = Dataset.load_builtin('ml-100k')\n",
    "dfs = get_dfs('ml-100k')\n",
    "ratings_df = dfs['ratings']\n",
    "users_df = dfs['users']\n",
    "data = Dataset.load_from_df(\n",
    "    ratings_df[['user_id', 'movie_id', 'rating']],\n",
    "    reader=Reader()\n",
    ")\n",
    "users_df_for_example = users_df.sample(10, random_state=0)\n",
    "print(users_df_for_example)\n",
    "uids_for_example = list(set(users_df_for_example.user_id))\n",
    "sample_for_example = ratings_df[ratings_df.user_id.isin(uids_for_example)]"
   ]
  },
  {
   "cell_type": "markdown",
   "metadata": {},
   "source": [
    "Next, let's identify our boycott users and boycott ratings.\n",
    "In this example, we'll be simulating a PARTIAL BOYCOTT (50% of all ratings) from half of all male users.\n",
    "To select the half of male users that are boycotting and the half of ratings affected, we'll just use random sampling."
   ]
  },
  {
   "cell_type": "code",
   "execution_count": 31,
   "metadata": {},
   "outputs": [
    {
     "name": "stdout",
     "output_type": "stream",
     "text": [
      "Boycotting Male Users\n",
      "     user_id  age gender     occupation zip_code\n",
      "674      675   34      M          other    28814\n",
      "558      559   69      M      executive    10022\n",
      "876      877   30      M          other    77504\n",
      "236      237   49      M  administrator    63146\n",
      "Non-boycotting Male Users\n",
      "     user_id  age gender occupation zip_code\n",
      "345      346   34      M      other    76059\n",
      "651      652   35      M      other    22911\n",
      "312      313   41      M  marketing    60035\n"
     ]
    }
   ],
   "source": [
    "male_user_group = group_by_gender(users_df_for_example)[0]\n",
    "male_user_df = male_user_group['df']\n",
    "\n",
    "boycotting_male_users = male_user_df.sample(frac=0.5, random_state=0)\n",
    "print('Boycotting Male Users')\n",
    "print(boycotting_male_users)\n",
    "boycott_uids = list(set(boycotting_male_users.user_id))\n",
    "like_boycotters_but_not_boycotting = male_user_df[~male_user_df.user_id.isin(boycott_uids)]\n",
    "print('Non-boycotting Male Users')\n",
    "print(like_boycotters_but_not_boycotting)\n",
    "like_boycotters_but_not_boycotting_uids = list(set(like_boycotters_but_not_boycotting.user_id))"
   ]
  },
  {
   "cell_type": "code",
   "execution_count": 30,
   "metadata": {},
   "outputs": [
    {
     "name": "stdout",
     "output_type": "stream",
     "text": [
      "       user_id  movie_id  rating  unix_timestamp\n",
      "31851      237       238       4       879376435\n",
      "3292       237       100       5       879376381\n",
      "28883      237         9       4       879376730\n",
      "33744      237       197       4       879376515\n",
      "34356      237       180       4       879376730\n",
      "41060      237       134       5       879376327\n",
      "35128      237       525       4       879376487\n",
      "49942      237       498       4       879376698\n",
      "4931       237        23       4       879376606\n",
      "7740       237        98       4       879376327\n",
      "8297       237       153       3       879376698\n",
      "33745      237       489       4       879376381\n",
      "34504      237       659       4       879376553\n",
      "29848      237       485       4       879376553\n",
      "98557      237       286       3       879376220\n",
      "2803       237       494       4       879376553\n",
      "92352      237        64       5       879376671\n",
      "15480      237       502       4       879376487\n",
      "11672      237       423       4       879376487\n",
      "30206      237       178       4       879376671\n",
      "23684      237       357       4       879376327\n",
      "12479      237       199       4       879376606\n",
      "52293      237       656       4       879376730\n",
      "18724      237       185       4       879376773\n",
      "53730      675       311       3       889488647\n",
      "73389      675       286       4       889488431\n",
      "82845      675       244       3       889489775\n",
      "63291      675       318       5       889489273\n",
      "46744      675       509       5       889489465\n",
      "87082      675       321       2       889488708\n",
      "...        ...       ...     ...             ...\n",
      "48409      559       182       4       891035111\n",
      "34940      559       435       2       891035781\n",
      "55261      559       398       3       891034904\n",
      "76452      559       566       5       891034688\n",
      "53394      559       508       3       891034209\n",
      "52616      559       257       3       891035466\n",
      "47227      559       153       3       891035708\n",
      "92930      559        56       3       891034550\n",
      "43368      559      1141       2       891034316\n",
      "64053      559       180       4       891035111\n",
      "79681      559       863       5       891033956\n",
      "72916      559        70       3       891035917\n",
      "34274      559       294       1       891035519\n",
      "64206      559       195       3       891034647\n",
      "93155      559      1401       3       891034172\n",
      "34099      559       204       3       891035708\n",
      "89747      559       202       1       891035674\n",
      "62689      559       144       5       891034551\n",
      "32163      559       188       5       891034609\n",
      "55814      559       550       4       891035111\n",
      "88575      559       259       3       891035407\n",
      "36381      559       687       3       891035551\n",
      "45032      559       502       4       891035946\n",
      "32449      559        73       4       891035812\n",
      "88579      559       261       3       891035378\n",
      "36113      559       191       5       891034139\n",
      "45883      559       322       4       891034987\n",
      "51643      559       385       4       891035111\n",
      "70380      559        87       4       891034003\n",
      "31228      559       902       4       891035111\n",
      "\n",
      "[119 rows x 4 columns]\n"
     ]
    }
   ],
   "source": [
    "boycott_ratings_df = None\n",
    "for uid in boycott_uids:\n",
    "    ratings_belonging_to_user = sample_for_example[sample_for_example.user_id == uid]\n",
    "    boycott_ratings_for_user = ratings_belonging_to_user.sample(frac=0.5, random_state=0)\n",
    "    if boycott_ratings_df is None:\n",
    "        boycott_ratings_df = boycott_ratings_for_user\n",
    "    else:\n",
    "        boycott_ratings_df = pd.concat([boycott_ratings_df, boycott_ratings_for_user])\n",
    "print(boycott_ratings_df)"
   ]
  },
  {
   "cell_type": "markdown",
   "metadata": {},
   "source": [
    "Great, we now have the critical elements to perform our evaluations:\n",
    "1. list of all non-boycott data ("
   ]
  }
 ],
 "metadata": {
  "kernelspec": {
   "display_name": "Python 3",
   "language": "python",
   "name": "python3"
  },
  "language_info": {
   "codemirror_mode": {
    "name": "ipython",
    "version": 3
   },
   "file_extension": ".py",
   "mimetype": "text/x-python",
   "name": "python",
   "nbconvert_exporter": "python",
   "pygments_lexer": "ipython3",
   "version": "3.6.1"
  }
 },
 "nbformat": 4,
 "nbformat_minor": 2
}
